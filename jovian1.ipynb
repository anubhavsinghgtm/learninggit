{
  "nbformat": 4,
  "nbformat_minor": 0,
  "metadata": {
    "colab": {
      "name": "jovian1.ipynb",
      "provenance": [],
      "collapsed_sections": [],
      "toc_visible": true,
      "authorship_tag": "ABX9TyOdRy+eR/IObt3tM8K3Ra+G",
      "include_colab_link": true
    },
    "kernelspec": {
      "display_name": "Python 3",
      "name": "python3"
    },
    "language_info": {
      "name": "python"
    }
  },
  "cells": [
    {
      "cell_type": "markdown",
      "metadata": {
        "id": "view-in-github",
        "colab_type": "text"
      },
      "source": [
        "<a href=\"https://colab.research.google.com/github/anubhavsinghgtm/learninggit/blob/master/jovian1.ipynb\" target=\"_parent\"><img src=\"https://colab.research.google.com/assets/colab-badge.svg\" alt=\"Open In Colab\"/></a>"
      ]
    },
    {
      "cell_type": "code",
      "metadata": {
        "id": "xGl-p-r29HLt",
        "colab": {
          "base_uri": "https://localhost:8080/",
          "height": 441
        },
        "outputId": "8519ea3a-100b-4323-bc2d-ff81317a0d3c"
      },
      "source": [
        "pip install jovian --upgrade"
      ],
      "execution_count": 1,
      "outputs": [
        {
          "output_type": "stream",
          "text": [
            "Collecting jovian\n",
            "\u001b[?25l  Downloading https://files.pythonhosted.org/packages/1c/ba/7c163e180de1e3e046d25a61f2e5c2888713bce77626d48ccd93270e63b3/jovian-0.2.41-py2.py3-none-any.whl (68kB)\n",
            "\r\u001b[K     |████▊                           | 10kB 16.7MB/s eta 0:00:01\r\u001b[K     |█████████▌                      | 20kB 22.5MB/s eta 0:00:01\r\u001b[K     |██████████████▎                 | 30kB 24.4MB/s eta 0:00:01\r\u001b[K     |███████████████████             | 40kB 18.7MB/s eta 0:00:01\r\u001b[K     |███████████████████████▉        | 51kB 9.4MB/s eta 0:00:01\r\u001b[K     |████████████████████████████▋   | 61kB 10.1MB/s eta 0:00:01\r\u001b[K     |████████████████████████████████| 71kB 4.9MB/s \n",
            "\u001b[?25hRequirement already satisfied, skipping upgrade: requests in /usr/local/lib/python3.7/dist-packages (from jovian) (2.23.0)\n",
            "Requirement already satisfied, skipping upgrade: pyyaml in /usr/local/lib/python3.7/dist-packages (from jovian) (3.13)\n",
            "Collecting uuid\n",
            "  Downloading https://files.pythonhosted.org/packages/ce/63/f42f5aa951ebf2c8dac81f77a8edcc1c218640a2a35a03b9ff2d4aa64c3d/uuid-1.30.tar.gz\n",
            "Requirement already satisfied, skipping upgrade: click in /usr/local/lib/python3.7/dist-packages (from jovian) (7.1.2)\n",
            "Requirement already satisfied, skipping upgrade: chardet<4,>=3.0.2 in /usr/local/lib/python3.7/dist-packages (from requests->jovian) (3.0.4)\n",
            "Requirement already satisfied, skipping upgrade: urllib3!=1.25.0,!=1.25.1,<1.26,>=1.21.1 in /usr/local/lib/python3.7/dist-packages (from requests->jovian) (1.24.3)\n",
            "Requirement already satisfied, skipping upgrade: certifi>=2017.4.17 in /usr/local/lib/python3.7/dist-packages (from requests->jovian) (2021.5.30)\n",
            "Requirement already satisfied, skipping upgrade: idna<3,>=2.5 in /usr/local/lib/python3.7/dist-packages (from requests->jovian) (2.10)\n",
            "Building wheels for collected packages: uuid\n",
            "  Building wheel for uuid (setup.py) ... \u001b[?25l\u001b[?25hdone\n",
            "  Created wheel for uuid: filename=uuid-1.30-cp37-none-any.whl size=6503 sha256=2bab456ba8cefaf2c541b0187a263cce80c7f91d7b5abdf6a8eaaef2b12c29de\n",
            "  Stored in directory: /root/.cache/pip/wheels/2a/80/9b/015026567c29fdffe31d91edbe7ba1b17728db79194fca1f21\n",
            "Successfully built uuid\n",
            "Installing collected packages: uuid, jovian\n",
            "Successfully installed jovian-0.2.41 uuid-1.30\n"
          ],
          "name": "stdout"
        },
        {
          "output_type": "display_data",
          "data": {
            "application/vnd.colab-display-data+json": {
              "pip_warning": {
                "packages": [
                  "uuid"
                ]
              }
            }
          },
          "metadata": {
            "tags": []
          }
        }
      ]
    },
    {
      "cell_type": "code",
      "metadata": {
        "colab": {
          "base_uri": "https://localhost:8080/"
        },
        "id": "0lt7JR2CUt6w",
        "outputId": "96a852a8-9700-4036-bbaf-769877c82aee"
      },
      "source": [
        "jovian.commit()"
      ],
      "execution_count": 2,
      "outputs": [
        {
          "output_type": "stream",
          "text": [
            "[jovian] Detected Colab notebook...\u001b[0m\n"
          ],
          "name": "stdout"
        },
        {
          "output_type": "stream",
          "text": [
            "\u001b[31m[jovian] Error: jovian.commit doesn't work on Colab unless the notebook was created and executed from Jovian.\n",
            "Make sure to run the first code cell at the top after executing from Jovian.\n",
            "Alternatively, you can download this notebook and upload it manually to Jovian.\n",
            "Learn more: https://jovian.ai/docs/user-guide/run.html#run-on-colab\u001b[0m\n"
          ],
          "name": "stderr"
        }
      ]
    },
    {
      "cell_type": "code",
      "metadata": {
        "id": "BBeTL3QUUhyE"
      },
      "source": [
        "import jovian"
      ],
      "execution_count": 1,
      "outputs": []
    },
    {
      "cell_type": "code",
      "metadata": {
        "id": "qzhLNBE9QKAQ"
      },
      "source": [
        "medical_charges_url = 'https://raw.githubusercontent.com/JovianML/opendatasets/master/data/medical-charges.csv'"
      ],
      "execution_count": null,
      "outputs": []
    },
    {
      "cell_type": "code",
      "metadata": {
        "id": "7e01N3fZfUct"
      },
      "source": [
        "from urllib.request import urlretrieve"
      ],
      "execution_count": null,
      "outputs": []
    },
    {
      "cell_type": "code",
      "metadata": {
        "colab": {
          "base_uri": "https://localhost:8080/"
        },
        "id": "QgFhFmy8fhU9",
        "outputId": "e6aad539-8496-4790-fec3-cc07dc93b858"
      },
      "source": [
        "urlretrieve(medical_charges_url, 'medical.csv')"
      ],
      "execution_count": null,
      "outputs": [
        {
          "output_type": "execute_result",
          "data": {
            "text/plain": [
              "('medical.csv', <http.client.HTTPMessage at 0x7f05f1bf6b50>)"
            ]
          },
          "metadata": {
            "tags": []
          },
          "execution_count": 3
        }
      ]
    },
    {
      "cell_type": "code",
      "metadata": {
        "id": "Fs0ZYi6XfmRC"
      },
      "source": [
        "!pip install pandas --quiet"
      ],
      "execution_count": null,
      "outputs": []
    },
    {
      "cell_type": "code",
      "metadata": {
        "id": "yN0L0uoffps7"
      },
      "source": [
        "import pandas as pd"
      ],
      "execution_count": null,
      "outputs": []
    },
    {
      "cell_type": "code",
      "metadata": {
        "id": "iDKJU0gofsdj"
      },
      "source": [
        "medical_df = pd.read_csv('medical.csv')"
      ],
      "execution_count": null,
      "outputs": []
    },
    {
      "cell_type": "code",
      "metadata": {
        "colab": {
          "base_uri": "https://localhost:8080/",
          "height": 417
        },
        "id": "aflylZfDf2RW",
        "outputId": "b8ee836e-77c1-4b6d-865e-559dc36ebfd1"
      },
      "source": [
        "medical_df"
      ],
      "execution_count": null,
      "outputs": [
        {
          "output_type": "execute_result",
          "data": {
            "text/html": [
              "<div>\n",
              "<style scoped>\n",
              "    .dataframe tbody tr th:only-of-type {\n",
              "        vertical-align: middle;\n",
              "    }\n",
              "\n",
              "    .dataframe tbody tr th {\n",
              "        vertical-align: top;\n",
              "    }\n",
              "\n",
              "    .dataframe thead th {\n",
              "        text-align: right;\n",
              "    }\n",
              "</style>\n",
              "<table border=\"1\" class=\"dataframe\">\n",
              "  <thead>\n",
              "    <tr style=\"text-align: right;\">\n",
              "      <th></th>\n",
              "      <th>age</th>\n",
              "      <th>sex</th>\n",
              "      <th>bmi</th>\n",
              "      <th>children</th>\n",
              "      <th>smoker</th>\n",
              "      <th>region</th>\n",
              "      <th>charges</th>\n",
              "    </tr>\n",
              "  </thead>\n",
              "  <tbody>\n",
              "    <tr>\n",
              "      <th>0</th>\n",
              "      <td>19</td>\n",
              "      <td>female</td>\n",
              "      <td>27.900</td>\n",
              "      <td>0</td>\n",
              "      <td>yes</td>\n",
              "      <td>southwest</td>\n",
              "      <td>16884.92400</td>\n",
              "    </tr>\n",
              "    <tr>\n",
              "      <th>1</th>\n",
              "      <td>18</td>\n",
              "      <td>male</td>\n",
              "      <td>33.770</td>\n",
              "      <td>1</td>\n",
              "      <td>no</td>\n",
              "      <td>southeast</td>\n",
              "      <td>1725.55230</td>\n",
              "    </tr>\n",
              "    <tr>\n",
              "      <th>2</th>\n",
              "      <td>28</td>\n",
              "      <td>male</td>\n",
              "      <td>33.000</td>\n",
              "      <td>3</td>\n",
              "      <td>no</td>\n",
              "      <td>southeast</td>\n",
              "      <td>4449.46200</td>\n",
              "    </tr>\n",
              "    <tr>\n",
              "      <th>3</th>\n",
              "      <td>33</td>\n",
              "      <td>male</td>\n",
              "      <td>22.705</td>\n",
              "      <td>0</td>\n",
              "      <td>no</td>\n",
              "      <td>northwest</td>\n",
              "      <td>21984.47061</td>\n",
              "    </tr>\n",
              "    <tr>\n",
              "      <th>4</th>\n",
              "      <td>32</td>\n",
              "      <td>male</td>\n",
              "      <td>28.880</td>\n",
              "      <td>0</td>\n",
              "      <td>no</td>\n",
              "      <td>northwest</td>\n",
              "      <td>3866.85520</td>\n",
              "    </tr>\n",
              "    <tr>\n",
              "      <th>...</th>\n",
              "      <td>...</td>\n",
              "      <td>...</td>\n",
              "      <td>...</td>\n",
              "      <td>...</td>\n",
              "      <td>...</td>\n",
              "      <td>...</td>\n",
              "      <td>...</td>\n",
              "    </tr>\n",
              "    <tr>\n",
              "      <th>1333</th>\n",
              "      <td>50</td>\n",
              "      <td>male</td>\n",
              "      <td>30.970</td>\n",
              "      <td>3</td>\n",
              "      <td>no</td>\n",
              "      <td>northwest</td>\n",
              "      <td>10600.54830</td>\n",
              "    </tr>\n",
              "    <tr>\n",
              "      <th>1334</th>\n",
              "      <td>18</td>\n",
              "      <td>female</td>\n",
              "      <td>31.920</td>\n",
              "      <td>0</td>\n",
              "      <td>no</td>\n",
              "      <td>northeast</td>\n",
              "      <td>2205.98080</td>\n",
              "    </tr>\n",
              "    <tr>\n",
              "      <th>1335</th>\n",
              "      <td>18</td>\n",
              "      <td>female</td>\n",
              "      <td>36.850</td>\n",
              "      <td>0</td>\n",
              "      <td>no</td>\n",
              "      <td>southeast</td>\n",
              "      <td>1629.83350</td>\n",
              "    </tr>\n",
              "    <tr>\n",
              "      <th>1336</th>\n",
              "      <td>21</td>\n",
              "      <td>female</td>\n",
              "      <td>25.800</td>\n",
              "      <td>0</td>\n",
              "      <td>no</td>\n",
              "      <td>southwest</td>\n",
              "      <td>2007.94500</td>\n",
              "    </tr>\n",
              "    <tr>\n",
              "      <th>1337</th>\n",
              "      <td>61</td>\n",
              "      <td>female</td>\n",
              "      <td>29.070</td>\n",
              "      <td>0</td>\n",
              "      <td>yes</td>\n",
              "      <td>northwest</td>\n",
              "      <td>29141.36030</td>\n",
              "    </tr>\n",
              "  </tbody>\n",
              "</table>\n",
              "<p>1338 rows × 7 columns</p>\n",
              "</div>"
            ],
            "text/plain": [
              "      age     sex     bmi  children smoker     region      charges\n",
              "0      19  female  27.900         0    yes  southwest  16884.92400\n",
              "1      18    male  33.770         1     no  southeast   1725.55230\n",
              "2      28    male  33.000         3     no  southeast   4449.46200\n",
              "3      33    male  22.705         0     no  northwest  21984.47061\n",
              "4      32    male  28.880         0     no  northwest   3866.85520\n",
              "...   ...     ...     ...       ...    ...        ...          ...\n",
              "1333   50    male  30.970         3     no  northwest  10600.54830\n",
              "1334   18  female  31.920         0     no  northeast   2205.98080\n",
              "1335   18  female  36.850         0     no  southeast   1629.83350\n",
              "1336   21  female  25.800         0     no  southwest   2007.94500\n",
              "1337   61  female  29.070         0    yes  northwest  29141.36030\n",
              "\n",
              "[1338 rows x 7 columns]"
            ]
          },
          "metadata": {
            "tags": []
          },
          "execution_count": 6
        }
      ]
    },
    {
      "cell_type": "code",
      "metadata": {
        "colab": {
          "base_uri": "https://localhost:8080/"
        },
        "id": "9G8vpqNNf74o",
        "outputId": "fe5c0b1a-bb2a-42b4-d4e9-c3dab0f9fd70"
      },
      "source": [
        "#for more info about data \n",
        "medical_df.info()"
      ],
      "execution_count": null,
      "outputs": [
        {
          "output_type": "stream",
          "text": [
            "<class 'pandas.core.frame.DataFrame'>\n",
            "RangeIndex: 1338 entries, 0 to 1337\n",
            "Data columns (total 7 columns):\n",
            " #   Column    Non-Null Count  Dtype  \n",
            "---  ------    --------------  -----  \n",
            " 0   age       1338 non-null   int64  \n",
            " 1   sex       1338 non-null   object \n",
            " 2   bmi       1338 non-null   float64\n",
            " 3   children  1338 non-null   int64  \n",
            " 4   smoker    1338 non-null   object \n",
            " 5   region    1338 non-null   object \n",
            " 6   charges   1338 non-null   float64\n",
            "dtypes: float64(2), int64(2), object(3)\n",
            "memory usage: 73.3+ KB\n"
          ],
          "name": "stdout"
        }
      ]
    },
    {
      "cell_type": "code",
      "metadata": {
        "colab": {
          "base_uri": "https://localhost:8080/",
          "height": 295
        },
        "id": "vfT1hf2QgEZm",
        "outputId": "46d5cbf9-7e77-4102-ae59-c73e04ce8921"
      },
      "source": [
        "medical_df.describe()"
      ],
      "execution_count": null,
      "outputs": [
        {
          "output_type": "execute_result",
          "data": {
            "text/html": [
              "<div>\n",
              "<style scoped>\n",
              "    .dataframe tbody tr th:only-of-type {\n",
              "        vertical-align: middle;\n",
              "    }\n",
              "\n",
              "    .dataframe tbody tr th {\n",
              "        vertical-align: top;\n",
              "    }\n",
              "\n",
              "    .dataframe thead th {\n",
              "        text-align: right;\n",
              "    }\n",
              "</style>\n",
              "<table border=\"1\" class=\"dataframe\">\n",
              "  <thead>\n",
              "    <tr style=\"text-align: right;\">\n",
              "      <th></th>\n",
              "      <th>age</th>\n",
              "      <th>bmi</th>\n",
              "      <th>children</th>\n",
              "      <th>charges</th>\n",
              "    </tr>\n",
              "  </thead>\n",
              "  <tbody>\n",
              "    <tr>\n",
              "      <th>count</th>\n",
              "      <td>1338.000000</td>\n",
              "      <td>1338.000000</td>\n",
              "      <td>1338.000000</td>\n",
              "      <td>1338.000000</td>\n",
              "    </tr>\n",
              "    <tr>\n",
              "      <th>mean</th>\n",
              "      <td>39.207025</td>\n",
              "      <td>30.663397</td>\n",
              "      <td>1.094918</td>\n",
              "      <td>13270.422265</td>\n",
              "    </tr>\n",
              "    <tr>\n",
              "      <th>std</th>\n",
              "      <td>14.049960</td>\n",
              "      <td>6.098187</td>\n",
              "      <td>1.205493</td>\n",
              "      <td>12110.011237</td>\n",
              "    </tr>\n",
              "    <tr>\n",
              "      <th>min</th>\n",
              "      <td>18.000000</td>\n",
              "      <td>15.960000</td>\n",
              "      <td>0.000000</td>\n",
              "      <td>1121.873900</td>\n",
              "    </tr>\n",
              "    <tr>\n",
              "      <th>25%</th>\n",
              "      <td>27.000000</td>\n",
              "      <td>26.296250</td>\n",
              "      <td>0.000000</td>\n",
              "      <td>4740.287150</td>\n",
              "    </tr>\n",
              "    <tr>\n",
              "      <th>50%</th>\n",
              "      <td>39.000000</td>\n",
              "      <td>30.400000</td>\n",
              "      <td>1.000000</td>\n",
              "      <td>9382.033000</td>\n",
              "    </tr>\n",
              "    <tr>\n",
              "      <th>75%</th>\n",
              "      <td>51.000000</td>\n",
              "      <td>34.693750</td>\n",
              "      <td>2.000000</td>\n",
              "      <td>16639.912515</td>\n",
              "    </tr>\n",
              "    <tr>\n",
              "      <th>max</th>\n",
              "      <td>64.000000</td>\n",
              "      <td>53.130000</td>\n",
              "      <td>5.000000</td>\n",
              "      <td>63770.428010</td>\n",
              "    </tr>\n",
              "  </tbody>\n",
              "</table>\n",
              "</div>"
            ],
            "text/plain": [
              "               age          bmi     children       charges\n",
              "count  1338.000000  1338.000000  1338.000000   1338.000000\n",
              "mean     39.207025    30.663397     1.094918  13270.422265\n",
              "std      14.049960     6.098187     1.205493  12110.011237\n",
              "min      18.000000    15.960000     0.000000   1121.873900\n",
              "25%      27.000000    26.296250     0.000000   4740.287150\n",
              "50%      39.000000    30.400000     1.000000   9382.033000\n",
              "75%      51.000000    34.693750     2.000000  16639.912515\n",
              "max      64.000000    53.130000     5.000000  63770.428010"
            ]
          },
          "metadata": {
            "tags": []
          },
          "execution_count": 8
        }
      ]
    },
    {
      "cell_type": "code",
      "metadata": {
        "colab": {
          "base_uri": "https://localhost:8080/"
        },
        "id": "JmFooWengVCj",
        "outputId": "42038a99-8fbe-4a3d-db9d-fc10bc07c468"
      },
      "source": [
        "!pip install jovian --quiet"
      ],
      "execution_count": null,
      "outputs": [
        {
          "output_type": "stream",
          "text": [
            "\u001b[?25l\r\u001b[K     |████▊                           | 10kB 11.7MB/s eta 0:00:01\r\u001b[K     |█████████▌                      | 20kB 11.2MB/s eta 0:00:01\r\u001b[K     |██████████████▎                 | 30kB 6.2MB/s eta 0:00:01\r\u001b[K     |███████████████████             | 40kB 5.6MB/s eta 0:00:01\r\u001b[K     |███████████████████████▉        | 51kB 3.0MB/s eta 0:00:01\r\u001b[K     |████████████████████████████▋   | 61kB 3.3MB/s eta 0:00:01\r\u001b[K     |████████████████████████████████| 71kB 2.5MB/s \n",
            "\u001b[?25h  Building wheel for uuid (setup.py) ... \u001b[?25l\u001b[?25hdone\n"
          ],
          "name": "stdout"
        }
      ]
    },
    {
      "cell_type": "code",
      "metadata": {
        "id": "tA1JCmbqgiRh"
      },
      "source": [
        "import jovian"
      ],
      "execution_count": null,
      "outputs": []
    },
    {
      "cell_type": "code",
      "metadata": {
        "colab": {
          "base_uri": "https://localhost:8080/"
        },
        "id": "FMixfjydg1y_",
        "outputId": "d0ddf3bd-6d4a-4c22-885c-f66660501d62"
      },
      "source": [
        "jovian.commit()"
      ],
      "execution_count": null,
      "outputs": [
        {
          "output_type": "stream",
          "text": [
            "[jovian] Detected Colab notebook...\u001b[0m\n"
          ],
          "name": "stdout"
        },
        {
          "output_type": "stream",
          "text": [
            "\u001b[31m[jovian] Error: jovian.commit doesn't work on Colab unless the notebook was created and executed from Jovian.\n",
            "Make sure to run the first code cell at the top after executing from Jovian.\n",
            "Alternatively, you can download this notebook and upload it manually to Jovian.\n",
            "Learn more: https://jovian.ai/docs/user-guide/run.html#run-on-colab\u001b[0m\n"
          ],
          "name": "stderr"
        }
      ]
    },
    {
      "cell_type": "code",
      "metadata": {
        "id": "AY0Dm-R-g8i3"
      },
      "source": [
        "!pip install plotly matplotlib seaborn --quiet"
      ],
      "execution_count": null,
      "outputs": []
    },
    {
      "cell_type": "code",
      "metadata": {
        "id": "SQyVNhWMhD2-"
      },
      "source": [
        "import plotly.express as px\n",
        "import matplotlib\n",
        "import matplotlib.pyplot as plt\n",
        "import seaborn as sns\n",
        "%matplotlib inline"
      ],
      "execution_count": null,
      "outputs": []
    },
    {
      "cell_type": "code",
      "metadata": {
        "colab": {
          "base_uri": "https://localhost:8080/"
        },
        "id": "toUYoj4xhMJq",
        "outputId": "1ca49715-b0cd-452b-94a3-2cdcb70b045f"
      },
      "source": [
        "medical_df.age.describe()"
      ],
      "execution_count": null,
      "outputs": [
        {
          "output_type": "execute_result",
          "data": {
            "text/plain": [
              "count    1338.000000\n",
              "mean       39.207025\n",
              "std        14.049960\n",
              "min        18.000000\n",
              "25%        27.000000\n",
              "50%        39.000000\n",
              "75%        51.000000\n",
              "max        64.000000\n",
              "Name: age, dtype: float64"
            ]
          },
          "metadata": {
            "tags": []
          },
          "execution_count": 11
        }
      ]
    },
    {
      "cell_type": "code",
      "metadata": {
        "colab": {
          "base_uri": "https://localhost:8080/",
          "height": 542
        },
        "id": "2DXs52jfhiGc",
        "outputId": "a22c2356-45fc-4fa9-844e-860b9d8aad00"
      },
      "source": [
        "fig = px.histogram(medical_df, \n",
        "                   x='age', \n",
        "                   marginal='box', \n",
        "                   nbins=47, \n",
        "                   title='Distribution of Age')\n",
        "fig.update_layout(bargap=0.1)\n",
        "fig.show()"
      ],
      "execution_count": null,
      "outputs": [
        {
          "output_type": "display_data",
          "data": {
            "text/html": [
              "<html>\n",
              "<head><meta charset=\"utf-8\" /></head>\n",
              "<body>\n",
              "    <div>\n",
              "            <script src=\"https://cdnjs.cloudflare.com/ajax/libs/mathjax/2.7.5/MathJax.js?config=TeX-AMS-MML_SVG\"></script><script type=\"text/javascript\">if (window.MathJax) {MathJax.Hub.Config({SVG: {font: \"STIX-Web\"}});}</script>\n",
              "                <script type=\"text/javascript\">window.PlotlyConfig = {MathJaxConfig: 'local'};</script>\n",
              "        <script src=\"https://cdn.plot.ly/plotly-latest.min.js\"></script>    \n",
              "            <div id=\"eb6c3ec1-5354-4fca-8f02-d7d369a09f87\" class=\"plotly-graph-div\" style=\"height:525px; width:100%;\"></div>\n",
              "            <script type=\"text/javascript\">\n",
              "                \n",
              "                    window.PLOTLYENV=window.PLOTLYENV || {};\n",
              "                    \n",
              "                if (document.getElementById(\"eb6c3ec1-5354-4fca-8f02-d7d369a09f87\")) {\n",
              "                    Plotly.newPlot(\n",
              "                        'eb6c3ec1-5354-4fca-8f02-d7d369a09f87',\n",
              "                        [{\"alignmentgroup\": \"True\", \"bingroup\": \"x\", \"hoverlabel\": {\"namelength\": 0}, \"hovertemplate\": \"age=%{x}<br>count=%{y}\", \"legendgroup\": \"\", \"marker\": {\"color\": \"#636efa\"}, \"name\": \"\", \"nbinsx\": 47, \"offsetgroup\": \"\", \"orientation\": \"v\", \"showlegend\": false, \"type\": \"histogram\", \"x\": [19, 18, 28, 33, 32, 31, 46, 37, 37, 60, 25, 62, 23, 56, 27, 19, 52, 23, 56, 30, 60, 30, 18, 34, 37, 59, 63, 55, 23, 31, 22, 18, 19, 63, 28, 19, 62, 26, 35, 60, 24, 31, 41, 37, 38, 55, 18, 28, 60, 36, 18, 21, 48, 36, 40, 58, 58, 18, 53, 34, 43, 25, 64, 28, 20, 19, 61, 40, 40, 28, 27, 31, 53, 58, 44, 57, 29, 21, 22, 41, 31, 45, 22, 48, 37, 45, 57, 56, 46, 55, 21, 53, 59, 35, 64, 28, 54, 55, 56, 38, 41, 30, 18, 61, 34, 20, 19, 26, 29, 63, 54, 55, 37, 21, 52, 60, 58, 29, 49, 37, 44, 18, 20, 44, 47, 26, 19, 52, 32, 38, 59, 61, 53, 19, 20, 22, 19, 22, 54, 22, 34, 26, 34, 29, 30, 29, 46, 51, 53, 19, 35, 48, 32, 42, 40, 44, 48, 18, 30, 50, 42, 18, 54, 32, 37, 47, 20, 32, 19, 27, 63, 49, 18, 35, 24, 63, 38, 54, 46, 41, 58, 18, 22, 44, 44, 36, 26, 30, 41, 29, 61, 36, 25, 56, 18, 19, 39, 45, 51, 64, 19, 48, 60, 27, 46, 28, 59, 35, 63, 40, 20, 40, 24, 34, 45, 41, 53, 27, 26, 24, 34, 53, 32, 19, 42, 55, 28, 58, 41, 47, 42, 59, 19, 59, 39, 40, 18, 31, 19, 44, 23, 33, 55, 40, 63, 54, 60, 24, 19, 29, 18, 63, 54, 27, 50, 55, 56, 38, 51, 19, 58, 20, 52, 19, 53, 46, 40, 59, 45, 49, 18, 50, 41, 50, 25, 47, 19, 22, 59, 51, 40, 54, 30, 55, 52, 46, 46, 63, 59, 52, 28, 29, 25, 22, 25, 18, 19, 47, 31, 48, 36, 53, 56, 28, 57, 29, 28, 30, 58, 41, 50, 19, 43, 49, 27, 52, 50, 54, 44, 32, 34, 26, 34, 57, 29, 40, 27, 45, 64, 52, 61, 52, 61, 56, 43, 64, 60, 62, 50, 46, 24, 62, 60, 63, 49, 34, 33, 46, 36, 19, 57, 50, 30, 33, 18, 46, 46, 47, 23, 18, 48, 35, 19, 21, 21, 49, 56, 42, 44, 18, 61, 57, 42, 26, 20, 23, 39, 24, 64, 62, 27, 55, 55, 35, 44, 19, 58, 50, 26, 24, 48, 19, 48, 49, 46, 46, 43, 21, 64, 18, 51, 47, 64, 49, 31, 52, 33, 47, 38, 32, 19, 44, 26, 25, 19, 43, 52, 36, 64, 63, 64, 61, 40, 25, 48, 45, 38, 18, 21, 27, 19, 29, 42, 60, 31, 60, 22, 35, 52, 26, 31, 33, 18, 59, 56, 45, 60, 56, 40, 35, 39, 30, 24, 20, 32, 59, 55, 57, 56, 40, 49, 42, 62, 56, 19, 30, 60, 56, 28, 18, 27, 18, 19, 47, 54, 61, 24, 25, 21, 23, 63, 49, 18, 51, 48, 31, 54, 19, 44, 53, 19, 61, 18, 61, 21, 20, 31, 45, 44, 62, 29, 43, 51, 19, 38, 37, 22, 21, 24, 57, 56, 27, 51, 19, 39, 58, 20, 45, 35, 31, 50, 32, 51, 38, 42, 18, 19, 51, 46, 18, 57, 62, 59, 37, 64, 38, 33, 46, 46, 53, 34, 20, 63, 54, 54, 49, 28, 54, 25, 43, 63, 32, 62, 52, 25, 28, 46, 34, 35, 19, 46, 54, 27, 50, 18, 19, 38, 41, 49, 48, 31, 18, 30, 62, 57, 58, 22, 31, 52, 25, 59, 19, 39, 32, 19, 33, 21, 34, 61, 38, 58, 47, 20, 21, 41, 46, 42, 34, 43, 52, 18, 51, 56, 64, 19, 51, 27, 59, 28, 30, 47, 38, 18, 34, 20, 47, 56, 49, 19, 55, 30, 37, 49, 18, 59, 29, 36, 33, 58, 44, 53, 24, 29, 40, 51, 64, 19, 35, 39, 56, 33, 42, 61, 23, 43, 48, 39, 40, 18, 58, 49, 53, 48, 45, 59, 52, 26, 27, 48, 57, 37, 57, 32, 18, 64, 43, 49, 40, 62, 40, 30, 29, 36, 41, 44, 45, 55, 60, 56, 49, 21, 19, 39, 53, 33, 53, 42, 40, 47, 27, 21, 47, 20, 24, 27, 26, 53, 41, 56, 23, 21, 50, 53, 34, 47, 33, 51, 49, 31, 36, 18, 50, 43, 20, 24, 60, 49, 60, 51, 58, 51, 53, 62, 19, 50, 30, 41, 29, 18, 41, 35, 53, 24, 48, 59, 49, 37, 26, 23, 29, 45, 27, 53, 31, 50, 50, 34, 19, 47, 28, 37, 21, 64, 58, 24, 31, 39, 47, 30, 18, 22, 23, 33, 27, 45, 57, 47, 42, 64, 38, 61, 53, 44, 19, 41, 51, 40, 45, 35, 53, 30, 18, 51, 50, 31, 35, 60, 21, 29, 62, 39, 19, 22, 53, 39, 27, 30, 30, 58, 33, 42, 64, 21, 18, 23, 45, 40, 19, 18, 25, 46, 33, 54, 28, 36, 20, 24, 23, 47, 33, 45, 26, 18, 44, 60, 64, 56, 36, 41, 39, 63, 36, 28, 58, 36, 42, 36, 56, 35, 59, 21, 59, 23, 57, 53, 60, 51, 23, 27, 55, 37, 61, 46, 53, 49, 20, 48, 25, 25, 57, 37, 38, 55, 36, 51, 40, 18, 57, 61, 25, 50, 26, 42, 43, 44, 23, 49, 33, 41, 37, 22, 23, 21, 51, 25, 32, 57, 36, 22, 57, 64, 36, 54, 47, 62, 61, 43, 19, 18, 19, 49, 60, 26, 49, 60, 26, 27, 44, 63, 32, 22, 18, 59, 44, 33, 24, 43, 45, 61, 35, 62, 62, 38, 34, 43, 50, 19, 57, 62, 41, 26, 39, 46, 45, 32, 59, 44, 39, 18, 53, 18, 50, 18, 19, 62, 56, 42, 37, 42, 25, 57, 51, 30, 44, 34, 31, 54, 24, 43, 48, 19, 29, 63, 46, 52, 35, 51, 44, 21, 39, 50, 34, 22, 19, 26, 29, 48, 26, 45, 36, 54, 34, 31, 27, 20, 44, 43, 45, 34, 24, 26, 38, 50, 38, 27, 39, 39, 63, 33, 36, 30, 24, 24, 48, 47, 29, 28, 47, 25, 51, 48, 43, 61, 48, 38, 59, 19, 26, 54, 21, 51, 22, 47, 18, 47, 21, 19, 23, 54, 37, 46, 55, 30, 18, 61, 54, 22, 45, 22, 19, 35, 18, 20, 28, 55, 43, 43, 22, 25, 49, 44, 64, 49, 47, 27, 55, 48, 45, 24, 32, 24, 57, 59, 36, 29, 42, 48, 39, 63, 54, 37, 63, 21, 54, 60, 32, 47, 21, 28, 63, 18, 32, 38, 32, 62, 39, 55, 57, 52, 56, 47, 55, 23, 22, 50, 18, 51, 22, 52, 25, 33, 53, 29, 58, 37, 54, 49, 50, 26, 45, 54, 38, 48, 28, 23, 55, 41, 25, 33, 30, 23, 46, 53, 27, 23, 63, 55, 35, 34, 19, 39, 27, 57, 52, 28, 50, 44, 26, 33, 19, 50, 41, 52, 39, 50, 52, 60, 20, 55, 42, 18, 58, 43, 35, 48, 36, 19, 23, 20, 32, 43, 34, 30, 18, 41, 35, 57, 29, 32, 37, 18, 43, 56, 38, 29, 22, 52, 40, 23, 31, 42, 24, 25, 48, 23, 45, 20, 62, 43, 23, 31, 41, 58, 48, 31, 19, 19, 41, 40, 31, 37, 46, 22, 51, 18, 35, 59, 36, 37, 59, 36, 39, 18, 52, 27, 18, 40, 29, 46, 38, 30, 40, 50, 20, 41, 33, 38, 42, 56, 58, 52, 20, 54, 58, 45, 26, 63, 58, 37, 25, 52, 64, 22, 28, 18, 28, 45, 33, 18, 32, 24, 19, 20, 40, 34, 42, 51, 54, 55, 52, 32, 28, 41, 43, 49, 64, 55, 24, 20, 45, 26, 25, 43, 35, 26, 57, 22, 32, 39, 25, 48, 47, 18, 18, 61, 47, 28, 36, 20, 44, 38, 19, 21, 46, 58, 20, 18, 28, 33, 19, 45, 62, 25, 43, 42, 24, 29, 32, 25, 41, 42, 33, 34, 19, 30, 18, 19, 18, 35, 39, 31, 62, 62, 42, 31, 61, 42, 51, 23, 52, 57, 23, 52, 50, 18, 18, 21, 61], \"xaxis\": \"x\", \"yaxis\": \"y\"}, {\"alignmentgroup\": \"True\", \"hoverlabel\": {\"namelength\": 0}, \"hovertemplate\": \"age=%{x}\", \"legendgroup\": \"\", \"marker\": {\"color\": \"#636efa\"}, \"name\": \"\", \"notched\": true, \"offsetgroup\": \"\", \"showlegend\": false, \"type\": \"box\", \"x\": [19, 18, 28, 33, 32, 31, 46, 37, 37, 60, 25, 62, 23, 56, 27, 19, 52, 23, 56, 30, 60, 30, 18, 34, 37, 59, 63, 55, 23, 31, 22, 18, 19, 63, 28, 19, 62, 26, 35, 60, 24, 31, 41, 37, 38, 55, 18, 28, 60, 36, 18, 21, 48, 36, 40, 58, 58, 18, 53, 34, 43, 25, 64, 28, 20, 19, 61, 40, 40, 28, 27, 31, 53, 58, 44, 57, 29, 21, 22, 41, 31, 45, 22, 48, 37, 45, 57, 56, 46, 55, 21, 53, 59, 35, 64, 28, 54, 55, 56, 38, 41, 30, 18, 61, 34, 20, 19, 26, 29, 63, 54, 55, 37, 21, 52, 60, 58, 29, 49, 37, 44, 18, 20, 44, 47, 26, 19, 52, 32, 38, 59, 61, 53, 19, 20, 22, 19, 22, 54, 22, 34, 26, 34, 29, 30, 29, 46, 51, 53, 19, 35, 48, 32, 42, 40, 44, 48, 18, 30, 50, 42, 18, 54, 32, 37, 47, 20, 32, 19, 27, 63, 49, 18, 35, 24, 63, 38, 54, 46, 41, 58, 18, 22, 44, 44, 36, 26, 30, 41, 29, 61, 36, 25, 56, 18, 19, 39, 45, 51, 64, 19, 48, 60, 27, 46, 28, 59, 35, 63, 40, 20, 40, 24, 34, 45, 41, 53, 27, 26, 24, 34, 53, 32, 19, 42, 55, 28, 58, 41, 47, 42, 59, 19, 59, 39, 40, 18, 31, 19, 44, 23, 33, 55, 40, 63, 54, 60, 24, 19, 29, 18, 63, 54, 27, 50, 55, 56, 38, 51, 19, 58, 20, 52, 19, 53, 46, 40, 59, 45, 49, 18, 50, 41, 50, 25, 47, 19, 22, 59, 51, 40, 54, 30, 55, 52, 46, 46, 63, 59, 52, 28, 29, 25, 22, 25, 18, 19, 47, 31, 48, 36, 53, 56, 28, 57, 29, 28, 30, 58, 41, 50, 19, 43, 49, 27, 52, 50, 54, 44, 32, 34, 26, 34, 57, 29, 40, 27, 45, 64, 52, 61, 52, 61, 56, 43, 64, 60, 62, 50, 46, 24, 62, 60, 63, 49, 34, 33, 46, 36, 19, 57, 50, 30, 33, 18, 46, 46, 47, 23, 18, 48, 35, 19, 21, 21, 49, 56, 42, 44, 18, 61, 57, 42, 26, 20, 23, 39, 24, 64, 62, 27, 55, 55, 35, 44, 19, 58, 50, 26, 24, 48, 19, 48, 49, 46, 46, 43, 21, 64, 18, 51, 47, 64, 49, 31, 52, 33, 47, 38, 32, 19, 44, 26, 25, 19, 43, 52, 36, 64, 63, 64, 61, 40, 25, 48, 45, 38, 18, 21, 27, 19, 29, 42, 60, 31, 60, 22, 35, 52, 26, 31, 33, 18, 59, 56, 45, 60, 56, 40, 35, 39, 30, 24, 20, 32, 59, 55, 57, 56, 40, 49, 42, 62, 56, 19, 30, 60, 56, 28, 18, 27, 18, 19, 47, 54, 61, 24, 25, 21, 23, 63, 49, 18, 51, 48, 31, 54, 19, 44, 53, 19, 61, 18, 61, 21, 20, 31, 45, 44, 62, 29, 43, 51, 19, 38, 37, 22, 21, 24, 57, 56, 27, 51, 19, 39, 58, 20, 45, 35, 31, 50, 32, 51, 38, 42, 18, 19, 51, 46, 18, 57, 62, 59, 37, 64, 38, 33, 46, 46, 53, 34, 20, 63, 54, 54, 49, 28, 54, 25, 43, 63, 32, 62, 52, 25, 28, 46, 34, 35, 19, 46, 54, 27, 50, 18, 19, 38, 41, 49, 48, 31, 18, 30, 62, 57, 58, 22, 31, 52, 25, 59, 19, 39, 32, 19, 33, 21, 34, 61, 38, 58, 47, 20, 21, 41, 46, 42, 34, 43, 52, 18, 51, 56, 64, 19, 51, 27, 59, 28, 30, 47, 38, 18, 34, 20, 47, 56, 49, 19, 55, 30, 37, 49, 18, 59, 29, 36, 33, 58, 44, 53, 24, 29, 40, 51, 64, 19, 35, 39, 56, 33, 42, 61, 23, 43, 48, 39, 40, 18, 58, 49, 53, 48, 45, 59, 52, 26, 27, 48, 57, 37, 57, 32, 18, 64, 43, 49, 40, 62, 40, 30, 29, 36, 41, 44, 45, 55, 60, 56, 49, 21, 19, 39, 53, 33, 53, 42, 40, 47, 27, 21, 47, 20, 24, 27, 26, 53, 41, 56, 23, 21, 50, 53, 34, 47, 33, 51, 49, 31, 36, 18, 50, 43, 20, 24, 60, 49, 60, 51, 58, 51, 53, 62, 19, 50, 30, 41, 29, 18, 41, 35, 53, 24, 48, 59, 49, 37, 26, 23, 29, 45, 27, 53, 31, 50, 50, 34, 19, 47, 28, 37, 21, 64, 58, 24, 31, 39, 47, 30, 18, 22, 23, 33, 27, 45, 57, 47, 42, 64, 38, 61, 53, 44, 19, 41, 51, 40, 45, 35, 53, 30, 18, 51, 50, 31, 35, 60, 21, 29, 62, 39, 19, 22, 53, 39, 27, 30, 30, 58, 33, 42, 64, 21, 18, 23, 45, 40, 19, 18, 25, 46, 33, 54, 28, 36, 20, 24, 23, 47, 33, 45, 26, 18, 44, 60, 64, 56, 36, 41, 39, 63, 36, 28, 58, 36, 42, 36, 56, 35, 59, 21, 59, 23, 57, 53, 60, 51, 23, 27, 55, 37, 61, 46, 53, 49, 20, 48, 25, 25, 57, 37, 38, 55, 36, 51, 40, 18, 57, 61, 25, 50, 26, 42, 43, 44, 23, 49, 33, 41, 37, 22, 23, 21, 51, 25, 32, 57, 36, 22, 57, 64, 36, 54, 47, 62, 61, 43, 19, 18, 19, 49, 60, 26, 49, 60, 26, 27, 44, 63, 32, 22, 18, 59, 44, 33, 24, 43, 45, 61, 35, 62, 62, 38, 34, 43, 50, 19, 57, 62, 41, 26, 39, 46, 45, 32, 59, 44, 39, 18, 53, 18, 50, 18, 19, 62, 56, 42, 37, 42, 25, 57, 51, 30, 44, 34, 31, 54, 24, 43, 48, 19, 29, 63, 46, 52, 35, 51, 44, 21, 39, 50, 34, 22, 19, 26, 29, 48, 26, 45, 36, 54, 34, 31, 27, 20, 44, 43, 45, 34, 24, 26, 38, 50, 38, 27, 39, 39, 63, 33, 36, 30, 24, 24, 48, 47, 29, 28, 47, 25, 51, 48, 43, 61, 48, 38, 59, 19, 26, 54, 21, 51, 22, 47, 18, 47, 21, 19, 23, 54, 37, 46, 55, 30, 18, 61, 54, 22, 45, 22, 19, 35, 18, 20, 28, 55, 43, 43, 22, 25, 49, 44, 64, 49, 47, 27, 55, 48, 45, 24, 32, 24, 57, 59, 36, 29, 42, 48, 39, 63, 54, 37, 63, 21, 54, 60, 32, 47, 21, 28, 63, 18, 32, 38, 32, 62, 39, 55, 57, 52, 56, 47, 55, 23, 22, 50, 18, 51, 22, 52, 25, 33, 53, 29, 58, 37, 54, 49, 50, 26, 45, 54, 38, 48, 28, 23, 55, 41, 25, 33, 30, 23, 46, 53, 27, 23, 63, 55, 35, 34, 19, 39, 27, 57, 52, 28, 50, 44, 26, 33, 19, 50, 41, 52, 39, 50, 52, 60, 20, 55, 42, 18, 58, 43, 35, 48, 36, 19, 23, 20, 32, 43, 34, 30, 18, 41, 35, 57, 29, 32, 37, 18, 43, 56, 38, 29, 22, 52, 40, 23, 31, 42, 24, 25, 48, 23, 45, 20, 62, 43, 23, 31, 41, 58, 48, 31, 19, 19, 41, 40, 31, 37, 46, 22, 51, 18, 35, 59, 36, 37, 59, 36, 39, 18, 52, 27, 18, 40, 29, 46, 38, 30, 40, 50, 20, 41, 33, 38, 42, 56, 58, 52, 20, 54, 58, 45, 26, 63, 58, 37, 25, 52, 64, 22, 28, 18, 28, 45, 33, 18, 32, 24, 19, 20, 40, 34, 42, 51, 54, 55, 52, 32, 28, 41, 43, 49, 64, 55, 24, 20, 45, 26, 25, 43, 35, 26, 57, 22, 32, 39, 25, 48, 47, 18, 18, 61, 47, 28, 36, 20, 44, 38, 19, 21, 46, 58, 20, 18, 28, 33, 19, 45, 62, 25, 43, 42, 24, 29, 32, 25, 41, 42, 33, 34, 19, 30, 18, 19, 18, 35, 39, 31, 62, 62, 42, 31, 61, 42, 51, 23, 52, 57, 23, 52, 50, 18, 18, 21, 61], \"xaxis\": \"x2\", \"yaxis\": \"y2\"}],\n",
              "                        {\"bargap\": 0.1, \"barmode\": \"relative\", \"legend\": {\"tracegroupgap\": 0}, \"template\": {\"data\": {\"bar\": [{\"error_x\": {\"color\": \"#2a3f5f\"}, \"error_y\": {\"color\": \"#2a3f5f\"}, \"marker\": {\"line\": {\"color\": \"#E5ECF6\", \"width\": 0.5}}, \"type\": \"bar\"}], \"barpolar\": [{\"marker\": {\"line\": {\"color\": \"#E5ECF6\", \"width\": 0.5}}, \"type\": \"barpolar\"}], \"carpet\": [{\"aaxis\": {\"endlinecolor\": \"#2a3f5f\", \"gridcolor\": \"white\", \"linecolor\": \"white\", \"minorgridcolor\": \"white\", \"startlinecolor\": \"#2a3f5f\"}, \"baxis\": {\"endlinecolor\": \"#2a3f5f\", \"gridcolor\": \"white\", \"linecolor\": \"white\", \"minorgridcolor\": \"white\", \"startlinecolor\": \"#2a3f5f\"}, \"type\": \"carpet\"}], \"choropleth\": [{\"colorbar\": {\"outlinewidth\": 0, \"ticks\": \"\"}, \"type\": \"choropleth\"}], \"contour\": [{\"colorbar\": {\"outlinewidth\": 0, \"ticks\": \"\"}, \"colorscale\": [[0.0, \"#0d0887\"], [0.1111111111111111, \"#46039f\"], [0.2222222222222222, \"#7201a8\"], [0.3333333333333333, \"#9c179e\"], [0.4444444444444444, \"#bd3786\"], [0.5555555555555556, \"#d8576b\"], [0.6666666666666666, \"#ed7953\"], [0.7777777777777778, \"#fb9f3a\"], [0.8888888888888888, \"#fdca26\"], [1.0, \"#f0f921\"]], \"type\": \"contour\"}], \"contourcarpet\": [{\"colorbar\": {\"outlinewidth\": 0, \"ticks\": \"\"}, \"type\": \"contourcarpet\"}], \"heatmap\": [{\"colorbar\": {\"outlinewidth\": 0, \"ticks\": \"\"}, \"colorscale\": [[0.0, \"#0d0887\"], [0.1111111111111111, \"#46039f\"], [0.2222222222222222, \"#7201a8\"], [0.3333333333333333, \"#9c179e\"], [0.4444444444444444, \"#bd3786\"], [0.5555555555555556, \"#d8576b\"], [0.6666666666666666, \"#ed7953\"], [0.7777777777777778, \"#fb9f3a\"], [0.8888888888888888, \"#fdca26\"], [1.0, \"#f0f921\"]], \"type\": \"heatmap\"}], \"heatmapgl\": [{\"colorbar\": {\"outlinewidth\": 0, \"ticks\": \"\"}, \"colorscale\": [[0.0, \"#0d0887\"], [0.1111111111111111, \"#46039f\"], [0.2222222222222222, \"#7201a8\"], [0.3333333333333333, \"#9c179e\"], [0.4444444444444444, \"#bd3786\"], [0.5555555555555556, \"#d8576b\"], [0.6666666666666666, \"#ed7953\"], [0.7777777777777778, \"#fb9f3a\"], [0.8888888888888888, \"#fdca26\"], [1.0, \"#f0f921\"]], \"type\": \"heatmapgl\"}], \"histogram\": [{\"marker\": {\"colorbar\": {\"outlinewidth\": 0, \"ticks\": \"\"}}, \"type\": \"histogram\"}], \"histogram2d\": [{\"colorbar\": {\"outlinewidth\": 0, \"ticks\": \"\"}, \"colorscale\": [[0.0, \"#0d0887\"], [0.1111111111111111, \"#46039f\"], [0.2222222222222222, \"#7201a8\"], [0.3333333333333333, \"#9c179e\"], [0.4444444444444444, \"#bd3786\"], [0.5555555555555556, \"#d8576b\"], [0.6666666666666666, \"#ed7953\"], [0.7777777777777778, \"#fb9f3a\"], [0.8888888888888888, \"#fdca26\"], [1.0, \"#f0f921\"]], \"type\": \"histogram2d\"}], \"histogram2dcontour\": [{\"colorbar\": {\"outlinewidth\": 0, \"ticks\": \"\"}, \"colorscale\": [[0.0, \"#0d0887\"], [0.1111111111111111, \"#46039f\"], [0.2222222222222222, \"#7201a8\"], [0.3333333333333333, \"#9c179e\"], [0.4444444444444444, \"#bd3786\"], [0.5555555555555556, \"#d8576b\"], [0.6666666666666666, \"#ed7953\"], [0.7777777777777778, \"#fb9f3a\"], [0.8888888888888888, \"#fdca26\"], [1.0, \"#f0f921\"]], \"type\": \"histogram2dcontour\"}], \"mesh3d\": [{\"colorbar\": {\"outlinewidth\": 0, \"ticks\": \"\"}, \"type\": \"mesh3d\"}], \"parcoords\": [{\"line\": {\"colorbar\": {\"outlinewidth\": 0, \"ticks\": \"\"}}, \"type\": \"parcoords\"}], \"pie\": [{\"automargin\": true, \"type\": \"pie\"}], \"scatter\": [{\"marker\": {\"colorbar\": {\"outlinewidth\": 0, \"ticks\": \"\"}}, \"type\": \"scatter\"}], \"scatter3d\": [{\"line\": {\"colorbar\": {\"outlinewidth\": 0, \"ticks\": \"\"}}, \"marker\": {\"colorbar\": {\"outlinewidth\": 0, \"ticks\": \"\"}}, \"type\": \"scatter3d\"}], \"scattercarpet\": [{\"marker\": {\"colorbar\": {\"outlinewidth\": 0, \"ticks\": \"\"}}, \"type\": \"scattercarpet\"}], \"scattergeo\": [{\"marker\": {\"colorbar\": {\"outlinewidth\": 0, \"ticks\": \"\"}}, \"type\": \"scattergeo\"}], \"scattergl\": [{\"marker\": {\"colorbar\": {\"outlinewidth\": 0, \"ticks\": \"\"}}, \"type\": \"scattergl\"}], \"scattermapbox\": [{\"marker\": {\"colorbar\": {\"outlinewidth\": 0, \"ticks\": \"\"}}, \"type\": \"scattermapbox\"}], \"scatterpolar\": [{\"marker\": {\"colorbar\": {\"outlinewidth\": 0, \"ticks\": \"\"}}, \"type\": \"scatterpolar\"}], \"scatterpolargl\": [{\"marker\": {\"colorbar\": {\"outlinewidth\": 0, \"ticks\": \"\"}}, \"type\": \"scatterpolargl\"}], \"scatterternary\": [{\"marker\": {\"colorbar\": {\"outlinewidth\": 0, \"ticks\": \"\"}}, \"type\": \"scatterternary\"}], \"surface\": [{\"colorbar\": {\"outlinewidth\": 0, \"ticks\": \"\"}, \"colorscale\": [[0.0, \"#0d0887\"], [0.1111111111111111, \"#46039f\"], [0.2222222222222222, \"#7201a8\"], [0.3333333333333333, \"#9c179e\"], [0.4444444444444444, \"#bd3786\"], [0.5555555555555556, \"#d8576b\"], [0.6666666666666666, \"#ed7953\"], [0.7777777777777778, \"#fb9f3a\"], [0.8888888888888888, \"#fdca26\"], [1.0, \"#f0f921\"]], \"type\": \"surface\"}], \"table\": [{\"cells\": {\"fill\": {\"color\": \"#EBF0F8\"}, \"line\": {\"color\": \"white\"}}, \"header\": {\"fill\": {\"color\": \"#C8D4E3\"}, \"line\": {\"color\": \"white\"}}, \"type\": \"table\"}]}, \"layout\": {\"annotationdefaults\": {\"arrowcolor\": \"#2a3f5f\", \"arrowhead\": 0, \"arrowwidth\": 1}, \"coloraxis\": {\"colorbar\": {\"outlinewidth\": 0, \"ticks\": \"\"}}, \"colorscale\": {\"diverging\": [[0, \"#8e0152\"], [0.1, \"#c51b7d\"], [0.2, \"#de77ae\"], [0.3, \"#f1b6da\"], [0.4, \"#fde0ef\"], [0.5, \"#f7f7f7\"], [0.6, \"#e6f5d0\"], [0.7, \"#b8e186\"], [0.8, \"#7fbc41\"], [0.9, \"#4d9221\"], [1, \"#276419\"]], \"sequential\": [[0.0, \"#0d0887\"], [0.1111111111111111, \"#46039f\"], [0.2222222222222222, \"#7201a8\"], [0.3333333333333333, \"#9c179e\"], [0.4444444444444444, \"#bd3786\"], [0.5555555555555556, \"#d8576b\"], [0.6666666666666666, \"#ed7953\"], [0.7777777777777778, \"#fb9f3a\"], [0.8888888888888888, \"#fdca26\"], [1.0, \"#f0f921\"]], \"sequentialminus\": [[0.0, \"#0d0887\"], [0.1111111111111111, \"#46039f\"], [0.2222222222222222, \"#7201a8\"], [0.3333333333333333, \"#9c179e\"], [0.4444444444444444, \"#bd3786\"], [0.5555555555555556, \"#d8576b\"], [0.6666666666666666, \"#ed7953\"], [0.7777777777777778, \"#fb9f3a\"], [0.8888888888888888, \"#fdca26\"], [1.0, \"#f0f921\"]]}, \"colorway\": [\"#636efa\", \"#EF553B\", \"#00cc96\", \"#ab63fa\", \"#FFA15A\", \"#19d3f3\", \"#FF6692\", \"#B6E880\", \"#FF97FF\", \"#FECB52\"], \"font\": {\"color\": \"#2a3f5f\"}, \"geo\": {\"bgcolor\": \"white\", \"lakecolor\": \"white\", \"landcolor\": \"#E5ECF6\", \"showlakes\": true, \"showland\": true, \"subunitcolor\": \"white\"}, \"hoverlabel\": {\"align\": \"left\"}, \"hovermode\": \"closest\", \"mapbox\": {\"style\": \"light\"}, \"paper_bgcolor\": \"white\", \"plot_bgcolor\": \"#E5ECF6\", \"polar\": {\"angularaxis\": {\"gridcolor\": \"white\", \"linecolor\": \"white\", \"ticks\": \"\"}, \"bgcolor\": \"#E5ECF6\", \"radialaxis\": {\"gridcolor\": \"white\", \"linecolor\": \"white\", \"ticks\": \"\"}}, \"scene\": {\"xaxis\": {\"backgroundcolor\": \"#E5ECF6\", \"gridcolor\": \"white\", \"gridwidth\": 2, \"linecolor\": \"white\", \"showbackground\": true, \"ticks\": \"\", \"zerolinecolor\": \"white\"}, \"yaxis\": {\"backgroundcolor\": \"#E5ECF6\", \"gridcolor\": \"white\", \"gridwidth\": 2, \"linecolor\": \"white\", \"showbackground\": true, \"ticks\": \"\", \"zerolinecolor\": \"white\"}, \"zaxis\": {\"backgroundcolor\": \"#E5ECF6\", \"gridcolor\": \"white\", \"gridwidth\": 2, \"linecolor\": \"white\", \"showbackground\": true, \"ticks\": \"\", \"zerolinecolor\": \"white\"}}, \"shapedefaults\": {\"line\": {\"color\": \"#2a3f5f\"}}, \"ternary\": {\"aaxis\": {\"gridcolor\": \"white\", \"linecolor\": \"white\", \"ticks\": \"\"}, \"baxis\": {\"gridcolor\": \"white\", \"linecolor\": \"white\", \"ticks\": \"\"}, \"bgcolor\": \"#E5ECF6\", \"caxis\": {\"gridcolor\": \"white\", \"linecolor\": \"white\", \"ticks\": \"\"}}, \"title\": {\"x\": 0.05}, \"xaxis\": {\"automargin\": true, \"gridcolor\": \"white\", \"linecolor\": \"white\", \"ticks\": \"\", \"title\": {\"standoff\": 15}, \"zerolinecolor\": \"white\", \"zerolinewidth\": 2}, \"yaxis\": {\"automargin\": true, \"gridcolor\": \"white\", \"linecolor\": \"white\", \"ticks\": \"\", \"title\": {\"standoff\": 15}, \"zerolinecolor\": \"white\", \"zerolinewidth\": 2}}}, \"title\": {\"text\": \"Distribution of Age\"}, \"xaxis\": {\"anchor\": \"y\", \"domain\": [0.0, 1.0], \"title\": {\"text\": \"age\"}}, \"xaxis2\": {\"anchor\": \"y2\", \"domain\": [0.0, 1.0], \"matches\": \"x\", \"showgrid\": true, \"showticklabels\": false}, \"yaxis\": {\"anchor\": \"x\", \"domain\": [0.0, 0.8316], \"title\": {\"text\": \"count\"}}, \"yaxis2\": {\"anchor\": \"x2\", \"domain\": [0.8416, 1.0], \"matches\": \"y2\", \"showgrid\": false, \"showline\": false, \"showticklabels\": false, \"ticks\": \"\"}},\n",
              "                        {\"responsive\": true}\n",
              "                    ).then(function(){\n",
              "                            \n",
              "var gd = document.getElementById('eb6c3ec1-5354-4fca-8f02-d7d369a09f87');\n",
              "var x = new MutationObserver(function (mutations, observer) {{\n",
              "        var display = window.getComputedStyle(gd).display;\n",
              "        if (!display || display === 'none') {{\n",
              "            console.log([gd, 'removed!']);\n",
              "            Plotly.purge(gd);\n",
              "            observer.disconnect();\n",
              "        }}\n",
              "}});\n",
              "\n",
              "// Listen for the removal of the full notebook cells\n",
              "var notebookContainer = gd.closest('#notebook-container');\n",
              "if (notebookContainer) {{\n",
              "    x.observe(notebookContainer, {childList: true});\n",
              "}}\n",
              "\n",
              "// Listen for the clearing of the current output cell\n",
              "var outputEl = gd.closest('.output');\n",
              "if (outputEl) {{\n",
              "    x.observe(outputEl, {childList: true});\n",
              "}}\n",
              "\n",
              "                        })\n",
              "                };\n",
              "                \n",
              "            </script>\n",
              "        </div>\n",
              "</body>\n",
              "</html>"
            ]
          },
          "metadata": {
            "tags": []
          }
        }
      ]
    },
    {
      "cell_type": "code",
      "metadata": {
        "colab": {
          "base_uri": "https://localhost:8080/",
          "height": 542
        },
        "id": "Da13HYGVh9Xv",
        "outputId": "ba21e04d-9be7-4f14-c6d7-765d093d858e"
      },
      "source": [
        "fig = px.histogram(medical_df, \n",
        "                   x='bmi', \n",
        "                   marginal='box', \n",
        "                   color_discrete_sequence=['red'], \n",
        "                   title='Distribution of BMI (Body Mass Index)')\n",
        "fig.update_layout(bargap=0.1)\n",
        "fig.show()"
      ],
      "execution_count": null,
      "outputs": [
        {
          "output_type": "display_data",
          "data": {
            "text/html": [
              "<html>\n",
              "<head><meta charset=\"utf-8\" /></head>\n",
              "<body>\n",
              "    <div>\n",
              "            <script src=\"https://cdnjs.cloudflare.com/ajax/libs/mathjax/2.7.5/MathJax.js?config=TeX-AMS-MML_SVG\"></script><script type=\"text/javascript\">if (window.MathJax) {MathJax.Hub.Config({SVG: {font: \"STIX-Web\"}});}</script>\n",
              "                <script type=\"text/javascript\">window.PlotlyConfig = {MathJaxConfig: 'local'};</script>\n",
              "        <script src=\"https://cdn.plot.ly/plotly-latest.min.js\"></script>    \n",
              "            <div id=\"f731b6c9-cdf6-4b9d-8450-50a8861af8f5\" class=\"plotly-graph-div\" style=\"height:525px; width:100%;\"></div>\n",
              "            <script type=\"text/javascript\">\n",
              "                \n",
              "                    window.PLOTLYENV=window.PLOTLYENV || {};\n",
              "                    \n",
              "                if (document.getElementById(\"f731b6c9-cdf6-4b9d-8450-50a8861af8f5\")) {\n",
              "                    Plotly.newPlot(\n",
              "                        'f731b6c9-cdf6-4b9d-8450-50a8861af8f5',\n",
              "                        [{\"alignmentgroup\": \"True\", \"bingroup\": \"x\", \"hoverlabel\": {\"namelength\": 0}, \"hovertemplate\": \"bmi=%{x}<br>count=%{y}\", \"legendgroup\": \"\", \"marker\": {\"color\": \"red\"}, \"name\": \"\", \"offsetgroup\": \"\", \"orientation\": \"v\", \"showlegend\": false, \"type\": \"histogram\", \"x\": [27.9, 33.77, 33.0, 22.705, 28.88, 25.74, 33.44, 27.74, 29.83, 25.84, 26.22, 26.29, 34.4, 39.82, 42.13, 24.6, 30.78, 23.845, 40.3, 35.3, 36.005, 32.4, 34.1, 31.92, 28.025, 27.72, 23.085, 32.775, 17.385, 36.3, 35.6, 26.315, 28.6, 28.31, 36.4, 20.425, 32.965, 20.8, 36.67, 39.9, 26.6, 36.63, 21.78, 30.8, 37.05, 37.3, 38.665, 34.77, 24.53, 35.2, 35.625, 33.63, 28.0, 34.43, 28.69, 36.955, 31.825, 31.68, 22.88, 37.335, 27.36, 33.66, 24.7, 25.935, 22.42, 28.9, 39.1, 26.315, 36.19, 23.98, 24.75, 28.5, 28.1, 32.01, 27.4, 34.01, 29.59, 35.53, 39.805, 32.965, 26.885, 38.285, 37.62, 41.23, 34.8, 22.895, 31.16, 27.2, 27.74, 26.98, 39.49, 24.795, 29.83, 34.77, 31.3, 37.62, 30.8, 38.28, 19.95, 19.3, 31.6, 25.46, 30.115, 29.92, 27.5, 28.025, 28.4, 30.875, 27.94, 35.09, 33.63, 29.7, 30.8, 35.72, 32.205, 28.595, 49.06, 27.94, 27.17, 23.37, 37.1, 23.75, 28.975, 31.35, 33.915, 28.785, 28.3, 37.4, 17.765, 34.7, 26.505, 22.04, 35.9, 25.555, 28.785, 28.05, 34.1, 25.175, 31.9, 36.0, 22.42, 32.49, 25.3, 29.735, 28.69, 38.83, 30.495, 37.73, 37.43, 28.4, 24.13, 29.7, 37.145, 23.37, 25.46, 39.52, 24.42, 25.175, 35.53, 27.83, 26.6, 36.85, 39.6, 29.8, 29.64, 28.215, 37.0, 33.155, 31.825, 18.905, 41.47, 30.3, 15.96, 34.8, 33.345, 37.7, 27.835, 29.2, 28.9, 33.155, 28.595, 38.28, 19.95, 26.41, 30.69, 41.895, 29.92, 30.9, 32.2, 32.11, 31.57, 26.2, 25.74, 26.6, 34.43, 30.59, 32.8, 28.6, 18.05, 39.33, 32.11, 32.23, 24.035, 36.08, 22.3, 28.88, 26.4, 27.74, 31.8, 41.23, 33.0, 30.875, 28.5, 26.73, 30.9, 37.1, 26.6, 23.1, 29.92, 23.21, 33.7, 33.25, 30.8, 34.8, 24.64, 33.88, 38.06, 41.91, 31.635, 25.46, 36.195, 27.83, 17.8, 27.5, 24.51, 22.22, 26.73, 38.39, 29.07, 38.06, 36.67, 22.135, 26.8, 35.3, 27.74, 30.02, 38.06, 35.86, 20.9, 28.975, 17.29, 32.2, 34.21, 30.3, 31.825, 25.365, 33.63, 40.15, 24.415, 31.92, 25.2, 26.84, 24.32, 36.955, 38.06, 42.35, 19.8, 32.395, 30.2, 25.84, 29.37, 34.2, 37.05, 27.455, 27.55, 26.6, 20.615, 24.3, 31.79, 21.56, 28.12, 40.565, 27.645, 32.395, 31.2, 26.62, 48.07, 26.22, 36.765, 26.4, 33.4, 29.64, 45.54, 28.82, 26.8, 22.99, 27.7, 25.41, 34.39, 28.88, 27.55, 22.61, 37.51, 33.0, 38.0, 33.345, 27.5, 33.33, 34.865, 33.06, 26.6, 24.7, 35.97, 35.86, 31.4, 33.25, 32.205, 32.775, 27.645, 37.335, 25.27, 29.64, 30.8, 40.945, 27.2, 34.105, 23.21, 36.48, 33.8, 36.7, 36.385, 27.36, 31.16, 28.785, 35.72, 34.5, 25.74, 27.55, 32.3, 27.72, 27.6, 30.02, 27.55, 36.765, 41.47, 29.26, 35.75, 33.345, 29.92, 27.835, 23.18, 25.6, 27.7, 35.245, 38.28, 27.6, 43.89, 29.83, 41.91, 20.79, 32.3, 30.5, 21.7, 26.4, 21.89, 30.78, 32.3, 24.985, 32.015, 30.4, 21.09, 22.23, 33.155, 32.9, 33.33, 28.31, 24.89, 40.15, 30.115, 31.46, 17.955, 30.685, 33.0, 43.34, 22.135, 34.4, 39.05, 25.365, 22.61, 30.21, 35.625, 37.43, 31.445, 31.35, 32.3, 19.855, 34.4, 31.02, 25.6, 38.17, 20.6, 47.52, 32.965, 32.3, 20.4, 38.38, 24.31, 23.6, 21.12, 30.03, 17.48, 20.235, 17.195, 23.9, 35.15, 35.64, 34.1, 22.6, 39.16, 26.98, 33.88, 35.86, 32.775, 30.59, 30.2, 24.31, 27.265, 29.165, 16.815, 30.4, 33.1, 20.235, 26.9, 30.5, 28.595, 33.11, 31.73, 28.9, 46.75, 29.45, 32.68, 33.5, 43.01, 36.52, 26.695, 33.1, 29.64, 25.65, 29.6, 38.6, 29.6, 24.13, 23.4, 29.735, 46.53, 37.4, 30.14, 30.495, 39.6, 33.0, 36.63, 30.0, 38.095, 25.935, 25.175, 28.38, 28.7, 33.82, 24.32, 24.09, 32.67, 30.115, 29.8, 33.345, 25.1, 28.31, 28.5, 35.625, 36.85, 32.56, 41.325, 37.51, 31.35, 39.5, 34.3, 31.065, 21.47, 28.7, 38.06, 31.16, 32.9, 25.08, 25.08, 43.4, 25.7, 27.93, 23.6, 28.7, 23.98, 39.2, 34.4, 26.03, 23.21, 30.25, 28.93, 30.875, 31.35, 23.75, 25.27, 28.7, 32.11, 33.66, 22.42, 30.4, 28.3, 35.7, 35.31, 30.495, 31.0, 30.875, 27.36, 44.22, 33.915, 37.73, 26.07, 33.88, 30.59, 25.8, 39.425, 25.46, 42.13, 31.73, 29.7, 36.19, 40.48, 28.025, 38.9, 30.2, 28.05, 31.35, 38.0, 31.79, 36.3, 47.41, 30.21, 25.84, 35.435, 46.7, 28.595, 46.2, 30.8, 28.93, 21.4, 31.73, 41.325, 23.8, 33.44, 34.21, 34.105, 35.53, 19.95, 32.68, 30.5, 44.77, 32.12, 30.495, 40.565, 30.59, 31.9, 40.565, 29.1, 37.29, 43.12, 36.86, 34.295, 27.17, 26.84, 38.095, 30.2, 23.465, 25.46, 30.59, 45.43, 23.65, 20.7, 28.27, 20.235, 30.21, 35.91, 30.69, 29.0, 19.57, 31.13, 21.85, 40.26, 33.725, 29.48, 33.25, 32.6, 37.525, 39.16, 31.635, 25.3, 39.05, 28.31, 34.1, 25.175, 23.655, 26.98, 37.8, 29.37, 34.8, 33.155, 19.0, 33.0, 36.63, 28.595, 25.6, 33.11, 37.1, 31.4, 34.1, 21.3, 33.535, 28.785, 26.03, 28.88, 42.46, 38.0, 38.95, 36.1, 29.3, 35.53, 22.705, 39.7, 38.19, 24.51, 38.095, 26.41, 33.66, 42.4, 28.31, 33.915, 34.96, 35.31, 30.78, 26.22, 23.37, 28.5, 32.965, 42.68, 39.6, 31.13, 36.3, 35.2, 25.3, 42.4, 33.155, 35.91, 28.785, 46.53, 23.98, 31.54, 33.66, 22.99, 38.06, 28.7, 32.775, 32.015, 29.81, 31.57, 31.16, 29.7, 31.02, 43.89, 21.375, 40.81, 31.35, 36.1, 23.18, 17.4, 20.3, 35.3, 24.32, 18.5, 26.41, 26.125, 41.69, 24.1, 31.13, 27.36, 36.2, 32.395, 23.655, 34.8, 40.185, 32.3, 35.75, 33.725, 39.27, 34.87, 44.745, 41.47, 26.41, 29.545, 32.9, 38.06, 28.69, 30.495, 27.74, 35.2, 23.54, 30.685, 40.47, 22.6, 28.9, 22.61, 24.32, 36.67, 33.44, 40.66, 36.6, 37.4, 35.4, 27.075, 39.05, 28.405, 21.755, 40.28, 36.08, 24.42, 21.4, 30.1, 27.265, 32.1, 34.77, 38.39, 23.7, 31.73, 35.5, 24.035, 29.15, 34.105, 26.62, 26.41, 30.115, 27.0, 21.755, 36.0, 30.875, 26.4, 28.975, 37.905, 22.77, 33.63, 27.645, 22.8, 27.83, 37.43, 38.17, 34.58, 35.2, 27.1, 26.03, 25.175, 31.825, 32.3, 29.0, 39.7, 19.475, 36.1, 26.7, 36.48, 28.88, 34.2, 33.33, 32.3, 39.805, 34.32, 28.88, 24.4, 41.14, 35.97, 27.6, 29.26, 27.7, 36.955, 36.86, 22.515, 29.92, 41.8, 27.6, 23.18, 20.9, 31.92, 28.5, 44.22, 22.895, 33.1, 24.795, 26.18, 35.97, 22.3, 42.24, 26.51, 35.815, 41.42, 36.575, 30.14, 25.84, 30.8, 42.94, 21.01, 22.515, 34.43, 31.46, 24.225, 37.1, 26.125, 35.53, 33.7, 17.67, 31.13, 29.81, 24.32, 31.825, 31.79, 28.025, 30.78, 21.85, 33.1, 25.84, 23.845, 34.39, 33.82, 35.97, 31.5, 28.31, 23.465, 31.35, 31.1, 24.7, 32.78, 29.81, 30.495, 32.45, 34.2, 50.38, 24.1, 32.775, 30.78, 32.3, 35.53, 23.75, 23.845, 29.6, 33.11, 24.13, 32.23, 28.1, 47.6, 28.0, 33.535, 19.855, 25.4, 29.9, 37.29, 43.7, 23.655, 24.3, 36.2, 29.48, 24.86, 30.1, 21.85, 28.12, 27.1, 33.44, 28.8, 29.5, 34.8, 27.36, 22.135, 37.05, 26.695, 28.93, 28.975, 30.02, 39.5, 33.63, 26.885, 29.04, 24.035, 38.94, 32.11, 44.0, 20.045, 25.555, 40.26, 22.515, 22.515, 40.92, 27.265, 36.85, 35.1, 29.355, 32.585, 32.34, 39.8, 24.6, 28.31, 31.73, 26.695, 27.5, 24.605, 33.99, 26.885, 22.895, 28.2, 34.21, 25.0, 33.2, 31.0, 35.815, 23.2, 32.11, 23.4, 20.1, 39.16, 34.21, 46.53, 32.5, 25.8, 35.3, 37.18, 27.5, 29.735, 24.225, 26.18, 29.48, 23.21, 46.09, 40.185, 22.61, 39.93, 35.8, 35.8, 34.2, 31.255, 29.7, 18.335, 42.9, 28.405, 30.2, 27.835, 39.49, 30.8, 26.79, 34.96, 36.67, 39.615, 25.9, 35.2, 24.795, 36.765, 27.1, 24.795, 25.365, 25.745, 34.32, 28.16, 23.56, 20.235, 40.5, 35.42, 22.895, 40.15, 29.15, 39.995, 29.92, 25.46, 21.375, 25.9, 30.59, 30.115, 25.8, 30.115, 27.645, 34.675, 20.52, 19.8, 27.835, 31.6, 28.27, 20.045, 23.275, 34.1, 36.85, 36.29, 26.885, 22.99, 32.7, 25.8, 29.6, 19.19, 31.73, 29.26, 28.215, 24.985, 27.74, 22.8, 20.13, 33.33, 32.3, 27.6, 25.46, 24.605, 34.2, 35.815, 32.68, 37.0, 31.02, 36.08, 23.32, 45.32, 34.6, 26.03, 18.715, 31.6, 17.29, 23.655, 35.2, 27.93, 21.565, 38.38, 23.0, 37.07, 30.495, 28.88, 27.265, 28.025, 23.085, 30.685, 25.8, 35.245, 24.7, 25.08, 52.58, 22.515, 30.9, 36.955, 26.41, 29.83, 29.8, 21.47, 27.645, 28.9, 31.79, 39.49, 33.82, 32.01, 27.94, 41.14, 28.595, 25.6, 25.3, 37.29, 42.655, 21.66, 31.9, 37.07, 31.445, 31.255, 28.88, 18.335, 29.59, 32.0, 26.03, 31.68, 33.66, 21.78, 27.835, 19.95, 31.5, 30.495, 18.3, 28.975, 31.54, 47.74, 22.1, 36.19, 29.83, 32.7, 30.4, 33.7, 31.35, 34.96, 33.77, 30.875, 33.99, 19.095, 28.6, 38.94, 36.08, 29.8, 31.24, 29.925, 26.22, 30.0, 20.35, 32.3, 38.39, 25.85, 26.315, 24.51, 32.67, 29.64, 33.33, 35.75, 19.95, 31.4, 38.17, 36.86, 32.395, 42.75, 25.08, 29.9, 35.86, 32.8, 18.6, 23.87, 45.9, 40.28, 18.335, 33.82, 28.12, 25.0, 22.23, 30.25, 32.49, 37.07, 32.6, 24.86, 32.34, 32.3, 32.775, 32.8, 31.92, 21.5, 34.1, 30.305, 36.48, 32.56, 35.815, 27.93, 22.135, 44.88, 23.18, 30.59, 41.1, 34.58, 42.13, 38.83, 28.215, 28.31, 26.125, 40.37, 24.6, 35.2, 34.105, 27.36, 26.7, 41.91, 29.26, 32.11, 27.1, 24.13, 27.4, 34.865, 29.81, 41.325, 29.925, 30.3, 27.36, 28.49, 23.56, 35.625, 32.68, 25.27, 28.0, 32.775, 21.755, 32.395, 36.575, 21.755, 27.93, 30.02, 33.55, 29.355, 25.8, 24.32, 40.375, 32.11, 32.3, 27.28, 17.86, 34.8, 33.4, 25.555, 37.1, 30.875, 34.1, 21.47, 33.3, 31.255, 39.14, 25.08, 37.29, 34.6, 30.21, 21.945, 24.97, 25.3, 24.42, 23.94, 39.82, 16.815, 37.18, 34.43, 30.305, 34.485, 21.8, 24.605, 23.3, 27.83, 31.065, 21.66, 28.215, 22.705, 42.13, 41.8, 36.96, 21.28, 33.11, 33.33, 24.3, 25.7, 29.4, 39.82, 33.63, 29.83, 19.8, 27.3, 29.3, 27.72, 37.9, 36.385, 27.645, 37.715, 23.18, 20.52, 37.1, 28.05, 29.9, 33.345, 23.76, 30.5, 31.065, 33.3, 27.5, 33.915, 34.485, 25.52, 27.61, 27.06, 23.7, 30.4, 29.735, 29.925, 26.79, 33.33, 27.645, 21.66, 30.03, 36.3, 24.32, 17.29, 25.9, 39.4, 34.32, 19.95, 34.9, 23.21, 25.745, 25.175, 22.0, 26.125, 26.51, 27.455, 25.745, 30.36, 30.875, 20.8, 27.8, 24.605, 27.72, 21.85, 28.12, 30.2, 32.2, 26.315, 26.695, 42.9, 34.7, 23.655, 28.31, 20.6, 53.13, 39.71, 26.315, 31.065, 26.695, 38.83, 40.37, 25.935, 33.535, 32.87, 30.03, 24.225, 38.6, 25.74, 33.4, 44.7, 30.97, 31.92, 36.85, 25.8, 29.07], \"xaxis\": \"x\", \"yaxis\": \"y\"}, {\"alignmentgroup\": \"True\", \"hoverlabel\": {\"namelength\": 0}, \"hovertemplate\": \"bmi=%{x}\", \"legendgroup\": \"\", \"marker\": {\"color\": \"red\"}, \"name\": \"\", \"notched\": true, \"offsetgroup\": \"\", \"showlegend\": false, \"type\": \"box\", \"x\": [27.9, 33.77, 33.0, 22.705, 28.88, 25.74, 33.44, 27.74, 29.83, 25.84, 26.22, 26.29, 34.4, 39.82, 42.13, 24.6, 30.78, 23.845, 40.3, 35.3, 36.005, 32.4, 34.1, 31.92, 28.025, 27.72, 23.085, 32.775, 17.385, 36.3, 35.6, 26.315, 28.6, 28.31, 36.4, 20.425, 32.965, 20.8, 36.67, 39.9, 26.6, 36.63, 21.78, 30.8, 37.05, 37.3, 38.665, 34.77, 24.53, 35.2, 35.625, 33.63, 28.0, 34.43, 28.69, 36.955, 31.825, 31.68, 22.88, 37.335, 27.36, 33.66, 24.7, 25.935, 22.42, 28.9, 39.1, 26.315, 36.19, 23.98, 24.75, 28.5, 28.1, 32.01, 27.4, 34.01, 29.59, 35.53, 39.805, 32.965, 26.885, 38.285, 37.62, 41.23, 34.8, 22.895, 31.16, 27.2, 27.74, 26.98, 39.49, 24.795, 29.83, 34.77, 31.3, 37.62, 30.8, 38.28, 19.95, 19.3, 31.6, 25.46, 30.115, 29.92, 27.5, 28.025, 28.4, 30.875, 27.94, 35.09, 33.63, 29.7, 30.8, 35.72, 32.205, 28.595, 49.06, 27.94, 27.17, 23.37, 37.1, 23.75, 28.975, 31.35, 33.915, 28.785, 28.3, 37.4, 17.765, 34.7, 26.505, 22.04, 35.9, 25.555, 28.785, 28.05, 34.1, 25.175, 31.9, 36.0, 22.42, 32.49, 25.3, 29.735, 28.69, 38.83, 30.495, 37.73, 37.43, 28.4, 24.13, 29.7, 37.145, 23.37, 25.46, 39.52, 24.42, 25.175, 35.53, 27.83, 26.6, 36.85, 39.6, 29.8, 29.64, 28.215, 37.0, 33.155, 31.825, 18.905, 41.47, 30.3, 15.96, 34.8, 33.345, 37.7, 27.835, 29.2, 28.9, 33.155, 28.595, 38.28, 19.95, 26.41, 30.69, 41.895, 29.92, 30.9, 32.2, 32.11, 31.57, 26.2, 25.74, 26.6, 34.43, 30.59, 32.8, 28.6, 18.05, 39.33, 32.11, 32.23, 24.035, 36.08, 22.3, 28.88, 26.4, 27.74, 31.8, 41.23, 33.0, 30.875, 28.5, 26.73, 30.9, 37.1, 26.6, 23.1, 29.92, 23.21, 33.7, 33.25, 30.8, 34.8, 24.64, 33.88, 38.06, 41.91, 31.635, 25.46, 36.195, 27.83, 17.8, 27.5, 24.51, 22.22, 26.73, 38.39, 29.07, 38.06, 36.67, 22.135, 26.8, 35.3, 27.74, 30.02, 38.06, 35.86, 20.9, 28.975, 17.29, 32.2, 34.21, 30.3, 31.825, 25.365, 33.63, 40.15, 24.415, 31.92, 25.2, 26.84, 24.32, 36.955, 38.06, 42.35, 19.8, 32.395, 30.2, 25.84, 29.37, 34.2, 37.05, 27.455, 27.55, 26.6, 20.615, 24.3, 31.79, 21.56, 28.12, 40.565, 27.645, 32.395, 31.2, 26.62, 48.07, 26.22, 36.765, 26.4, 33.4, 29.64, 45.54, 28.82, 26.8, 22.99, 27.7, 25.41, 34.39, 28.88, 27.55, 22.61, 37.51, 33.0, 38.0, 33.345, 27.5, 33.33, 34.865, 33.06, 26.6, 24.7, 35.97, 35.86, 31.4, 33.25, 32.205, 32.775, 27.645, 37.335, 25.27, 29.64, 30.8, 40.945, 27.2, 34.105, 23.21, 36.48, 33.8, 36.7, 36.385, 27.36, 31.16, 28.785, 35.72, 34.5, 25.74, 27.55, 32.3, 27.72, 27.6, 30.02, 27.55, 36.765, 41.47, 29.26, 35.75, 33.345, 29.92, 27.835, 23.18, 25.6, 27.7, 35.245, 38.28, 27.6, 43.89, 29.83, 41.91, 20.79, 32.3, 30.5, 21.7, 26.4, 21.89, 30.78, 32.3, 24.985, 32.015, 30.4, 21.09, 22.23, 33.155, 32.9, 33.33, 28.31, 24.89, 40.15, 30.115, 31.46, 17.955, 30.685, 33.0, 43.34, 22.135, 34.4, 39.05, 25.365, 22.61, 30.21, 35.625, 37.43, 31.445, 31.35, 32.3, 19.855, 34.4, 31.02, 25.6, 38.17, 20.6, 47.52, 32.965, 32.3, 20.4, 38.38, 24.31, 23.6, 21.12, 30.03, 17.48, 20.235, 17.195, 23.9, 35.15, 35.64, 34.1, 22.6, 39.16, 26.98, 33.88, 35.86, 32.775, 30.59, 30.2, 24.31, 27.265, 29.165, 16.815, 30.4, 33.1, 20.235, 26.9, 30.5, 28.595, 33.11, 31.73, 28.9, 46.75, 29.45, 32.68, 33.5, 43.01, 36.52, 26.695, 33.1, 29.64, 25.65, 29.6, 38.6, 29.6, 24.13, 23.4, 29.735, 46.53, 37.4, 30.14, 30.495, 39.6, 33.0, 36.63, 30.0, 38.095, 25.935, 25.175, 28.38, 28.7, 33.82, 24.32, 24.09, 32.67, 30.115, 29.8, 33.345, 25.1, 28.31, 28.5, 35.625, 36.85, 32.56, 41.325, 37.51, 31.35, 39.5, 34.3, 31.065, 21.47, 28.7, 38.06, 31.16, 32.9, 25.08, 25.08, 43.4, 25.7, 27.93, 23.6, 28.7, 23.98, 39.2, 34.4, 26.03, 23.21, 30.25, 28.93, 30.875, 31.35, 23.75, 25.27, 28.7, 32.11, 33.66, 22.42, 30.4, 28.3, 35.7, 35.31, 30.495, 31.0, 30.875, 27.36, 44.22, 33.915, 37.73, 26.07, 33.88, 30.59, 25.8, 39.425, 25.46, 42.13, 31.73, 29.7, 36.19, 40.48, 28.025, 38.9, 30.2, 28.05, 31.35, 38.0, 31.79, 36.3, 47.41, 30.21, 25.84, 35.435, 46.7, 28.595, 46.2, 30.8, 28.93, 21.4, 31.73, 41.325, 23.8, 33.44, 34.21, 34.105, 35.53, 19.95, 32.68, 30.5, 44.77, 32.12, 30.495, 40.565, 30.59, 31.9, 40.565, 29.1, 37.29, 43.12, 36.86, 34.295, 27.17, 26.84, 38.095, 30.2, 23.465, 25.46, 30.59, 45.43, 23.65, 20.7, 28.27, 20.235, 30.21, 35.91, 30.69, 29.0, 19.57, 31.13, 21.85, 40.26, 33.725, 29.48, 33.25, 32.6, 37.525, 39.16, 31.635, 25.3, 39.05, 28.31, 34.1, 25.175, 23.655, 26.98, 37.8, 29.37, 34.8, 33.155, 19.0, 33.0, 36.63, 28.595, 25.6, 33.11, 37.1, 31.4, 34.1, 21.3, 33.535, 28.785, 26.03, 28.88, 42.46, 38.0, 38.95, 36.1, 29.3, 35.53, 22.705, 39.7, 38.19, 24.51, 38.095, 26.41, 33.66, 42.4, 28.31, 33.915, 34.96, 35.31, 30.78, 26.22, 23.37, 28.5, 32.965, 42.68, 39.6, 31.13, 36.3, 35.2, 25.3, 42.4, 33.155, 35.91, 28.785, 46.53, 23.98, 31.54, 33.66, 22.99, 38.06, 28.7, 32.775, 32.015, 29.81, 31.57, 31.16, 29.7, 31.02, 43.89, 21.375, 40.81, 31.35, 36.1, 23.18, 17.4, 20.3, 35.3, 24.32, 18.5, 26.41, 26.125, 41.69, 24.1, 31.13, 27.36, 36.2, 32.395, 23.655, 34.8, 40.185, 32.3, 35.75, 33.725, 39.27, 34.87, 44.745, 41.47, 26.41, 29.545, 32.9, 38.06, 28.69, 30.495, 27.74, 35.2, 23.54, 30.685, 40.47, 22.6, 28.9, 22.61, 24.32, 36.67, 33.44, 40.66, 36.6, 37.4, 35.4, 27.075, 39.05, 28.405, 21.755, 40.28, 36.08, 24.42, 21.4, 30.1, 27.265, 32.1, 34.77, 38.39, 23.7, 31.73, 35.5, 24.035, 29.15, 34.105, 26.62, 26.41, 30.115, 27.0, 21.755, 36.0, 30.875, 26.4, 28.975, 37.905, 22.77, 33.63, 27.645, 22.8, 27.83, 37.43, 38.17, 34.58, 35.2, 27.1, 26.03, 25.175, 31.825, 32.3, 29.0, 39.7, 19.475, 36.1, 26.7, 36.48, 28.88, 34.2, 33.33, 32.3, 39.805, 34.32, 28.88, 24.4, 41.14, 35.97, 27.6, 29.26, 27.7, 36.955, 36.86, 22.515, 29.92, 41.8, 27.6, 23.18, 20.9, 31.92, 28.5, 44.22, 22.895, 33.1, 24.795, 26.18, 35.97, 22.3, 42.24, 26.51, 35.815, 41.42, 36.575, 30.14, 25.84, 30.8, 42.94, 21.01, 22.515, 34.43, 31.46, 24.225, 37.1, 26.125, 35.53, 33.7, 17.67, 31.13, 29.81, 24.32, 31.825, 31.79, 28.025, 30.78, 21.85, 33.1, 25.84, 23.845, 34.39, 33.82, 35.97, 31.5, 28.31, 23.465, 31.35, 31.1, 24.7, 32.78, 29.81, 30.495, 32.45, 34.2, 50.38, 24.1, 32.775, 30.78, 32.3, 35.53, 23.75, 23.845, 29.6, 33.11, 24.13, 32.23, 28.1, 47.6, 28.0, 33.535, 19.855, 25.4, 29.9, 37.29, 43.7, 23.655, 24.3, 36.2, 29.48, 24.86, 30.1, 21.85, 28.12, 27.1, 33.44, 28.8, 29.5, 34.8, 27.36, 22.135, 37.05, 26.695, 28.93, 28.975, 30.02, 39.5, 33.63, 26.885, 29.04, 24.035, 38.94, 32.11, 44.0, 20.045, 25.555, 40.26, 22.515, 22.515, 40.92, 27.265, 36.85, 35.1, 29.355, 32.585, 32.34, 39.8, 24.6, 28.31, 31.73, 26.695, 27.5, 24.605, 33.99, 26.885, 22.895, 28.2, 34.21, 25.0, 33.2, 31.0, 35.815, 23.2, 32.11, 23.4, 20.1, 39.16, 34.21, 46.53, 32.5, 25.8, 35.3, 37.18, 27.5, 29.735, 24.225, 26.18, 29.48, 23.21, 46.09, 40.185, 22.61, 39.93, 35.8, 35.8, 34.2, 31.255, 29.7, 18.335, 42.9, 28.405, 30.2, 27.835, 39.49, 30.8, 26.79, 34.96, 36.67, 39.615, 25.9, 35.2, 24.795, 36.765, 27.1, 24.795, 25.365, 25.745, 34.32, 28.16, 23.56, 20.235, 40.5, 35.42, 22.895, 40.15, 29.15, 39.995, 29.92, 25.46, 21.375, 25.9, 30.59, 30.115, 25.8, 30.115, 27.645, 34.675, 20.52, 19.8, 27.835, 31.6, 28.27, 20.045, 23.275, 34.1, 36.85, 36.29, 26.885, 22.99, 32.7, 25.8, 29.6, 19.19, 31.73, 29.26, 28.215, 24.985, 27.74, 22.8, 20.13, 33.33, 32.3, 27.6, 25.46, 24.605, 34.2, 35.815, 32.68, 37.0, 31.02, 36.08, 23.32, 45.32, 34.6, 26.03, 18.715, 31.6, 17.29, 23.655, 35.2, 27.93, 21.565, 38.38, 23.0, 37.07, 30.495, 28.88, 27.265, 28.025, 23.085, 30.685, 25.8, 35.245, 24.7, 25.08, 52.58, 22.515, 30.9, 36.955, 26.41, 29.83, 29.8, 21.47, 27.645, 28.9, 31.79, 39.49, 33.82, 32.01, 27.94, 41.14, 28.595, 25.6, 25.3, 37.29, 42.655, 21.66, 31.9, 37.07, 31.445, 31.255, 28.88, 18.335, 29.59, 32.0, 26.03, 31.68, 33.66, 21.78, 27.835, 19.95, 31.5, 30.495, 18.3, 28.975, 31.54, 47.74, 22.1, 36.19, 29.83, 32.7, 30.4, 33.7, 31.35, 34.96, 33.77, 30.875, 33.99, 19.095, 28.6, 38.94, 36.08, 29.8, 31.24, 29.925, 26.22, 30.0, 20.35, 32.3, 38.39, 25.85, 26.315, 24.51, 32.67, 29.64, 33.33, 35.75, 19.95, 31.4, 38.17, 36.86, 32.395, 42.75, 25.08, 29.9, 35.86, 32.8, 18.6, 23.87, 45.9, 40.28, 18.335, 33.82, 28.12, 25.0, 22.23, 30.25, 32.49, 37.07, 32.6, 24.86, 32.34, 32.3, 32.775, 32.8, 31.92, 21.5, 34.1, 30.305, 36.48, 32.56, 35.815, 27.93, 22.135, 44.88, 23.18, 30.59, 41.1, 34.58, 42.13, 38.83, 28.215, 28.31, 26.125, 40.37, 24.6, 35.2, 34.105, 27.36, 26.7, 41.91, 29.26, 32.11, 27.1, 24.13, 27.4, 34.865, 29.81, 41.325, 29.925, 30.3, 27.36, 28.49, 23.56, 35.625, 32.68, 25.27, 28.0, 32.775, 21.755, 32.395, 36.575, 21.755, 27.93, 30.02, 33.55, 29.355, 25.8, 24.32, 40.375, 32.11, 32.3, 27.28, 17.86, 34.8, 33.4, 25.555, 37.1, 30.875, 34.1, 21.47, 33.3, 31.255, 39.14, 25.08, 37.29, 34.6, 30.21, 21.945, 24.97, 25.3, 24.42, 23.94, 39.82, 16.815, 37.18, 34.43, 30.305, 34.485, 21.8, 24.605, 23.3, 27.83, 31.065, 21.66, 28.215, 22.705, 42.13, 41.8, 36.96, 21.28, 33.11, 33.33, 24.3, 25.7, 29.4, 39.82, 33.63, 29.83, 19.8, 27.3, 29.3, 27.72, 37.9, 36.385, 27.645, 37.715, 23.18, 20.52, 37.1, 28.05, 29.9, 33.345, 23.76, 30.5, 31.065, 33.3, 27.5, 33.915, 34.485, 25.52, 27.61, 27.06, 23.7, 30.4, 29.735, 29.925, 26.79, 33.33, 27.645, 21.66, 30.03, 36.3, 24.32, 17.29, 25.9, 39.4, 34.32, 19.95, 34.9, 23.21, 25.745, 25.175, 22.0, 26.125, 26.51, 27.455, 25.745, 30.36, 30.875, 20.8, 27.8, 24.605, 27.72, 21.85, 28.12, 30.2, 32.2, 26.315, 26.695, 42.9, 34.7, 23.655, 28.31, 20.6, 53.13, 39.71, 26.315, 31.065, 26.695, 38.83, 40.37, 25.935, 33.535, 32.87, 30.03, 24.225, 38.6, 25.74, 33.4, 44.7, 30.97, 31.92, 36.85, 25.8, 29.07], \"xaxis\": \"x2\", \"yaxis\": \"y2\"}],\n",
              "                        {\"bargap\": 0.1, \"barmode\": \"relative\", \"legend\": {\"tracegroupgap\": 0}, \"template\": {\"data\": {\"bar\": [{\"error_x\": {\"color\": \"#2a3f5f\"}, \"error_y\": {\"color\": \"#2a3f5f\"}, \"marker\": {\"line\": {\"color\": \"#E5ECF6\", \"width\": 0.5}}, \"type\": \"bar\"}], \"barpolar\": [{\"marker\": {\"line\": {\"color\": \"#E5ECF6\", \"width\": 0.5}}, \"type\": \"barpolar\"}], \"carpet\": [{\"aaxis\": {\"endlinecolor\": \"#2a3f5f\", \"gridcolor\": \"white\", \"linecolor\": \"white\", \"minorgridcolor\": \"white\", \"startlinecolor\": \"#2a3f5f\"}, \"baxis\": {\"endlinecolor\": \"#2a3f5f\", \"gridcolor\": \"white\", \"linecolor\": \"white\", \"minorgridcolor\": \"white\", \"startlinecolor\": \"#2a3f5f\"}, \"type\": \"carpet\"}], \"choropleth\": [{\"colorbar\": {\"outlinewidth\": 0, \"ticks\": \"\"}, \"type\": \"choropleth\"}], \"contour\": [{\"colorbar\": {\"outlinewidth\": 0, \"ticks\": \"\"}, \"colorscale\": [[0.0, \"#0d0887\"], [0.1111111111111111, \"#46039f\"], [0.2222222222222222, \"#7201a8\"], [0.3333333333333333, \"#9c179e\"], [0.4444444444444444, \"#bd3786\"], [0.5555555555555556, \"#d8576b\"], [0.6666666666666666, \"#ed7953\"], [0.7777777777777778, \"#fb9f3a\"], [0.8888888888888888, \"#fdca26\"], [1.0, \"#f0f921\"]], \"type\": \"contour\"}], \"contourcarpet\": [{\"colorbar\": {\"outlinewidth\": 0, \"ticks\": \"\"}, \"type\": \"contourcarpet\"}], \"heatmap\": [{\"colorbar\": {\"outlinewidth\": 0, \"ticks\": \"\"}, \"colorscale\": [[0.0, \"#0d0887\"], [0.1111111111111111, \"#46039f\"], [0.2222222222222222, \"#7201a8\"], [0.3333333333333333, \"#9c179e\"], [0.4444444444444444, \"#bd3786\"], [0.5555555555555556, \"#d8576b\"], [0.6666666666666666, \"#ed7953\"], [0.7777777777777778, \"#fb9f3a\"], [0.8888888888888888, \"#fdca26\"], [1.0, \"#f0f921\"]], \"type\": \"heatmap\"}], \"heatmapgl\": [{\"colorbar\": {\"outlinewidth\": 0, \"ticks\": \"\"}, \"colorscale\": [[0.0, \"#0d0887\"], [0.1111111111111111, \"#46039f\"], [0.2222222222222222, \"#7201a8\"], [0.3333333333333333, \"#9c179e\"], [0.4444444444444444, \"#bd3786\"], [0.5555555555555556, \"#d8576b\"], [0.6666666666666666, \"#ed7953\"], [0.7777777777777778, \"#fb9f3a\"], [0.8888888888888888, \"#fdca26\"], [1.0, \"#f0f921\"]], \"type\": \"heatmapgl\"}], \"histogram\": [{\"marker\": {\"colorbar\": {\"outlinewidth\": 0, \"ticks\": \"\"}}, \"type\": \"histogram\"}], \"histogram2d\": [{\"colorbar\": {\"outlinewidth\": 0, \"ticks\": \"\"}, \"colorscale\": [[0.0, \"#0d0887\"], [0.1111111111111111, \"#46039f\"], [0.2222222222222222, \"#7201a8\"], [0.3333333333333333, \"#9c179e\"], [0.4444444444444444, \"#bd3786\"], [0.5555555555555556, \"#d8576b\"], [0.6666666666666666, \"#ed7953\"], [0.7777777777777778, \"#fb9f3a\"], [0.8888888888888888, \"#fdca26\"], [1.0, \"#f0f921\"]], \"type\": \"histogram2d\"}], \"histogram2dcontour\": [{\"colorbar\": {\"outlinewidth\": 0, \"ticks\": \"\"}, \"colorscale\": [[0.0, \"#0d0887\"], [0.1111111111111111, \"#46039f\"], [0.2222222222222222, \"#7201a8\"], [0.3333333333333333, \"#9c179e\"], [0.4444444444444444, \"#bd3786\"], [0.5555555555555556, \"#d8576b\"], [0.6666666666666666, \"#ed7953\"], [0.7777777777777778, \"#fb9f3a\"], [0.8888888888888888, \"#fdca26\"], [1.0, \"#f0f921\"]], \"type\": \"histogram2dcontour\"}], \"mesh3d\": [{\"colorbar\": {\"outlinewidth\": 0, \"ticks\": \"\"}, \"type\": \"mesh3d\"}], \"parcoords\": [{\"line\": {\"colorbar\": {\"outlinewidth\": 0, \"ticks\": \"\"}}, \"type\": \"parcoords\"}], \"pie\": [{\"automargin\": true, \"type\": \"pie\"}], \"scatter\": [{\"marker\": {\"colorbar\": {\"outlinewidth\": 0, \"ticks\": \"\"}}, \"type\": \"scatter\"}], \"scatter3d\": [{\"line\": {\"colorbar\": {\"outlinewidth\": 0, \"ticks\": \"\"}}, \"marker\": {\"colorbar\": {\"outlinewidth\": 0, \"ticks\": \"\"}}, \"type\": \"scatter3d\"}], \"scattercarpet\": [{\"marker\": {\"colorbar\": {\"outlinewidth\": 0, \"ticks\": \"\"}}, \"type\": \"scattercarpet\"}], \"scattergeo\": [{\"marker\": {\"colorbar\": {\"outlinewidth\": 0, \"ticks\": \"\"}}, \"type\": \"scattergeo\"}], \"scattergl\": [{\"marker\": {\"colorbar\": {\"outlinewidth\": 0, \"ticks\": \"\"}}, \"type\": \"scattergl\"}], \"scattermapbox\": [{\"marker\": {\"colorbar\": {\"outlinewidth\": 0, \"ticks\": \"\"}}, \"type\": \"scattermapbox\"}], \"scatterpolar\": [{\"marker\": {\"colorbar\": {\"outlinewidth\": 0, \"ticks\": \"\"}}, \"type\": \"scatterpolar\"}], \"scatterpolargl\": [{\"marker\": {\"colorbar\": {\"outlinewidth\": 0, \"ticks\": \"\"}}, \"type\": \"scatterpolargl\"}], \"scatterternary\": [{\"marker\": {\"colorbar\": {\"outlinewidth\": 0, \"ticks\": \"\"}}, \"type\": \"scatterternary\"}], \"surface\": [{\"colorbar\": {\"outlinewidth\": 0, \"ticks\": \"\"}, \"colorscale\": [[0.0, \"#0d0887\"], [0.1111111111111111, \"#46039f\"], [0.2222222222222222, \"#7201a8\"], [0.3333333333333333, \"#9c179e\"], [0.4444444444444444, \"#bd3786\"], [0.5555555555555556, \"#d8576b\"], [0.6666666666666666, \"#ed7953\"], [0.7777777777777778, \"#fb9f3a\"], [0.8888888888888888, \"#fdca26\"], [1.0, \"#f0f921\"]], \"type\": \"surface\"}], \"table\": [{\"cells\": {\"fill\": {\"color\": \"#EBF0F8\"}, \"line\": {\"color\": \"white\"}}, \"header\": {\"fill\": {\"color\": \"#C8D4E3\"}, \"line\": {\"color\": \"white\"}}, \"type\": \"table\"}]}, \"layout\": {\"annotationdefaults\": {\"arrowcolor\": \"#2a3f5f\", \"arrowhead\": 0, \"arrowwidth\": 1}, \"coloraxis\": {\"colorbar\": {\"outlinewidth\": 0, \"ticks\": \"\"}}, \"colorscale\": {\"diverging\": [[0, \"#8e0152\"], [0.1, \"#c51b7d\"], [0.2, \"#de77ae\"], [0.3, \"#f1b6da\"], [0.4, \"#fde0ef\"], [0.5, \"#f7f7f7\"], [0.6, \"#e6f5d0\"], [0.7, \"#b8e186\"], [0.8, \"#7fbc41\"], [0.9, \"#4d9221\"], [1, \"#276419\"]], \"sequential\": [[0.0, \"#0d0887\"], [0.1111111111111111, \"#46039f\"], [0.2222222222222222, \"#7201a8\"], [0.3333333333333333, \"#9c179e\"], [0.4444444444444444, \"#bd3786\"], [0.5555555555555556, \"#d8576b\"], [0.6666666666666666, \"#ed7953\"], [0.7777777777777778, \"#fb9f3a\"], [0.8888888888888888, \"#fdca26\"], [1.0, \"#f0f921\"]], \"sequentialminus\": [[0.0, \"#0d0887\"], [0.1111111111111111, \"#46039f\"], [0.2222222222222222, \"#7201a8\"], [0.3333333333333333, \"#9c179e\"], [0.4444444444444444, \"#bd3786\"], [0.5555555555555556, \"#d8576b\"], [0.6666666666666666, \"#ed7953\"], [0.7777777777777778, \"#fb9f3a\"], [0.8888888888888888, \"#fdca26\"], [1.0, \"#f0f921\"]]}, \"colorway\": [\"#636efa\", \"#EF553B\", \"#00cc96\", \"#ab63fa\", \"#FFA15A\", \"#19d3f3\", \"#FF6692\", \"#B6E880\", \"#FF97FF\", \"#FECB52\"], \"font\": {\"color\": \"#2a3f5f\"}, \"geo\": {\"bgcolor\": \"white\", \"lakecolor\": \"white\", \"landcolor\": \"#E5ECF6\", \"showlakes\": true, \"showland\": true, \"subunitcolor\": \"white\"}, \"hoverlabel\": {\"align\": \"left\"}, \"hovermode\": \"closest\", \"mapbox\": {\"style\": \"light\"}, \"paper_bgcolor\": \"white\", \"plot_bgcolor\": \"#E5ECF6\", \"polar\": {\"angularaxis\": {\"gridcolor\": \"white\", \"linecolor\": \"white\", \"ticks\": \"\"}, \"bgcolor\": \"#E5ECF6\", \"radialaxis\": {\"gridcolor\": \"white\", \"linecolor\": \"white\", \"ticks\": \"\"}}, \"scene\": {\"xaxis\": {\"backgroundcolor\": \"#E5ECF6\", \"gridcolor\": \"white\", \"gridwidth\": 2, \"linecolor\": \"white\", \"showbackground\": true, \"ticks\": \"\", \"zerolinecolor\": \"white\"}, \"yaxis\": {\"backgroundcolor\": \"#E5ECF6\", \"gridcolor\": \"white\", \"gridwidth\": 2, \"linecolor\": \"white\", \"showbackground\": true, \"ticks\": \"\", \"zerolinecolor\": \"white\"}, \"zaxis\": {\"backgroundcolor\": \"#E5ECF6\", \"gridcolor\": \"white\", \"gridwidth\": 2, \"linecolor\": \"white\", \"showbackground\": true, \"ticks\": \"\", \"zerolinecolor\": \"white\"}}, \"shapedefaults\": {\"line\": {\"color\": \"#2a3f5f\"}}, \"ternary\": {\"aaxis\": {\"gridcolor\": \"white\", \"linecolor\": \"white\", \"ticks\": \"\"}, \"baxis\": {\"gridcolor\": \"white\", \"linecolor\": \"white\", \"ticks\": \"\"}, \"bgcolor\": \"#E5ECF6\", \"caxis\": {\"gridcolor\": \"white\", \"linecolor\": \"white\", \"ticks\": \"\"}}, \"title\": {\"x\": 0.05}, \"xaxis\": {\"automargin\": true, \"gridcolor\": \"white\", \"linecolor\": \"white\", \"ticks\": \"\", \"title\": {\"standoff\": 15}, \"zerolinecolor\": \"white\", \"zerolinewidth\": 2}, \"yaxis\": {\"automargin\": true, \"gridcolor\": \"white\", \"linecolor\": \"white\", \"ticks\": \"\", \"title\": {\"standoff\": 15}, \"zerolinecolor\": \"white\", \"zerolinewidth\": 2}}}, \"title\": {\"text\": \"Distribution of BMI (Body Mass Index)\"}, \"xaxis\": {\"anchor\": \"y\", \"domain\": [0.0, 1.0], \"title\": {\"text\": \"bmi\"}}, \"xaxis2\": {\"anchor\": \"y2\", \"domain\": [0.0, 1.0], \"matches\": \"x\", \"showgrid\": true, \"showticklabels\": false}, \"yaxis\": {\"anchor\": \"x\", \"domain\": [0.0, 0.8316], \"title\": {\"text\": \"count\"}}, \"yaxis2\": {\"anchor\": \"x2\", \"domain\": [0.8416, 1.0], \"matches\": \"y2\", \"showgrid\": false, \"showline\": false, \"showticklabels\": false, \"ticks\": \"\"}},\n",
              "                        {\"responsive\": true}\n",
              "                    ).then(function(){\n",
              "                            \n",
              "var gd = document.getElementById('f731b6c9-cdf6-4b9d-8450-50a8861af8f5');\n",
              "var x = new MutationObserver(function (mutations, observer) {{\n",
              "        var display = window.getComputedStyle(gd).display;\n",
              "        if (!display || display === 'none') {{\n",
              "            console.log([gd, 'removed!']);\n",
              "            Plotly.purge(gd);\n",
              "            observer.disconnect();\n",
              "        }}\n",
              "}});\n",
              "\n",
              "// Listen for the removal of the full notebook cells\n",
              "var notebookContainer = gd.closest('#notebook-container');\n",
              "if (notebookContainer) {{\n",
              "    x.observe(notebookContainer, {childList: true});\n",
              "}}\n",
              "\n",
              "// Listen for the clearing of the current output cell\n",
              "var outputEl = gd.closest('.output');\n",
              "if (outputEl) {{\n",
              "    x.observe(outputEl, {childList: true});\n",
              "}}\n",
              "\n",
              "                        })\n",
              "                };\n",
              "                \n",
              "            </script>\n",
              "        </div>\n",
              "</body>\n",
              "</html>"
            ]
          },
          "metadata": {
            "tags": []
          }
        }
      ]
    },
    {
      "cell_type": "code",
      "metadata": {
        "colab": {
          "base_uri": "https://localhost:8080/",
          "height": 542
        },
        "id": "Dr5vo7I9CFdZ",
        "outputId": "0c042ac5-c364-440d-debf-bd708bf083d8"
      },
      "source": [
        "fig = px.histogram( medical_df,\n",
        "    x = \"bmi\",\n",
        "    marginal='box',\n",
        "    color_discrete_sequence=['red'],\n",
        "    title='Distribution of BMI (Body Mass Index)')\n",
        "fig.update_layout(bargap=0.05)\n",
        "fig.show()"
      ],
      "execution_count": null,
      "outputs": [
        {
          "output_type": "display_data",
          "data": {
            "text/html": [
              "<html>\n",
              "<head><meta charset=\"utf-8\" /></head>\n",
              "<body>\n",
              "    <div>\n",
              "            <script src=\"https://cdnjs.cloudflare.com/ajax/libs/mathjax/2.7.5/MathJax.js?config=TeX-AMS-MML_SVG\"></script><script type=\"text/javascript\">if (window.MathJax) {MathJax.Hub.Config({SVG: {font: \"STIX-Web\"}});}</script>\n",
              "                <script type=\"text/javascript\">window.PlotlyConfig = {MathJaxConfig: 'local'};</script>\n",
              "        <script src=\"https://cdn.plot.ly/plotly-latest.min.js\"></script>    \n",
              "            <div id=\"a32ccfb0-5dd0-4301-a260-e73d5b391d19\" class=\"plotly-graph-div\" style=\"height:525px; width:100%;\"></div>\n",
              "            <script type=\"text/javascript\">\n",
              "                \n",
              "                    window.PLOTLYENV=window.PLOTLYENV || {};\n",
              "                    \n",
              "                if (document.getElementById(\"a32ccfb0-5dd0-4301-a260-e73d5b391d19\")) {\n",
              "                    Plotly.newPlot(\n",
              "                        'a32ccfb0-5dd0-4301-a260-e73d5b391d19',\n",
              "                        [{\"alignmentgroup\": \"True\", \"bingroup\": \"x\", \"hoverlabel\": {\"namelength\": 0}, \"hovertemplate\": \"bmi=%{x}<br>count=%{y}\", \"legendgroup\": \"\", \"marker\": {\"color\": \"red\"}, \"name\": \"\", \"offsetgroup\": \"\", \"orientation\": \"v\", \"showlegend\": false, \"type\": \"histogram\", \"x\": [27.9, 33.77, 33.0, 22.705, 28.88, 25.74, 33.44, 27.74, 29.83, 25.84, 26.22, 26.29, 34.4, 39.82, 42.13, 24.6, 30.78, 23.845, 40.3, 35.3, 36.005, 32.4, 34.1, 31.92, 28.025, 27.72, 23.085, 32.775, 17.385, 36.3, 35.6, 26.315, 28.6, 28.31, 36.4, 20.425, 32.965, 20.8, 36.67, 39.9, 26.6, 36.63, 21.78, 30.8, 37.05, 37.3, 38.665, 34.77, 24.53, 35.2, 35.625, 33.63, 28.0, 34.43, 28.69, 36.955, 31.825, 31.68, 22.88, 37.335, 27.36, 33.66, 24.7, 25.935, 22.42, 28.9, 39.1, 26.315, 36.19, 23.98, 24.75, 28.5, 28.1, 32.01, 27.4, 34.01, 29.59, 35.53, 39.805, 32.965, 26.885, 38.285, 37.62, 41.23, 34.8, 22.895, 31.16, 27.2, 27.74, 26.98, 39.49, 24.795, 29.83, 34.77, 31.3, 37.62, 30.8, 38.28, 19.95, 19.3, 31.6, 25.46, 30.115, 29.92, 27.5, 28.025, 28.4, 30.875, 27.94, 35.09, 33.63, 29.7, 30.8, 35.72, 32.205, 28.595, 49.06, 27.94, 27.17, 23.37, 37.1, 23.75, 28.975, 31.35, 33.915, 28.785, 28.3, 37.4, 17.765, 34.7, 26.505, 22.04, 35.9, 25.555, 28.785, 28.05, 34.1, 25.175, 31.9, 36.0, 22.42, 32.49, 25.3, 29.735, 28.69, 38.83, 30.495, 37.73, 37.43, 28.4, 24.13, 29.7, 37.145, 23.37, 25.46, 39.52, 24.42, 25.175, 35.53, 27.83, 26.6, 36.85, 39.6, 29.8, 29.64, 28.215, 37.0, 33.155, 31.825, 18.905, 41.47, 30.3, 15.96, 34.8, 33.345, 37.7, 27.835, 29.2, 28.9, 33.155, 28.595, 38.28, 19.95, 26.41, 30.69, 41.895, 29.92, 30.9, 32.2, 32.11, 31.57, 26.2, 25.74, 26.6, 34.43, 30.59, 32.8, 28.6, 18.05, 39.33, 32.11, 32.23, 24.035, 36.08, 22.3, 28.88, 26.4, 27.74, 31.8, 41.23, 33.0, 30.875, 28.5, 26.73, 30.9, 37.1, 26.6, 23.1, 29.92, 23.21, 33.7, 33.25, 30.8, 34.8, 24.64, 33.88, 38.06, 41.91, 31.635, 25.46, 36.195, 27.83, 17.8, 27.5, 24.51, 22.22, 26.73, 38.39, 29.07, 38.06, 36.67, 22.135, 26.8, 35.3, 27.74, 30.02, 38.06, 35.86, 20.9, 28.975, 17.29, 32.2, 34.21, 30.3, 31.825, 25.365, 33.63, 40.15, 24.415, 31.92, 25.2, 26.84, 24.32, 36.955, 38.06, 42.35, 19.8, 32.395, 30.2, 25.84, 29.37, 34.2, 37.05, 27.455, 27.55, 26.6, 20.615, 24.3, 31.79, 21.56, 28.12, 40.565, 27.645, 32.395, 31.2, 26.62, 48.07, 26.22, 36.765, 26.4, 33.4, 29.64, 45.54, 28.82, 26.8, 22.99, 27.7, 25.41, 34.39, 28.88, 27.55, 22.61, 37.51, 33.0, 38.0, 33.345, 27.5, 33.33, 34.865, 33.06, 26.6, 24.7, 35.97, 35.86, 31.4, 33.25, 32.205, 32.775, 27.645, 37.335, 25.27, 29.64, 30.8, 40.945, 27.2, 34.105, 23.21, 36.48, 33.8, 36.7, 36.385, 27.36, 31.16, 28.785, 35.72, 34.5, 25.74, 27.55, 32.3, 27.72, 27.6, 30.02, 27.55, 36.765, 41.47, 29.26, 35.75, 33.345, 29.92, 27.835, 23.18, 25.6, 27.7, 35.245, 38.28, 27.6, 43.89, 29.83, 41.91, 20.79, 32.3, 30.5, 21.7, 26.4, 21.89, 30.78, 32.3, 24.985, 32.015, 30.4, 21.09, 22.23, 33.155, 32.9, 33.33, 28.31, 24.89, 40.15, 30.115, 31.46, 17.955, 30.685, 33.0, 43.34, 22.135, 34.4, 39.05, 25.365, 22.61, 30.21, 35.625, 37.43, 31.445, 31.35, 32.3, 19.855, 34.4, 31.02, 25.6, 38.17, 20.6, 47.52, 32.965, 32.3, 20.4, 38.38, 24.31, 23.6, 21.12, 30.03, 17.48, 20.235, 17.195, 23.9, 35.15, 35.64, 34.1, 22.6, 39.16, 26.98, 33.88, 35.86, 32.775, 30.59, 30.2, 24.31, 27.265, 29.165, 16.815, 30.4, 33.1, 20.235, 26.9, 30.5, 28.595, 33.11, 31.73, 28.9, 46.75, 29.45, 32.68, 33.5, 43.01, 36.52, 26.695, 33.1, 29.64, 25.65, 29.6, 38.6, 29.6, 24.13, 23.4, 29.735, 46.53, 37.4, 30.14, 30.495, 39.6, 33.0, 36.63, 30.0, 38.095, 25.935, 25.175, 28.38, 28.7, 33.82, 24.32, 24.09, 32.67, 30.115, 29.8, 33.345, 25.1, 28.31, 28.5, 35.625, 36.85, 32.56, 41.325, 37.51, 31.35, 39.5, 34.3, 31.065, 21.47, 28.7, 38.06, 31.16, 32.9, 25.08, 25.08, 43.4, 25.7, 27.93, 23.6, 28.7, 23.98, 39.2, 34.4, 26.03, 23.21, 30.25, 28.93, 30.875, 31.35, 23.75, 25.27, 28.7, 32.11, 33.66, 22.42, 30.4, 28.3, 35.7, 35.31, 30.495, 31.0, 30.875, 27.36, 44.22, 33.915, 37.73, 26.07, 33.88, 30.59, 25.8, 39.425, 25.46, 42.13, 31.73, 29.7, 36.19, 40.48, 28.025, 38.9, 30.2, 28.05, 31.35, 38.0, 31.79, 36.3, 47.41, 30.21, 25.84, 35.435, 46.7, 28.595, 46.2, 30.8, 28.93, 21.4, 31.73, 41.325, 23.8, 33.44, 34.21, 34.105, 35.53, 19.95, 32.68, 30.5, 44.77, 32.12, 30.495, 40.565, 30.59, 31.9, 40.565, 29.1, 37.29, 43.12, 36.86, 34.295, 27.17, 26.84, 38.095, 30.2, 23.465, 25.46, 30.59, 45.43, 23.65, 20.7, 28.27, 20.235, 30.21, 35.91, 30.69, 29.0, 19.57, 31.13, 21.85, 40.26, 33.725, 29.48, 33.25, 32.6, 37.525, 39.16, 31.635, 25.3, 39.05, 28.31, 34.1, 25.175, 23.655, 26.98, 37.8, 29.37, 34.8, 33.155, 19.0, 33.0, 36.63, 28.595, 25.6, 33.11, 37.1, 31.4, 34.1, 21.3, 33.535, 28.785, 26.03, 28.88, 42.46, 38.0, 38.95, 36.1, 29.3, 35.53, 22.705, 39.7, 38.19, 24.51, 38.095, 26.41, 33.66, 42.4, 28.31, 33.915, 34.96, 35.31, 30.78, 26.22, 23.37, 28.5, 32.965, 42.68, 39.6, 31.13, 36.3, 35.2, 25.3, 42.4, 33.155, 35.91, 28.785, 46.53, 23.98, 31.54, 33.66, 22.99, 38.06, 28.7, 32.775, 32.015, 29.81, 31.57, 31.16, 29.7, 31.02, 43.89, 21.375, 40.81, 31.35, 36.1, 23.18, 17.4, 20.3, 35.3, 24.32, 18.5, 26.41, 26.125, 41.69, 24.1, 31.13, 27.36, 36.2, 32.395, 23.655, 34.8, 40.185, 32.3, 35.75, 33.725, 39.27, 34.87, 44.745, 41.47, 26.41, 29.545, 32.9, 38.06, 28.69, 30.495, 27.74, 35.2, 23.54, 30.685, 40.47, 22.6, 28.9, 22.61, 24.32, 36.67, 33.44, 40.66, 36.6, 37.4, 35.4, 27.075, 39.05, 28.405, 21.755, 40.28, 36.08, 24.42, 21.4, 30.1, 27.265, 32.1, 34.77, 38.39, 23.7, 31.73, 35.5, 24.035, 29.15, 34.105, 26.62, 26.41, 30.115, 27.0, 21.755, 36.0, 30.875, 26.4, 28.975, 37.905, 22.77, 33.63, 27.645, 22.8, 27.83, 37.43, 38.17, 34.58, 35.2, 27.1, 26.03, 25.175, 31.825, 32.3, 29.0, 39.7, 19.475, 36.1, 26.7, 36.48, 28.88, 34.2, 33.33, 32.3, 39.805, 34.32, 28.88, 24.4, 41.14, 35.97, 27.6, 29.26, 27.7, 36.955, 36.86, 22.515, 29.92, 41.8, 27.6, 23.18, 20.9, 31.92, 28.5, 44.22, 22.895, 33.1, 24.795, 26.18, 35.97, 22.3, 42.24, 26.51, 35.815, 41.42, 36.575, 30.14, 25.84, 30.8, 42.94, 21.01, 22.515, 34.43, 31.46, 24.225, 37.1, 26.125, 35.53, 33.7, 17.67, 31.13, 29.81, 24.32, 31.825, 31.79, 28.025, 30.78, 21.85, 33.1, 25.84, 23.845, 34.39, 33.82, 35.97, 31.5, 28.31, 23.465, 31.35, 31.1, 24.7, 32.78, 29.81, 30.495, 32.45, 34.2, 50.38, 24.1, 32.775, 30.78, 32.3, 35.53, 23.75, 23.845, 29.6, 33.11, 24.13, 32.23, 28.1, 47.6, 28.0, 33.535, 19.855, 25.4, 29.9, 37.29, 43.7, 23.655, 24.3, 36.2, 29.48, 24.86, 30.1, 21.85, 28.12, 27.1, 33.44, 28.8, 29.5, 34.8, 27.36, 22.135, 37.05, 26.695, 28.93, 28.975, 30.02, 39.5, 33.63, 26.885, 29.04, 24.035, 38.94, 32.11, 44.0, 20.045, 25.555, 40.26, 22.515, 22.515, 40.92, 27.265, 36.85, 35.1, 29.355, 32.585, 32.34, 39.8, 24.6, 28.31, 31.73, 26.695, 27.5, 24.605, 33.99, 26.885, 22.895, 28.2, 34.21, 25.0, 33.2, 31.0, 35.815, 23.2, 32.11, 23.4, 20.1, 39.16, 34.21, 46.53, 32.5, 25.8, 35.3, 37.18, 27.5, 29.735, 24.225, 26.18, 29.48, 23.21, 46.09, 40.185, 22.61, 39.93, 35.8, 35.8, 34.2, 31.255, 29.7, 18.335, 42.9, 28.405, 30.2, 27.835, 39.49, 30.8, 26.79, 34.96, 36.67, 39.615, 25.9, 35.2, 24.795, 36.765, 27.1, 24.795, 25.365, 25.745, 34.32, 28.16, 23.56, 20.235, 40.5, 35.42, 22.895, 40.15, 29.15, 39.995, 29.92, 25.46, 21.375, 25.9, 30.59, 30.115, 25.8, 30.115, 27.645, 34.675, 20.52, 19.8, 27.835, 31.6, 28.27, 20.045, 23.275, 34.1, 36.85, 36.29, 26.885, 22.99, 32.7, 25.8, 29.6, 19.19, 31.73, 29.26, 28.215, 24.985, 27.74, 22.8, 20.13, 33.33, 32.3, 27.6, 25.46, 24.605, 34.2, 35.815, 32.68, 37.0, 31.02, 36.08, 23.32, 45.32, 34.6, 26.03, 18.715, 31.6, 17.29, 23.655, 35.2, 27.93, 21.565, 38.38, 23.0, 37.07, 30.495, 28.88, 27.265, 28.025, 23.085, 30.685, 25.8, 35.245, 24.7, 25.08, 52.58, 22.515, 30.9, 36.955, 26.41, 29.83, 29.8, 21.47, 27.645, 28.9, 31.79, 39.49, 33.82, 32.01, 27.94, 41.14, 28.595, 25.6, 25.3, 37.29, 42.655, 21.66, 31.9, 37.07, 31.445, 31.255, 28.88, 18.335, 29.59, 32.0, 26.03, 31.68, 33.66, 21.78, 27.835, 19.95, 31.5, 30.495, 18.3, 28.975, 31.54, 47.74, 22.1, 36.19, 29.83, 32.7, 30.4, 33.7, 31.35, 34.96, 33.77, 30.875, 33.99, 19.095, 28.6, 38.94, 36.08, 29.8, 31.24, 29.925, 26.22, 30.0, 20.35, 32.3, 38.39, 25.85, 26.315, 24.51, 32.67, 29.64, 33.33, 35.75, 19.95, 31.4, 38.17, 36.86, 32.395, 42.75, 25.08, 29.9, 35.86, 32.8, 18.6, 23.87, 45.9, 40.28, 18.335, 33.82, 28.12, 25.0, 22.23, 30.25, 32.49, 37.07, 32.6, 24.86, 32.34, 32.3, 32.775, 32.8, 31.92, 21.5, 34.1, 30.305, 36.48, 32.56, 35.815, 27.93, 22.135, 44.88, 23.18, 30.59, 41.1, 34.58, 42.13, 38.83, 28.215, 28.31, 26.125, 40.37, 24.6, 35.2, 34.105, 27.36, 26.7, 41.91, 29.26, 32.11, 27.1, 24.13, 27.4, 34.865, 29.81, 41.325, 29.925, 30.3, 27.36, 28.49, 23.56, 35.625, 32.68, 25.27, 28.0, 32.775, 21.755, 32.395, 36.575, 21.755, 27.93, 30.02, 33.55, 29.355, 25.8, 24.32, 40.375, 32.11, 32.3, 27.28, 17.86, 34.8, 33.4, 25.555, 37.1, 30.875, 34.1, 21.47, 33.3, 31.255, 39.14, 25.08, 37.29, 34.6, 30.21, 21.945, 24.97, 25.3, 24.42, 23.94, 39.82, 16.815, 37.18, 34.43, 30.305, 34.485, 21.8, 24.605, 23.3, 27.83, 31.065, 21.66, 28.215, 22.705, 42.13, 41.8, 36.96, 21.28, 33.11, 33.33, 24.3, 25.7, 29.4, 39.82, 33.63, 29.83, 19.8, 27.3, 29.3, 27.72, 37.9, 36.385, 27.645, 37.715, 23.18, 20.52, 37.1, 28.05, 29.9, 33.345, 23.76, 30.5, 31.065, 33.3, 27.5, 33.915, 34.485, 25.52, 27.61, 27.06, 23.7, 30.4, 29.735, 29.925, 26.79, 33.33, 27.645, 21.66, 30.03, 36.3, 24.32, 17.29, 25.9, 39.4, 34.32, 19.95, 34.9, 23.21, 25.745, 25.175, 22.0, 26.125, 26.51, 27.455, 25.745, 30.36, 30.875, 20.8, 27.8, 24.605, 27.72, 21.85, 28.12, 30.2, 32.2, 26.315, 26.695, 42.9, 34.7, 23.655, 28.31, 20.6, 53.13, 39.71, 26.315, 31.065, 26.695, 38.83, 40.37, 25.935, 33.535, 32.87, 30.03, 24.225, 38.6, 25.74, 33.4, 44.7, 30.97, 31.92, 36.85, 25.8, 29.07], \"xaxis\": \"x\", \"yaxis\": \"y\"}, {\"alignmentgroup\": \"True\", \"hoverlabel\": {\"namelength\": 0}, \"hovertemplate\": \"bmi=%{x}\", \"legendgroup\": \"\", \"marker\": {\"color\": \"red\"}, \"name\": \"\", \"notched\": true, \"offsetgroup\": \"\", \"showlegend\": false, \"type\": \"box\", \"x\": [27.9, 33.77, 33.0, 22.705, 28.88, 25.74, 33.44, 27.74, 29.83, 25.84, 26.22, 26.29, 34.4, 39.82, 42.13, 24.6, 30.78, 23.845, 40.3, 35.3, 36.005, 32.4, 34.1, 31.92, 28.025, 27.72, 23.085, 32.775, 17.385, 36.3, 35.6, 26.315, 28.6, 28.31, 36.4, 20.425, 32.965, 20.8, 36.67, 39.9, 26.6, 36.63, 21.78, 30.8, 37.05, 37.3, 38.665, 34.77, 24.53, 35.2, 35.625, 33.63, 28.0, 34.43, 28.69, 36.955, 31.825, 31.68, 22.88, 37.335, 27.36, 33.66, 24.7, 25.935, 22.42, 28.9, 39.1, 26.315, 36.19, 23.98, 24.75, 28.5, 28.1, 32.01, 27.4, 34.01, 29.59, 35.53, 39.805, 32.965, 26.885, 38.285, 37.62, 41.23, 34.8, 22.895, 31.16, 27.2, 27.74, 26.98, 39.49, 24.795, 29.83, 34.77, 31.3, 37.62, 30.8, 38.28, 19.95, 19.3, 31.6, 25.46, 30.115, 29.92, 27.5, 28.025, 28.4, 30.875, 27.94, 35.09, 33.63, 29.7, 30.8, 35.72, 32.205, 28.595, 49.06, 27.94, 27.17, 23.37, 37.1, 23.75, 28.975, 31.35, 33.915, 28.785, 28.3, 37.4, 17.765, 34.7, 26.505, 22.04, 35.9, 25.555, 28.785, 28.05, 34.1, 25.175, 31.9, 36.0, 22.42, 32.49, 25.3, 29.735, 28.69, 38.83, 30.495, 37.73, 37.43, 28.4, 24.13, 29.7, 37.145, 23.37, 25.46, 39.52, 24.42, 25.175, 35.53, 27.83, 26.6, 36.85, 39.6, 29.8, 29.64, 28.215, 37.0, 33.155, 31.825, 18.905, 41.47, 30.3, 15.96, 34.8, 33.345, 37.7, 27.835, 29.2, 28.9, 33.155, 28.595, 38.28, 19.95, 26.41, 30.69, 41.895, 29.92, 30.9, 32.2, 32.11, 31.57, 26.2, 25.74, 26.6, 34.43, 30.59, 32.8, 28.6, 18.05, 39.33, 32.11, 32.23, 24.035, 36.08, 22.3, 28.88, 26.4, 27.74, 31.8, 41.23, 33.0, 30.875, 28.5, 26.73, 30.9, 37.1, 26.6, 23.1, 29.92, 23.21, 33.7, 33.25, 30.8, 34.8, 24.64, 33.88, 38.06, 41.91, 31.635, 25.46, 36.195, 27.83, 17.8, 27.5, 24.51, 22.22, 26.73, 38.39, 29.07, 38.06, 36.67, 22.135, 26.8, 35.3, 27.74, 30.02, 38.06, 35.86, 20.9, 28.975, 17.29, 32.2, 34.21, 30.3, 31.825, 25.365, 33.63, 40.15, 24.415, 31.92, 25.2, 26.84, 24.32, 36.955, 38.06, 42.35, 19.8, 32.395, 30.2, 25.84, 29.37, 34.2, 37.05, 27.455, 27.55, 26.6, 20.615, 24.3, 31.79, 21.56, 28.12, 40.565, 27.645, 32.395, 31.2, 26.62, 48.07, 26.22, 36.765, 26.4, 33.4, 29.64, 45.54, 28.82, 26.8, 22.99, 27.7, 25.41, 34.39, 28.88, 27.55, 22.61, 37.51, 33.0, 38.0, 33.345, 27.5, 33.33, 34.865, 33.06, 26.6, 24.7, 35.97, 35.86, 31.4, 33.25, 32.205, 32.775, 27.645, 37.335, 25.27, 29.64, 30.8, 40.945, 27.2, 34.105, 23.21, 36.48, 33.8, 36.7, 36.385, 27.36, 31.16, 28.785, 35.72, 34.5, 25.74, 27.55, 32.3, 27.72, 27.6, 30.02, 27.55, 36.765, 41.47, 29.26, 35.75, 33.345, 29.92, 27.835, 23.18, 25.6, 27.7, 35.245, 38.28, 27.6, 43.89, 29.83, 41.91, 20.79, 32.3, 30.5, 21.7, 26.4, 21.89, 30.78, 32.3, 24.985, 32.015, 30.4, 21.09, 22.23, 33.155, 32.9, 33.33, 28.31, 24.89, 40.15, 30.115, 31.46, 17.955, 30.685, 33.0, 43.34, 22.135, 34.4, 39.05, 25.365, 22.61, 30.21, 35.625, 37.43, 31.445, 31.35, 32.3, 19.855, 34.4, 31.02, 25.6, 38.17, 20.6, 47.52, 32.965, 32.3, 20.4, 38.38, 24.31, 23.6, 21.12, 30.03, 17.48, 20.235, 17.195, 23.9, 35.15, 35.64, 34.1, 22.6, 39.16, 26.98, 33.88, 35.86, 32.775, 30.59, 30.2, 24.31, 27.265, 29.165, 16.815, 30.4, 33.1, 20.235, 26.9, 30.5, 28.595, 33.11, 31.73, 28.9, 46.75, 29.45, 32.68, 33.5, 43.01, 36.52, 26.695, 33.1, 29.64, 25.65, 29.6, 38.6, 29.6, 24.13, 23.4, 29.735, 46.53, 37.4, 30.14, 30.495, 39.6, 33.0, 36.63, 30.0, 38.095, 25.935, 25.175, 28.38, 28.7, 33.82, 24.32, 24.09, 32.67, 30.115, 29.8, 33.345, 25.1, 28.31, 28.5, 35.625, 36.85, 32.56, 41.325, 37.51, 31.35, 39.5, 34.3, 31.065, 21.47, 28.7, 38.06, 31.16, 32.9, 25.08, 25.08, 43.4, 25.7, 27.93, 23.6, 28.7, 23.98, 39.2, 34.4, 26.03, 23.21, 30.25, 28.93, 30.875, 31.35, 23.75, 25.27, 28.7, 32.11, 33.66, 22.42, 30.4, 28.3, 35.7, 35.31, 30.495, 31.0, 30.875, 27.36, 44.22, 33.915, 37.73, 26.07, 33.88, 30.59, 25.8, 39.425, 25.46, 42.13, 31.73, 29.7, 36.19, 40.48, 28.025, 38.9, 30.2, 28.05, 31.35, 38.0, 31.79, 36.3, 47.41, 30.21, 25.84, 35.435, 46.7, 28.595, 46.2, 30.8, 28.93, 21.4, 31.73, 41.325, 23.8, 33.44, 34.21, 34.105, 35.53, 19.95, 32.68, 30.5, 44.77, 32.12, 30.495, 40.565, 30.59, 31.9, 40.565, 29.1, 37.29, 43.12, 36.86, 34.295, 27.17, 26.84, 38.095, 30.2, 23.465, 25.46, 30.59, 45.43, 23.65, 20.7, 28.27, 20.235, 30.21, 35.91, 30.69, 29.0, 19.57, 31.13, 21.85, 40.26, 33.725, 29.48, 33.25, 32.6, 37.525, 39.16, 31.635, 25.3, 39.05, 28.31, 34.1, 25.175, 23.655, 26.98, 37.8, 29.37, 34.8, 33.155, 19.0, 33.0, 36.63, 28.595, 25.6, 33.11, 37.1, 31.4, 34.1, 21.3, 33.535, 28.785, 26.03, 28.88, 42.46, 38.0, 38.95, 36.1, 29.3, 35.53, 22.705, 39.7, 38.19, 24.51, 38.095, 26.41, 33.66, 42.4, 28.31, 33.915, 34.96, 35.31, 30.78, 26.22, 23.37, 28.5, 32.965, 42.68, 39.6, 31.13, 36.3, 35.2, 25.3, 42.4, 33.155, 35.91, 28.785, 46.53, 23.98, 31.54, 33.66, 22.99, 38.06, 28.7, 32.775, 32.015, 29.81, 31.57, 31.16, 29.7, 31.02, 43.89, 21.375, 40.81, 31.35, 36.1, 23.18, 17.4, 20.3, 35.3, 24.32, 18.5, 26.41, 26.125, 41.69, 24.1, 31.13, 27.36, 36.2, 32.395, 23.655, 34.8, 40.185, 32.3, 35.75, 33.725, 39.27, 34.87, 44.745, 41.47, 26.41, 29.545, 32.9, 38.06, 28.69, 30.495, 27.74, 35.2, 23.54, 30.685, 40.47, 22.6, 28.9, 22.61, 24.32, 36.67, 33.44, 40.66, 36.6, 37.4, 35.4, 27.075, 39.05, 28.405, 21.755, 40.28, 36.08, 24.42, 21.4, 30.1, 27.265, 32.1, 34.77, 38.39, 23.7, 31.73, 35.5, 24.035, 29.15, 34.105, 26.62, 26.41, 30.115, 27.0, 21.755, 36.0, 30.875, 26.4, 28.975, 37.905, 22.77, 33.63, 27.645, 22.8, 27.83, 37.43, 38.17, 34.58, 35.2, 27.1, 26.03, 25.175, 31.825, 32.3, 29.0, 39.7, 19.475, 36.1, 26.7, 36.48, 28.88, 34.2, 33.33, 32.3, 39.805, 34.32, 28.88, 24.4, 41.14, 35.97, 27.6, 29.26, 27.7, 36.955, 36.86, 22.515, 29.92, 41.8, 27.6, 23.18, 20.9, 31.92, 28.5, 44.22, 22.895, 33.1, 24.795, 26.18, 35.97, 22.3, 42.24, 26.51, 35.815, 41.42, 36.575, 30.14, 25.84, 30.8, 42.94, 21.01, 22.515, 34.43, 31.46, 24.225, 37.1, 26.125, 35.53, 33.7, 17.67, 31.13, 29.81, 24.32, 31.825, 31.79, 28.025, 30.78, 21.85, 33.1, 25.84, 23.845, 34.39, 33.82, 35.97, 31.5, 28.31, 23.465, 31.35, 31.1, 24.7, 32.78, 29.81, 30.495, 32.45, 34.2, 50.38, 24.1, 32.775, 30.78, 32.3, 35.53, 23.75, 23.845, 29.6, 33.11, 24.13, 32.23, 28.1, 47.6, 28.0, 33.535, 19.855, 25.4, 29.9, 37.29, 43.7, 23.655, 24.3, 36.2, 29.48, 24.86, 30.1, 21.85, 28.12, 27.1, 33.44, 28.8, 29.5, 34.8, 27.36, 22.135, 37.05, 26.695, 28.93, 28.975, 30.02, 39.5, 33.63, 26.885, 29.04, 24.035, 38.94, 32.11, 44.0, 20.045, 25.555, 40.26, 22.515, 22.515, 40.92, 27.265, 36.85, 35.1, 29.355, 32.585, 32.34, 39.8, 24.6, 28.31, 31.73, 26.695, 27.5, 24.605, 33.99, 26.885, 22.895, 28.2, 34.21, 25.0, 33.2, 31.0, 35.815, 23.2, 32.11, 23.4, 20.1, 39.16, 34.21, 46.53, 32.5, 25.8, 35.3, 37.18, 27.5, 29.735, 24.225, 26.18, 29.48, 23.21, 46.09, 40.185, 22.61, 39.93, 35.8, 35.8, 34.2, 31.255, 29.7, 18.335, 42.9, 28.405, 30.2, 27.835, 39.49, 30.8, 26.79, 34.96, 36.67, 39.615, 25.9, 35.2, 24.795, 36.765, 27.1, 24.795, 25.365, 25.745, 34.32, 28.16, 23.56, 20.235, 40.5, 35.42, 22.895, 40.15, 29.15, 39.995, 29.92, 25.46, 21.375, 25.9, 30.59, 30.115, 25.8, 30.115, 27.645, 34.675, 20.52, 19.8, 27.835, 31.6, 28.27, 20.045, 23.275, 34.1, 36.85, 36.29, 26.885, 22.99, 32.7, 25.8, 29.6, 19.19, 31.73, 29.26, 28.215, 24.985, 27.74, 22.8, 20.13, 33.33, 32.3, 27.6, 25.46, 24.605, 34.2, 35.815, 32.68, 37.0, 31.02, 36.08, 23.32, 45.32, 34.6, 26.03, 18.715, 31.6, 17.29, 23.655, 35.2, 27.93, 21.565, 38.38, 23.0, 37.07, 30.495, 28.88, 27.265, 28.025, 23.085, 30.685, 25.8, 35.245, 24.7, 25.08, 52.58, 22.515, 30.9, 36.955, 26.41, 29.83, 29.8, 21.47, 27.645, 28.9, 31.79, 39.49, 33.82, 32.01, 27.94, 41.14, 28.595, 25.6, 25.3, 37.29, 42.655, 21.66, 31.9, 37.07, 31.445, 31.255, 28.88, 18.335, 29.59, 32.0, 26.03, 31.68, 33.66, 21.78, 27.835, 19.95, 31.5, 30.495, 18.3, 28.975, 31.54, 47.74, 22.1, 36.19, 29.83, 32.7, 30.4, 33.7, 31.35, 34.96, 33.77, 30.875, 33.99, 19.095, 28.6, 38.94, 36.08, 29.8, 31.24, 29.925, 26.22, 30.0, 20.35, 32.3, 38.39, 25.85, 26.315, 24.51, 32.67, 29.64, 33.33, 35.75, 19.95, 31.4, 38.17, 36.86, 32.395, 42.75, 25.08, 29.9, 35.86, 32.8, 18.6, 23.87, 45.9, 40.28, 18.335, 33.82, 28.12, 25.0, 22.23, 30.25, 32.49, 37.07, 32.6, 24.86, 32.34, 32.3, 32.775, 32.8, 31.92, 21.5, 34.1, 30.305, 36.48, 32.56, 35.815, 27.93, 22.135, 44.88, 23.18, 30.59, 41.1, 34.58, 42.13, 38.83, 28.215, 28.31, 26.125, 40.37, 24.6, 35.2, 34.105, 27.36, 26.7, 41.91, 29.26, 32.11, 27.1, 24.13, 27.4, 34.865, 29.81, 41.325, 29.925, 30.3, 27.36, 28.49, 23.56, 35.625, 32.68, 25.27, 28.0, 32.775, 21.755, 32.395, 36.575, 21.755, 27.93, 30.02, 33.55, 29.355, 25.8, 24.32, 40.375, 32.11, 32.3, 27.28, 17.86, 34.8, 33.4, 25.555, 37.1, 30.875, 34.1, 21.47, 33.3, 31.255, 39.14, 25.08, 37.29, 34.6, 30.21, 21.945, 24.97, 25.3, 24.42, 23.94, 39.82, 16.815, 37.18, 34.43, 30.305, 34.485, 21.8, 24.605, 23.3, 27.83, 31.065, 21.66, 28.215, 22.705, 42.13, 41.8, 36.96, 21.28, 33.11, 33.33, 24.3, 25.7, 29.4, 39.82, 33.63, 29.83, 19.8, 27.3, 29.3, 27.72, 37.9, 36.385, 27.645, 37.715, 23.18, 20.52, 37.1, 28.05, 29.9, 33.345, 23.76, 30.5, 31.065, 33.3, 27.5, 33.915, 34.485, 25.52, 27.61, 27.06, 23.7, 30.4, 29.735, 29.925, 26.79, 33.33, 27.645, 21.66, 30.03, 36.3, 24.32, 17.29, 25.9, 39.4, 34.32, 19.95, 34.9, 23.21, 25.745, 25.175, 22.0, 26.125, 26.51, 27.455, 25.745, 30.36, 30.875, 20.8, 27.8, 24.605, 27.72, 21.85, 28.12, 30.2, 32.2, 26.315, 26.695, 42.9, 34.7, 23.655, 28.31, 20.6, 53.13, 39.71, 26.315, 31.065, 26.695, 38.83, 40.37, 25.935, 33.535, 32.87, 30.03, 24.225, 38.6, 25.74, 33.4, 44.7, 30.97, 31.92, 36.85, 25.8, 29.07], \"xaxis\": \"x2\", \"yaxis\": \"y2\"}],\n",
              "                        {\"bargap\": 0.05, \"barmode\": \"relative\", \"legend\": {\"tracegroupgap\": 0}, \"template\": {\"data\": {\"bar\": [{\"error_x\": {\"color\": \"#2a3f5f\"}, \"error_y\": {\"color\": \"#2a3f5f\"}, \"marker\": {\"line\": {\"color\": \"#E5ECF6\", \"width\": 0.5}}, \"type\": \"bar\"}], \"barpolar\": [{\"marker\": {\"line\": {\"color\": \"#E5ECF6\", \"width\": 0.5}}, \"type\": \"barpolar\"}], \"carpet\": [{\"aaxis\": {\"endlinecolor\": \"#2a3f5f\", \"gridcolor\": \"white\", \"linecolor\": \"white\", \"minorgridcolor\": \"white\", \"startlinecolor\": \"#2a3f5f\"}, \"baxis\": {\"endlinecolor\": \"#2a3f5f\", \"gridcolor\": \"white\", \"linecolor\": \"white\", \"minorgridcolor\": \"white\", \"startlinecolor\": \"#2a3f5f\"}, \"type\": \"carpet\"}], \"choropleth\": [{\"colorbar\": {\"outlinewidth\": 0, \"ticks\": \"\"}, \"type\": \"choropleth\"}], \"contour\": [{\"colorbar\": {\"outlinewidth\": 0, \"ticks\": \"\"}, \"colorscale\": [[0.0, \"#0d0887\"], [0.1111111111111111, \"#46039f\"], [0.2222222222222222, \"#7201a8\"], [0.3333333333333333, \"#9c179e\"], [0.4444444444444444, \"#bd3786\"], [0.5555555555555556, \"#d8576b\"], [0.6666666666666666, \"#ed7953\"], [0.7777777777777778, \"#fb9f3a\"], [0.8888888888888888, \"#fdca26\"], [1.0, \"#f0f921\"]], \"type\": \"contour\"}], \"contourcarpet\": [{\"colorbar\": {\"outlinewidth\": 0, \"ticks\": \"\"}, \"type\": \"contourcarpet\"}], \"heatmap\": [{\"colorbar\": {\"outlinewidth\": 0, \"ticks\": \"\"}, \"colorscale\": [[0.0, \"#0d0887\"], [0.1111111111111111, \"#46039f\"], [0.2222222222222222, \"#7201a8\"], [0.3333333333333333, \"#9c179e\"], [0.4444444444444444, \"#bd3786\"], [0.5555555555555556, \"#d8576b\"], [0.6666666666666666, \"#ed7953\"], [0.7777777777777778, \"#fb9f3a\"], [0.8888888888888888, \"#fdca26\"], [1.0, \"#f0f921\"]], \"type\": \"heatmap\"}], \"heatmapgl\": [{\"colorbar\": {\"outlinewidth\": 0, \"ticks\": \"\"}, \"colorscale\": [[0.0, \"#0d0887\"], [0.1111111111111111, \"#46039f\"], [0.2222222222222222, \"#7201a8\"], [0.3333333333333333, \"#9c179e\"], [0.4444444444444444, \"#bd3786\"], [0.5555555555555556, \"#d8576b\"], [0.6666666666666666, \"#ed7953\"], [0.7777777777777778, \"#fb9f3a\"], [0.8888888888888888, \"#fdca26\"], [1.0, \"#f0f921\"]], \"type\": \"heatmapgl\"}], \"histogram\": [{\"marker\": {\"colorbar\": {\"outlinewidth\": 0, \"ticks\": \"\"}}, \"type\": \"histogram\"}], \"histogram2d\": [{\"colorbar\": {\"outlinewidth\": 0, \"ticks\": \"\"}, \"colorscale\": [[0.0, \"#0d0887\"], [0.1111111111111111, \"#46039f\"], [0.2222222222222222, \"#7201a8\"], [0.3333333333333333, \"#9c179e\"], [0.4444444444444444, \"#bd3786\"], [0.5555555555555556, \"#d8576b\"], [0.6666666666666666, \"#ed7953\"], [0.7777777777777778, \"#fb9f3a\"], [0.8888888888888888, \"#fdca26\"], [1.0, \"#f0f921\"]], \"type\": \"histogram2d\"}], \"histogram2dcontour\": [{\"colorbar\": {\"outlinewidth\": 0, \"ticks\": \"\"}, \"colorscale\": [[0.0, \"#0d0887\"], [0.1111111111111111, \"#46039f\"], [0.2222222222222222, \"#7201a8\"], [0.3333333333333333, \"#9c179e\"], [0.4444444444444444, \"#bd3786\"], [0.5555555555555556, \"#d8576b\"], [0.6666666666666666, \"#ed7953\"], [0.7777777777777778, \"#fb9f3a\"], [0.8888888888888888, \"#fdca26\"], [1.0, \"#f0f921\"]], \"type\": \"histogram2dcontour\"}], \"mesh3d\": [{\"colorbar\": {\"outlinewidth\": 0, \"ticks\": \"\"}, \"type\": \"mesh3d\"}], \"parcoords\": [{\"line\": {\"colorbar\": {\"outlinewidth\": 0, \"ticks\": \"\"}}, \"type\": \"parcoords\"}], \"pie\": [{\"automargin\": true, \"type\": \"pie\"}], \"scatter\": [{\"marker\": {\"colorbar\": {\"outlinewidth\": 0, \"ticks\": \"\"}}, \"type\": \"scatter\"}], \"scatter3d\": [{\"line\": {\"colorbar\": {\"outlinewidth\": 0, \"ticks\": \"\"}}, \"marker\": {\"colorbar\": {\"outlinewidth\": 0, \"ticks\": \"\"}}, \"type\": \"scatter3d\"}], \"scattercarpet\": [{\"marker\": {\"colorbar\": {\"outlinewidth\": 0, \"ticks\": \"\"}}, \"type\": \"scattercarpet\"}], \"scattergeo\": [{\"marker\": {\"colorbar\": {\"outlinewidth\": 0, \"ticks\": \"\"}}, \"type\": \"scattergeo\"}], \"scattergl\": [{\"marker\": {\"colorbar\": {\"outlinewidth\": 0, \"ticks\": \"\"}}, \"type\": \"scattergl\"}], \"scattermapbox\": [{\"marker\": {\"colorbar\": {\"outlinewidth\": 0, \"ticks\": \"\"}}, \"type\": \"scattermapbox\"}], \"scatterpolar\": [{\"marker\": {\"colorbar\": {\"outlinewidth\": 0, \"ticks\": \"\"}}, \"type\": \"scatterpolar\"}], \"scatterpolargl\": [{\"marker\": {\"colorbar\": {\"outlinewidth\": 0, \"ticks\": \"\"}}, \"type\": \"scatterpolargl\"}], \"scatterternary\": [{\"marker\": {\"colorbar\": {\"outlinewidth\": 0, \"ticks\": \"\"}}, \"type\": \"scatterternary\"}], \"surface\": [{\"colorbar\": {\"outlinewidth\": 0, \"ticks\": \"\"}, \"colorscale\": [[0.0, \"#0d0887\"], [0.1111111111111111, \"#46039f\"], [0.2222222222222222, \"#7201a8\"], [0.3333333333333333, \"#9c179e\"], [0.4444444444444444, \"#bd3786\"], [0.5555555555555556, \"#d8576b\"], [0.6666666666666666, \"#ed7953\"], [0.7777777777777778, \"#fb9f3a\"], [0.8888888888888888, \"#fdca26\"], [1.0, \"#f0f921\"]], \"type\": \"surface\"}], \"table\": [{\"cells\": {\"fill\": {\"color\": \"#EBF0F8\"}, \"line\": {\"color\": \"white\"}}, \"header\": {\"fill\": {\"color\": \"#C8D4E3\"}, \"line\": {\"color\": \"white\"}}, \"type\": \"table\"}]}, \"layout\": {\"annotationdefaults\": {\"arrowcolor\": \"#2a3f5f\", \"arrowhead\": 0, \"arrowwidth\": 1}, \"coloraxis\": {\"colorbar\": {\"outlinewidth\": 0, \"ticks\": \"\"}}, \"colorscale\": {\"diverging\": [[0, \"#8e0152\"], [0.1, \"#c51b7d\"], [0.2, \"#de77ae\"], [0.3, \"#f1b6da\"], [0.4, \"#fde0ef\"], [0.5, \"#f7f7f7\"], [0.6, \"#e6f5d0\"], [0.7, \"#b8e186\"], [0.8, \"#7fbc41\"], [0.9, \"#4d9221\"], [1, \"#276419\"]], \"sequential\": [[0.0, \"#0d0887\"], [0.1111111111111111, \"#46039f\"], [0.2222222222222222, \"#7201a8\"], [0.3333333333333333, \"#9c179e\"], [0.4444444444444444, \"#bd3786\"], [0.5555555555555556, \"#d8576b\"], [0.6666666666666666, \"#ed7953\"], [0.7777777777777778, \"#fb9f3a\"], [0.8888888888888888, \"#fdca26\"], [1.0, \"#f0f921\"]], \"sequentialminus\": [[0.0, \"#0d0887\"], [0.1111111111111111, \"#46039f\"], [0.2222222222222222, \"#7201a8\"], [0.3333333333333333, \"#9c179e\"], [0.4444444444444444, \"#bd3786\"], [0.5555555555555556, \"#d8576b\"], [0.6666666666666666, \"#ed7953\"], [0.7777777777777778, \"#fb9f3a\"], [0.8888888888888888, \"#fdca26\"], [1.0, \"#f0f921\"]]}, \"colorway\": [\"#636efa\", \"#EF553B\", \"#00cc96\", \"#ab63fa\", \"#FFA15A\", \"#19d3f3\", \"#FF6692\", \"#B6E880\", \"#FF97FF\", \"#FECB52\"], \"font\": {\"color\": \"#2a3f5f\"}, \"geo\": {\"bgcolor\": \"white\", \"lakecolor\": \"white\", \"landcolor\": \"#E5ECF6\", \"showlakes\": true, \"showland\": true, \"subunitcolor\": \"white\"}, \"hoverlabel\": {\"align\": \"left\"}, \"hovermode\": \"closest\", \"mapbox\": {\"style\": \"light\"}, \"paper_bgcolor\": \"white\", \"plot_bgcolor\": \"#E5ECF6\", \"polar\": {\"angularaxis\": {\"gridcolor\": \"white\", \"linecolor\": \"white\", \"ticks\": \"\"}, \"bgcolor\": \"#E5ECF6\", \"radialaxis\": {\"gridcolor\": \"white\", \"linecolor\": \"white\", \"ticks\": \"\"}}, \"scene\": {\"xaxis\": {\"backgroundcolor\": \"#E5ECF6\", \"gridcolor\": \"white\", \"gridwidth\": 2, \"linecolor\": \"white\", \"showbackground\": true, \"ticks\": \"\", \"zerolinecolor\": \"white\"}, \"yaxis\": {\"backgroundcolor\": \"#E5ECF6\", \"gridcolor\": \"white\", \"gridwidth\": 2, \"linecolor\": \"white\", \"showbackground\": true, \"ticks\": \"\", \"zerolinecolor\": \"white\"}, \"zaxis\": {\"backgroundcolor\": \"#E5ECF6\", \"gridcolor\": \"white\", \"gridwidth\": 2, \"linecolor\": \"white\", \"showbackground\": true, \"ticks\": \"\", \"zerolinecolor\": \"white\"}}, \"shapedefaults\": {\"line\": {\"color\": \"#2a3f5f\"}}, \"ternary\": {\"aaxis\": {\"gridcolor\": \"white\", \"linecolor\": \"white\", \"ticks\": \"\"}, \"baxis\": {\"gridcolor\": \"white\", \"linecolor\": \"white\", \"ticks\": \"\"}, \"bgcolor\": \"#E5ECF6\", \"caxis\": {\"gridcolor\": \"white\", \"linecolor\": \"white\", \"ticks\": \"\"}}, \"title\": {\"x\": 0.05}, \"xaxis\": {\"automargin\": true, \"gridcolor\": \"white\", \"linecolor\": \"white\", \"ticks\": \"\", \"title\": {\"standoff\": 15}, \"zerolinecolor\": \"white\", \"zerolinewidth\": 2}, \"yaxis\": {\"automargin\": true, \"gridcolor\": \"white\", \"linecolor\": \"white\", \"ticks\": \"\", \"title\": {\"standoff\": 15}, \"zerolinecolor\": \"white\", \"zerolinewidth\": 2}}}, \"title\": {\"text\": \"Distribution of BMI (Body Mass Index)\"}, \"xaxis\": {\"anchor\": \"y\", \"domain\": [0.0, 1.0], \"title\": {\"text\": \"bmi\"}}, \"xaxis2\": {\"anchor\": \"y2\", \"domain\": [0.0, 1.0], \"matches\": \"x\", \"showgrid\": true, \"showticklabels\": false}, \"yaxis\": {\"anchor\": \"x\", \"domain\": [0.0, 0.8316], \"title\": {\"text\": \"count\"}}, \"yaxis2\": {\"anchor\": \"x2\", \"domain\": [0.8416, 1.0], \"matches\": \"y2\", \"showgrid\": false, \"showline\": false, \"showticklabels\": false, \"ticks\": \"\"}},\n",
              "                        {\"responsive\": true}\n",
              "                    ).then(function(){\n",
              "                            \n",
              "var gd = document.getElementById('a32ccfb0-5dd0-4301-a260-e73d5b391d19');\n",
              "var x = new MutationObserver(function (mutations, observer) {{\n",
              "        var display = window.getComputedStyle(gd).display;\n",
              "        if (!display || display === 'none') {{\n",
              "            console.log([gd, 'removed!']);\n",
              "            Plotly.purge(gd);\n",
              "            observer.disconnect();\n",
              "        }}\n",
              "}});\n",
              "\n",
              "// Listen for the removal of the full notebook cells\n",
              "var notebookContainer = gd.closest('#notebook-container');\n",
              "if (notebookContainer) {{\n",
              "    x.observe(notebookContainer, {childList: true});\n",
              "}}\n",
              "\n",
              "// Listen for the clearing of the current output cell\n",
              "var outputEl = gd.closest('.output');\n",
              "if (outputEl) {{\n",
              "    x.observe(outputEl, {childList: true});\n",
              "}}\n",
              "\n",
              "                        })\n",
              "                };\n",
              "                \n",
              "            </script>\n",
              "        </div>\n",
              "</body>\n",
              "</html>"
            ]
          },
          "metadata": {
            "tags": []
          }
        }
      ]
    },
    {
      "cell_type": "code",
      "metadata": {
        "colab": {
          "base_uri": "https://localhost:8080/",
          "height": 542
        },
        "id": "tur3lir-D04_",
        "outputId": "3ca1a3d7-ad91-47ad-d485-de099a635190"
      },
      "source": [
        "px.histogram(medical_df, x='smoker', color='children', title='Smoker')"
      ],
      "execution_count": null,
      "outputs": [
        {
          "output_type": "display_data",
          "data": {
            "text/html": [
              "<html>\n",
              "<head><meta charset=\"utf-8\" /></head>\n",
              "<body>\n",
              "    <div>\n",
              "            <script src=\"https://cdnjs.cloudflare.com/ajax/libs/mathjax/2.7.5/MathJax.js?config=TeX-AMS-MML_SVG\"></script><script type=\"text/javascript\">if (window.MathJax) {MathJax.Hub.Config({SVG: {font: \"STIX-Web\"}});}</script>\n",
              "                <script type=\"text/javascript\">window.PlotlyConfig = {MathJaxConfig: 'local'};</script>\n",
              "        <script src=\"https://cdn.plot.ly/plotly-latest.min.js\"></script>    \n",
              "            <div id=\"16b63ff7-3134-41cb-81f8-4f926aebbbd5\" class=\"plotly-graph-div\" style=\"height:525px; width:100%;\"></div>\n",
              "            <script type=\"text/javascript\">\n",
              "                \n",
              "                    window.PLOTLYENV=window.PLOTLYENV || {};\n",
              "                    \n",
              "                if (document.getElementById(\"16b63ff7-3134-41cb-81f8-4f926aebbbd5\")) {\n",
              "                    Plotly.newPlot(\n",
              "                        '16b63ff7-3134-41cb-81f8-4f926aebbbd5',\n",
              "                        [{\"alignmentgroup\": \"True\", \"bingroup\": \"x\", \"hoverlabel\": {\"namelength\": 0}, \"hovertemplate\": \"children=0<br>smoker=%{x}<br>count=%{y}\", \"legendgroup\": \"children=0\", \"marker\": {\"color\": \"#636efa\"}, \"name\": \"children=0\", \"offsetgroup\": \"children=0\", \"orientation\": \"v\", \"showlegend\": true, \"type\": \"histogram\", \"x\": [\"yes\", \"no\", \"no\", \"no\", \"no\", \"no\", \"yes\", \"no\", \"no\", \"yes\", \"no\", \"no\", \"yes\", \"no\", \"no\", \"no\", \"yes\", \"no\", \"no\", \"no\", \"no\", \"yes\", \"no\", \"no\", \"no\", \"no\", \"no\", \"yes\", \"yes\", \"no\", \"no\", \"yes\", \"no\", \"no\", \"no\", \"no\", \"no\", \"yes\", \"no\", \"no\", \"no\", \"no\", \"no\", \"yes\", \"yes\", \"no\", \"no\", \"no\", \"no\", \"yes\", \"no\", \"no\", \"no\", \"no\", \"no\", \"no\", \"no\", \"no\", \"yes\", \"no\", \"no\", \"no\", \"no\", \"no\", \"no\", \"no\", \"no\", \"no\", \"no\", \"yes\", \"no\", \"yes\", \"yes\", \"yes\", \"yes\", \"yes\", \"no\", \"no\", \"no\", \"no\", \"no\", \"yes\", \"no\", \"no\", \"no\", \"no\", \"no\", \"no\", \"no\", \"no\", \"no\", \"no\", \"no\", \"no\", \"no\", \"yes\", \"no\", \"no\", \"no\", \"no\", \"no\", \"no\", \"no\", \"yes\", \"yes\", \"no\", \"no\", \"no\", \"no\", \"yes\", \"yes\", \"no\", \"no\", \"no\", \"yes\", \"yes\", \"no\", \"yes\", \"no\", \"yes\", \"no\", \"no\", \"no\", \"no\", \"no\", \"no\", \"no\", \"yes\", \"no\", \"no\", \"no\", \"no\", \"yes\", \"no\", \"no\", \"no\", \"no\", \"yes\", \"no\", \"no\", \"no\", \"yes\", \"no\", \"no\", \"no\", \"no\", \"no\", \"no\", \"no\", \"no\", \"no\", \"no\", \"no\", \"no\", \"no\", \"no\", \"no\", \"no\", \"no\", \"yes\", \"no\", \"no\", \"no\", \"yes\", \"yes\", \"yes\", \"no\", \"no\", \"no\", \"no\", \"no\", \"no\", \"no\", \"no\", \"no\", \"no\", \"no\", \"no\", \"no\", \"no\", \"no\", \"yes\", \"yes\", \"yes\", \"no\", \"no\", \"no\", \"no\", \"no\", \"no\", \"no\", \"yes\", \"no\", \"no\", \"no\", \"no\", \"no\", \"no\", \"no\", \"no\", \"no\", \"no\", \"yes\", \"no\", \"no\", \"no\", \"no\", \"no\", \"no\", \"yes\", \"no\", \"no\", \"no\", \"no\", \"no\", \"no\", \"yes\", \"no\", \"no\", \"no\", \"no\", \"no\", \"no\", \"yes\", \"no\", \"yes\", \"no\", \"no\", \"no\", \"no\", \"no\", \"no\", \"no\", \"no\", \"no\", \"no\", \"no\", \"no\", \"no\", \"no\", \"no\", \"no\", \"no\", \"no\", \"yes\", \"no\", \"no\", \"no\", \"yes\", \"no\", \"no\", \"no\", \"no\", \"no\", \"no\", \"no\", \"no\", \"no\", \"no\", \"no\", \"no\", \"no\", \"no\", \"no\", \"no\", \"no\", \"no\", \"no\", \"no\", \"no\", \"yes\", \"no\", \"no\", \"yes\", \"no\", \"no\", \"no\", \"yes\", \"no\", \"yes\", \"no\", \"no\", \"no\", \"yes\", \"no\", \"no\", \"no\", \"yes\", \"no\", \"no\", \"no\", \"no\", \"no\", \"no\", \"yes\", \"yes\", \"no\", \"no\", \"no\", \"no\", \"no\", \"no\", \"no\", \"no\", \"no\", \"no\", \"no\", \"no\", \"no\", \"no\", \"yes\", \"no\", \"no\", \"no\", \"no\", \"no\", \"no\", \"no\", \"no\", \"no\", \"yes\", \"yes\", \"yes\", \"no\", \"no\", \"no\", \"no\", \"yes\", \"no\", \"no\", \"no\", \"yes\", \"yes\", \"no\", \"no\", \"no\", \"no\", \"yes\", \"no\", \"no\", \"no\", \"no\", \"no\", \"no\", \"no\", \"no\", \"no\", \"yes\", \"yes\", \"no\", \"yes\", \"no\", \"yes\", \"no\", \"no\", \"no\", \"no\", \"no\", \"no\", \"yes\", \"no\", \"no\", \"no\", \"no\", \"no\", \"no\", \"no\", \"no\", \"no\", \"no\", \"no\", \"yes\", \"no\", \"yes\", \"no\", \"no\", \"yes\", \"yes\", \"no\", \"yes\", \"yes\", \"no\", \"no\", \"no\", \"no\", \"no\", \"no\", \"no\", \"no\", \"no\", \"yes\", \"no\", \"no\", \"yes\", \"no\", \"no\", \"no\", \"no\", \"no\", \"no\", \"yes\", \"no\", \"no\", \"yes\", \"yes\", \"no\", \"yes\", \"yes\", \"no\", \"no\", \"no\", \"no\", \"no\", \"no\", \"no\", \"no\", \"no\", \"no\", \"no\", \"no\", \"no\", \"no\", \"no\", \"no\", \"no\", \"no\", \"no\", \"no\", \"yes\", \"no\", \"no\", \"no\", \"no\", \"yes\", \"no\", \"no\", \"yes\", \"no\", \"no\", \"no\", \"no\", \"no\", \"no\", \"no\", \"no\", \"no\", \"yes\", \"no\", \"yes\", \"no\", \"no\", \"yes\", \"no\", \"yes\", \"no\", \"no\", \"yes\", \"no\", \"no\", \"no\", \"no\", \"no\", \"no\", \"no\", \"no\", \"no\", \"no\", \"no\", \"no\", \"yes\", \"no\", \"no\", \"no\", \"yes\", \"no\", \"yes\", \"no\", \"no\", \"no\", \"no\", \"no\", \"no\", \"no\", \"yes\", \"no\", \"no\", \"no\", \"no\", \"no\", \"no\", \"no\", \"no\", \"yes\", \"no\", \"yes\", \"no\", \"no\", \"no\", \"no\", \"yes\", \"no\", \"no\", \"no\", \"no\", \"no\", \"no\", \"no\", \"no\", \"yes\", \"no\", \"no\", \"no\", \"no\", \"no\", \"no\", \"yes\", \"no\", \"no\", \"no\", \"no\", \"no\", \"no\", \"yes\", \"no\", \"no\", \"yes\", \"no\", \"no\", \"no\", \"no\", \"no\", \"no\", \"no\", \"yes\", \"no\", \"yes\", \"no\", \"no\", \"no\", \"no\", \"yes\", \"no\", \"yes\", \"no\", \"no\", \"yes\", \"no\", \"no\", \"no\", \"no\", \"yes\", \"no\", \"no\", \"yes\", \"no\", \"no\", \"no\", \"yes\", \"yes\", \"no\", \"yes\", \"yes\", \"no\", \"no\", \"no\", \"yes\", \"no\", \"no\", \"no\", \"no\", \"no\", \"no\", \"no\", \"yes\"], \"xaxis\": \"x\", \"yaxis\": \"y\"}, {\"alignmentgroup\": \"True\", \"bingroup\": \"x\", \"hoverlabel\": {\"namelength\": 0}, \"hovertemplate\": \"children=1<br>smoker=%{x}<br>count=%{y}\", \"legendgroup\": \"children=1\", \"marker\": {\"color\": \"#EF553B\"}, \"name\": \"children=1\", \"offsetgroup\": \"children=1\", \"orientation\": \"v\", \"showlegend\": true, \"type\": \"histogram\", \"x\": [\"no\", \"no\", \"no\", \"no\", \"no\", \"yes\", \"no\", \"yes\", \"yes\", \"no\", \"no\", \"yes\", \"yes\", \"yes\", \"no\", \"no\", \"no\", \"no\", \"no\", \"no\", \"yes\", \"no\", \"no\", \"no\", \"yes\", \"no\", \"no\", \"yes\", \"yes\", \"no\", \"no\", \"no\", \"no\", \"no\", \"no\", \"no\", \"no\", \"no\", \"no\", \"no\", \"no\", \"no\", \"no\", \"no\", \"no\", \"no\", \"no\", \"no\", \"no\", \"no\", \"no\", \"no\", \"no\", \"no\", \"no\", \"no\", \"yes\", \"yes\", \"no\", \"no\", \"no\", \"no\", \"no\", \"yes\", \"no\", \"no\", \"no\", \"yes\", \"no\", \"yes\", \"no\", \"no\", \"no\", \"no\", \"no\", \"no\", \"yes\", \"yes\", \"no\", \"yes\", \"no\", \"no\", \"no\", \"no\", \"no\", \"no\", \"no\", \"no\", \"no\", \"no\", \"no\", \"no\", \"no\", \"yes\", \"no\", \"no\", \"yes\", \"no\", \"no\", \"no\", \"no\", \"no\", \"yes\", \"no\", \"no\", \"yes\", \"no\", \"no\", \"no\", \"yes\", \"no\", \"no\", \"yes\", \"no\", \"no\", \"no\", \"yes\", \"no\", \"no\", \"yes\", \"no\", \"no\", \"yes\", \"no\", \"no\", \"no\", \"no\", \"no\", \"no\", \"no\", \"yes\", \"no\", \"no\", \"no\", \"no\", \"yes\", \"no\", \"no\", \"yes\", \"no\", \"no\", \"no\", \"yes\", \"no\", \"no\", \"no\", \"no\", \"no\", \"no\", \"no\", \"no\", \"no\", \"no\", \"no\", \"no\", \"no\", \"no\", \"no\", \"no\", \"no\", \"yes\", \"no\", \"no\", \"no\", \"yes\", \"no\", \"no\", \"no\", \"no\", \"no\", \"no\", \"no\", \"yes\", \"no\", \"no\", \"no\", \"no\", \"no\", \"no\", \"no\", \"yes\", \"no\", \"no\", \"no\", \"yes\", \"no\", \"no\", \"no\", \"no\", \"no\", \"no\", \"yes\", \"no\", \"yes\", \"no\", \"no\", \"no\", \"no\", \"no\", \"no\", \"no\", \"no\", \"no\", \"no\", \"no\", \"yes\", \"no\", \"no\", \"no\", \"no\", \"no\", \"no\", \"no\", \"no\", \"no\", \"no\", \"no\", \"no\", \"no\", \"yes\", \"no\", \"yes\", \"no\", \"yes\", \"no\", \"yes\", \"no\", \"no\", \"no\", \"no\", \"no\", \"no\", \"no\", \"no\", \"no\", \"no\", \"no\", \"no\", \"no\", \"no\", \"no\", \"no\", \"yes\", \"no\", \"no\", \"yes\", \"yes\", \"yes\", \"no\", \"yes\", \"no\", \"no\", \"no\", \"no\", \"no\", \"yes\", \"no\", \"no\", \"no\", \"yes\", \"no\", \"no\", \"no\", \"no\", \"no\", \"no\", \"no\", \"no\", \"no\", \"no\", \"no\", \"yes\", \"no\", \"yes\", \"no\", \"no\", \"no\", \"no\", \"no\", \"no\", \"no\", \"no\", \"no\", \"yes\", \"yes\", \"no\", \"no\", \"no\", \"yes\", \"yes\", \"no\", \"no\", \"no\", \"no\", \"no\", \"yes\", \"no\", \"no\", \"no\", \"yes\", \"no\", \"no\", \"no\", \"no\", \"yes\", \"no\", \"no\", \"no\", \"no\", \"no\", \"no\", \"yes\", \"no\", \"yes\", \"no\", \"no\", \"no\", \"no\", \"no\", \"no\", \"no\", \"no\", \"no\", \"no\"], \"xaxis\": \"x\", \"yaxis\": \"y\"}, {\"alignmentgroup\": \"True\", \"bingroup\": \"x\", \"hoverlabel\": {\"namelength\": 0}, \"hovertemplate\": \"children=3<br>smoker=%{x}<br>count=%{y}\", \"legendgroup\": \"children=3\", \"marker\": {\"color\": \"#00cc96\"}, \"name\": \"children=3\", \"offsetgroup\": \"children=3\", \"orientation\": \"v\", \"showlegend\": true, \"type\": \"histogram\", \"x\": [\"no\", \"no\", \"no\", \"no\", \"no\", \"no\", \"yes\", \"no\", \"yes\", \"no\", \"yes\", \"no\", \"no\", \"no\", \"yes\", \"no\", \"yes\", \"no\", \"no\", \"no\", \"no\", \"no\", \"no\", \"yes\", \"no\", \"no\", \"no\", \"no\", \"no\", \"no\", \"no\", \"yes\", \"no\", \"yes\", \"no\", \"yes\", \"no\", \"no\", \"yes\", \"no\", \"yes\", \"yes\", \"no\", \"no\", \"no\", \"no\", \"no\", \"yes\", \"no\", \"no\", \"no\", \"no\", \"no\", \"no\", \"no\", \"no\", \"no\", \"no\", \"yes\", \"no\", \"no\", \"no\", \"no\", \"no\", \"no\", \"yes\", \"no\", \"no\", \"no\", \"no\", \"yes\", \"no\", \"no\", \"no\", \"no\", \"no\", \"no\", \"yes\", \"no\", \"no\", \"no\", \"no\", \"yes\", \"yes\", \"no\", \"no\", \"yes\", \"no\", \"no\", \"no\", \"no\", \"no\", \"yes\", \"no\", \"no\", \"no\", \"no\", \"no\", \"yes\", \"yes\", \"no\", \"no\", \"no\", \"no\", \"yes\", \"no\", \"no\", \"no\", \"no\", \"yes\", \"no\", \"no\", \"no\", \"yes\", \"no\", \"yes\", \"no\", \"no\", \"no\", \"yes\", \"no\", \"yes\", \"no\", \"yes\", \"no\", \"no\", \"no\", \"no\", \"no\", \"yes\", \"yes\", \"no\", \"no\", \"yes\", \"no\", \"no\", \"no\", \"yes\", \"no\", \"yes\", \"no\", \"yes\", \"no\", \"yes\", \"no\", \"no\", \"no\", \"no\", \"no\", \"no\", \"no\", \"no\", \"yes\", \"yes\", \"no\", \"no\", \"no\"], \"xaxis\": \"x\", \"yaxis\": \"y\"}, {\"alignmentgroup\": \"True\", \"bingroup\": \"x\", \"hoverlabel\": {\"namelength\": 0}, \"hovertemplate\": \"children=2<br>smoker=%{x}<br>count=%{y}\", \"legendgroup\": \"children=2\", \"marker\": {\"color\": \"#ab63fa\"}, \"name\": \"children=2\", \"offsetgroup\": \"children=2\", \"orientation\": \"v\", \"showlegend\": true, \"type\": \"histogram\", \"x\": [\"no\", \"no\", \"no\", \"yes\", \"no\", \"no\", \"no\", \"no\", \"yes\", \"no\", \"yes\", \"no\", \"no\", \"no\", \"yes\", \"yes\", \"no\", \"yes\", \"no\", \"no\", \"no\", \"no\", \"yes\", \"no\", \"no\", \"no\", \"yes\", \"no\", \"no\", \"no\", \"no\", \"no\", \"no\", \"no\", \"no\", \"yes\", \"no\", \"no\", \"no\", \"no\", \"no\", \"yes\", \"no\", \"yes\", \"yes\", \"yes\", \"yes\", \"yes\", \"no\", \"no\", \"no\", \"no\", \"no\", \"yes\", \"no\", \"no\", \"no\", \"no\", \"no\", \"no\", \"yes\", \"no\", \"no\", \"no\", \"no\", \"no\", \"no\", \"yes\", \"yes\", \"no\", \"no\", \"no\", \"no\", \"no\", \"no\", \"yes\", \"yes\", \"no\", \"no\", \"no\", \"no\", \"no\", \"no\", \"no\", \"no\", \"no\", \"no\", \"no\", \"no\", \"no\", \"no\", \"no\", \"no\", \"yes\", \"no\", \"no\", \"no\", \"no\", \"no\", \"no\", \"yes\", \"no\", \"no\", \"no\", \"no\", \"no\", \"no\", \"no\", \"no\", \"yes\", \"no\", \"yes\", \"no\", \"no\", \"no\", \"no\", \"no\", \"yes\", \"no\", \"yes\", \"yes\", \"yes\", \"no\", \"yes\", \"no\", \"no\", \"no\", \"no\", \"no\", \"no\", \"no\", \"no\", \"no\", \"yes\", \"no\", \"no\", \"no\", \"no\", \"no\", \"no\", \"no\", \"no\", \"no\", \"no\", \"no\", \"no\", \"no\", \"no\", \"no\", \"no\", \"yes\", \"no\", \"no\", \"no\", \"yes\", \"no\", \"no\", \"yes\", \"no\", \"no\", \"no\", \"yes\", \"yes\", \"no\", \"no\", \"no\", \"no\", \"no\", \"no\", \"no\", \"no\", \"yes\", \"yes\", \"no\", \"yes\", \"no\", \"no\", \"no\", \"yes\", \"no\", \"no\", \"no\", \"yes\", \"no\", \"no\", \"no\", \"yes\", \"no\", \"yes\", \"no\", \"no\", \"no\", \"no\", \"yes\", \"yes\", \"no\", \"yes\", \"no\", \"no\", \"no\", \"no\", \"no\", \"no\", \"no\", \"no\", \"no\", \"yes\", \"no\", \"no\", \"no\", \"no\", \"no\", \"no\", \"no\", \"no\", \"yes\", \"no\", \"no\", \"no\", \"no\", \"no\", \"no\", \"no\", \"yes\", \"yes\", \"no\", \"no\", \"yes\", \"yes\", \"no\", \"no\", \"no\", \"yes\", \"no\", \"yes\", \"no\", \"yes\", \"no\", \"no\", \"no\"], \"xaxis\": \"x\", \"yaxis\": \"y\"}, {\"alignmentgroup\": \"True\", \"bingroup\": \"x\", \"hoverlabel\": {\"namelength\": 0}, \"hovertemplate\": \"children=5<br>smoker=%{x}<br>count=%{y}\", \"legendgroup\": \"children=5\", \"marker\": {\"color\": \"#FFA15A\"}, \"name\": \"children=5\", \"offsetgroup\": \"children=5\", \"orientation\": \"v\", \"showlegend\": true, \"type\": \"histogram\", \"x\": [\"no\", \"no\", \"no\", \"no\", \"no\", \"no\", \"no\", \"no\", \"no\", \"no\", \"no\", \"no\", \"no\", \"yes\", \"no\", \"no\", \"no\", \"no\"], \"xaxis\": \"x\", \"yaxis\": \"y\"}, {\"alignmentgroup\": \"True\", \"bingroup\": \"x\", \"hoverlabel\": {\"namelength\": 0}, \"hovertemplate\": \"children=4<br>smoker=%{x}<br>count=%{y}\", \"legendgroup\": \"children=4\", \"marker\": {\"color\": \"#19d3f3\"}, \"name\": \"children=4\", \"offsetgroup\": \"children=4\", \"orientation\": \"v\", \"showlegend\": true, \"type\": \"histogram\", \"x\": [\"no\", \"no\", \"no\", \"no\", \"no\", \"no\", \"no\", \"no\", \"no\", \"yes\", \"yes\", \"no\", \"no\", \"no\", \"no\", \"no\", \"no\", \"no\", \"no\", \"no\", \"no\", \"no\", \"no\", \"yes\", \"no\"], \"xaxis\": \"x\", \"yaxis\": \"y\"}],\n",
              "                        {\"barmode\": \"relative\", \"legend\": {\"tracegroupgap\": 0}, \"template\": {\"data\": {\"bar\": [{\"error_x\": {\"color\": \"#2a3f5f\"}, \"error_y\": {\"color\": \"#2a3f5f\"}, \"marker\": {\"line\": {\"color\": \"#E5ECF6\", \"width\": 0.5}}, \"type\": \"bar\"}], \"barpolar\": [{\"marker\": {\"line\": {\"color\": \"#E5ECF6\", \"width\": 0.5}}, \"type\": \"barpolar\"}], \"carpet\": [{\"aaxis\": {\"endlinecolor\": \"#2a3f5f\", \"gridcolor\": \"white\", \"linecolor\": \"white\", \"minorgridcolor\": \"white\", \"startlinecolor\": \"#2a3f5f\"}, \"baxis\": {\"endlinecolor\": \"#2a3f5f\", \"gridcolor\": \"white\", \"linecolor\": \"white\", \"minorgridcolor\": \"white\", \"startlinecolor\": \"#2a3f5f\"}, \"type\": \"carpet\"}], \"choropleth\": [{\"colorbar\": {\"outlinewidth\": 0, \"ticks\": \"\"}, \"type\": \"choropleth\"}], \"contour\": [{\"colorbar\": {\"outlinewidth\": 0, \"ticks\": \"\"}, \"colorscale\": [[0.0, \"#0d0887\"], [0.1111111111111111, \"#46039f\"], [0.2222222222222222, \"#7201a8\"], [0.3333333333333333, \"#9c179e\"], [0.4444444444444444, \"#bd3786\"], [0.5555555555555556, \"#d8576b\"], [0.6666666666666666, \"#ed7953\"], [0.7777777777777778, \"#fb9f3a\"], [0.8888888888888888, \"#fdca26\"], [1.0, \"#f0f921\"]], \"type\": \"contour\"}], \"contourcarpet\": [{\"colorbar\": {\"outlinewidth\": 0, \"ticks\": \"\"}, \"type\": \"contourcarpet\"}], \"heatmap\": [{\"colorbar\": {\"outlinewidth\": 0, \"ticks\": \"\"}, \"colorscale\": [[0.0, \"#0d0887\"], [0.1111111111111111, \"#46039f\"], [0.2222222222222222, \"#7201a8\"], [0.3333333333333333, \"#9c179e\"], [0.4444444444444444, \"#bd3786\"], [0.5555555555555556, \"#d8576b\"], [0.6666666666666666, \"#ed7953\"], [0.7777777777777778, \"#fb9f3a\"], [0.8888888888888888, \"#fdca26\"], [1.0, \"#f0f921\"]], \"type\": \"heatmap\"}], \"heatmapgl\": [{\"colorbar\": {\"outlinewidth\": 0, \"ticks\": \"\"}, \"colorscale\": [[0.0, \"#0d0887\"], [0.1111111111111111, \"#46039f\"], [0.2222222222222222, \"#7201a8\"], [0.3333333333333333, \"#9c179e\"], [0.4444444444444444, \"#bd3786\"], [0.5555555555555556, \"#d8576b\"], [0.6666666666666666, \"#ed7953\"], [0.7777777777777778, \"#fb9f3a\"], [0.8888888888888888, \"#fdca26\"], [1.0, \"#f0f921\"]], \"type\": \"heatmapgl\"}], \"histogram\": [{\"marker\": {\"colorbar\": {\"outlinewidth\": 0, \"ticks\": \"\"}}, \"type\": \"histogram\"}], \"histogram2d\": [{\"colorbar\": {\"outlinewidth\": 0, \"ticks\": \"\"}, \"colorscale\": [[0.0, \"#0d0887\"], [0.1111111111111111, \"#46039f\"], [0.2222222222222222, \"#7201a8\"], [0.3333333333333333, \"#9c179e\"], [0.4444444444444444, \"#bd3786\"], [0.5555555555555556, \"#d8576b\"], [0.6666666666666666, \"#ed7953\"], [0.7777777777777778, \"#fb9f3a\"], [0.8888888888888888, \"#fdca26\"], [1.0, \"#f0f921\"]], \"type\": \"histogram2d\"}], \"histogram2dcontour\": [{\"colorbar\": {\"outlinewidth\": 0, \"ticks\": \"\"}, \"colorscale\": [[0.0, \"#0d0887\"], [0.1111111111111111, \"#46039f\"], [0.2222222222222222, \"#7201a8\"], [0.3333333333333333, \"#9c179e\"], [0.4444444444444444, \"#bd3786\"], [0.5555555555555556, \"#d8576b\"], [0.6666666666666666, \"#ed7953\"], [0.7777777777777778, \"#fb9f3a\"], [0.8888888888888888, \"#fdca26\"], [1.0, \"#f0f921\"]], \"type\": \"histogram2dcontour\"}], \"mesh3d\": [{\"colorbar\": {\"outlinewidth\": 0, \"ticks\": \"\"}, \"type\": \"mesh3d\"}], \"parcoords\": [{\"line\": {\"colorbar\": {\"outlinewidth\": 0, \"ticks\": \"\"}}, \"type\": \"parcoords\"}], \"pie\": [{\"automargin\": true, \"type\": \"pie\"}], \"scatter\": [{\"marker\": {\"colorbar\": {\"outlinewidth\": 0, \"ticks\": \"\"}}, \"type\": \"scatter\"}], \"scatter3d\": [{\"line\": {\"colorbar\": {\"outlinewidth\": 0, \"ticks\": \"\"}}, \"marker\": {\"colorbar\": {\"outlinewidth\": 0, \"ticks\": \"\"}}, \"type\": \"scatter3d\"}], \"scattercarpet\": [{\"marker\": {\"colorbar\": {\"outlinewidth\": 0, \"ticks\": \"\"}}, \"type\": \"scattercarpet\"}], \"scattergeo\": [{\"marker\": {\"colorbar\": {\"outlinewidth\": 0, \"ticks\": \"\"}}, \"type\": \"scattergeo\"}], \"scattergl\": [{\"marker\": {\"colorbar\": {\"outlinewidth\": 0, \"ticks\": \"\"}}, \"type\": \"scattergl\"}], \"scattermapbox\": [{\"marker\": {\"colorbar\": {\"outlinewidth\": 0, \"ticks\": \"\"}}, \"type\": \"scattermapbox\"}], \"scatterpolar\": [{\"marker\": {\"colorbar\": {\"outlinewidth\": 0, \"ticks\": \"\"}}, \"type\": \"scatterpolar\"}], \"scatterpolargl\": [{\"marker\": {\"colorbar\": {\"outlinewidth\": 0, \"ticks\": \"\"}}, \"type\": \"scatterpolargl\"}], \"scatterternary\": [{\"marker\": {\"colorbar\": {\"outlinewidth\": 0, \"ticks\": \"\"}}, \"type\": \"scatterternary\"}], \"surface\": [{\"colorbar\": {\"outlinewidth\": 0, \"ticks\": \"\"}, \"colorscale\": [[0.0, \"#0d0887\"], [0.1111111111111111, \"#46039f\"], [0.2222222222222222, \"#7201a8\"], [0.3333333333333333, \"#9c179e\"], [0.4444444444444444, \"#bd3786\"], [0.5555555555555556, \"#d8576b\"], [0.6666666666666666, \"#ed7953\"], [0.7777777777777778, \"#fb9f3a\"], [0.8888888888888888, \"#fdca26\"], [1.0, \"#f0f921\"]], \"type\": \"surface\"}], \"table\": [{\"cells\": {\"fill\": {\"color\": \"#EBF0F8\"}, \"line\": {\"color\": \"white\"}}, \"header\": {\"fill\": {\"color\": \"#C8D4E3\"}, \"line\": {\"color\": \"white\"}}, \"type\": \"table\"}]}, \"layout\": {\"annotationdefaults\": {\"arrowcolor\": \"#2a3f5f\", \"arrowhead\": 0, \"arrowwidth\": 1}, \"coloraxis\": {\"colorbar\": {\"outlinewidth\": 0, \"ticks\": \"\"}}, \"colorscale\": {\"diverging\": [[0, \"#8e0152\"], [0.1, \"#c51b7d\"], [0.2, \"#de77ae\"], [0.3, \"#f1b6da\"], [0.4, \"#fde0ef\"], [0.5, \"#f7f7f7\"], [0.6, \"#e6f5d0\"], [0.7, \"#b8e186\"], [0.8, \"#7fbc41\"], [0.9, \"#4d9221\"], [1, \"#276419\"]], \"sequential\": [[0.0, \"#0d0887\"], [0.1111111111111111, \"#46039f\"], [0.2222222222222222, \"#7201a8\"], [0.3333333333333333, \"#9c179e\"], [0.4444444444444444, \"#bd3786\"], [0.5555555555555556, \"#d8576b\"], [0.6666666666666666, \"#ed7953\"], [0.7777777777777778, \"#fb9f3a\"], [0.8888888888888888, \"#fdca26\"], [1.0, \"#f0f921\"]], \"sequentialminus\": [[0.0, \"#0d0887\"], [0.1111111111111111, \"#46039f\"], [0.2222222222222222, \"#7201a8\"], [0.3333333333333333, \"#9c179e\"], [0.4444444444444444, \"#bd3786\"], [0.5555555555555556, \"#d8576b\"], [0.6666666666666666, \"#ed7953\"], [0.7777777777777778, \"#fb9f3a\"], [0.8888888888888888, \"#fdca26\"], [1.0, \"#f0f921\"]]}, \"colorway\": [\"#636efa\", \"#EF553B\", \"#00cc96\", \"#ab63fa\", \"#FFA15A\", \"#19d3f3\", \"#FF6692\", \"#B6E880\", \"#FF97FF\", \"#FECB52\"], \"font\": {\"color\": \"#2a3f5f\"}, \"geo\": {\"bgcolor\": \"white\", \"lakecolor\": \"white\", \"landcolor\": \"#E5ECF6\", \"showlakes\": true, \"showland\": true, \"subunitcolor\": \"white\"}, \"hoverlabel\": {\"align\": \"left\"}, \"hovermode\": \"closest\", \"mapbox\": {\"style\": \"light\"}, \"paper_bgcolor\": \"white\", \"plot_bgcolor\": \"#E5ECF6\", \"polar\": {\"angularaxis\": {\"gridcolor\": \"white\", \"linecolor\": \"white\", \"ticks\": \"\"}, \"bgcolor\": \"#E5ECF6\", \"radialaxis\": {\"gridcolor\": \"white\", \"linecolor\": \"white\", \"ticks\": \"\"}}, \"scene\": {\"xaxis\": {\"backgroundcolor\": \"#E5ECF6\", \"gridcolor\": \"white\", \"gridwidth\": 2, \"linecolor\": \"white\", \"showbackground\": true, \"ticks\": \"\", \"zerolinecolor\": \"white\"}, \"yaxis\": {\"backgroundcolor\": \"#E5ECF6\", \"gridcolor\": \"white\", \"gridwidth\": 2, \"linecolor\": \"white\", \"showbackground\": true, \"ticks\": \"\", \"zerolinecolor\": \"white\"}, \"zaxis\": {\"backgroundcolor\": \"#E5ECF6\", \"gridcolor\": \"white\", \"gridwidth\": 2, \"linecolor\": \"white\", \"showbackground\": true, \"ticks\": \"\", \"zerolinecolor\": \"white\"}}, \"shapedefaults\": {\"line\": {\"color\": \"#2a3f5f\"}}, \"ternary\": {\"aaxis\": {\"gridcolor\": \"white\", \"linecolor\": \"white\", \"ticks\": \"\"}, \"baxis\": {\"gridcolor\": \"white\", \"linecolor\": \"white\", \"ticks\": \"\"}, \"bgcolor\": \"#E5ECF6\", \"caxis\": {\"gridcolor\": \"white\", \"linecolor\": \"white\", \"ticks\": \"\"}}, \"title\": {\"x\": 0.05}, \"xaxis\": {\"automargin\": true, \"gridcolor\": \"white\", \"linecolor\": \"white\", \"ticks\": \"\", \"title\": {\"standoff\": 15}, \"zerolinecolor\": \"white\", \"zerolinewidth\": 2}, \"yaxis\": {\"automargin\": true, \"gridcolor\": \"white\", \"linecolor\": \"white\", \"ticks\": \"\", \"title\": {\"standoff\": 15}, \"zerolinecolor\": \"white\", \"zerolinewidth\": 2}}}, \"title\": {\"text\": \"Smoker\"}, \"xaxis\": {\"anchor\": \"y\", \"domain\": [0.0, 1.0], \"title\": {\"text\": \"smoker\"}}, \"yaxis\": {\"anchor\": \"x\", \"domain\": [0.0, 1.0], \"title\": {\"text\": \"count\"}}},\n",
              "                        {\"responsive\": true}\n",
              "                    ).then(function(){\n",
              "                            \n",
              "var gd = document.getElementById('16b63ff7-3134-41cb-81f8-4f926aebbbd5');\n",
              "var x = new MutationObserver(function (mutations, observer) {{\n",
              "        var display = window.getComputedStyle(gd).display;\n",
              "        if (!display || display === 'none') {{\n",
              "            console.log([gd, 'removed!']);\n",
              "            Plotly.purge(gd);\n",
              "            observer.disconnect();\n",
              "        }}\n",
              "}});\n",
              "\n",
              "// Listen for the removal of the full notebook cells\n",
              "var notebookContainer = gd.closest('#notebook-container');\n",
              "if (notebookContainer) {{\n",
              "    x.observe(notebookContainer, {childList: true});\n",
              "}}\n",
              "\n",
              "// Listen for the clearing of the current output cell\n",
              "var outputEl = gd.closest('.output');\n",
              "if (outputEl) {{\n",
              "    x.observe(outputEl, {childList: true});\n",
              "}}\n",
              "\n",
              "                        })\n",
              "                };\n",
              "                \n",
              "            </script>\n",
              "        </div>\n",
              "</body>\n",
              "</html>"
            ]
          },
          "metadata": {
            "tags": []
          }
        }
      ]
    },
    {
      "cell_type": "code",
      "metadata": {
        "colab": {
          "base_uri": "https://localhost:8080/",
          "height": 542
        },
        "id": "FishtxVaEHTz",
        "outputId": "44206349-09e6-4389-8b5f-385fe16596f0"
      },
      "source": [
        "px.histogram(medical_df, x='smoker', color='region', title='Smoker')"
      ],
      "execution_count": null,
      "outputs": [
        {
          "output_type": "display_data",
          "data": {
            "text/html": [
              "<html>\n",
              "<head><meta charset=\"utf-8\" /></head>\n",
              "<body>\n",
              "    <div>\n",
              "            <script src=\"https://cdnjs.cloudflare.com/ajax/libs/mathjax/2.7.5/MathJax.js?config=TeX-AMS-MML_SVG\"></script><script type=\"text/javascript\">if (window.MathJax) {MathJax.Hub.Config({SVG: {font: \"STIX-Web\"}});}</script>\n",
              "                <script type=\"text/javascript\">window.PlotlyConfig = {MathJaxConfig: 'local'};</script>\n",
              "        <script src=\"https://cdn.plot.ly/plotly-latest.min.js\"></script>    \n",
              "            <div id=\"9bf205b4-0d56-4347-8a7c-040edf11f533\" class=\"plotly-graph-div\" style=\"height:525px; width:100%;\"></div>\n",
              "            <script type=\"text/javascript\">\n",
              "                \n",
              "                    window.PLOTLYENV=window.PLOTLYENV || {};\n",
              "                    \n",
              "                if (document.getElementById(\"9bf205b4-0d56-4347-8a7c-040edf11f533\")) {\n",
              "                    Plotly.newPlot(\n",
              "                        '9bf205b4-0d56-4347-8a7c-040edf11f533',\n",
              "                        [{\"alignmentgroup\": \"True\", \"bingroup\": \"x\", \"hoverlabel\": {\"namelength\": 0}, \"hovertemplate\": \"region=southwest<br>smoker=%{x}<br>count=%{y}\", \"legendgroup\": \"region=southwest\", \"marker\": {\"color\": \"#636efa\"}, \"name\": \"region=southwest\", \"offsetgroup\": \"region=southwest\", \"orientation\": \"v\", \"showlegend\": true, \"type\": \"histogram\", \"x\": [\"yes\", \"no\", \"no\", \"no\", \"yes\", \"no\", \"yes\", \"yes\", \"no\", \"yes\", \"no\", \"yes\", \"no\", \"yes\", \"no\", \"no\", \"no\", \"no\", \"yes\", \"no\", \"yes\", \"no\", \"yes\", \"no\", \"no\", \"no\", \"no\", \"no\", \"no\", \"yes\", \"no\", \"no\", \"no\", \"no\", \"no\", \"no\", \"no\", \"no\", \"no\", \"no\", \"no\", \"yes\", \"no\", \"no\", \"no\", \"no\", \"no\", \"no\", \"no\", \"no\", \"no\", \"no\", \"no\", \"no\", \"no\", \"yes\", \"no\", \"no\", \"no\", \"no\", \"no\", \"yes\", \"no\", \"no\", \"no\", \"yes\", \"no\", \"no\", \"no\", \"no\", \"yes\", \"no\", \"no\", \"no\", \"no\", \"yes\", \"yes\", \"no\", \"yes\", \"no\", \"no\", \"no\", \"no\", \"no\", \"no\", \"no\", \"yes\", \"no\", \"yes\", \"no\", \"no\", \"no\", \"no\", \"no\", \"no\", \"no\", \"yes\", \"no\", \"no\", \"no\", \"no\", \"no\", \"yes\", \"no\", \"no\", \"no\", \"no\", \"no\", \"no\", \"no\", \"yes\", \"no\", \"no\", \"yes\", \"no\", \"no\", \"no\", \"no\", \"no\", \"yes\", \"no\", \"no\", \"no\", \"yes\", \"no\", \"no\", \"yes\", \"no\", \"no\", \"no\", \"no\", \"no\", \"no\", \"no\", \"no\", \"no\", \"no\", \"no\", \"no\", \"no\", \"no\", \"no\", \"no\", \"no\", \"no\", \"yes\", \"no\", \"yes\", \"no\", \"no\", \"yes\", \"no\", \"no\", \"no\", \"no\", \"no\", \"no\", \"no\", \"no\", \"no\", \"no\", \"no\", \"yes\", \"no\", \"no\", \"no\", \"no\", \"no\", \"no\", \"no\", \"no\", \"no\", \"no\", \"no\", \"no\", \"no\", \"no\", \"yes\", \"no\", \"no\", \"no\", \"yes\", \"no\", \"no\", \"no\", \"no\", \"no\", \"yes\", \"yes\", \"no\", \"no\", \"no\", \"no\", \"no\", \"no\", \"no\", \"no\", \"no\", \"no\", \"no\", \"no\", \"no\", \"no\", \"yes\", \"no\", \"no\", \"no\", \"no\", \"no\", \"no\", \"no\", \"no\", \"no\", \"no\", \"no\", \"no\", \"no\", \"no\", \"no\", \"yes\", \"no\", \"no\", \"no\", \"no\", \"no\", \"no\", \"no\", \"no\", \"no\", \"no\", \"no\", \"no\", \"no\", \"no\", \"yes\", \"yes\", \"no\", \"no\", \"no\", \"yes\", \"no\", \"no\", \"no\", \"no\", \"yes\", \"no\", \"no\", \"no\", \"no\", \"no\", \"no\", \"no\", \"no\", \"no\", \"no\", \"yes\", \"yes\", \"no\", \"no\", \"no\", \"no\", \"no\", \"yes\", \"no\", \"no\", \"no\", \"no\", \"no\", \"no\", \"yes\", \"no\", \"no\", \"no\", \"no\", \"no\", \"no\", \"no\", \"yes\", \"no\", \"no\", \"no\", \"no\", \"no\", \"yes\", \"no\", \"no\", \"no\", \"no\", \"no\", \"no\", \"yes\", \"no\", \"no\", \"yes\", \"yes\", \"no\", \"no\", \"no\", \"no\", \"no\", \"yes\", \"no\", \"no\", \"no\", \"no\", \"no\", \"no\", \"no\", \"no\", \"yes\", \"no\", \"yes\", \"yes\", \"no\", \"no\", \"yes\", \"yes\", \"no\", \"no\", \"yes\", \"no\", \"no\", \"no\", \"no\", \"no\"], \"xaxis\": \"x\", \"yaxis\": \"y\"}, {\"alignmentgroup\": \"True\", \"bingroup\": \"x\", \"hoverlabel\": {\"namelength\": 0}, \"hovertemplate\": \"region=southeast<br>smoker=%{x}<br>count=%{y}\", \"legendgroup\": \"region=southeast\", \"marker\": {\"color\": \"#EF553B\"}, \"name\": \"region=southeast\", \"offsetgroup\": \"region=southeast\", \"orientation\": \"v\", \"showlegend\": true, \"type\": \"histogram\", \"x\": [\"no\", \"no\", \"no\", \"no\", \"yes\", \"no\", \"yes\", \"no\", \"no\", \"no\", \"no\", \"no\", \"no\", \"yes\", \"yes\", \"yes\", \"yes\", \"no\", \"no\", \"yes\", \"yes\", \"no\", \"no\", \"no\", \"yes\", \"no\", \"no\", \"no\", \"yes\", \"no\", \"yes\", \"no\", \"yes\", \"no\", \"no\", \"no\", \"yes\", \"no\", \"no\", \"no\", \"yes\", \"yes\", \"no\", \"yes\", \"no\", \"no\", \"no\", \"no\", \"no\", \"no\", \"no\", \"no\", \"no\", \"yes\", \"no\", \"no\", \"no\", \"no\", \"no\", \"yes\", \"no\", \"no\", \"no\", \"no\", \"yes\", \"no\", \"no\", \"no\", \"no\", \"no\", \"yes\", \"no\", \"yes\", \"no\", \"yes\", \"yes\", \"no\", \"no\", \"no\", \"no\", \"no\", \"yes\", \"no\", \"yes\", \"no\", \"no\", \"no\", \"yes\", \"no\", \"no\", \"no\", \"no\", \"no\", \"no\", \"no\", \"no\", \"no\", \"no\", \"no\", \"no\", \"no\", \"no\", \"yes\", \"no\", \"no\", \"no\", \"no\", \"no\", \"no\", \"no\", \"no\", \"no\", \"no\", \"no\", \"no\", \"no\", \"yes\", \"yes\", \"no\", \"no\", \"no\", \"no\", \"no\", \"no\", \"no\", \"no\", \"no\", \"yes\", \"no\", \"no\", \"no\", \"no\", \"no\", \"no\", \"yes\", \"no\", \"no\", \"yes\", \"yes\", \"no\", \"no\", \"no\", \"no\", \"no\", \"yes\", \"no\", \"yes\", \"no\", \"no\", \"no\", \"no\", \"no\", \"no\", \"no\", \"yes\", \"yes\", \"no\", \"no\", \"no\", \"no\", \"no\", \"no\", \"no\", \"no\", \"no\", \"no\", \"no\", \"no\", \"no\", \"no\", \"no\", \"no\", \"no\", \"no\", \"no\", \"yes\", \"yes\", \"no\", \"no\", \"no\", \"no\", \"no\", \"no\", \"no\", \"no\", \"no\", \"yes\", \"no\", \"no\", \"no\", \"yes\", \"yes\", \"no\", \"no\", \"no\", \"no\", \"yes\", \"no\", \"no\", \"yes\", \"yes\", \"no\", \"no\", \"no\", \"yes\", \"no\", \"no\", \"yes\", \"no\", \"yes\", \"yes\", \"yes\", \"no\", \"yes\", \"no\", \"yes\", \"yes\", \"no\", \"no\", \"no\", \"no\", \"no\", \"no\", \"no\", \"yes\", \"no\", \"no\", \"no\", \"yes\", \"no\", \"no\", \"no\", \"no\", \"no\", \"no\", \"no\", \"yes\", \"no\", \"yes\", \"yes\", \"yes\", \"no\", \"yes\", \"no\", \"no\", \"no\", \"no\", \"no\", \"yes\", \"no\", \"yes\", \"no\", \"yes\", \"no\", \"no\", \"no\", \"no\", \"no\", \"no\", \"no\", \"no\", \"no\", \"no\", \"no\", \"no\", \"no\", \"yes\", \"no\", \"yes\", \"no\", \"no\", \"no\", \"no\", \"no\", \"no\", \"no\", \"no\", \"no\", \"yes\", \"no\", \"yes\", \"yes\", \"no\", \"no\", \"yes\", \"yes\", \"yes\", \"no\", \"no\", \"no\", \"no\", \"yes\", \"no\", \"no\", \"yes\", \"no\", \"yes\", \"no\", \"no\", \"no\", \"yes\", \"no\", \"no\", \"no\", \"no\", \"no\", \"no\", \"yes\", \"yes\", \"no\", \"yes\", \"yes\", \"no\", \"no\", \"no\", \"no\", \"no\", \"no\", \"no\", \"yes\", \"yes\", \"no\", \"no\", \"no\", \"no\", \"yes\", \"yes\", \"no\", \"yes\", \"no\", \"no\", \"no\", \"no\", \"no\", \"yes\", \"no\", \"no\", \"no\", \"no\", \"no\", \"yes\", \"yes\", \"no\", \"no\", \"no\", \"no\", \"no\", \"yes\", \"no\", \"no\", \"yes\", \"no\", \"no\", \"no\", \"no\", \"no\", \"yes\", \"no\", \"no\", \"no\", \"yes\", \"no\", \"no\", \"no\"], \"xaxis\": \"x\", \"yaxis\": \"y\"}, {\"alignmentgroup\": \"True\", \"bingroup\": \"x\", \"hoverlabel\": {\"namelength\": 0}, \"hovertemplate\": \"region=northwest<br>smoker=%{x}<br>count=%{y}\", \"legendgroup\": \"region=northwest\", \"marker\": {\"color\": \"#00cc96\"}, \"name\": \"region=northwest\", \"offsetgroup\": \"region=northwest\", \"orientation\": \"v\", \"showlegend\": true, \"type\": \"histogram\", \"x\": [\"no\", \"no\", \"no\", \"no\", \"no\", \"no\", \"no\", \"no\", \"no\", \"no\", \"no\", \"no\", \"no\", \"yes\", \"no\", \"no\", \"no\", \"yes\", \"no\", \"no\", \"no\", \"no\", \"yes\", \"yes\", \"no\", \"no\", \"no\", \"no\", \"yes\", \"no\", \"no\", \"no\", \"no\", \"no\", \"no\", \"yes\", \"no\", \"no\", \"no\", \"yes\", \"yes\", \"no\", \"no\", \"no\", \"yes\", \"no\", \"no\", \"no\", \"no\", \"no\", \"no\", \"no\", \"no\", \"no\", \"no\", \"no\", \"no\", \"no\", \"no\", \"no\", \"no\", \"no\", \"no\", \"yes\", \"no\", \"yes\", \"no\", \"yes\", \"yes\", \"no\", \"no\", \"no\", \"no\", \"yes\", \"no\", \"no\", \"no\", \"no\", \"no\", \"no\", \"yes\", \"yes\", \"no\", \"no\", \"no\", \"no\", \"no\", \"no\", \"no\", \"no\", \"no\", \"yes\", \"no\", \"no\", \"no\", \"no\", \"no\", \"no\", \"no\", \"no\", \"no\", \"no\", \"yes\", \"no\", \"no\", \"no\", \"no\", \"yes\", \"no\", \"no\", \"no\", \"no\", \"no\", \"no\", \"yes\", \"no\", \"no\", \"no\", \"no\", \"no\", \"no\", \"no\", \"no\", \"no\", \"no\", \"yes\", \"no\", \"yes\", \"no\", \"no\", \"no\", \"no\", \"no\", \"yes\", \"no\", \"no\", \"yes\", \"no\", \"no\", \"no\", \"yes\", \"yes\", \"no\", \"no\", \"yes\", \"no\", \"yes\", \"no\", \"no\", \"no\", \"yes\", \"no\", \"yes\", \"no\", \"no\", \"no\", \"no\", \"no\", \"no\", \"no\", \"no\", \"no\", \"no\", \"no\", \"no\", \"no\", \"no\", \"no\", \"no\", \"no\", \"no\", \"no\", \"no\", \"no\", \"no\", \"no\", \"no\", \"yes\", \"no\", \"no\", \"no\", \"no\", \"no\", \"yes\", \"no\", \"no\", \"no\", \"no\", \"no\", \"yes\", \"no\", \"no\", \"no\", \"no\", \"no\", \"no\", \"no\", \"no\", \"no\", \"no\", \"yes\", \"no\", \"no\", \"no\", \"no\", \"no\", \"no\", \"yes\", \"no\", \"no\", \"no\", \"no\", \"no\", \"yes\", \"no\", \"no\", \"no\", \"no\", \"no\", \"yes\", \"no\", \"no\", \"no\", \"no\", \"yes\", \"no\", \"no\", \"no\", \"no\", \"yes\", \"no\", \"yes\", \"no\", \"yes\", \"no\", \"no\", \"no\", \"no\", \"no\", \"yes\", \"no\", \"yes\", \"no\", \"yes\", \"no\", \"yes\", \"yes\", \"no\", \"no\", \"no\", \"no\", \"no\", \"no\", \"no\", \"no\", \"no\", \"no\", \"no\", \"no\", \"yes\", \"no\", \"no\", \"no\", \"no\", \"yes\", \"no\", \"no\", \"no\", \"no\", \"no\", \"yes\", \"no\", \"no\", \"no\", \"no\", \"no\", \"no\", \"no\", \"no\", \"no\", \"no\", \"no\", \"yes\", \"no\", \"yes\", \"no\", \"no\", \"no\", \"no\", \"no\", \"yes\", \"no\", \"no\", \"no\", \"no\", \"no\", \"no\", \"no\", \"no\", \"yes\", \"no\", \"no\", \"no\", \"no\", \"no\", \"no\", \"no\", \"no\", \"no\", \"no\", \"no\", \"yes\", \"no\", \"no\", \"no\", \"yes\", \"yes\", \"no\", \"no\", \"yes\", \"no\", \"no\", \"no\", \"no\", \"yes\"], \"xaxis\": \"x\", \"yaxis\": \"y\"}, {\"alignmentgroup\": \"True\", \"bingroup\": \"x\", \"hoverlabel\": {\"namelength\": 0}, \"hovertemplate\": \"region=northeast<br>smoker=%{x}<br>count=%{y}\", \"legendgroup\": \"region=northeast\", \"marker\": {\"color\": \"#ab63fa\"}, \"name\": \"region=northeast\", \"offsetgroup\": \"region=northeast\", \"orientation\": \"v\", \"showlegend\": true, \"type\": \"histogram\", \"x\": [\"no\", \"no\", \"no\", \"no\", \"no\", \"yes\", \"no\", \"no\", \"yes\", \"no\", \"no\", \"no\", \"no\", \"no\", \"no\", \"no\", \"no\", \"no\", \"no\", \"yes\", \"yes\", \"no\", \"no\", \"no\", \"no\", \"no\", \"yes\", \"no\", \"no\", \"no\", \"no\", \"no\", \"no\", \"no\", \"yes\", \"no\", \"yes\", \"no\", \"no\", \"no\", \"no\", \"no\", \"yes\", \"no\", \"no\", \"yes\", \"no\", \"no\", \"no\", \"no\", \"yes\", \"no\", \"yes\", \"no\", \"yes\", \"yes\", \"no\", \"yes\", \"no\", \"no\", \"no\", \"no\", \"yes\", \"yes\", \"no\", \"no\", \"no\", \"yes\", \"no\", \"no\", \"no\", \"yes\", \"no\", \"no\", \"no\", \"no\", \"no\", \"no\", \"no\", \"yes\", \"no\", \"no\", \"yes\", \"no\", \"no\", \"no\", \"no\", \"no\", \"no\", \"no\", \"no\", \"no\", \"no\", \"yes\", \"yes\", \"yes\", \"no\", \"no\", \"no\", \"no\", \"no\", \"no\", \"yes\", \"yes\", \"yes\", \"no\", \"no\", \"no\", \"no\", \"no\", \"no\", \"no\", \"no\", \"no\", \"no\", \"no\", \"no\", \"yes\", \"no\", \"no\", \"no\", \"no\", \"no\", \"no\", \"no\", \"no\", \"no\", \"no\", \"no\", \"no\", \"no\", \"no\", \"no\", \"no\", \"no\", \"no\", \"no\", \"no\", \"no\", \"yes\", \"no\", \"no\", \"no\", \"no\", \"yes\", \"no\", \"no\", \"no\", \"no\", \"no\", \"no\", \"no\", \"yes\", \"no\", \"no\", \"no\", \"no\", \"yes\", \"no\", \"no\", \"no\", \"no\", \"no\", \"no\", \"no\", \"no\", \"yes\", \"no\", \"no\", \"no\", \"no\", \"no\", \"no\", \"no\", \"no\", \"no\", \"no\", \"no\", \"yes\", \"no\", \"no\", \"yes\", \"no\", \"yes\", \"no\", \"no\", \"no\", \"no\", \"no\", \"no\", \"no\", \"no\", \"no\", \"no\", \"no\", \"no\", \"no\", \"yes\", \"no\", \"no\", \"yes\", \"no\", \"yes\", \"yes\", \"no\", \"no\", \"no\", \"no\", \"yes\", \"yes\", \"no\", \"yes\", \"no\", \"no\", \"no\", \"no\", \"yes\", \"yes\", \"no\", \"no\", \"yes\", \"no\", \"no\", \"no\", \"no\", \"yes\", \"yes\", \"no\", \"no\", \"no\", \"yes\", \"no\", \"yes\", \"no\", \"no\", \"no\", \"yes\", \"no\", \"no\", \"no\", \"no\", \"no\", \"no\", \"yes\", \"no\", \"no\", \"no\", \"no\", \"no\", \"no\", \"no\", \"no\", \"no\", \"yes\", \"no\", \"no\", \"yes\", \"no\", \"no\", \"no\", \"no\", \"no\", \"no\", \"no\", \"no\", \"no\", \"no\", \"no\", \"no\", \"yes\", \"no\", \"yes\", \"no\", \"no\", \"no\", \"no\", \"yes\", \"no\", \"no\", \"no\", \"no\", \"no\", \"no\", \"yes\", \"no\", \"no\", \"no\", \"no\", \"yes\", \"no\", \"no\", \"no\", \"yes\", \"no\", \"no\", \"no\", \"no\", \"no\", \"no\", \"no\", \"no\", \"yes\", \"yes\", \"no\", \"no\", \"no\", \"yes\", \"no\", \"yes\", \"yes\", \"no\", \"no\", \"no\", \"no\", \"no\", \"yes\", \"yes\", \"no\", \"no\", \"yes\", \"no\", \"no\", \"no\", \"no\"], \"xaxis\": \"x\", \"yaxis\": \"y\"}],\n",
              "                        {\"barmode\": \"relative\", \"legend\": {\"tracegroupgap\": 0}, \"template\": {\"data\": {\"bar\": [{\"error_x\": {\"color\": \"#2a3f5f\"}, \"error_y\": {\"color\": \"#2a3f5f\"}, \"marker\": {\"line\": {\"color\": \"#E5ECF6\", \"width\": 0.5}}, \"type\": \"bar\"}], \"barpolar\": [{\"marker\": {\"line\": {\"color\": \"#E5ECF6\", \"width\": 0.5}}, \"type\": \"barpolar\"}], \"carpet\": [{\"aaxis\": {\"endlinecolor\": \"#2a3f5f\", \"gridcolor\": \"white\", \"linecolor\": \"white\", \"minorgridcolor\": \"white\", \"startlinecolor\": \"#2a3f5f\"}, \"baxis\": {\"endlinecolor\": \"#2a3f5f\", \"gridcolor\": \"white\", \"linecolor\": \"white\", \"minorgridcolor\": \"white\", \"startlinecolor\": \"#2a3f5f\"}, \"type\": \"carpet\"}], \"choropleth\": [{\"colorbar\": {\"outlinewidth\": 0, \"ticks\": \"\"}, \"type\": \"choropleth\"}], \"contour\": [{\"colorbar\": {\"outlinewidth\": 0, \"ticks\": \"\"}, \"colorscale\": [[0.0, \"#0d0887\"], [0.1111111111111111, \"#46039f\"], [0.2222222222222222, \"#7201a8\"], [0.3333333333333333, \"#9c179e\"], [0.4444444444444444, \"#bd3786\"], [0.5555555555555556, \"#d8576b\"], [0.6666666666666666, \"#ed7953\"], [0.7777777777777778, \"#fb9f3a\"], [0.8888888888888888, \"#fdca26\"], [1.0, \"#f0f921\"]], \"type\": \"contour\"}], \"contourcarpet\": [{\"colorbar\": {\"outlinewidth\": 0, \"ticks\": \"\"}, \"type\": \"contourcarpet\"}], \"heatmap\": [{\"colorbar\": {\"outlinewidth\": 0, \"ticks\": \"\"}, \"colorscale\": [[0.0, \"#0d0887\"], [0.1111111111111111, \"#46039f\"], [0.2222222222222222, \"#7201a8\"], [0.3333333333333333, \"#9c179e\"], [0.4444444444444444, \"#bd3786\"], [0.5555555555555556, \"#d8576b\"], [0.6666666666666666, \"#ed7953\"], [0.7777777777777778, \"#fb9f3a\"], [0.8888888888888888, \"#fdca26\"], [1.0, \"#f0f921\"]], \"type\": \"heatmap\"}], \"heatmapgl\": [{\"colorbar\": {\"outlinewidth\": 0, \"ticks\": \"\"}, \"colorscale\": [[0.0, \"#0d0887\"], [0.1111111111111111, \"#46039f\"], [0.2222222222222222, \"#7201a8\"], [0.3333333333333333, \"#9c179e\"], [0.4444444444444444, \"#bd3786\"], [0.5555555555555556, \"#d8576b\"], [0.6666666666666666, \"#ed7953\"], [0.7777777777777778, \"#fb9f3a\"], [0.8888888888888888, \"#fdca26\"], [1.0, \"#f0f921\"]], \"type\": \"heatmapgl\"}], \"histogram\": [{\"marker\": {\"colorbar\": {\"outlinewidth\": 0, \"ticks\": \"\"}}, \"type\": \"histogram\"}], \"histogram2d\": [{\"colorbar\": {\"outlinewidth\": 0, \"ticks\": \"\"}, \"colorscale\": [[0.0, \"#0d0887\"], [0.1111111111111111, \"#46039f\"], [0.2222222222222222, \"#7201a8\"], [0.3333333333333333, \"#9c179e\"], [0.4444444444444444, \"#bd3786\"], [0.5555555555555556, \"#d8576b\"], [0.6666666666666666, \"#ed7953\"], [0.7777777777777778, \"#fb9f3a\"], [0.8888888888888888, \"#fdca26\"], [1.0, \"#f0f921\"]], \"type\": \"histogram2d\"}], \"histogram2dcontour\": [{\"colorbar\": {\"outlinewidth\": 0, \"ticks\": \"\"}, \"colorscale\": [[0.0, \"#0d0887\"], [0.1111111111111111, \"#46039f\"], [0.2222222222222222, \"#7201a8\"], [0.3333333333333333, \"#9c179e\"], [0.4444444444444444, \"#bd3786\"], [0.5555555555555556, \"#d8576b\"], [0.6666666666666666, \"#ed7953\"], [0.7777777777777778, \"#fb9f3a\"], [0.8888888888888888, \"#fdca26\"], [1.0, \"#f0f921\"]], \"type\": \"histogram2dcontour\"}], \"mesh3d\": [{\"colorbar\": {\"outlinewidth\": 0, \"ticks\": \"\"}, \"type\": \"mesh3d\"}], \"parcoords\": [{\"line\": {\"colorbar\": {\"outlinewidth\": 0, \"ticks\": \"\"}}, \"type\": \"parcoords\"}], \"pie\": [{\"automargin\": true, \"type\": \"pie\"}], \"scatter\": [{\"marker\": {\"colorbar\": {\"outlinewidth\": 0, \"ticks\": \"\"}}, \"type\": \"scatter\"}], \"scatter3d\": [{\"line\": {\"colorbar\": {\"outlinewidth\": 0, \"ticks\": \"\"}}, \"marker\": {\"colorbar\": {\"outlinewidth\": 0, \"ticks\": \"\"}}, \"type\": \"scatter3d\"}], \"scattercarpet\": [{\"marker\": {\"colorbar\": {\"outlinewidth\": 0, \"ticks\": \"\"}}, \"type\": \"scattercarpet\"}], \"scattergeo\": [{\"marker\": {\"colorbar\": {\"outlinewidth\": 0, \"ticks\": \"\"}}, \"type\": \"scattergeo\"}], \"scattergl\": [{\"marker\": {\"colorbar\": {\"outlinewidth\": 0, \"ticks\": \"\"}}, \"type\": \"scattergl\"}], \"scattermapbox\": [{\"marker\": {\"colorbar\": {\"outlinewidth\": 0, \"ticks\": \"\"}}, \"type\": \"scattermapbox\"}], \"scatterpolar\": [{\"marker\": {\"colorbar\": {\"outlinewidth\": 0, \"ticks\": \"\"}}, \"type\": \"scatterpolar\"}], \"scatterpolargl\": [{\"marker\": {\"colorbar\": {\"outlinewidth\": 0, \"ticks\": \"\"}}, \"type\": \"scatterpolargl\"}], \"scatterternary\": [{\"marker\": {\"colorbar\": {\"outlinewidth\": 0, \"ticks\": \"\"}}, \"type\": \"scatterternary\"}], \"surface\": [{\"colorbar\": {\"outlinewidth\": 0, \"ticks\": \"\"}, \"colorscale\": [[0.0, \"#0d0887\"], [0.1111111111111111, \"#46039f\"], [0.2222222222222222, \"#7201a8\"], [0.3333333333333333, \"#9c179e\"], [0.4444444444444444, \"#bd3786\"], [0.5555555555555556, \"#d8576b\"], [0.6666666666666666, \"#ed7953\"], [0.7777777777777778, \"#fb9f3a\"], [0.8888888888888888, \"#fdca26\"], [1.0, \"#f0f921\"]], \"type\": \"surface\"}], \"table\": [{\"cells\": {\"fill\": {\"color\": \"#EBF0F8\"}, \"line\": {\"color\": \"white\"}}, \"header\": {\"fill\": {\"color\": \"#C8D4E3\"}, \"line\": {\"color\": \"white\"}}, \"type\": \"table\"}]}, \"layout\": {\"annotationdefaults\": {\"arrowcolor\": \"#2a3f5f\", \"arrowhead\": 0, \"arrowwidth\": 1}, \"coloraxis\": {\"colorbar\": {\"outlinewidth\": 0, \"ticks\": \"\"}}, \"colorscale\": {\"diverging\": [[0, \"#8e0152\"], [0.1, \"#c51b7d\"], [0.2, \"#de77ae\"], [0.3, \"#f1b6da\"], [0.4, \"#fde0ef\"], [0.5, \"#f7f7f7\"], [0.6, \"#e6f5d0\"], [0.7, \"#b8e186\"], [0.8, \"#7fbc41\"], [0.9, \"#4d9221\"], [1, \"#276419\"]], \"sequential\": [[0.0, \"#0d0887\"], [0.1111111111111111, \"#46039f\"], [0.2222222222222222, \"#7201a8\"], [0.3333333333333333, \"#9c179e\"], [0.4444444444444444, \"#bd3786\"], [0.5555555555555556, \"#d8576b\"], [0.6666666666666666, \"#ed7953\"], [0.7777777777777778, \"#fb9f3a\"], [0.8888888888888888, \"#fdca26\"], [1.0, \"#f0f921\"]], \"sequentialminus\": [[0.0, \"#0d0887\"], [0.1111111111111111, \"#46039f\"], [0.2222222222222222, \"#7201a8\"], [0.3333333333333333, \"#9c179e\"], [0.4444444444444444, \"#bd3786\"], [0.5555555555555556, \"#d8576b\"], [0.6666666666666666, \"#ed7953\"], [0.7777777777777778, \"#fb9f3a\"], [0.8888888888888888, \"#fdca26\"], [1.0, \"#f0f921\"]]}, \"colorway\": [\"#636efa\", \"#EF553B\", \"#00cc96\", \"#ab63fa\", \"#FFA15A\", \"#19d3f3\", \"#FF6692\", \"#B6E880\", \"#FF97FF\", \"#FECB52\"], \"font\": {\"color\": \"#2a3f5f\"}, \"geo\": {\"bgcolor\": \"white\", \"lakecolor\": \"white\", \"landcolor\": \"#E5ECF6\", \"showlakes\": true, \"showland\": true, \"subunitcolor\": \"white\"}, \"hoverlabel\": {\"align\": \"left\"}, \"hovermode\": \"closest\", \"mapbox\": {\"style\": \"light\"}, \"paper_bgcolor\": \"white\", \"plot_bgcolor\": \"#E5ECF6\", \"polar\": {\"angularaxis\": {\"gridcolor\": \"white\", \"linecolor\": \"white\", \"ticks\": \"\"}, \"bgcolor\": \"#E5ECF6\", \"radialaxis\": {\"gridcolor\": \"white\", \"linecolor\": \"white\", \"ticks\": \"\"}}, \"scene\": {\"xaxis\": {\"backgroundcolor\": \"#E5ECF6\", \"gridcolor\": \"white\", \"gridwidth\": 2, \"linecolor\": \"white\", \"showbackground\": true, \"ticks\": \"\", \"zerolinecolor\": \"white\"}, \"yaxis\": {\"backgroundcolor\": \"#E5ECF6\", \"gridcolor\": \"white\", \"gridwidth\": 2, \"linecolor\": \"white\", \"showbackground\": true, \"ticks\": \"\", \"zerolinecolor\": \"white\"}, \"zaxis\": {\"backgroundcolor\": \"#E5ECF6\", \"gridcolor\": \"white\", \"gridwidth\": 2, \"linecolor\": \"white\", \"showbackground\": true, \"ticks\": \"\", \"zerolinecolor\": \"white\"}}, \"shapedefaults\": {\"line\": {\"color\": \"#2a3f5f\"}}, \"ternary\": {\"aaxis\": {\"gridcolor\": \"white\", \"linecolor\": \"white\", \"ticks\": \"\"}, \"baxis\": {\"gridcolor\": \"white\", \"linecolor\": \"white\", \"ticks\": \"\"}, \"bgcolor\": \"#E5ECF6\", \"caxis\": {\"gridcolor\": \"white\", \"linecolor\": \"white\", \"ticks\": \"\"}}, \"title\": {\"x\": 0.05}, \"xaxis\": {\"automargin\": true, \"gridcolor\": \"white\", \"linecolor\": \"white\", \"ticks\": \"\", \"title\": {\"standoff\": 15}, \"zerolinecolor\": \"white\", \"zerolinewidth\": 2}, \"yaxis\": {\"automargin\": true, \"gridcolor\": \"white\", \"linecolor\": \"white\", \"ticks\": \"\", \"title\": {\"standoff\": 15}, \"zerolinecolor\": \"white\", \"zerolinewidth\": 2}}}, \"title\": {\"text\": \"Smoker\"}, \"xaxis\": {\"anchor\": \"y\", \"domain\": [0.0, 1.0], \"title\": {\"text\": \"smoker\"}}, \"yaxis\": {\"anchor\": \"x\", \"domain\": [0.0, 1.0], \"title\": {\"text\": \"count\"}}},\n",
              "                        {\"responsive\": true}\n",
              "                    ).then(function(){\n",
              "                            \n",
              "var gd = document.getElementById('9bf205b4-0d56-4347-8a7c-040edf11f533');\n",
              "var x = new MutationObserver(function (mutations, observer) {{\n",
              "        var display = window.getComputedStyle(gd).display;\n",
              "        if (!display || display === 'none') {{\n",
              "            console.log([gd, 'removed!']);\n",
              "            Plotly.purge(gd);\n",
              "            observer.disconnect();\n",
              "        }}\n",
              "}});\n",
              "\n",
              "// Listen for the removal of the full notebook cells\n",
              "var notebookContainer = gd.closest('#notebook-container');\n",
              "if (notebookContainer) {{\n",
              "    x.observe(notebookContainer, {childList: true});\n",
              "}}\n",
              "\n",
              "// Listen for the clearing of the current output cell\n",
              "var outputEl = gd.closest('.output');\n",
              "if (outputEl) {{\n",
              "    x.observe(outputEl, {childList: true});\n",
              "}}\n",
              "\n",
              "                        })\n",
              "                };\n",
              "                \n",
              "            </script>\n",
              "        </div>\n",
              "</body>\n",
              "</html>"
            ]
          },
          "metadata": {
            "tags": []
          }
        }
      ]
    },
    {
      "cell_type": "code",
      "metadata": {
        "colab": {
          "base_uri": "https://localhost:8080/",
          "height": 542
        },
        "id": "K1E5QAThESne",
        "outputId": "01dd5ecd-d678-4d55-f247-627c198ff912"
      },
      "source": [
        "fig = px.scatter(medical_df, \n",
        "                 x='age', \n",
        "                 y='charges', \n",
        "                 color='smoker', \n",
        "                 opacity=0.8, \n",
        "                 hover_data=['sex'], \n",
        "                 title='Age vs. Charges')\n",
        "fig.update_traces(marker_size=5)\n",
        "fig.show()"
      ],
      "execution_count": null,
      "outputs": [
        {
          "output_type": "display_data",
          "data": {
            "text/html": [
              "<html>\n",
              "<head><meta charset=\"utf-8\" /></head>\n",
              "<body>\n",
              "    <div>\n",
              "            <script src=\"https://cdnjs.cloudflare.com/ajax/libs/mathjax/2.7.5/MathJax.js?config=TeX-AMS-MML_SVG\"></script><script type=\"text/javascript\">if (window.MathJax) {MathJax.Hub.Config({SVG: {font: \"STIX-Web\"}});}</script>\n",
              "                <script type=\"text/javascript\">window.PlotlyConfig = {MathJaxConfig: 'local'};</script>\n",
              "        <script src=\"https://cdn.plot.ly/plotly-latest.min.js\"></script>    \n",
              "            <div id=\"a67aff2f-1f12-4846-8646-47737d281f97\" class=\"plotly-graph-div\" style=\"height:525px; width:100%;\"></div>\n",
              "            <script type=\"text/javascript\">\n",
              "                \n",
              "                    window.PLOTLYENV=window.PLOTLYENV || {};\n",
              "                    \n",
              "                if (document.getElementById(\"a67aff2f-1f12-4846-8646-47737d281f97\")) {\n",
              "                    Plotly.newPlot(\n",
              "                        'a67aff2f-1f12-4846-8646-47737d281f97',\n",
              "                        [{\"customdata\": [[\"female\"], [\"female\"], [\"male\"], [\"male\"], [\"female\"], [\"male\"], [\"male\"], [\"male\"], [\"male\"], [\"male\"], [\"male\"], [\"male\"], [\"male\"], [\"male\"], [\"male\"], [\"female\"], [\"female\"], [\"male\"], [\"female\"], [\"male\"], [\"female\"], [\"male\"], [\"female\"], [\"male\"], [\"female\"], [\"male\"], [\"male\"], [\"female\"], [\"male\"], [\"male\"], [\"female\"], [\"male\"], [\"female\"], [\"female\"], [\"male\"], [\"male\"], [\"male\"], [\"female\"], [\"male\"], [\"male\"], [\"male\"], [\"female\"], [\"female\"], [\"female\"], [\"male\"], [\"female\"], [\"male\"], [\"male\"], [\"male\"], [\"female\"], [\"male\"], [\"female\"], [\"female\"], [\"male\"], [\"female\"], [\"male\"], [\"male\"], [\"male\"], [\"male\"], [\"female\"], [\"male\"], [\"male\"], [\"male\"], [\"male\"], [\"male\"], [\"female\"], [\"male\"], [\"female\"], [\"male\"], [\"male\"], [\"male\"], [\"male\"], [\"female\"], [\"male\"], [\"female\"], [\"male\"], [\"male\"], [\"female\"], [\"female\"], [\"male\"], [\"male\"], [\"female\"], [\"male\"], [\"female\"], [\"female\"], [\"male\"], [\"female\"], [\"male\"], [\"female\"], [\"female\"], [\"female\"], [\"female\"], [\"male\"], [\"male\"], [\"male\"], [\"female\"], [\"male\"], [\"male\"], [\"female\"], [\"male\"], [\"male\"], [\"male\"], [\"female\"], [\"male\"], [\"male\"], [\"male\"], [\"male\"], [\"male\"], [\"male\"], [\"male\"], [\"female\"], [\"male\"], [\"female\"], [\"female\"], [\"male\"], [\"female\"], [\"female\"], [\"female\"], [\"female\"], [\"female\"], [\"male\"], [\"female\"], [\"male\"], [\"female\"], [\"male\"], [\"male\"], [\"female\"], [\"male\"], [\"male\"], [\"female\"], [\"female\"], [\"male\"], [\"female\"], [\"male\"], [\"female\"], [\"male\"], [\"male\"], [\"male\"], [\"male\"], [\"female\"], [\"female\"], [\"female\"], [\"male\"], [\"female\"], [\"male\"], [\"male\"], [\"male\"], [\"male\"], [\"female\"], [\"female\"], [\"male\"], [\"male\"], [\"female\"], [\"male\"], [\"female\"], [\"male\"], [\"male\"], [\"male\"], [\"female\"], [\"female\"], [\"female\"], [\"male\"], [\"male\"], [\"male\"], [\"female\"], [\"female\"], [\"female\"], [\"female\"], [\"female\"], [\"female\"], [\"female\"], [\"male\"], [\"female\"], [\"female\"], [\"male\"], [\"male\"], [\"female\"], [\"male\"], [\"female\"], [\"male\"], [\"female\"], [\"male\"], [\"female\"], [\"male\"], [\"male\"], [\"male\"], [\"male\"], [\"male\"], [\"male\"], [\"male\"], [\"male\"], [\"male\"], [\"male\"], [\"male\"], [\"female\"], [\"female\"], [\"male\"], [\"male\"], [\"male\"], [\"male\"], [\"female\"], [\"male\"], [\"male\"], [\"female\"], [\"female\"], [\"male\"], [\"male\"], [\"female\"], [\"female\"], [\"male\"], [\"female\"], [\"male\"], [\"male\"], [\"male\"], [\"male\"], [\"male\"], [\"male\"], [\"female\"], [\"male\"], [\"female\"], [\"female\"], [\"female\"], [\"male\"], [\"female\"], [\"male\"], [\"male\"], [\"female\"], [\"female\"], [\"female\"], [\"female\"], [\"male\"], [\"female\"], [\"male\"], [\"male\"], [\"female\"], [\"female\"], [\"male\"], [\"female\"], [\"male\"], [\"female\"], [\"female\"], [\"female\"], [\"male\"], [\"female\"], [\"female\"], [\"female\"], [\"male\"], [\"female\"], [\"male\"], [\"male\"], [\"male\"], [\"male\"], [\"male\"], [\"male\"], [\"male\"], [\"male\"], [\"male\"], [\"female\"], [\"female\"], [\"male\"], [\"male\"], [\"male\"], [\"male\"], [\"male\"], [\"male\"], [\"male\"], [\"female\"], [\"male\"], [\"female\"], [\"female\"], [\"female\"], [\"male\"], [\"female\"], [\"female\"]], \"hoverlabel\": {\"namelength\": 0}, \"hovertemplate\": \"smoker=yes<br>age=%{x}<br>charges=%{y}<br>sex=%{customdata[0]}\", \"legendgroup\": \"smoker=yes\", \"marker\": {\"color\": \"#636efa\", \"opacity\": 0.8, \"size\": 5, \"symbol\": \"circle\"}, \"mode\": \"markers\", \"name\": \"smoker=yes\", \"showlegend\": true, \"type\": \"scattergl\", \"x\": [19, 62, 27, 30, 34, 31, 22, 28, 35, 60, 36, 48, 36, 58, 18, 53, 20, 28, 27, 22, 37, 45, 57, 59, 64, 56, 38, 61, 20, 63, 29, 44, 19, 32, 34, 30, 46, 42, 48, 18, 30, 42, 18, 63, 36, 27, 35, 19, 42, 40, 19, 23, 63, 18, 63, 54, 50, 56, 19, 20, 52, 19, 46, 40, 50, 40, 54, 59, 25, 19, 47, 31, 53, 43, 27, 34, 45, 64, 61, 52, 50, 19, 26, 23, 39, 24, 27, 55, 44, 26, 36, 63, 64, 61, 40, 33, 56, 42, 30, 54, 61, 24, 44, 21, 29, 51, 19, 39, 42, 57, 54, 49, 43, 35, 48, 31, 34, 21, 19, 59, 30, 47, 49, 19, 37, 18, 44, 39, 42, 52, 64, 43, 40, 62, 44, 60, 39, 27, 41, 51, 30, 29, 35, 37, 23, 29, 27, 53, 37, 47, 18, 33, 19, 30, 50, 53, 27, 33, 18, 47, 33, 56, 36, 41, 23, 57, 60, 37, 46, 49, 48, 25, 37, 51, 32, 57, 64, 47, 43, 60, 32, 18, 43, 45, 37, 25, 51, 44, 34, 54, 43, 51, 29, 31, 24, 27, 30, 24, 47, 43, 22, 47, 19, 46, 55, 18, 22, 45, 35, 20, 43, 22, 49, 47, 59, 37, 28, 39, 47, 22, 51, 33, 38, 48, 25, 33, 23, 53, 23, 19, 60, 43, 19, 18, 43, 52, 31, 23, 20, 43, 19, 18, 36, 37, 46, 20, 52, 20, 52, 64, 32, 24, 20, 64, 24, 26, 39, 47, 18, 61, 20, 19, 45, 62, 43, 42, 29, 32, 25, 19, 30, 62, 42, 61], \"xaxis\": \"x\", \"y\": [16884.924, 27808.7251, 39611.7577, 36837.467000000004, 37701.8768, 38711.0, 35585.576, 51194.55914, 39774.2763, 48173.361, 38709.176, 23568.272, 37742.5757, 47496.49445, 34303.1672, 23244.7902, 14711.7438, 17663.1442, 16577.7795, 37165.1638, 39836.519, 21098.55405, 43578.9394, 30184.9367, 47291.055, 22412.6485, 15820.698999999999, 30942.1918, 17560.37975, 47055.5321, 19107.7796, 39556.4945, 17081.08, 32734.1863, 18972.495, 20745.9891, 40720.55105, 19964.7463, 21223.6758, 15518.18025, 36950.2567, 21348.706000000002, 36149.4835, 48824.45, 43753.33705, 37133.8982, 20984.0936, 34779.615, 19515.5416, 19444.2658, 17352.6803, 38511.6283, 29523.1656, 12829.4551, 47305.305, 44260.7499, 41097.16175, 43921.1837, 33750.2918, 17085.2676, 24869.8368, 36219.40545, 46151.1245, 17179.522, 42856.837999999996, 22331.5668, 48549.17835, 47896.79135, 42112.2356, 16297.846000000001, 21978.6769, 38746.3551, 24873.3849, 42124.5153, 34838.873, 35491.64, 42760.5022, 47928.03, 48517.56315, 24393.6224, 41919.097, 13844.506000000001, 36085.219, 18033.9679, 21659.9301, 38126.2465, 15006.57945, 42303.69215, 19594.80965, 14455.64405, 18608.262, 28950.4692, 46889.2612, 46599.1084, 39125.33225, 37079.372, 26109.32905, 22144.032000000003, 19521.9682, 25382.297000000002, 28868.6639, 35147.52848, 48885.135610000005, 17942.106, 36197.699, 22218.1149, 32548.3405, 21082.16, 38245.59327, 48675.5177, 63770.42801, 23807.2406, 45863.205, 39983.42595, 45702.02235, 58571.074479999996, 43943.8761, 15359.1045, 17468.9839, 25678.77845, 39241.442, 42969.8527, 23306.547000000002, 34439.8559, 40182.246, 34617.84065, 42983.4585, 20149.3229, 32787.458589999995, 24667.418999999998, 27037.9141, 42560.4304, 40003.33225, 45710.20785, 46200.9851, 46130.5265, 40103.89, 34806.4677, 40273.6455, 44400.4064, 40932.4295, 16657.71745, 19361.9988, 40419.0191, 36189.1017, 44585.45587, 18246.4955, 43254.41795, 19539.243000000002, 23065.4207, 36307.7983, 19040.876, 17748.5062, 18259.216, 24520.264, 21195.818, 18310.742, 17904.52705, 38792.6856, 23401.30575, 55135.402089999996, 43813.8661, 20773.62775, 39597.4072, 36021.0112, 27533.9129, 45008.9555, 37270.1512, 42111.6647, 24106.91255, 40974.1649, 15817.9857, 46113.511, 46255.1125, 19719.6947, 27218.43725, 29330.98315, 44202.6536, 19798.05455, 48673.5588, 17496.306, 33732.6867, 21774.32215, 35069.37452, 39047.285, 19933.458, 47462.894, 38998.546, 20009.63365, 41999.52, 41034.2214, 23967.38305, 16138.76205, 19199.944, 14571.8908, 16420.49455, 17361.7661, 34472.841, 24915.22085, 18767.7377, 35595.5898, 42211.1382, 16450.8947, 21677.28345, 44423.803, 13747.87235, 37484.4493, 39725.51805, 20234.85475, 33475.81715, 21880.82, 44501.3982, 39727.614, 25309.488999999998, 48970.2476, 39871.7043, 34672.1472, 19023.26, 41676.0811, 33907.547999999995, 44641.1974, 16776.30405, 41949.2441, 24180.9335, 36124.5737, 38282.7495, 34166.273, 46661.4424, 40904.1995, 36898.73308, 52590.82939, 40941.2854, 39722.7462, 17178.6824, 22478.6, 23887.6627, 19350.3689, 18328.2381, 37465.34375, 21771.3423, 33307.5508, 18223.4512, 38415.474, 20296.86345, 41661.602, 26125.674769999998, 60021.39897, 20167.336030000002, 47269.85400000001, 49577.6624, 37607.5277, 18648.4217, 16232.847, 26926.5144, 34254.05335, 17043.3414, 22462.04375, 24535.69855, 14283.4594, 47403.88, 38344.566, 34828.654, 62592.87309, 46718.16325, 37829.7242, 21259.37795, 16115.3045, 21472.4788, 33900.653, 36397.576, 18765.87545, 28101.33305, 43896.3763, 29141.3603], \"yaxis\": \"y\"}, {\"customdata\": [[\"male\"], [\"male\"], [\"male\"], [\"male\"], [\"female\"], [\"female\"], [\"female\"], [\"male\"], [\"female\"], [\"male\"], [\"male\"], [\"female\"], [\"male\"], [\"female\"], [\"male\"], [\"male\"], [\"female\"], [\"female\"], [\"male\"], [\"male\"], [\"female\"], [\"female\"], [\"female\"], [\"male\"], [\"female\"], [\"female\"], [\"male\"], [\"male\"], [\"female\"], [\"male\"], [\"female\"], [\"female\"], [\"male\"], [\"female\"], [\"male\"], [\"male\"], [\"female\"], [\"female\"], [\"female\"], [\"female\"], [\"female\"], [\"female\"], [\"female\"], [\"female\"], [\"male\"], [\"male\"], [\"male\"], [\"female\"], [\"female\"], [\"female\"], [\"male\"], [\"female\"], [\"male\"], [\"female\"], [\"male\"], [\"male\"], [\"male\"], [\"female\"], [\"male\"], [\"female\"], [\"female\"], [\"male\"], [\"female\"], [\"female\"], [\"female\"], [\"female\"], [\"female\"], [\"female\"], [\"female\"], [\"male\"], [\"female\"], [\"female\"], [\"male\"], [\"female\"], [\"male\"], [\"female\"], [\"female\"], [\"female\"], [\"male\"], [\"male\"], [\"male\"], [\"female\"], [\"male\"], [\"female\"], [\"male\"], [\"male\"], [\"male\"], [\"female\"], [\"female\"], [\"male\"], [\"male\"], [\"female\"], [\"female\"], [\"female\"], [\"female\"], [\"male\"], [\"female\"], [\"female\"], [\"female\"], [\"male\"], [\"female\"], [\"female\"], [\"male\"], [\"male\"], [\"female\"], [\"female\"], [\"male\"], [\"male\"], [\"male\"], [\"female\"], [\"female\"], [\"female\"], [\"male\"], [\"male\"], [\"male\"], [\"female\"], [\"female\"], [\"male\"], [\"female\"], [\"male\"], [\"female\"], [\"male\"], [\"male\"], [\"female\"], [\"female\"], [\"female\"], [\"male\"], [\"male\"], [\"male\"], [\"male\"], [\"female\"], [\"female\"], [\"male\"], [\"male\"], [\"female\"], [\"female\"], [\"male\"], [\"female\"], [\"male\"], [\"female\"], [\"male\"], [\"female\"], [\"female\"], [\"female\"], [\"female\"], [\"male\"], [\"female\"], [\"male\"], [\"female\"], [\"male\"], [\"male\"], [\"female\"], [\"female\"], [\"female\"], [\"female\"], [\"female\"], [\"female\"], [\"female\"], [\"male\"], [\"female\"], [\"male\"], [\"female\"], [\"male\"], [\"male\"], [\"male\"], [\"male\"], [\"female\"], [\"female\"], [\"female\"], [\"female\"], [\"male\"], [\"female\"], [\"female\"], [\"female\"], [\"female\"], [\"male\"], [\"male\"], [\"male\"], [\"female\"], [\"female\"], [\"male\"], [\"female\"], [\"female\"], [\"female\"], [\"male\"], [\"male\"], [\"female\"], [\"male\"], [\"male\"], [\"female\"], [\"female\"], [\"male\"], [\"male\"], [\"female\"], [\"male\"], [\"male\"], [\"male\"], [\"male\"], [\"female\"], [\"female\"], [\"male\"], [\"female\"], [\"female\"], [\"female\"], [\"male\"], [\"male\"], [\"male\"], [\"male\"], [\"male\"], [\"male\"], [\"female\"], [\"male\"], [\"female\"], [\"male\"], [\"female\"], [\"male\"], [\"female\"], [\"female\"], [\"male\"], [\"female\"], [\"female\"], [\"male\"], [\"female\"], [\"male\"], [\"female\"], [\"male\"], [\"male\"], [\"female\"], [\"male\"], [\"female\"], [\"female\"], [\"female\"], [\"male\"], [\"female\"], [\"female\"], [\"male\"], [\"female\"], [\"male\"], [\"female\"], [\"male\"], [\"male\"], [\"male\"], [\"male\"], [\"female\"], [\"male\"], [\"male\"], [\"female\"], [\"male\"], [\"male\"], [\"male\"], [\"female\"], [\"male\"], [\"female\"], [\"female\"], [\"female\"], [\"male\"], [\"male\"], [\"male\"], [\"female\"], [\"female\"], [\"male\"], [\"female\"], [\"male\"], [\"female\"], [\"female\"], [\"male\"], [\"male\"], [\"female\"], [\"male\"], [\"female\"], [\"female\"], [\"female\"], [\"male\"], [\"female\"], [\"male\"], [\"male\"], [\"male\"], [\"male\"], [\"female\"], [\"female\"], [\"male\"], [\"female\"], [\"female\"], [\"female\"], [\"female\"], [\"female\"], [\"male\"], [\"male\"], [\"female\"], [\"female\"], [\"female\"], [\"male\"], [\"female\"], [\"male\"], [\"male\"], [\"female\"], [\"male\"], [\"male\"], [\"female\"], [\"male\"], [\"female\"], [\"female\"], [\"male\"], [\"female\"], [\"male\"], [\"male\"], [\"female\"], [\"male\"], [\"female\"], [\"male\"], [\"male\"], [\"female\"], [\"female\"], [\"male\"], [\"female\"], [\"male\"], [\"male\"], [\"female\"], [\"female\"], [\"female\"], [\"male\"], [\"male\"], [\"male\"], [\"male\"], [\"female\"], [\"female\"], [\"male\"], [\"male\"], [\"male\"], [\"male\"], [\"male\"], [\"female\"], [\"female\"], [\"female\"], [\"female\"], [\"male\"], [\"female\"], [\"male\"], [\"female\"], [\"male\"], [\"male\"], [\"male\"], [\"male\"], [\"female\"], [\"male\"], [\"female\"], [\"male\"], [\"female\"], [\"female\"], [\"male\"], [\"female\"], [\"female\"], [\"male\"], [\"male\"], [\"male\"], [\"male\"], [\"male\"], [\"male\"], [\"male\"], [\"female\"], [\"female\"], [\"male\"], [\"female\"], [\"female\"], [\"female\"], [\"male\"], [\"male\"], [\"female\"], [\"female\"], [\"female\"], [\"female\"], [\"male\"], [\"female\"], [\"female\"], [\"female\"], [\"male\"], [\"male\"], [\"male\"], [\"male\"], [\"male\"], [\"female\"], [\"female\"], [\"male\"], [\"female\"], [\"female\"], [\"male\"], [\"male\"], [\"female\"], [\"female\"], [\"female\"], [\"male\"], [\"male\"], [\"female\"], [\"male\"], [\"female\"], [\"female\"], [\"male\"], [\"female\"], [\"male\"], [\"male\"], [\"male\"], [\"female\"], [\"female\"], [\"male\"], [\"male\"], [\"male\"], [\"male\"], [\"male\"], [\"male\"], [\"male\"], [\"female\"], [\"male\"], [\"female\"], [\"female\"], [\"female\"], [\"female\"], [\"female\"], [\"female\"], [\"female\"], [\"male\"], [\"male\"], [\"female\"], [\"male\"], [\"male\"], [\"male\"], [\"male\"], [\"female\"], [\"female\"], [\"female\"], [\"male\"], [\"female\"], [\"female\"], [\"female\"], [\"male\"], [\"male\"], [\"female\"], [\"female\"], [\"male\"], [\"female\"], [\"male\"], [\"female\"], [\"female\"], [\"male\"], [\"male\"], [\"male\"], [\"male\"], [\"female\"], [\"female\"], [\"male\"], [\"male\"], [\"female\"], [\"female\"], [\"female\"], [\"male\"], [\"female\"], [\"female\"], [\"female\"], [\"female\"], [\"female\"], [\"female\"], [\"female\"], [\"male\"], [\"male\"], [\"female\"], [\"male\"], [\"male\"], [\"male\"], [\"female\"], [\"male\"], [\"female\"], [\"male\"], [\"female\"], [\"female\"], [\"female\"], [\"male\"], [\"male\"], [\"male\"], [\"female\"], [\"female\"], [\"female\"], [\"male\"], [\"female\"], [\"female\"], [\"male\"], [\"female\"], [\"female\"], [\"female\"], [\"female\"], [\"male\"], [\"female\"], [\"female\"], [\"female\"], [\"female\"], [\"female\"], [\"female\"], [\"female\"], [\"male\"], [\"female\"], [\"male\"], [\"female\"], [\"male\"], [\"male\"], [\"male\"], [\"male\"], [\"male\"], [\"female\"], [\"male\"], [\"male\"], [\"male\"], [\"female\"], [\"female\"], [\"male\"], [\"male\"], [\"male\"], [\"female\"], [\"male\"], [\"male\"], [\"male\"], [\"female\"], [\"male\"], [\"female\"], [\"female\"], [\"female\"], [\"female\"], [\"female\"], [\"female\"], [\"female\"], [\"male\"], [\"female\"], [\"female\"], [\"male\"], [\"female\"], [\"female\"], [\"male\"], [\"male\"], [\"female\"], [\"male\"], [\"female\"], [\"male\"], [\"female\"], [\"male\"], [\"female\"], [\"male\"], [\"female\"], [\"female\"], [\"male\"], [\"male\"], [\"female\"], [\"male\"], [\"male\"], [\"male\"], [\"female\"], [\"male\"], [\"male\"], [\"male\"], [\"male\"], [\"female\"], [\"female\"], [\"female\"], [\"male\"], [\"female\"], [\"female\"], [\"female\"], [\"male\"], [\"female\"], [\"female\"], [\"female\"], [\"male\"], [\"female\"], [\"female\"], [\"male\"], [\"female\"], [\"female\"], [\"male\"], [\"female\"], [\"male\"], [\"female\"], [\"male\"], [\"female\"], [\"female\"], [\"female\"], [\"male\"], [\"male\"], [\"male\"], [\"female\"], [\"male\"], [\"female\"], [\"female\"], [\"male\"], [\"female\"], [\"female\"], [\"female\"], [\"female\"], [\"male\"], [\"male\"], [\"female\"], [\"male\"], [\"female\"], [\"male\"], [\"male\"], [\"female\"], [\"male\"], [\"male\"], [\"male\"], [\"female\"], [\"male\"], [\"male\"], [\"female\"], [\"male\"], [\"female\"], [\"male\"], [\"male\"], [\"female\"], [\"female\"], [\"male\"], [\"female\"], [\"female\"], [\"female\"], [\"male\"], [\"female\"], [\"female\"], [\"male\"], [\"male\"], [\"male\"], [\"male\"], [\"male\"], [\"male\"], [\"male\"], [\"male\"], [\"female\"], [\"female\"], [\"male\"], [\"male\"], [\"male\"], [\"female\"], [\"female\"], [\"male\"], [\"female\"], [\"female\"], [\"male\"], [\"female\"], [\"female\"], [\"female\"], [\"female\"], [\"male\"], [\"male\"], [\"female\"], [\"female\"], [\"female\"], [\"male\"], [\"male\"], [\"female\"], [\"female\"], [\"male\"], [\"male\"], [\"male\"], [\"female\"], [\"female\"], [\"male\"], [\"male\"], [\"male\"], [\"female\"], [\"female\"], [\"male\"], [\"female\"], [\"male\"], [\"male\"], [\"female\"], [\"female\"], [\"male\"], [\"male\"], [\"male\"], [\"male\"], [\"female\"], [\"female\"], [\"female\"], [\"male\"], [\"male\"], [\"male\"], [\"female\"], [\"male\"], [\"female\"], [\"male\"], [\"male\"], [\"female\"], [\"female\"], [\"female\"], [\"male\"], [\"female\"], [\"female\"], [\"female\"], [\"male\"], [\"male\"], [\"male\"], [\"male\"], [\"male\"], [\"female\"], [\"male\"], [\"female\"], [\"male\"], [\"male\"], [\"male\"], [\"female\"], [\"female\"], [\"male\"], [\"male\"], [\"female\"], [\"male\"], [\"male\"], [\"female\"], [\"male\"], [\"female\"], [\"male\"], [\"male\"], [\"female\"], [\"male\"], [\"male\"], [\"female\"], [\"male\"], [\"female\"], [\"female\"], [\"male\"], [\"male\"], [\"male\"], [\"female\"], [\"female\"], [\"male\"], [\"female\"], [\"male\"], [\"male\"], [\"female\"], [\"female\"], [\"male\"], [\"female\"], [\"female\"], [\"female\"], [\"female\"], [\"female\"], [\"male\"], [\"male\"], [\"male\"], [\"male\"], [\"female\"], [\"female\"], [\"female\"], [\"male\"], [\"male\"], [\"female\"], [\"male\"], [\"female\"], [\"male\"], [\"female\"], [\"male\"], [\"female\"], [\"male\"], [\"male\"], [\"male\"], [\"female\"], [\"female\"], [\"male\"], [\"male\"], [\"female\"], [\"male\"], [\"male\"], [\"male\"], [\"female\"], [\"male\"], [\"male\"], [\"male\"], [\"female\"], [\"female\"], [\"female\"], [\"male\"], [\"male\"], [\"male\"], [\"male\"], [\"male\"], [\"female\"], [\"female\"], [\"female\"], [\"female\"], [\"female\"], [\"male\"], [\"male\"], [\"male\"], [\"female\"], [\"female\"], [\"male\"], [\"male\"], [\"female\"], [\"male\"], [\"female\"], [\"male\"], [\"female\"], [\"male\"], [\"female\"], [\"female\"], [\"female\"], [\"male\"], [\"female\"], [\"female\"], [\"female\"], [\"female\"], [\"female\"], [\"male\"], [\"male\"], [\"male\"], [\"male\"], [\"male\"], [\"male\"], [\"male\"], [\"female\"], [\"female\"], [\"male\"], [\"female\"], [\"male\"], [\"female\"], [\"female\"], [\"female\"], [\"female\"], [\"male\"], [\"male\"], [\"female\"], [\"female\"], [\"male\"], [\"male\"], [\"female\"], [\"female\"], [\"male\"], [\"female\"], [\"male\"], [\"male\"], [\"male\"], [\"female\"], [\"male\"], [\"female\"], [\"female\"], [\"female\"], [\"male\"], [\"male\"], [\"female\"], [\"male\"], [\"female\"], [\"female\"], [\"female\"], [\"male\"], [\"male\"], [\"male\"], [\"male\"], [\"female\"], [\"female\"], [\"male\"], [\"male\"], [\"male\"], [\"female\"], [\"male\"], [\"male\"], [\"female\"], [\"female\"], [\"female\"], [\"female\"], [\"male\"], [\"male\"], [\"male\"], [\"male\"], [\"male\"], [\"male\"], [\"female\"], [\"male\"], [\"male\"], [\"male\"], [\"male\"], [\"female\"], [\"male\"], [\"female\"], [\"female\"], [\"male\"], [\"female\"], [\"female\"], [\"male\"], [\"male\"], [\"male\"], [\"male\"], [\"female\"], [\"female\"], [\"female\"], [\"male\"], [\"male\"], [\"female\"], [\"female\"], [\"male\"], [\"male\"], [\"male\"], [\"female\"], [\"male\"], [\"female\"], [\"female\"], [\"male\"], [\"female\"], [\"male\"], [\"female\"], [\"female\"], [\"male\"], [\"male\"], [\"female\"], [\"male\"], [\"female\"], [\"female\"], [\"female\"], [\"male\"], [\"male\"], [\"female\"], [\"female\"], [\"male\"], [\"male\"], [\"male\"], [\"female\"], [\"male\"], [\"male\"], [\"female\"], [\"female\"], [\"female\"], [\"female\"], [\"female\"], [\"female\"], [\"female\"], [\"female\"], [\"female\"], [\"male\"], [\"male\"], [\"female\"], [\"female\"], [\"female\"], [\"male\"], [\"female\"], [\"male\"], [\"female\"], [\"female\"], [\"male\"], [\"male\"], [\"female\"], [\"female\"], [\"female\"], [\"female\"], [\"female\"], [\"female\"], [\"female\"], [\"male\"], [\"female\"], [\"female\"], [\"female\"], [\"female\"], [\"female\"], [\"female\"], [\"female\"], [\"female\"], [\"male\"], [\"male\"], [\"female\"], [\"male\"], [\"male\"], [\"male\"], [\"male\"], [\"male\"], [\"female\"], [\"male\"], [\"male\"], [\"male\"], [\"male\"], [\"female\"], [\"female\"], [\"male\"], [\"male\"], [\"male\"], [\"female\"], [\"female\"], [\"male\"], [\"male\"], [\"male\"], [\"female\"], [\"male\"], [\"male\"], [\"male\"], [\"male\"], [\"female\"], [\"male\"], [\"female\"], [\"male\"], [\"female\"], [\"female\"], [\"male\"], [\"female\"], [\"female\"], [\"female\"], [\"male\"], [\"male\"], [\"female\"], [\"male\"], [\"female\"], [\"male\"], [\"female\"], [\"female\"], [\"female\"], [\"female\"], [\"female\"], [\"male\"], [\"female\"], [\"female\"], [\"male\"], [\"female\"], [\"female\"], [\"female\"], [\"female\"], [\"female\"], [\"male\"], [\"male\"], [\"female\"], [\"male\"], [\"male\"], [\"male\"], [\"female\"], [\"female\"], [\"female\"], [\"female\"], [\"male\"], [\"female\"], [\"female\"], [\"female\"], [\"male\"], [\"female\"], [\"male\"], [\"male\"], [\"male\"], [\"male\"], [\"male\"], [\"female\"], [\"male\"], [\"female\"], [\"female\"], [\"female\"], [\"male\"], [\"male\"], [\"female\"], [\"male\"], [\"male\"], [\"female\"], [\"male\"], [\"male\"], [\"female\"], [\"male\"], [\"male\"], [\"male\"], [\"male\"], [\"female\"], [\"male\"], [\"female\"], [\"male\"], [\"female\"], [\"female\"], [\"female\"], [\"male\"], [\"female\"], [\"female\"], [\"female\"]], \"hoverlabel\": {\"namelength\": 0}, \"hovertemplate\": \"smoker=no<br>age=%{x}<br>charges=%{y}<br>sex=%{customdata[0]}\", \"legendgroup\": \"smoker=no\", \"marker\": {\"color\": \"#EF553B\", \"opacity\": 0.8, \"size\": 5, \"symbol\": \"circle\"}, \"mode\": \"markers\", \"name\": \"smoker=no\", \"showlegend\": true, \"type\": \"scattergl\", \"x\": [18, 28, 33, 32, 31, 46, 37, 37, 60, 25, 23, 56, 19, 52, 23, 56, 60, 30, 18, 37, 59, 63, 55, 23, 18, 19, 63, 19, 62, 26, 24, 31, 41, 37, 38, 55, 18, 28, 60, 18, 21, 40, 58, 34, 43, 25, 64, 28, 19, 61, 40, 40, 31, 53, 58, 44, 57, 29, 21, 22, 41, 31, 45, 48, 56, 46, 55, 21, 53, 35, 28, 54, 55, 41, 30, 18, 34, 19, 26, 29, 54, 55, 37, 21, 52, 60, 58, 49, 37, 44, 18, 20, 47, 26, 52, 38, 59, 61, 53, 19, 20, 22, 19, 22, 54, 22, 34, 26, 29, 29, 51, 53, 19, 35, 48, 32, 40, 44, 50, 54, 32, 37, 47, 20, 32, 19, 27, 63, 49, 18, 35, 24, 38, 54, 46, 41, 58, 18, 22, 44, 44, 26, 30, 41, 29, 61, 36, 25, 56, 18, 19, 39, 45, 51, 64, 19, 48, 60, 46, 28, 59, 63, 40, 20, 40, 24, 34, 45, 41, 53, 27, 26, 24, 34, 53, 32, 55, 28, 58, 41, 47, 42, 59, 19, 59, 39, 18, 31, 44, 33, 55, 40, 54, 60, 24, 19, 29, 27, 55, 38, 51, 58, 53, 59, 45, 49, 18, 41, 50, 25, 47, 19, 22, 59, 51, 30, 55, 52, 46, 46, 63, 52, 28, 29, 22, 25, 18, 48, 36, 56, 28, 57, 29, 28, 30, 58, 41, 50, 19, 49, 52, 50, 54, 44, 32, 34, 26, 57, 29, 40, 27, 52, 61, 56, 43, 64, 60, 62, 46, 24, 62, 60, 63, 49, 34, 33, 46, 36, 19, 57, 50, 30, 33, 18, 46, 46, 47, 23, 18, 48, 35, 21, 21, 49, 56, 42, 44, 18, 61, 57, 42, 20, 64, 62, 55, 35, 44, 19, 58, 50, 26, 24, 48, 19, 48, 49, 46, 46, 43, 21, 64, 18, 51, 47, 64, 49, 31, 52, 33, 47, 38, 32, 19, 25, 19, 43, 52, 64, 25, 48, 45, 38, 18, 21, 27, 19, 29, 42, 60, 31, 60, 22, 35, 52, 26, 31, 18, 59, 45, 60, 56, 40, 35, 39, 30, 24, 20, 32, 59, 55, 57, 56, 40, 49, 62, 56, 19, 60, 56, 28, 18, 27, 18, 19, 47, 25, 21, 23, 63, 49, 18, 51, 48, 31, 54, 19, 53, 19, 61, 18, 61, 20, 31, 45, 44, 62, 43, 38, 37, 22, 21, 24, 57, 56, 27, 51, 19, 58, 20, 45, 35, 31, 50, 32, 51, 38, 18, 19, 51, 46, 18, 62, 59, 37, 64, 38, 33, 46, 46, 53, 34, 20, 63, 54, 28, 54, 25, 63, 32, 62, 52, 25, 28, 46, 34, 19, 46, 54, 27, 50, 18, 19, 38, 41, 49, 31, 18, 30, 62, 57, 58, 22, 52, 25, 59, 19, 39, 32, 19, 33, 21, 61, 38, 58, 47, 20, 41, 46, 42, 34, 43, 52, 18, 51, 56, 64, 51, 27, 28, 47, 38, 18, 34, 20, 56, 55, 30, 49, 59, 29, 36, 33, 58, 53, 24, 29, 40, 51, 64, 19, 35, 56, 33, 61, 23, 43, 48, 39, 40, 18, 58, 49, 53, 48, 45, 59, 26, 27, 48, 57, 37, 57, 32, 18, 49, 40, 30, 29, 36, 41, 45, 55, 56, 49, 21, 19, 53, 33, 53, 42, 40, 47, 21, 47, 20, 24, 27, 26, 53, 56, 23, 21, 50, 53, 34, 47, 33, 49, 31, 36, 18, 50, 43, 20, 24, 60, 49, 60, 51, 58, 51, 53, 62, 19, 50, 41, 18, 41, 53, 24, 48, 59, 49, 26, 45, 31, 50, 50, 34, 19, 47, 28, 21, 64, 58, 24, 31, 39, 30, 22, 23, 27, 45, 57, 47, 42, 64, 38, 61, 53, 44, 41, 51, 40, 45, 35, 53, 18, 51, 31, 35, 60, 21, 29, 62, 39, 19, 22, 39, 30, 30, 58, 42, 64, 21, 23, 45, 40, 19, 18, 25, 46, 33, 54, 28, 36, 20, 24, 23, 45, 26, 18, 44, 60, 64, 39, 63, 36, 28, 58, 36, 42, 36, 56, 35, 59, 21, 59, 53, 51, 23, 27, 55, 61, 53, 20, 25, 57, 38, 55, 36, 51, 40, 18, 57, 61, 25, 50, 26, 42, 43, 44, 23, 49, 33, 41, 37, 22, 23, 21, 25, 36, 22, 57, 36, 54, 62, 61, 19, 18, 19, 49, 26, 49, 60, 26, 27, 44, 63, 22, 59, 44, 33, 24, 61, 35, 62, 62, 38, 34, 43, 50, 19, 57, 62, 41, 26, 39, 46, 45, 32, 59, 44, 39, 18, 53, 18, 50, 18, 19, 62, 56, 42, 42, 57, 30, 31, 24, 48, 19, 29, 63, 46, 52, 35, 44, 21, 39, 50, 34, 22, 19, 26, 48, 26, 45, 36, 54, 34, 27, 20, 44, 43, 45, 34, 26, 38, 50, 38, 39, 39, 63, 33, 36, 24, 48, 47, 29, 28, 25, 51, 48, 61, 48, 38, 59, 19, 26, 54, 21, 51, 18, 47, 21, 23, 54, 37, 30, 61, 54, 22, 19, 18, 28, 55, 43, 25, 44, 64, 49, 27, 55, 48, 45, 24, 32, 24, 57, 36, 29, 42, 48, 39, 63, 54, 63, 21, 54, 60, 32, 47, 21, 63, 18, 32, 38, 32, 62, 55, 57, 52, 56, 55, 23, 50, 18, 22, 52, 25, 53, 29, 58, 37, 54, 49, 50, 26, 45, 54, 28, 23, 55, 41, 30, 46, 27, 63, 55, 35, 34, 19, 39, 27, 57, 52, 28, 50, 44, 26, 33, 50, 41, 52, 39, 50, 52, 20, 55, 42, 18, 58, 35, 48, 36, 23, 20, 32, 43, 34, 30, 18, 41, 35, 57, 29, 32, 37, 56, 38, 29, 22, 40, 23, 42, 24, 25, 48, 45, 62, 23, 31, 41, 58, 48, 31, 19, 41, 40, 31, 37, 46, 22, 51, 35, 59, 59, 36, 39, 18, 52, 27, 18, 40, 29, 38, 30, 40, 50, 41, 33, 38, 42, 56, 58, 54, 58, 45, 26, 63, 58, 37, 25, 22, 28, 18, 28, 45, 33, 18, 19, 40, 34, 42, 51, 54, 55, 52, 32, 28, 41, 43, 49, 55, 20, 45, 26, 25, 43, 35, 57, 22, 32, 25, 48, 18, 47, 28, 36, 44, 38, 21, 46, 58, 20, 18, 28, 33, 19, 25, 24, 41, 42, 33, 34, 18, 19, 18, 35, 39, 31, 62, 31, 61, 42, 51, 23, 52, 57, 23, 52, 50, 18, 18, 21], \"xaxis\": \"x\", \"y\": [1725.5523, 4449.462, 21984.47061, 3866.8552, 3756.6216, 8240.5896, 7281.5056, 6406.4107, 28923.136919999997, 2721.3208, 1826.8429999999998, 11090.7178, 1837.237, 10797.3362, 2395.17155, 10602.385, 13228.84695, 4149.736, 1137.011, 6203.90175, 14001.1338, 14451.83515, 12268.63225, 2775.19215, 2198.18985, 4687.7970000000005, 13770.0979, 1625.43375, 15612.19335, 2302.3, 3046.062, 4949.7587, 6272.4772, 6313.759, 6079.6715, 20630.28351, 3393.35635, 3556.9223, 12629.8967, 2211.13075, 3579.8287, 8059.6791, 13607.36875, 5989.52365, 8606.2174, 4504.6624, 30166.618169999998, 4133.64165, 1743.214, 14235.072, 6389.37785, 5920.1041, 6799.4580000000005, 11741.726, 11946.6259, 7726.854, 11356.6609, 3947.4131, 1532.4697, 2755.02095, 6571.02435, 4441.21315, 7935.29115, 11033.6617, 11073.176000000001, 8026.6666, 11082.5772, 2026.9741, 10942.13205, 5729.0053, 3766.8838, 12105.32, 10226.2842, 6186.1269999999995, 3645.0894, 21344.8467, 5003.853, 2331.519, 3877.30425, 2867.1196, 10825.2537, 11881.358, 4646.759, 2404.7338, 11488.31695, 30259.995560000003, 11381.3254, 8601.3293, 6686.4313, 7740.3369999999995, 1705.6245, 2257.47525, 10115.00885, 3385.39915, 9634.538, 6082.405, 12815.44495, 13616.3586, 11163.568000000001, 1632.56445, 2457.21115, 2155.6815, 1261.442, 2045.68525, 27322.733860000004, 2166.732, 27375.90478, 3490.5491, 18157.876, 5138.2567, 9877.6077, 10959.6947, 1842.519, 5125.2157, 7789.635, 6334.34355, 7077.1894, 6948.7008, 19749.383380000003, 10450.552, 5152.134, 5028.1466, 10407.08585, 4830.63, 6128.79745, 2719.27975, 4827.90495, 13405.3903, 8116.68, 1694.7964, 5246.047, 2855.43755, 6455.86265, 10436.096, 8823.279, 8538.28845, 11735.87905, 1631.8212, 4005.4225, 7419.4779, 7731.4271, 3981.9768, 5325.651, 6775.960999999999, 4922.9159, 12557.6053, 4883.866, 2137.6536, 12044.341999999999, 1137.4697, 1639.5631, 5649.715, 8516.829, 9644.2525, 14901.5167, 2130.6759, 8871.1517, 13012.20865, 7147.105, 4337.7352, 11743.298999999999, 13880.948999999999, 6610.1097, 1980.07, 8162.71625, 3537.703, 5002.7827, 8520.026, 7371.772, 10355.641, 2483.736, 3392.9768, 25081.76784, 5012.471, 10564.8845, 5253.524, 11987.1682, 2689.4954, 24227.33724, 7358.17565, 9225.2564, 7443.64305, 14001.2867, 1727.785, 12333.828000000001, 6710.1919, 1615.7667, 4463.2051, 7152.6714, 5354.07465, 35160.13457, 7196.866999999999, 24476.47851, 12648.7034, 1986.9334, 1832.094, 4040.55825, 4260.744000000001, 13047.33235, 5400.9805, 11520.09985, 11837.16, 20462.99766, 14590.63205, 7441.053000000001, 9282.4806, 1719.4363, 7265.7025, 9617.66245, 2523.1695, 9715.841, 2803.69785, 2150.469, 12928.7911, 9855.1314, 4237.12655, 11879.10405, 9625.92, 7742.1098, 9432.9253, 14256.1928, 25992.82104, 3172.018, 20277.80751, 2156.7518, 3906.127, 1704.5681, 9249.4952, 6746.7425, 12265.5069, 4349.462, 12646.207, 19442.3535, 20177.671130000002, 4151.0287, 11944.59435, 7749.1564, 8444.474, 1737.376, 8124.4084, 9722.7695, 8835.26495, 10435.06525, 7421.19455, 4667.60765, 4894.7533, 24671.66334, 11566.30055, 2866.091, 6600.20595, 3561.8889, 9144.565, 13429.0354, 11658.37915, 19144.57652, 13822.803, 12142.5786, 13937.6665, 8232.6388, 18955.22017, 13352.0998, 13217.0945, 13981.85035, 10977.2063, 6184.2994, 4889.9995, 8334.45755, 5478.0368, 1635.73365, 11830.6072, 8932.084, 3554.203, 12404.8791, 14133.03775, 24603.04837, 8944.1151, 9620.3307, 1837.2819, 1607.5101, 10043.249, 4751.07, 2597.779, 3180.5101, 9778.3472, 13430.265, 8017.06115, 8116.26885, 3481.868, 13415.0381, 12029.2867, 7639.41745, 1391.5287, 16455.70785, 27000.98473, 20781.48892, 5846.9176, 8302.53565, 1261.859, 11856.4115, 30284.642939999998, 3176.8159, 4618.0799, 10736.87075, 2138.0707, 8964.06055, 9290.1395, 9411.005, 7526.70645, 8522.003, 16586.49771, 14988.431999999999, 1631.6683, 9264.796999999999, 8083.9198, 14692.66935, 10269.46, 3260.199, 11396.9002, 4185.0979, 8539.671, 6652.5288, 4074.4537, 1621.3402, 5080.096, 2134.9015, 7345.7266, 9140.951, 14418.2804, 2727.3951, 8968.33, 9788.8659, 6555.07035, 7323.734818999999, 3167.45585, 18804.7524, 23082.95533, 4906.40965, 5969.723000000001, 12638.195, 4243.59005, 13919.8229, 2254.7967, 5926.846, 12592.5345, 2897.3235, 4738.2682, 1149.3959, 28287.897660000002, 7345.084, 12730.9996, 11454.0215, 5910.944, 4762.329000000001, 7512.267, 4032.2407, 1969.614, 1769.53165, 4686.3887, 21797.0004, 11881.9696, 11840.77505, 10601.412, 7682.67, 10381.4787, 15230.32405, 11165.41765, 1632.03625, 13224.693000000001, 12643.3778, 23288.9284, 2201.0971, 2497.0383, 2203.47185, 1744.465, 20878.78443, 2534.39375, 1534.3045, 1824.2854, 15555.18875, 9304.7019, 1622.1885, 9880.068000000001, 9563.029, 4347.02335, 12475.3513, 1253.9360000000001, 10461.9794, 1748.774, 24513.09126, 2196.4732, 12574.048999999999, 1967.0227, 4931.647, 8027.968000000001, 8211.1002, 13470.86, 6837.3687, 5974.3847, 6796.86325, 2643.2685, 3077.0955, 3044.2133, 11455.28, 11763.0009, 2498.4144, 9361.3268, 1256.299, 11362.755, 27724.28875, 8413.46305, 5240.765, 3857.75925, 25656.575259999998, 3994.1778, 9866.30485, 5397.6167, 11482.63485, 24059.68019, 9861.025, 8342.90875, 1708.0014, 14043.4767, 12925.886, 19214.705530000003, 13831.1152, 6067.12675, 5972.378000000001, 8825.086, 8233.0975, 27346.04207, 6196.448, 3056.3881, 13887.204, 10231.4999, 3268.84665, 11538.421, 3213.62205, 13390.559, 3972.9247, 12957.118, 11187.6567, 17878.900680000002, 3847.6740000000004, 8334.5896, 3935.1799, 1646.4297, 9193.8385, 10923.9332, 2494.022, 9058.7303, 2801.2588, 2128.43105, 6373.55735, 7256.7231, 11552.903999999999, 3761.292, 2219.4451, 4753.6368, 31620.001060000002, 13224.05705, 12222.8983, 1664.9996, 9724.53, 3206.49135, 12913.9924, 1639.5631, 6356.2707, 17626.23951, 1242.816, 4779.6023, 3861.20965, 13635.6379, 5976.8311, 11842.442, 8428.0693, 2566.4707, 5709.1644, 8823.98575, 7640.3092, 5594.8455, 7441.501, 33471.97189, 1633.0444, 9174.13565, 11070.535, 16085.1275, 9283.562, 3558.62025, 4435.0942, 8547.6913, 6571.544, 2207.69745, 6753.0380000000005, 1880.07, 11658.11505, 10713.643999999998, 3659.3459999999995, 9182.17, 12129.61415, 3736.4647, 6748.5912, 11326.71487, 11365.952, 10085.846, 1977.815, 3366.6697, 7173.35995, 9391.346, 14410.9321, 2709.1119, 24915.04626, 12949.1554, 6666.243, 13143.86485, 4466.6214, 18806.14547, 10141.1362, 6123.5688, 8252.2843, 1712.227, 12430.95335, 9800.8882, 10579.711000000001, 8280.6227, 8527.532, 12244.531, 3410.324, 4058.71245, 26392.260290000002, 14394.39815, 6435.6237, 22192.43711, 5148.5526, 1136.3994, 8703.456, 6500.2359, 4837.5823, 3943.5954, 4399.731, 6185.3208, 7222.78625, 12485.8009, 12363.546999999999, 10156.7832, 2585.269, 1242.26, 9863.4718, 4766.022, 11244.3769, 7729.64575, 5438.7491, 26236.57997, 2104.1134, 8068.185, 2362.22905, 2352.96845, 3577.9990000000003, 3201.24515, 29186.48236, 10976.24575, 3500.6123, 2020.5523, 9541.69555, 9504.3103, 5385.3379, 8930.93455, 5375.0380000000005, 10264.4421, 6113.23105, 5469.0066, 1727.54, 10107.2206, 8310.83915, 1984.4533, 2457.502, 12146.971000000001, 9566.9909, 13112.6048, 10848.1343, 12231.6136, 9875.6804, 11264.541000000001, 12979.358, 1263.249, 10106.13425, 6664.68595, 2217.6012, 6781.3542, 10065.413, 4234.927, 9447.25035, 14007.222, 9583.8933, 3484.3309999999997, 8604.48365, 3757.8448, 8827.2099, 9910.35985, 11737.84884, 1627.28245, 8556.907, 3062.50825, 1906.35825, 14210.53595, 11833.7823, 17128.42608, 5031.26955, 7985.815, 5428.7277, 3925.7582, 2416.955, 3070.8087, 9095.06825, 11842.62375, 8062.764, 7050.642, 14319.031, 6933.24225, 27941.28758, 11150.78, 12797.20962, 7261.741, 10560.4917, 6986.696999999999, 7448.40395, 5934.3798, 9869.8102, 1146.7966, 9386.1613, 4350.5144, 6414.178000000001, 12741.16745, 1917.3184, 5209.57885, 13457.9608, 5662.225, 1252.407, 2731.9122, 7209.4918, 4266.1658, 4719.52405, 11848.141000000001, 7046.7222, 14313.8463, 2103.08, 1815.8759, 7731.85785, 28476.734989999997, 2136.88225, 1131.5066, 3309.7926, 9414.92, 6360.9936, 11013.7119, 4428.88785, 5584.3057, 1877.9294, 2842.76075, 3597.5959999999995, 7445.918000000001, 2680.9493, 1621.8827, 8219.2039, 12523.6048, 16069.08475, 6117.4945, 13393.756000000001, 5266.3656, 4719.73655, 11743.9341, 5377.4578, 7160.3303, 4402.233, 11657.7189, 6402.29135, 12622.1795, 1526.3120000000001, 12323.936000000002, 10072.05505, 9872.701, 2438.0552, 2974.1259999999997, 10601.63225, 14119.62, 11729.6795, 1875.344, 18218.16139, 10965.446000000002, 7151.092, 12269.68865, 5458.04645, 8782.469000000001, 6600.361, 1141.4451, 11576.13, 13129.60345, 4391.652, 8457.818000000001, 3392.3652, 5966.8874, 6849.026, 8891.1395, 2690.1138, 26140.3603, 6653.7886, 6282.235, 6311.951999999999, 3443.0640000000003, 2789.0574, 2585.85065, 4877.98105, 5272.1758, 1682.5970000000002, 11945.1327, 7243.8136, 10422.91665, 13555.0049, 13063.883, 2221.56445, 1634.5734, 2117.33885, 8688.85885, 4661.28635, 8125.7845, 12644.589, 4564.19145, 4846.92015, 7633.7206, 15170.069, 2639.0429, 14382.70905, 7626.993, 5257.50795, 2473.3341, 13041.921, 5245.2269, 13451.122, 13462.52, 5488.262, 4320.41085, 6250.435, 25333.33284, 2913.5690000000004, 12032.326000000001, 13470.8044, 6289.7549, 2927.0647, 6238.298000000001, 10096.97, 7348.142, 4673.3922, 12233.828000000001, 32108.662819999998, 8965.79575, 2304.0022, 9487.6442, 1121.8739, 9549.5651, 2217.46915, 1628.4709, 12982.8747, 11674.13, 7160.094, 6358.77645, 11534.87265, 4527.18295, 3875.7341, 12609.88702, 28468.91901, 2730.10785, 3353.284, 14474.675, 9500.57305, 26467.09737, 4746.344, 7518.02535, 3279.86855, 8596.8278, 10702.6424, 4992.3764, 2527.81865, 1759.338, 2322.6218, 7804.1605, 2902.9065, 9704.66805, 4889.0368, 25517.11363, 4500.33925, 16796.41194, 4915.05985, 7624.63, 8410.04685, 28340.18885, 4518.82625, 3378.91, 7144.86265, 10118.424, 5484.4673, 7986.47525, 7418.522, 13887.9685, 6551.7501, 5267.81815, 1972.95, 21232.182259999998, 8627.5411, 4433.3877, 4438.2634, 23241.47453, 9957.7216, 8269.044, 36580.28216, 8765.249, 5383.536, 12124.9924, 2709.24395, 3987.926, 12495.29085, 26018.95052, 8798.593, 1711.0268, 8569.8618, 2020.1770000000001, 21595.38229, 9850.431999999999, 6877.9801, 4137.5227, 12950.0712, 12094.478000000001, 2250.8352, 22493.65964, 1704.70015, 3161.454, 11394.06555, 7325.0482, 3594.17085, 8023.13545, 14394.5579, 9288.0267, 3353.4703, 10594.50155, 8277.523000000001, 17929.303369999998, 2480.9791, 4462.7218, 1981.5819, 11554.2236, 6548.19505, 5708.866999999999, 7045.499, 8978.1851, 5757.41345, 14349.8544, 10928.848999999998, 13974.45555, 1909.52745, 12096.6512, 13204.28565, 4562.8421, 8551.347, 2102.2647, 15161.5344, 11884.04858, 4454.40265, 5855.9025, 4076.4970000000003, 15019.76005, 10796.35025, 11353.2276, 9748.9106, 10577.087, 11286.5387, 3591.48, 11299.343, 4561.1885, 1674.6323, 23045.56616, 3227.1211, 11253.421, 3471.4096, 11363.2832, 20420.60465, 10338.9316, 8988.15875, 10493.9458, 2904.0879999999997, 8605.3615, 11512.405, 5312.16985, 2396.0959, 10807.4863, 9222.4026, 5693.4305, 8347.1643, 18903.49141, 14254.6082, 10214.636, 5836.5204, 14358.36437, 1728.8970000000002, 8582.3023, 3693.428, 20709.02034, 9991.03765, 19673.335730000003, 11085.5868, 7623.518, 3176.2877, 3704.3545, 9048.0273, 7954.517, 27117.99378, 6338.0756, 9630.396999999999, 11289.10925, 2261.5688, 10791.96, 5979.731, 2203.73595, 12235.8392, 5630.45785, 11015.1747, 7228.21565, 14426.07385, 2459.7201, 3989.841, 7727.2532, 5124.1887, 18963.171919999997, 2200.83085, 7153.5539, 5227.98875, 10982.5013, 4529.477, 4670.64, 6112.35295, 11093.6229, 6457.8434, 4433.9159, 2154.361, 6496.8859999999995, 2899.48935, 7650.77375, 2850.68375, 2632.992, 9447.3824, 8603.8234, 13844.7972, 13126.67745, 5327.40025, 13725.47184, 13019.16105, 8671.19125, 4134.08245, 18838.70366, 5699.8375, 6393.60345, 4934.705, 6198.7518, 8733.22925, 2055.3249, 9964.06, 5116.5004, 36910.60803, 12347.171999999999, 5373.36425, 23563.016180000002, 1702.4553, 10806.839, 3956.07145, 12890.05765, 5415.6612, 4058.1161, 7537.1639, 4718.20355, 6593.5083, 8442.667, 6858.4796, 4795.6568, 6640.54485, 7162.0122, 10594.2257, 11938.25595, 12479.70895, 11345.518999999998, 8515.7587, 2699.56835, 14449.8544, 12224.35085, 6985.50695, 3238.4357, 4296.2712, 3171.6149, 1135.9407, 5615.369000000001, 9101.798, 6059.173000000001, 1633.9618, 1241.565, 15828.821730000001, 4415.1588, 6474.013000000001, 11436.73815, 11305.93455, 30063.58055, 10197.7722, 4544.2348, 3277.1609999999996, 6770.1925, 7337.7480000000005, 10370.91255, 10704.47, 1880.487, 8615.3, 3292.52985, 3021.80915, 14478.33015, 4747.0529, 10959.33, 2741.948, 4357.04365, 4189.1131, 8283.6807, 1720.3537, 8534.6718, 3732.6251, 5472.4490000000005, 7147.4728, 7133.9025, 1515.3449, 9301.89355, 11931.12525, 1964.78, 1708.92575, 4340.4409, 5261.46945, 2710.82855, 3208.7870000000003, 2464.6188, 6875.960999999999, 6940.90985, 4571.41305, 4536.259, 11272.331390000001, 1731.6770000000001, 1163.4627, 19496.71917, 7201.70085, 5425.02335, 12981.3457, 4239.89265, 13143.33665, 7050.0213, 9377.9047, 22395.74424, 10325.206, 12629.1656, 10795.937329999999, 11411.685, 10600.5483, 2205.9808, 1629.8335, 2007.945], \"yaxis\": \"y\"}],\n",
              "                        {\"legend\": {\"tracegroupgap\": 0}, \"template\": {\"data\": {\"bar\": [{\"error_x\": {\"color\": \"#2a3f5f\"}, \"error_y\": {\"color\": \"#2a3f5f\"}, \"marker\": {\"line\": {\"color\": \"#E5ECF6\", \"width\": 0.5}}, \"type\": \"bar\"}], \"barpolar\": [{\"marker\": {\"line\": {\"color\": \"#E5ECF6\", \"width\": 0.5}}, \"type\": \"barpolar\"}], \"carpet\": [{\"aaxis\": {\"endlinecolor\": \"#2a3f5f\", \"gridcolor\": \"white\", \"linecolor\": \"white\", \"minorgridcolor\": \"white\", \"startlinecolor\": \"#2a3f5f\"}, \"baxis\": {\"endlinecolor\": \"#2a3f5f\", \"gridcolor\": \"white\", \"linecolor\": \"white\", \"minorgridcolor\": \"white\", \"startlinecolor\": \"#2a3f5f\"}, \"type\": \"carpet\"}], \"choropleth\": [{\"colorbar\": {\"outlinewidth\": 0, \"ticks\": \"\"}, \"type\": \"choropleth\"}], \"contour\": [{\"colorbar\": {\"outlinewidth\": 0, \"ticks\": \"\"}, \"colorscale\": [[0.0, \"#0d0887\"], [0.1111111111111111, \"#46039f\"], [0.2222222222222222, \"#7201a8\"], [0.3333333333333333, \"#9c179e\"], [0.4444444444444444, \"#bd3786\"], [0.5555555555555556, \"#d8576b\"], [0.6666666666666666, \"#ed7953\"], [0.7777777777777778, \"#fb9f3a\"], [0.8888888888888888, \"#fdca26\"], [1.0, \"#f0f921\"]], \"type\": \"contour\"}], \"contourcarpet\": [{\"colorbar\": {\"outlinewidth\": 0, \"ticks\": \"\"}, \"type\": \"contourcarpet\"}], \"heatmap\": [{\"colorbar\": {\"outlinewidth\": 0, \"ticks\": \"\"}, \"colorscale\": [[0.0, \"#0d0887\"], [0.1111111111111111, \"#46039f\"], [0.2222222222222222, \"#7201a8\"], [0.3333333333333333, \"#9c179e\"], [0.4444444444444444, \"#bd3786\"], [0.5555555555555556, \"#d8576b\"], [0.6666666666666666, \"#ed7953\"], [0.7777777777777778, \"#fb9f3a\"], [0.8888888888888888, \"#fdca26\"], [1.0, \"#f0f921\"]], \"type\": \"heatmap\"}], \"heatmapgl\": [{\"colorbar\": {\"outlinewidth\": 0, \"ticks\": \"\"}, \"colorscale\": [[0.0, \"#0d0887\"], [0.1111111111111111, \"#46039f\"], [0.2222222222222222, \"#7201a8\"], [0.3333333333333333, \"#9c179e\"], [0.4444444444444444, \"#bd3786\"], [0.5555555555555556, \"#d8576b\"], [0.6666666666666666, \"#ed7953\"], [0.7777777777777778, \"#fb9f3a\"], [0.8888888888888888, \"#fdca26\"], [1.0, \"#f0f921\"]], \"type\": \"heatmapgl\"}], \"histogram\": [{\"marker\": {\"colorbar\": {\"outlinewidth\": 0, \"ticks\": \"\"}}, \"type\": \"histogram\"}], \"histogram2d\": [{\"colorbar\": {\"outlinewidth\": 0, \"ticks\": \"\"}, \"colorscale\": [[0.0, \"#0d0887\"], [0.1111111111111111, \"#46039f\"], [0.2222222222222222, \"#7201a8\"], [0.3333333333333333, \"#9c179e\"], [0.4444444444444444, \"#bd3786\"], [0.5555555555555556, \"#d8576b\"], [0.6666666666666666, \"#ed7953\"], [0.7777777777777778, \"#fb9f3a\"], [0.8888888888888888, \"#fdca26\"], [1.0, \"#f0f921\"]], \"type\": \"histogram2d\"}], \"histogram2dcontour\": [{\"colorbar\": {\"outlinewidth\": 0, \"ticks\": \"\"}, \"colorscale\": [[0.0, \"#0d0887\"], [0.1111111111111111, \"#46039f\"], [0.2222222222222222, \"#7201a8\"], [0.3333333333333333, \"#9c179e\"], [0.4444444444444444, \"#bd3786\"], [0.5555555555555556, \"#d8576b\"], [0.6666666666666666, \"#ed7953\"], [0.7777777777777778, \"#fb9f3a\"], [0.8888888888888888, \"#fdca26\"], [1.0, \"#f0f921\"]], \"type\": \"histogram2dcontour\"}], \"mesh3d\": [{\"colorbar\": {\"outlinewidth\": 0, \"ticks\": \"\"}, \"type\": \"mesh3d\"}], \"parcoords\": [{\"line\": {\"colorbar\": {\"outlinewidth\": 0, \"ticks\": \"\"}}, \"type\": \"parcoords\"}], \"pie\": [{\"automargin\": true, \"type\": \"pie\"}], \"scatter\": [{\"marker\": {\"colorbar\": {\"outlinewidth\": 0, \"ticks\": \"\"}}, \"type\": \"scatter\"}], \"scatter3d\": [{\"line\": {\"colorbar\": {\"outlinewidth\": 0, \"ticks\": \"\"}}, \"marker\": {\"colorbar\": {\"outlinewidth\": 0, \"ticks\": \"\"}}, \"type\": \"scatter3d\"}], \"scattercarpet\": [{\"marker\": {\"colorbar\": {\"outlinewidth\": 0, \"ticks\": \"\"}}, \"type\": \"scattercarpet\"}], \"scattergeo\": [{\"marker\": {\"colorbar\": {\"outlinewidth\": 0, \"ticks\": \"\"}}, \"type\": \"scattergeo\"}], \"scattergl\": [{\"marker\": {\"colorbar\": {\"outlinewidth\": 0, \"ticks\": \"\"}}, \"type\": \"scattergl\"}], \"scattermapbox\": [{\"marker\": {\"colorbar\": {\"outlinewidth\": 0, \"ticks\": \"\"}}, \"type\": \"scattermapbox\"}], \"scatterpolar\": [{\"marker\": {\"colorbar\": {\"outlinewidth\": 0, \"ticks\": \"\"}}, \"type\": \"scatterpolar\"}], \"scatterpolargl\": [{\"marker\": {\"colorbar\": {\"outlinewidth\": 0, \"ticks\": \"\"}}, \"type\": \"scatterpolargl\"}], \"scatterternary\": [{\"marker\": {\"colorbar\": {\"outlinewidth\": 0, \"ticks\": \"\"}}, \"type\": \"scatterternary\"}], \"surface\": [{\"colorbar\": {\"outlinewidth\": 0, \"ticks\": \"\"}, \"colorscale\": [[0.0, \"#0d0887\"], [0.1111111111111111, \"#46039f\"], [0.2222222222222222, \"#7201a8\"], [0.3333333333333333, \"#9c179e\"], [0.4444444444444444, \"#bd3786\"], [0.5555555555555556, \"#d8576b\"], [0.6666666666666666, \"#ed7953\"], [0.7777777777777778, \"#fb9f3a\"], [0.8888888888888888, \"#fdca26\"], [1.0, \"#f0f921\"]], \"type\": \"surface\"}], \"table\": [{\"cells\": {\"fill\": {\"color\": \"#EBF0F8\"}, \"line\": {\"color\": \"white\"}}, \"header\": {\"fill\": {\"color\": \"#C8D4E3\"}, \"line\": {\"color\": \"white\"}}, \"type\": \"table\"}]}, \"layout\": {\"annotationdefaults\": {\"arrowcolor\": \"#2a3f5f\", \"arrowhead\": 0, \"arrowwidth\": 1}, \"coloraxis\": {\"colorbar\": {\"outlinewidth\": 0, \"ticks\": \"\"}}, \"colorscale\": {\"diverging\": [[0, \"#8e0152\"], [0.1, \"#c51b7d\"], [0.2, \"#de77ae\"], [0.3, \"#f1b6da\"], [0.4, \"#fde0ef\"], [0.5, \"#f7f7f7\"], [0.6, \"#e6f5d0\"], [0.7, \"#b8e186\"], [0.8, \"#7fbc41\"], [0.9, \"#4d9221\"], [1, \"#276419\"]], \"sequential\": [[0.0, \"#0d0887\"], [0.1111111111111111, \"#46039f\"], [0.2222222222222222, \"#7201a8\"], [0.3333333333333333, \"#9c179e\"], [0.4444444444444444, \"#bd3786\"], [0.5555555555555556, \"#d8576b\"], [0.6666666666666666, \"#ed7953\"], [0.7777777777777778, \"#fb9f3a\"], [0.8888888888888888, \"#fdca26\"], [1.0, \"#f0f921\"]], \"sequentialminus\": [[0.0, \"#0d0887\"], [0.1111111111111111, \"#46039f\"], [0.2222222222222222, \"#7201a8\"], [0.3333333333333333, \"#9c179e\"], [0.4444444444444444, \"#bd3786\"], [0.5555555555555556, \"#d8576b\"], [0.6666666666666666, \"#ed7953\"], [0.7777777777777778, \"#fb9f3a\"], [0.8888888888888888, \"#fdca26\"], [1.0, \"#f0f921\"]]}, \"colorway\": [\"#636efa\", \"#EF553B\", \"#00cc96\", \"#ab63fa\", \"#FFA15A\", \"#19d3f3\", \"#FF6692\", \"#B6E880\", \"#FF97FF\", \"#FECB52\"], \"font\": {\"color\": \"#2a3f5f\"}, \"geo\": {\"bgcolor\": \"white\", \"lakecolor\": \"white\", \"landcolor\": \"#E5ECF6\", \"showlakes\": true, \"showland\": true, \"subunitcolor\": \"white\"}, \"hoverlabel\": {\"align\": \"left\"}, \"hovermode\": \"closest\", \"mapbox\": {\"style\": \"light\"}, \"paper_bgcolor\": \"white\", \"plot_bgcolor\": \"#E5ECF6\", \"polar\": {\"angularaxis\": {\"gridcolor\": \"white\", \"linecolor\": \"white\", \"ticks\": \"\"}, \"bgcolor\": \"#E5ECF6\", \"radialaxis\": {\"gridcolor\": \"white\", \"linecolor\": \"white\", \"ticks\": \"\"}}, \"scene\": {\"xaxis\": {\"backgroundcolor\": \"#E5ECF6\", \"gridcolor\": \"white\", \"gridwidth\": 2, \"linecolor\": \"white\", \"showbackground\": true, \"ticks\": \"\", \"zerolinecolor\": \"white\"}, \"yaxis\": {\"backgroundcolor\": \"#E5ECF6\", \"gridcolor\": \"white\", \"gridwidth\": 2, \"linecolor\": \"white\", \"showbackground\": true, \"ticks\": \"\", \"zerolinecolor\": \"white\"}, \"zaxis\": {\"backgroundcolor\": \"#E5ECF6\", \"gridcolor\": \"white\", \"gridwidth\": 2, \"linecolor\": \"white\", \"showbackground\": true, \"ticks\": \"\", \"zerolinecolor\": \"white\"}}, \"shapedefaults\": {\"line\": {\"color\": \"#2a3f5f\"}}, \"ternary\": {\"aaxis\": {\"gridcolor\": \"white\", \"linecolor\": \"white\", \"ticks\": \"\"}, \"baxis\": {\"gridcolor\": \"white\", \"linecolor\": \"white\", \"ticks\": \"\"}, \"bgcolor\": \"#E5ECF6\", \"caxis\": {\"gridcolor\": \"white\", \"linecolor\": \"white\", \"ticks\": \"\"}}, \"title\": {\"x\": 0.05}, \"xaxis\": {\"automargin\": true, \"gridcolor\": \"white\", \"linecolor\": \"white\", \"ticks\": \"\", \"title\": {\"standoff\": 15}, \"zerolinecolor\": \"white\", \"zerolinewidth\": 2}, \"yaxis\": {\"automargin\": true, \"gridcolor\": \"white\", \"linecolor\": \"white\", \"ticks\": \"\", \"title\": {\"standoff\": 15}, \"zerolinecolor\": \"white\", \"zerolinewidth\": 2}}}, \"title\": {\"text\": \"Age vs. Charges\"}, \"xaxis\": {\"anchor\": \"y\", \"domain\": [0.0, 1.0], \"title\": {\"text\": \"age\"}}, \"yaxis\": {\"anchor\": \"x\", \"domain\": [0.0, 1.0], \"title\": {\"text\": \"charges\"}}},\n",
              "                        {\"responsive\": true}\n",
              "                    ).then(function(){\n",
              "                            \n",
              "var gd = document.getElementById('a67aff2f-1f12-4846-8646-47737d281f97');\n",
              "var x = new MutationObserver(function (mutations, observer) {{\n",
              "        var display = window.getComputedStyle(gd).display;\n",
              "        if (!display || display === 'none') {{\n",
              "            console.log([gd, 'removed!']);\n",
              "            Plotly.purge(gd);\n",
              "            observer.disconnect();\n",
              "        }}\n",
              "}});\n",
              "\n",
              "// Listen for the removal of the full notebook cells\n",
              "var notebookContainer = gd.closest('#notebook-container');\n",
              "if (notebookContainer) {{\n",
              "    x.observe(notebookContainer, {childList: true});\n",
              "}}\n",
              "\n",
              "// Listen for the clearing of the current output cell\n",
              "var outputEl = gd.closest('.output');\n",
              "if (outputEl) {{\n",
              "    x.observe(outputEl, {childList: true});\n",
              "}}\n",
              "\n",
              "                        })\n",
              "                };\n",
              "                \n",
              "            </script>\n",
              "        </div>\n",
              "</body>\n",
              "</html>"
            ]
          },
          "metadata": {
            "tags": []
          }
        }
      ]
    },
    {
      "cell_type": "code",
      "metadata": {
        "colab": {
          "base_uri": "https://localhost:8080/",
          "height": 417
        },
        "id": "gOUG_XeEijhH",
        "outputId": "b4bdb613-9d5f-4c19-90f4-8fc7bd80395e"
      },
      "source": [
        "medical_df"
      ],
      "execution_count": null,
      "outputs": [
        {
          "output_type": "execute_result",
          "data": {
            "text/html": [
              "<div>\n",
              "<style scoped>\n",
              "    .dataframe tbody tr th:only-of-type {\n",
              "        vertical-align: middle;\n",
              "    }\n",
              "\n",
              "    .dataframe tbody tr th {\n",
              "        vertical-align: top;\n",
              "    }\n",
              "\n",
              "    .dataframe thead th {\n",
              "        text-align: right;\n",
              "    }\n",
              "</style>\n",
              "<table border=\"1\" class=\"dataframe\">\n",
              "  <thead>\n",
              "    <tr style=\"text-align: right;\">\n",
              "      <th></th>\n",
              "      <th>age</th>\n",
              "      <th>sex</th>\n",
              "      <th>bmi</th>\n",
              "      <th>children</th>\n",
              "      <th>smoker</th>\n",
              "      <th>region</th>\n",
              "      <th>charges</th>\n",
              "    </tr>\n",
              "  </thead>\n",
              "  <tbody>\n",
              "    <tr>\n",
              "      <th>0</th>\n",
              "      <td>19</td>\n",
              "      <td>female</td>\n",
              "      <td>27.900</td>\n",
              "      <td>0</td>\n",
              "      <td>yes</td>\n",
              "      <td>southwest</td>\n",
              "      <td>16884.92400</td>\n",
              "    </tr>\n",
              "    <tr>\n",
              "      <th>1</th>\n",
              "      <td>18</td>\n",
              "      <td>male</td>\n",
              "      <td>33.770</td>\n",
              "      <td>1</td>\n",
              "      <td>no</td>\n",
              "      <td>southeast</td>\n",
              "      <td>1725.55230</td>\n",
              "    </tr>\n",
              "    <tr>\n",
              "      <th>2</th>\n",
              "      <td>28</td>\n",
              "      <td>male</td>\n",
              "      <td>33.000</td>\n",
              "      <td>3</td>\n",
              "      <td>no</td>\n",
              "      <td>southeast</td>\n",
              "      <td>4449.46200</td>\n",
              "    </tr>\n",
              "    <tr>\n",
              "      <th>3</th>\n",
              "      <td>33</td>\n",
              "      <td>male</td>\n",
              "      <td>22.705</td>\n",
              "      <td>0</td>\n",
              "      <td>no</td>\n",
              "      <td>northwest</td>\n",
              "      <td>21984.47061</td>\n",
              "    </tr>\n",
              "    <tr>\n",
              "      <th>4</th>\n",
              "      <td>32</td>\n",
              "      <td>male</td>\n",
              "      <td>28.880</td>\n",
              "      <td>0</td>\n",
              "      <td>no</td>\n",
              "      <td>northwest</td>\n",
              "      <td>3866.85520</td>\n",
              "    </tr>\n",
              "    <tr>\n",
              "      <th>...</th>\n",
              "      <td>...</td>\n",
              "      <td>...</td>\n",
              "      <td>...</td>\n",
              "      <td>...</td>\n",
              "      <td>...</td>\n",
              "      <td>...</td>\n",
              "      <td>...</td>\n",
              "    </tr>\n",
              "    <tr>\n",
              "      <th>1333</th>\n",
              "      <td>50</td>\n",
              "      <td>male</td>\n",
              "      <td>30.970</td>\n",
              "      <td>3</td>\n",
              "      <td>no</td>\n",
              "      <td>northwest</td>\n",
              "      <td>10600.54830</td>\n",
              "    </tr>\n",
              "    <tr>\n",
              "      <th>1334</th>\n",
              "      <td>18</td>\n",
              "      <td>female</td>\n",
              "      <td>31.920</td>\n",
              "      <td>0</td>\n",
              "      <td>no</td>\n",
              "      <td>northeast</td>\n",
              "      <td>2205.98080</td>\n",
              "    </tr>\n",
              "    <tr>\n",
              "      <th>1335</th>\n",
              "      <td>18</td>\n",
              "      <td>female</td>\n",
              "      <td>36.850</td>\n",
              "      <td>0</td>\n",
              "      <td>no</td>\n",
              "      <td>southeast</td>\n",
              "      <td>1629.83350</td>\n",
              "    </tr>\n",
              "    <tr>\n",
              "      <th>1336</th>\n",
              "      <td>21</td>\n",
              "      <td>female</td>\n",
              "      <td>25.800</td>\n",
              "      <td>0</td>\n",
              "      <td>no</td>\n",
              "      <td>southwest</td>\n",
              "      <td>2007.94500</td>\n",
              "    </tr>\n",
              "    <tr>\n",
              "      <th>1337</th>\n",
              "      <td>61</td>\n",
              "      <td>female</td>\n",
              "      <td>29.070</td>\n",
              "      <td>0</td>\n",
              "      <td>yes</td>\n",
              "      <td>northwest</td>\n",
              "      <td>29141.36030</td>\n",
              "    </tr>\n",
              "  </tbody>\n",
              "</table>\n",
              "<p>1338 rows × 7 columns</p>\n",
              "</div>"
            ],
            "text/plain": [
              "      age     sex     bmi  children smoker     region      charges\n",
              "0      19  female  27.900         0    yes  southwest  16884.92400\n",
              "1      18    male  33.770         1     no  southeast   1725.55230\n",
              "2      28    male  33.000         3     no  southeast   4449.46200\n",
              "3      33    male  22.705         0     no  northwest  21984.47061\n",
              "4      32    male  28.880         0     no  northwest   3866.85520\n",
              "...   ...     ...     ...       ...    ...        ...          ...\n",
              "1333   50    male  30.970         3     no  northwest  10600.54830\n",
              "1334   18  female  31.920         0     no  northeast   2205.98080\n",
              "1335   18  female  36.850         0     no  southeast   1629.83350\n",
              "1336   21  female  25.800         0     no  southwest   2007.94500\n",
              "1337   61  female  29.070         0    yes  northwest  29141.36030\n",
              "\n",
              "[1338 rows x 7 columns]"
            ]
          },
          "metadata": {
            "tags": []
          },
          "execution_count": 19
        }
      ]
    },
    {
      "cell_type": "code",
      "metadata": {
        "colab": {
          "base_uri": "https://localhost:8080/",
          "height": 542
        },
        "id": "CBUjxpARi2bq",
        "outputId": "6c3e08c3-aa5c-4b28-95fe-3e568a5b09f1"
      },
      "source": [
        "fig = px.histogram(medical_df, \n",
        "                   x='charges', \n",
        "                   marginal='box', \n",
        "                   color='smoker', \n",
        "                   color_discrete_sequence=['green', 'grey'], \n",
        "                   title='Annual Medical Charges')\n",
        "fig.update_layout(bargap=0.1)\n",
        "fig.show()"
      ],
      "execution_count": null,
      "outputs": [
        {
          "output_type": "display_data",
          "data": {
            "text/html": [
              "<html>\n",
              "<head><meta charset=\"utf-8\" /></head>\n",
              "<body>\n",
              "    <div>\n",
              "            <script src=\"https://cdnjs.cloudflare.com/ajax/libs/mathjax/2.7.5/MathJax.js?config=TeX-AMS-MML_SVG\"></script><script type=\"text/javascript\">if (window.MathJax) {MathJax.Hub.Config({SVG: {font: \"STIX-Web\"}});}</script>\n",
              "                <script type=\"text/javascript\">window.PlotlyConfig = {MathJaxConfig: 'local'};</script>\n",
              "        <script src=\"https://cdn.plot.ly/plotly-latest.min.js\"></script>    \n",
              "            <div id=\"93d58f51-aaf3-4831-a308-a8462c2950e5\" class=\"plotly-graph-div\" style=\"height:525px; width:100%;\"></div>\n",
              "            <script type=\"text/javascript\">\n",
              "                \n",
              "                    window.PLOTLYENV=window.PLOTLYENV || {};\n",
              "                    \n",
              "                if (document.getElementById(\"93d58f51-aaf3-4831-a308-a8462c2950e5\")) {\n",
              "                    Plotly.newPlot(\n",
              "                        '93d58f51-aaf3-4831-a308-a8462c2950e5',\n",
              "                        [{\"alignmentgroup\": \"True\", \"bingroup\": \"x\", \"hoverlabel\": {\"namelength\": 0}, \"hovertemplate\": \"smoker=yes<br>charges=%{x}<br>count=%{y}\", \"legendgroup\": \"smoker=yes\", \"marker\": {\"color\": \"green\"}, \"name\": \"smoker=yes\", \"offsetgroup\": \"smoker=yes\", \"orientation\": \"v\", \"showlegend\": true, \"type\": \"histogram\", \"x\": [16884.924, 27808.7251, 39611.7577, 36837.467000000004, 37701.8768, 38711.0, 35585.576, 51194.55914, 39774.2763, 48173.361, 38709.176, 23568.272, 37742.5757, 47496.49445, 34303.1672, 23244.7902, 14711.7438, 17663.1442, 16577.7795, 37165.1638, 39836.519, 21098.55405, 43578.9394, 30184.9367, 47291.055, 22412.6485, 15820.698999999999, 30942.1918, 17560.37975, 47055.5321, 19107.7796, 39556.4945, 17081.08, 32734.1863, 18972.495, 20745.9891, 40720.55105, 19964.7463, 21223.6758, 15518.18025, 36950.2567, 21348.706000000002, 36149.4835, 48824.45, 43753.33705, 37133.8982, 20984.0936, 34779.615, 19515.5416, 19444.2658, 17352.6803, 38511.6283, 29523.1656, 12829.4551, 47305.305, 44260.7499, 41097.16175, 43921.1837, 33750.2918, 17085.2676, 24869.8368, 36219.40545, 46151.1245, 17179.522, 42856.837999999996, 22331.5668, 48549.17835, 47896.79135, 42112.2356, 16297.846000000001, 21978.6769, 38746.3551, 24873.3849, 42124.5153, 34838.873, 35491.64, 42760.5022, 47928.03, 48517.56315, 24393.6224, 41919.097, 13844.506000000001, 36085.219, 18033.9679, 21659.9301, 38126.2465, 15006.57945, 42303.69215, 19594.80965, 14455.64405, 18608.262, 28950.4692, 46889.2612, 46599.1084, 39125.33225, 37079.372, 26109.32905, 22144.032000000003, 19521.9682, 25382.297000000002, 28868.6639, 35147.52848, 48885.135610000005, 17942.106, 36197.699, 22218.1149, 32548.3405, 21082.16, 38245.59327, 48675.5177, 63770.42801, 23807.2406, 45863.205, 39983.42595, 45702.02235, 58571.074479999996, 43943.8761, 15359.1045, 17468.9839, 25678.77845, 39241.442, 42969.8527, 23306.547000000002, 34439.8559, 40182.246, 34617.84065, 42983.4585, 20149.3229, 32787.458589999995, 24667.418999999998, 27037.9141, 42560.4304, 40003.33225, 45710.20785, 46200.9851, 46130.5265, 40103.89, 34806.4677, 40273.6455, 44400.4064, 40932.4295, 16657.71745, 19361.9988, 40419.0191, 36189.1017, 44585.45587, 18246.4955, 43254.41795, 19539.243000000002, 23065.4207, 36307.7983, 19040.876, 17748.5062, 18259.216, 24520.264, 21195.818, 18310.742, 17904.52705, 38792.6856, 23401.30575, 55135.402089999996, 43813.8661, 20773.62775, 39597.4072, 36021.0112, 27533.9129, 45008.9555, 37270.1512, 42111.6647, 24106.91255, 40974.1649, 15817.9857, 46113.511, 46255.1125, 19719.6947, 27218.43725, 29330.98315, 44202.6536, 19798.05455, 48673.5588, 17496.306, 33732.6867, 21774.32215, 35069.37452, 39047.285, 19933.458, 47462.894, 38998.546, 20009.63365, 41999.52, 41034.2214, 23967.38305, 16138.76205, 19199.944, 14571.8908, 16420.49455, 17361.7661, 34472.841, 24915.22085, 18767.7377, 35595.5898, 42211.1382, 16450.8947, 21677.28345, 44423.803, 13747.87235, 37484.4493, 39725.51805, 20234.85475, 33475.81715, 21880.82, 44501.3982, 39727.614, 25309.488999999998, 48970.2476, 39871.7043, 34672.1472, 19023.26, 41676.0811, 33907.547999999995, 44641.1974, 16776.30405, 41949.2441, 24180.9335, 36124.5737, 38282.7495, 34166.273, 46661.4424, 40904.1995, 36898.73308, 52590.82939, 40941.2854, 39722.7462, 17178.6824, 22478.6, 23887.6627, 19350.3689, 18328.2381, 37465.34375, 21771.3423, 33307.5508, 18223.4512, 38415.474, 20296.86345, 41661.602, 26125.674769999998, 60021.39897, 20167.336030000002, 47269.85400000001, 49577.6624, 37607.5277, 18648.4217, 16232.847, 26926.5144, 34254.05335, 17043.3414, 22462.04375, 24535.69855, 14283.4594, 47403.88, 38344.566, 34828.654, 62592.87309, 46718.16325, 37829.7242, 21259.37795, 16115.3045, 21472.4788, 33900.653, 36397.576, 18765.87545, 28101.33305, 43896.3763, 29141.3603], \"xaxis\": \"x\", \"yaxis\": \"y\"}, {\"alignmentgroup\": \"True\", \"hoverlabel\": {\"namelength\": 0}, \"hovertemplate\": \"smoker=yes<br>charges=%{x}\", \"legendgroup\": \"smoker=yes\", \"marker\": {\"color\": \"green\"}, \"name\": \"smoker=yes\", \"notched\": true, \"offsetgroup\": \"smoker=yes\", \"showlegend\": false, \"type\": \"box\", \"x\": [16884.924, 27808.7251, 39611.7577, 36837.467000000004, 37701.8768, 38711.0, 35585.576, 51194.55914, 39774.2763, 48173.361, 38709.176, 23568.272, 37742.5757, 47496.49445, 34303.1672, 23244.7902, 14711.7438, 17663.1442, 16577.7795, 37165.1638, 39836.519, 21098.55405, 43578.9394, 30184.9367, 47291.055, 22412.6485, 15820.698999999999, 30942.1918, 17560.37975, 47055.5321, 19107.7796, 39556.4945, 17081.08, 32734.1863, 18972.495, 20745.9891, 40720.55105, 19964.7463, 21223.6758, 15518.18025, 36950.2567, 21348.706000000002, 36149.4835, 48824.45, 43753.33705, 37133.8982, 20984.0936, 34779.615, 19515.5416, 19444.2658, 17352.6803, 38511.6283, 29523.1656, 12829.4551, 47305.305, 44260.7499, 41097.16175, 43921.1837, 33750.2918, 17085.2676, 24869.8368, 36219.40545, 46151.1245, 17179.522, 42856.837999999996, 22331.5668, 48549.17835, 47896.79135, 42112.2356, 16297.846000000001, 21978.6769, 38746.3551, 24873.3849, 42124.5153, 34838.873, 35491.64, 42760.5022, 47928.03, 48517.56315, 24393.6224, 41919.097, 13844.506000000001, 36085.219, 18033.9679, 21659.9301, 38126.2465, 15006.57945, 42303.69215, 19594.80965, 14455.64405, 18608.262, 28950.4692, 46889.2612, 46599.1084, 39125.33225, 37079.372, 26109.32905, 22144.032000000003, 19521.9682, 25382.297000000002, 28868.6639, 35147.52848, 48885.135610000005, 17942.106, 36197.699, 22218.1149, 32548.3405, 21082.16, 38245.59327, 48675.5177, 63770.42801, 23807.2406, 45863.205, 39983.42595, 45702.02235, 58571.074479999996, 43943.8761, 15359.1045, 17468.9839, 25678.77845, 39241.442, 42969.8527, 23306.547000000002, 34439.8559, 40182.246, 34617.84065, 42983.4585, 20149.3229, 32787.458589999995, 24667.418999999998, 27037.9141, 42560.4304, 40003.33225, 45710.20785, 46200.9851, 46130.5265, 40103.89, 34806.4677, 40273.6455, 44400.4064, 40932.4295, 16657.71745, 19361.9988, 40419.0191, 36189.1017, 44585.45587, 18246.4955, 43254.41795, 19539.243000000002, 23065.4207, 36307.7983, 19040.876, 17748.5062, 18259.216, 24520.264, 21195.818, 18310.742, 17904.52705, 38792.6856, 23401.30575, 55135.402089999996, 43813.8661, 20773.62775, 39597.4072, 36021.0112, 27533.9129, 45008.9555, 37270.1512, 42111.6647, 24106.91255, 40974.1649, 15817.9857, 46113.511, 46255.1125, 19719.6947, 27218.43725, 29330.98315, 44202.6536, 19798.05455, 48673.5588, 17496.306, 33732.6867, 21774.32215, 35069.37452, 39047.285, 19933.458, 47462.894, 38998.546, 20009.63365, 41999.52, 41034.2214, 23967.38305, 16138.76205, 19199.944, 14571.8908, 16420.49455, 17361.7661, 34472.841, 24915.22085, 18767.7377, 35595.5898, 42211.1382, 16450.8947, 21677.28345, 44423.803, 13747.87235, 37484.4493, 39725.51805, 20234.85475, 33475.81715, 21880.82, 44501.3982, 39727.614, 25309.488999999998, 48970.2476, 39871.7043, 34672.1472, 19023.26, 41676.0811, 33907.547999999995, 44641.1974, 16776.30405, 41949.2441, 24180.9335, 36124.5737, 38282.7495, 34166.273, 46661.4424, 40904.1995, 36898.73308, 52590.82939, 40941.2854, 39722.7462, 17178.6824, 22478.6, 23887.6627, 19350.3689, 18328.2381, 37465.34375, 21771.3423, 33307.5508, 18223.4512, 38415.474, 20296.86345, 41661.602, 26125.674769999998, 60021.39897, 20167.336030000002, 47269.85400000001, 49577.6624, 37607.5277, 18648.4217, 16232.847, 26926.5144, 34254.05335, 17043.3414, 22462.04375, 24535.69855, 14283.4594, 47403.88, 38344.566, 34828.654, 62592.87309, 46718.16325, 37829.7242, 21259.37795, 16115.3045, 21472.4788, 33900.653, 36397.576, 18765.87545, 28101.33305, 43896.3763, 29141.3603], \"xaxis\": \"x2\", \"yaxis\": \"y2\"}, {\"alignmentgroup\": \"True\", \"bingroup\": \"x\", \"hoverlabel\": {\"namelength\": 0}, \"hovertemplate\": \"smoker=no<br>charges=%{x}<br>count=%{y}\", \"legendgroup\": \"smoker=no\", \"marker\": {\"color\": \"grey\"}, \"name\": \"smoker=no\", \"offsetgroup\": \"smoker=no\", \"orientation\": \"v\", \"showlegend\": true, \"type\": \"histogram\", \"x\": [1725.5523, 4449.462, 21984.47061, 3866.8552, 3756.6216, 8240.5896, 7281.5056, 6406.4107, 28923.136919999997, 2721.3208, 1826.8429999999998, 11090.7178, 1837.237, 10797.3362, 2395.17155, 10602.385, 13228.84695, 4149.736, 1137.011, 6203.90175, 14001.1338, 14451.83515, 12268.63225, 2775.19215, 2198.18985, 4687.7970000000005, 13770.0979, 1625.43375, 15612.19335, 2302.3, 3046.062, 4949.7587, 6272.4772, 6313.759, 6079.6715, 20630.28351, 3393.35635, 3556.9223, 12629.8967, 2211.13075, 3579.8287, 8059.6791, 13607.36875, 5989.52365, 8606.2174, 4504.6624, 30166.618169999998, 4133.64165, 1743.214, 14235.072, 6389.37785, 5920.1041, 6799.4580000000005, 11741.726, 11946.6259, 7726.854, 11356.6609, 3947.4131, 1532.4697, 2755.02095, 6571.02435, 4441.21315, 7935.29115, 11033.6617, 11073.176000000001, 8026.6666, 11082.5772, 2026.9741, 10942.13205, 5729.0053, 3766.8838, 12105.32, 10226.2842, 6186.1269999999995, 3645.0894, 21344.8467, 5003.853, 2331.519, 3877.30425, 2867.1196, 10825.2537, 11881.358, 4646.759, 2404.7338, 11488.31695, 30259.995560000003, 11381.3254, 8601.3293, 6686.4313, 7740.3369999999995, 1705.6245, 2257.47525, 10115.00885, 3385.39915, 9634.538, 6082.405, 12815.44495, 13616.3586, 11163.568000000001, 1632.56445, 2457.21115, 2155.6815, 1261.442, 2045.68525, 27322.733860000004, 2166.732, 27375.90478, 3490.5491, 18157.876, 5138.2567, 9877.6077, 10959.6947, 1842.519, 5125.2157, 7789.635, 6334.34355, 7077.1894, 6948.7008, 19749.383380000003, 10450.552, 5152.134, 5028.1466, 10407.08585, 4830.63, 6128.79745, 2719.27975, 4827.90495, 13405.3903, 8116.68, 1694.7964, 5246.047, 2855.43755, 6455.86265, 10436.096, 8823.279, 8538.28845, 11735.87905, 1631.8212, 4005.4225, 7419.4779, 7731.4271, 3981.9768, 5325.651, 6775.960999999999, 4922.9159, 12557.6053, 4883.866, 2137.6536, 12044.341999999999, 1137.4697, 1639.5631, 5649.715, 8516.829, 9644.2525, 14901.5167, 2130.6759, 8871.1517, 13012.20865, 7147.105, 4337.7352, 11743.298999999999, 13880.948999999999, 6610.1097, 1980.07, 8162.71625, 3537.703, 5002.7827, 8520.026, 7371.772, 10355.641, 2483.736, 3392.9768, 25081.76784, 5012.471, 10564.8845, 5253.524, 11987.1682, 2689.4954, 24227.33724, 7358.17565, 9225.2564, 7443.64305, 14001.2867, 1727.785, 12333.828000000001, 6710.1919, 1615.7667, 4463.2051, 7152.6714, 5354.07465, 35160.13457, 7196.866999999999, 24476.47851, 12648.7034, 1986.9334, 1832.094, 4040.55825, 4260.744000000001, 13047.33235, 5400.9805, 11520.09985, 11837.16, 20462.99766, 14590.63205, 7441.053000000001, 9282.4806, 1719.4363, 7265.7025, 9617.66245, 2523.1695, 9715.841, 2803.69785, 2150.469, 12928.7911, 9855.1314, 4237.12655, 11879.10405, 9625.92, 7742.1098, 9432.9253, 14256.1928, 25992.82104, 3172.018, 20277.80751, 2156.7518, 3906.127, 1704.5681, 9249.4952, 6746.7425, 12265.5069, 4349.462, 12646.207, 19442.3535, 20177.671130000002, 4151.0287, 11944.59435, 7749.1564, 8444.474, 1737.376, 8124.4084, 9722.7695, 8835.26495, 10435.06525, 7421.19455, 4667.60765, 4894.7533, 24671.66334, 11566.30055, 2866.091, 6600.20595, 3561.8889, 9144.565, 13429.0354, 11658.37915, 19144.57652, 13822.803, 12142.5786, 13937.6665, 8232.6388, 18955.22017, 13352.0998, 13217.0945, 13981.85035, 10977.2063, 6184.2994, 4889.9995, 8334.45755, 5478.0368, 1635.73365, 11830.6072, 8932.084, 3554.203, 12404.8791, 14133.03775, 24603.04837, 8944.1151, 9620.3307, 1837.2819, 1607.5101, 10043.249, 4751.07, 2597.779, 3180.5101, 9778.3472, 13430.265, 8017.06115, 8116.26885, 3481.868, 13415.0381, 12029.2867, 7639.41745, 1391.5287, 16455.70785, 27000.98473, 20781.48892, 5846.9176, 8302.53565, 1261.859, 11856.4115, 30284.642939999998, 3176.8159, 4618.0799, 10736.87075, 2138.0707, 8964.06055, 9290.1395, 9411.005, 7526.70645, 8522.003, 16586.49771, 14988.431999999999, 1631.6683, 9264.796999999999, 8083.9198, 14692.66935, 10269.46, 3260.199, 11396.9002, 4185.0979, 8539.671, 6652.5288, 4074.4537, 1621.3402, 5080.096, 2134.9015, 7345.7266, 9140.951, 14418.2804, 2727.3951, 8968.33, 9788.8659, 6555.07035, 7323.734818999999, 3167.45585, 18804.7524, 23082.95533, 4906.40965, 5969.723000000001, 12638.195, 4243.59005, 13919.8229, 2254.7967, 5926.846, 12592.5345, 2897.3235, 4738.2682, 1149.3959, 28287.897660000002, 7345.084, 12730.9996, 11454.0215, 5910.944, 4762.329000000001, 7512.267, 4032.2407, 1969.614, 1769.53165, 4686.3887, 21797.0004, 11881.9696, 11840.77505, 10601.412, 7682.67, 10381.4787, 15230.32405, 11165.41765, 1632.03625, 13224.693000000001, 12643.3778, 23288.9284, 2201.0971, 2497.0383, 2203.47185, 1744.465, 20878.78443, 2534.39375, 1534.3045, 1824.2854, 15555.18875, 9304.7019, 1622.1885, 9880.068000000001, 9563.029, 4347.02335, 12475.3513, 1253.9360000000001, 10461.9794, 1748.774, 24513.09126, 2196.4732, 12574.048999999999, 1967.0227, 4931.647, 8027.968000000001, 8211.1002, 13470.86, 6837.3687, 5974.3847, 6796.86325, 2643.2685, 3077.0955, 3044.2133, 11455.28, 11763.0009, 2498.4144, 9361.3268, 1256.299, 11362.755, 27724.28875, 8413.46305, 5240.765, 3857.75925, 25656.575259999998, 3994.1778, 9866.30485, 5397.6167, 11482.63485, 24059.68019, 9861.025, 8342.90875, 1708.0014, 14043.4767, 12925.886, 19214.705530000003, 13831.1152, 6067.12675, 5972.378000000001, 8825.086, 8233.0975, 27346.04207, 6196.448, 3056.3881, 13887.204, 10231.4999, 3268.84665, 11538.421, 3213.62205, 13390.559, 3972.9247, 12957.118, 11187.6567, 17878.900680000002, 3847.6740000000004, 8334.5896, 3935.1799, 1646.4297, 9193.8385, 10923.9332, 2494.022, 9058.7303, 2801.2588, 2128.43105, 6373.55735, 7256.7231, 11552.903999999999, 3761.292, 2219.4451, 4753.6368, 31620.001060000002, 13224.05705, 12222.8983, 1664.9996, 9724.53, 3206.49135, 12913.9924, 1639.5631, 6356.2707, 17626.23951, 1242.816, 4779.6023, 3861.20965, 13635.6379, 5976.8311, 11842.442, 8428.0693, 2566.4707, 5709.1644, 8823.98575, 7640.3092, 5594.8455, 7441.501, 33471.97189, 1633.0444, 9174.13565, 11070.535, 16085.1275, 9283.562, 3558.62025, 4435.0942, 8547.6913, 6571.544, 2207.69745, 6753.0380000000005, 1880.07, 11658.11505, 10713.643999999998, 3659.3459999999995, 9182.17, 12129.61415, 3736.4647, 6748.5912, 11326.71487, 11365.952, 10085.846, 1977.815, 3366.6697, 7173.35995, 9391.346, 14410.9321, 2709.1119, 24915.04626, 12949.1554, 6666.243, 13143.86485, 4466.6214, 18806.14547, 10141.1362, 6123.5688, 8252.2843, 1712.227, 12430.95335, 9800.8882, 10579.711000000001, 8280.6227, 8527.532, 12244.531, 3410.324, 4058.71245, 26392.260290000002, 14394.39815, 6435.6237, 22192.43711, 5148.5526, 1136.3994, 8703.456, 6500.2359, 4837.5823, 3943.5954, 4399.731, 6185.3208, 7222.78625, 12485.8009, 12363.546999999999, 10156.7832, 2585.269, 1242.26, 9863.4718, 4766.022, 11244.3769, 7729.64575, 5438.7491, 26236.57997, 2104.1134, 8068.185, 2362.22905, 2352.96845, 3577.9990000000003, 3201.24515, 29186.48236, 10976.24575, 3500.6123, 2020.5523, 9541.69555, 9504.3103, 5385.3379, 8930.93455, 5375.0380000000005, 10264.4421, 6113.23105, 5469.0066, 1727.54, 10107.2206, 8310.83915, 1984.4533, 2457.502, 12146.971000000001, 9566.9909, 13112.6048, 10848.1343, 12231.6136, 9875.6804, 11264.541000000001, 12979.358, 1263.249, 10106.13425, 6664.68595, 2217.6012, 6781.3542, 10065.413, 4234.927, 9447.25035, 14007.222, 9583.8933, 3484.3309999999997, 8604.48365, 3757.8448, 8827.2099, 9910.35985, 11737.84884, 1627.28245, 8556.907, 3062.50825, 1906.35825, 14210.53595, 11833.7823, 17128.42608, 5031.26955, 7985.815, 5428.7277, 3925.7582, 2416.955, 3070.8087, 9095.06825, 11842.62375, 8062.764, 7050.642, 14319.031, 6933.24225, 27941.28758, 11150.78, 12797.20962, 7261.741, 10560.4917, 6986.696999999999, 7448.40395, 5934.3798, 9869.8102, 1146.7966, 9386.1613, 4350.5144, 6414.178000000001, 12741.16745, 1917.3184, 5209.57885, 13457.9608, 5662.225, 1252.407, 2731.9122, 7209.4918, 4266.1658, 4719.52405, 11848.141000000001, 7046.7222, 14313.8463, 2103.08, 1815.8759, 7731.85785, 28476.734989999997, 2136.88225, 1131.5066, 3309.7926, 9414.92, 6360.9936, 11013.7119, 4428.88785, 5584.3057, 1877.9294, 2842.76075, 3597.5959999999995, 7445.918000000001, 2680.9493, 1621.8827, 8219.2039, 12523.6048, 16069.08475, 6117.4945, 13393.756000000001, 5266.3656, 4719.73655, 11743.9341, 5377.4578, 7160.3303, 4402.233, 11657.7189, 6402.29135, 12622.1795, 1526.3120000000001, 12323.936000000002, 10072.05505, 9872.701, 2438.0552, 2974.1259999999997, 10601.63225, 14119.62, 11729.6795, 1875.344, 18218.16139, 10965.446000000002, 7151.092, 12269.68865, 5458.04645, 8782.469000000001, 6600.361, 1141.4451, 11576.13, 13129.60345, 4391.652, 8457.818000000001, 3392.3652, 5966.8874, 6849.026, 8891.1395, 2690.1138, 26140.3603, 6653.7886, 6282.235, 6311.951999999999, 3443.0640000000003, 2789.0574, 2585.85065, 4877.98105, 5272.1758, 1682.5970000000002, 11945.1327, 7243.8136, 10422.91665, 13555.0049, 13063.883, 2221.56445, 1634.5734, 2117.33885, 8688.85885, 4661.28635, 8125.7845, 12644.589, 4564.19145, 4846.92015, 7633.7206, 15170.069, 2639.0429, 14382.70905, 7626.993, 5257.50795, 2473.3341, 13041.921, 5245.2269, 13451.122, 13462.52, 5488.262, 4320.41085, 6250.435, 25333.33284, 2913.5690000000004, 12032.326000000001, 13470.8044, 6289.7549, 2927.0647, 6238.298000000001, 10096.97, 7348.142, 4673.3922, 12233.828000000001, 32108.662819999998, 8965.79575, 2304.0022, 9487.6442, 1121.8739, 9549.5651, 2217.46915, 1628.4709, 12982.8747, 11674.13, 7160.094, 6358.77645, 11534.87265, 4527.18295, 3875.7341, 12609.88702, 28468.91901, 2730.10785, 3353.284, 14474.675, 9500.57305, 26467.09737, 4746.344, 7518.02535, 3279.86855, 8596.8278, 10702.6424, 4992.3764, 2527.81865, 1759.338, 2322.6218, 7804.1605, 2902.9065, 9704.66805, 4889.0368, 25517.11363, 4500.33925, 16796.41194, 4915.05985, 7624.63, 8410.04685, 28340.18885, 4518.82625, 3378.91, 7144.86265, 10118.424, 5484.4673, 7986.47525, 7418.522, 13887.9685, 6551.7501, 5267.81815, 1972.95, 21232.182259999998, 8627.5411, 4433.3877, 4438.2634, 23241.47453, 9957.7216, 8269.044, 36580.28216, 8765.249, 5383.536, 12124.9924, 2709.24395, 3987.926, 12495.29085, 26018.95052, 8798.593, 1711.0268, 8569.8618, 2020.1770000000001, 21595.38229, 9850.431999999999, 6877.9801, 4137.5227, 12950.0712, 12094.478000000001, 2250.8352, 22493.65964, 1704.70015, 3161.454, 11394.06555, 7325.0482, 3594.17085, 8023.13545, 14394.5579, 9288.0267, 3353.4703, 10594.50155, 8277.523000000001, 17929.303369999998, 2480.9791, 4462.7218, 1981.5819, 11554.2236, 6548.19505, 5708.866999999999, 7045.499, 8978.1851, 5757.41345, 14349.8544, 10928.848999999998, 13974.45555, 1909.52745, 12096.6512, 13204.28565, 4562.8421, 8551.347, 2102.2647, 15161.5344, 11884.04858, 4454.40265, 5855.9025, 4076.4970000000003, 15019.76005, 10796.35025, 11353.2276, 9748.9106, 10577.087, 11286.5387, 3591.48, 11299.343, 4561.1885, 1674.6323, 23045.56616, 3227.1211, 11253.421, 3471.4096, 11363.2832, 20420.60465, 10338.9316, 8988.15875, 10493.9458, 2904.0879999999997, 8605.3615, 11512.405, 5312.16985, 2396.0959, 10807.4863, 9222.4026, 5693.4305, 8347.1643, 18903.49141, 14254.6082, 10214.636, 5836.5204, 14358.36437, 1728.8970000000002, 8582.3023, 3693.428, 20709.02034, 9991.03765, 19673.335730000003, 11085.5868, 7623.518, 3176.2877, 3704.3545, 9048.0273, 7954.517, 27117.99378, 6338.0756, 9630.396999999999, 11289.10925, 2261.5688, 10791.96, 5979.731, 2203.73595, 12235.8392, 5630.45785, 11015.1747, 7228.21565, 14426.07385, 2459.7201, 3989.841, 7727.2532, 5124.1887, 18963.171919999997, 2200.83085, 7153.5539, 5227.98875, 10982.5013, 4529.477, 4670.64, 6112.35295, 11093.6229, 6457.8434, 4433.9159, 2154.361, 6496.8859999999995, 2899.48935, 7650.77375, 2850.68375, 2632.992, 9447.3824, 8603.8234, 13844.7972, 13126.67745, 5327.40025, 13725.47184, 13019.16105, 8671.19125, 4134.08245, 18838.70366, 5699.8375, 6393.60345, 4934.705, 6198.7518, 8733.22925, 2055.3249, 9964.06, 5116.5004, 36910.60803, 12347.171999999999, 5373.36425, 23563.016180000002, 1702.4553, 10806.839, 3956.07145, 12890.05765, 5415.6612, 4058.1161, 7537.1639, 4718.20355, 6593.5083, 8442.667, 6858.4796, 4795.6568, 6640.54485, 7162.0122, 10594.2257, 11938.25595, 12479.70895, 11345.518999999998, 8515.7587, 2699.56835, 14449.8544, 12224.35085, 6985.50695, 3238.4357, 4296.2712, 3171.6149, 1135.9407, 5615.369000000001, 9101.798, 6059.173000000001, 1633.9618, 1241.565, 15828.821730000001, 4415.1588, 6474.013000000001, 11436.73815, 11305.93455, 30063.58055, 10197.7722, 4544.2348, 3277.1609999999996, 6770.1925, 7337.7480000000005, 10370.91255, 10704.47, 1880.487, 8615.3, 3292.52985, 3021.80915, 14478.33015, 4747.0529, 10959.33, 2741.948, 4357.04365, 4189.1131, 8283.6807, 1720.3537, 8534.6718, 3732.6251, 5472.4490000000005, 7147.4728, 7133.9025, 1515.3449, 9301.89355, 11931.12525, 1964.78, 1708.92575, 4340.4409, 5261.46945, 2710.82855, 3208.7870000000003, 2464.6188, 6875.960999999999, 6940.90985, 4571.41305, 4536.259, 11272.331390000001, 1731.6770000000001, 1163.4627, 19496.71917, 7201.70085, 5425.02335, 12981.3457, 4239.89265, 13143.33665, 7050.0213, 9377.9047, 22395.74424, 10325.206, 12629.1656, 10795.937329999999, 11411.685, 10600.5483, 2205.9808, 1629.8335, 2007.945], \"xaxis\": \"x\", \"yaxis\": \"y\"}, {\"alignmentgroup\": \"True\", \"hoverlabel\": {\"namelength\": 0}, \"hovertemplate\": \"smoker=no<br>charges=%{x}\", \"legendgroup\": \"smoker=no\", \"marker\": {\"color\": \"grey\"}, \"name\": \"smoker=no\", \"notched\": true, \"offsetgroup\": \"smoker=no\", \"showlegend\": false, \"type\": \"box\", \"x\": [1725.5523, 4449.462, 21984.47061, 3866.8552, 3756.6216, 8240.5896, 7281.5056, 6406.4107, 28923.136919999997, 2721.3208, 1826.8429999999998, 11090.7178, 1837.237, 10797.3362, 2395.17155, 10602.385, 13228.84695, 4149.736, 1137.011, 6203.90175, 14001.1338, 14451.83515, 12268.63225, 2775.19215, 2198.18985, 4687.7970000000005, 13770.0979, 1625.43375, 15612.19335, 2302.3, 3046.062, 4949.7587, 6272.4772, 6313.759, 6079.6715, 20630.28351, 3393.35635, 3556.9223, 12629.8967, 2211.13075, 3579.8287, 8059.6791, 13607.36875, 5989.52365, 8606.2174, 4504.6624, 30166.618169999998, 4133.64165, 1743.214, 14235.072, 6389.37785, 5920.1041, 6799.4580000000005, 11741.726, 11946.6259, 7726.854, 11356.6609, 3947.4131, 1532.4697, 2755.02095, 6571.02435, 4441.21315, 7935.29115, 11033.6617, 11073.176000000001, 8026.6666, 11082.5772, 2026.9741, 10942.13205, 5729.0053, 3766.8838, 12105.32, 10226.2842, 6186.1269999999995, 3645.0894, 21344.8467, 5003.853, 2331.519, 3877.30425, 2867.1196, 10825.2537, 11881.358, 4646.759, 2404.7338, 11488.31695, 30259.995560000003, 11381.3254, 8601.3293, 6686.4313, 7740.3369999999995, 1705.6245, 2257.47525, 10115.00885, 3385.39915, 9634.538, 6082.405, 12815.44495, 13616.3586, 11163.568000000001, 1632.56445, 2457.21115, 2155.6815, 1261.442, 2045.68525, 27322.733860000004, 2166.732, 27375.90478, 3490.5491, 18157.876, 5138.2567, 9877.6077, 10959.6947, 1842.519, 5125.2157, 7789.635, 6334.34355, 7077.1894, 6948.7008, 19749.383380000003, 10450.552, 5152.134, 5028.1466, 10407.08585, 4830.63, 6128.79745, 2719.27975, 4827.90495, 13405.3903, 8116.68, 1694.7964, 5246.047, 2855.43755, 6455.86265, 10436.096, 8823.279, 8538.28845, 11735.87905, 1631.8212, 4005.4225, 7419.4779, 7731.4271, 3981.9768, 5325.651, 6775.960999999999, 4922.9159, 12557.6053, 4883.866, 2137.6536, 12044.341999999999, 1137.4697, 1639.5631, 5649.715, 8516.829, 9644.2525, 14901.5167, 2130.6759, 8871.1517, 13012.20865, 7147.105, 4337.7352, 11743.298999999999, 13880.948999999999, 6610.1097, 1980.07, 8162.71625, 3537.703, 5002.7827, 8520.026, 7371.772, 10355.641, 2483.736, 3392.9768, 25081.76784, 5012.471, 10564.8845, 5253.524, 11987.1682, 2689.4954, 24227.33724, 7358.17565, 9225.2564, 7443.64305, 14001.2867, 1727.785, 12333.828000000001, 6710.1919, 1615.7667, 4463.2051, 7152.6714, 5354.07465, 35160.13457, 7196.866999999999, 24476.47851, 12648.7034, 1986.9334, 1832.094, 4040.55825, 4260.744000000001, 13047.33235, 5400.9805, 11520.09985, 11837.16, 20462.99766, 14590.63205, 7441.053000000001, 9282.4806, 1719.4363, 7265.7025, 9617.66245, 2523.1695, 9715.841, 2803.69785, 2150.469, 12928.7911, 9855.1314, 4237.12655, 11879.10405, 9625.92, 7742.1098, 9432.9253, 14256.1928, 25992.82104, 3172.018, 20277.80751, 2156.7518, 3906.127, 1704.5681, 9249.4952, 6746.7425, 12265.5069, 4349.462, 12646.207, 19442.3535, 20177.671130000002, 4151.0287, 11944.59435, 7749.1564, 8444.474, 1737.376, 8124.4084, 9722.7695, 8835.26495, 10435.06525, 7421.19455, 4667.60765, 4894.7533, 24671.66334, 11566.30055, 2866.091, 6600.20595, 3561.8889, 9144.565, 13429.0354, 11658.37915, 19144.57652, 13822.803, 12142.5786, 13937.6665, 8232.6388, 18955.22017, 13352.0998, 13217.0945, 13981.85035, 10977.2063, 6184.2994, 4889.9995, 8334.45755, 5478.0368, 1635.73365, 11830.6072, 8932.084, 3554.203, 12404.8791, 14133.03775, 24603.04837, 8944.1151, 9620.3307, 1837.2819, 1607.5101, 10043.249, 4751.07, 2597.779, 3180.5101, 9778.3472, 13430.265, 8017.06115, 8116.26885, 3481.868, 13415.0381, 12029.2867, 7639.41745, 1391.5287, 16455.70785, 27000.98473, 20781.48892, 5846.9176, 8302.53565, 1261.859, 11856.4115, 30284.642939999998, 3176.8159, 4618.0799, 10736.87075, 2138.0707, 8964.06055, 9290.1395, 9411.005, 7526.70645, 8522.003, 16586.49771, 14988.431999999999, 1631.6683, 9264.796999999999, 8083.9198, 14692.66935, 10269.46, 3260.199, 11396.9002, 4185.0979, 8539.671, 6652.5288, 4074.4537, 1621.3402, 5080.096, 2134.9015, 7345.7266, 9140.951, 14418.2804, 2727.3951, 8968.33, 9788.8659, 6555.07035, 7323.734818999999, 3167.45585, 18804.7524, 23082.95533, 4906.40965, 5969.723000000001, 12638.195, 4243.59005, 13919.8229, 2254.7967, 5926.846, 12592.5345, 2897.3235, 4738.2682, 1149.3959, 28287.897660000002, 7345.084, 12730.9996, 11454.0215, 5910.944, 4762.329000000001, 7512.267, 4032.2407, 1969.614, 1769.53165, 4686.3887, 21797.0004, 11881.9696, 11840.77505, 10601.412, 7682.67, 10381.4787, 15230.32405, 11165.41765, 1632.03625, 13224.693000000001, 12643.3778, 23288.9284, 2201.0971, 2497.0383, 2203.47185, 1744.465, 20878.78443, 2534.39375, 1534.3045, 1824.2854, 15555.18875, 9304.7019, 1622.1885, 9880.068000000001, 9563.029, 4347.02335, 12475.3513, 1253.9360000000001, 10461.9794, 1748.774, 24513.09126, 2196.4732, 12574.048999999999, 1967.0227, 4931.647, 8027.968000000001, 8211.1002, 13470.86, 6837.3687, 5974.3847, 6796.86325, 2643.2685, 3077.0955, 3044.2133, 11455.28, 11763.0009, 2498.4144, 9361.3268, 1256.299, 11362.755, 27724.28875, 8413.46305, 5240.765, 3857.75925, 25656.575259999998, 3994.1778, 9866.30485, 5397.6167, 11482.63485, 24059.68019, 9861.025, 8342.90875, 1708.0014, 14043.4767, 12925.886, 19214.705530000003, 13831.1152, 6067.12675, 5972.378000000001, 8825.086, 8233.0975, 27346.04207, 6196.448, 3056.3881, 13887.204, 10231.4999, 3268.84665, 11538.421, 3213.62205, 13390.559, 3972.9247, 12957.118, 11187.6567, 17878.900680000002, 3847.6740000000004, 8334.5896, 3935.1799, 1646.4297, 9193.8385, 10923.9332, 2494.022, 9058.7303, 2801.2588, 2128.43105, 6373.55735, 7256.7231, 11552.903999999999, 3761.292, 2219.4451, 4753.6368, 31620.001060000002, 13224.05705, 12222.8983, 1664.9996, 9724.53, 3206.49135, 12913.9924, 1639.5631, 6356.2707, 17626.23951, 1242.816, 4779.6023, 3861.20965, 13635.6379, 5976.8311, 11842.442, 8428.0693, 2566.4707, 5709.1644, 8823.98575, 7640.3092, 5594.8455, 7441.501, 33471.97189, 1633.0444, 9174.13565, 11070.535, 16085.1275, 9283.562, 3558.62025, 4435.0942, 8547.6913, 6571.544, 2207.69745, 6753.0380000000005, 1880.07, 11658.11505, 10713.643999999998, 3659.3459999999995, 9182.17, 12129.61415, 3736.4647, 6748.5912, 11326.71487, 11365.952, 10085.846, 1977.815, 3366.6697, 7173.35995, 9391.346, 14410.9321, 2709.1119, 24915.04626, 12949.1554, 6666.243, 13143.86485, 4466.6214, 18806.14547, 10141.1362, 6123.5688, 8252.2843, 1712.227, 12430.95335, 9800.8882, 10579.711000000001, 8280.6227, 8527.532, 12244.531, 3410.324, 4058.71245, 26392.260290000002, 14394.39815, 6435.6237, 22192.43711, 5148.5526, 1136.3994, 8703.456, 6500.2359, 4837.5823, 3943.5954, 4399.731, 6185.3208, 7222.78625, 12485.8009, 12363.546999999999, 10156.7832, 2585.269, 1242.26, 9863.4718, 4766.022, 11244.3769, 7729.64575, 5438.7491, 26236.57997, 2104.1134, 8068.185, 2362.22905, 2352.96845, 3577.9990000000003, 3201.24515, 29186.48236, 10976.24575, 3500.6123, 2020.5523, 9541.69555, 9504.3103, 5385.3379, 8930.93455, 5375.0380000000005, 10264.4421, 6113.23105, 5469.0066, 1727.54, 10107.2206, 8310.83915, 1984.4533, 2457.502, 12146.971000000001, 9566.9909, 13112.6048, 10848.1343, 12231.6136, 9875.6804, 11264.541000000001, 12979.358, 1263.249, 10106.13425, 6664.68595, 2217.6012, 6781.3542, 10065.413, 4234.927, 9447.25035, 14007.222, 9583.8933, 3484.3309999999997, 8604.48365, 3757.8448, 8827.2099, 9910.35985, 11737.84884, 1627.28245, 8556.907, 3062.50825, 1906.35825, 14210.53595, 11833.7823, 17128.42608, 5031.26955, 7985.815, 5428.7277, 3925.7582, 2416.955, 3070.8087, 9095.06825, 11842.62375, 8062.764, 7050.642, 14319.031, 6933.24225, 27941.28758, 11150.78, 12797.20962, 7261.741, 10560.4917, 6986.696999999999, 7448.40395, 5934.3798, 9869.8102, 1146.7966, 9386.1613, 4350.5144, 6414.178000000001, 12741.16745, 1917.3184, 5209.57885, 13457.9608, 5662.225, 1252.407, 2731.9122, 7209.4918, 4266.1658, 4719.52405, 11848.141000000001, 7046.7222, 14313.8463, 2103.08, 1815.8759, 7731.85785, 28476.734989999997, 2136.88225, 1131.5066, 3309.7926, 9414.92, 6360.9936, 11013.7119, 4428.88785, 5584.3057, 1877.9294, 2842.76075, 3597.5959999999995, 7445.918000000001, 2680.9493, 1621.8827, 8219.2039, 12523.6048, 16069.08475, 6117.4945, 13393.756000000001, 5266.3656, 4719.73655, 11743.9341, 5377.4578, 7160.3303, 4402.233, 11657.7189, 6402.29135, 12622.1795, 1526.3120000000001, 12323.936000000002, 10072.05505, 9872.701, 2438.0552, 2974.1259999999997, 10601.63225, 14119.62, 11729.6795, 1875.344, 18218.16139, 10965.446000000002, 7151.092, 12269.68865, 5458.04645, 8782.469000000001, 6600.361, 1141.4451, 11576.13, 13129.60345, 4391.652, 8457.818000000001, 3392.3652, 5966.8874, 6849.026, 8891.1395, 2690.1138, 26140.3603, 6653.7886, 6282.235, 6311.951999999999, 3443.0640000000003, 2789.0574, 2585.85065, 4877.98105, 5272.1758, 1682.5970000000002, 11945.1327, 7243.8136, 10422.91665, 13555.0049, 13063.883, 2221.56445, 1634.5734, 2117.33885, 8688.85885, 4661.28635, 8125.7845, 12644.589, 4564.19145, 4846.92015, 7633.7206, 15170.069, 2639.0429, 14382.70905, 7626.993, 5257.50795, 2473.3341, 13041.921, 5245.2269, 13451.122, 13462.52, 5488.262, 4320.41085, 6250.435, 25333.33284, 2913.5690000000004, 12032.326000000001, 13470.8044, 6289.7549, 2927.0647, 6238.298000000001, 10096.97, 7348.142, 4673.3922, 12233.828000000001, 32108.662819999998, 8965.79575, 2304.0022, 9487.6442, 1121.8739, 9549.5651, 2217.46915, 1628.4709, 12982.8747, 11674.13, 7160.094, 6358.77645, 11534.87265, 4527.18295, 3875.7341, 12609.88702, 28468.91901, 2730.10785, 3353.284, 14474.675, 9500.57305, 26467.09737, 4746.344, 7518.02535, 3279.86855, 8596.8278, 10702.6424, 4992.3764, 2527.81865, 1759.338, 2322.6218, 7804.1605, 2902.9065, 9704.66805, 4889.0368, 25517.11363, 4500.33925, 16796.41194, 4915.05985, 7624.63, 8410.04685, 28340.18885, 4518.82625, 3378.91, 7144.86265, 10118.424, 5484.4673, 7986.47525, 7418.522, 13887.9685, 6551.7501, 5267.81815, 1972.95, 21232.182259999998, 8627.5411, 4433.3877, 4438.2634, 23241.47453, 9957.7216, 8269.044, 36580.28216, 8765.249, 5383.536, 12124.9924, 2709.24395, 3987.926, 12495.29085, 26018.95052, 8798.593, 1711.0268, 8569.8618, 2020.1770000000001, 21595.38229, 9850.431999999999, 6877.9801, 4137.5227, 12950.0712, 12094.478000000001, 2250.8352, 22493.65964, 1704.70015, 3161.454, 11394.06555, 7325.0482, 3594.17085, 8023.13545, 14394.5579, 9288.0267, 3353.4703, 10594.50155, 8277.523000000001, 17929.303369999998, 2480.9791, 4462.7218, 1981.5819, 11554.2236, 6548.19505, 5708.866999999999, 7045.499, 8978.1851, 5757.41345, 14349.8544, 10928.848999999998, 13974.45555, 1909.52745, 12096.6512, 13204.28565, 4562.8421, 8551.347, 2102.2647, 15161.5344, 11884.04858, 4454.40265, 5855.9025, 4076.4970000000003, 15019.76005, 10796.35025, 11353.2276, 9748.9106, 10577.087, 11286.5387, 3591.48, 11299.343, 4561.1885, 1674.6323, 23045.56616, 3227.1211, 11253.421, 3471.4096, 11363.2832, 20420.60465, 10338.9316, 8988.15875, 10493.9458, 2904.0879999999997, 8605.3615, 11512.405, 5312.16985, 2396.0959, 10807.4863, 9222.4026, 5693.4305, 8347.1643, 18903.49141, 14254.6082, 10214.636, 5836.5204, 14358.36437, 1728.8970000000002, 8582.3023, 3693.428, 20709.02034, 9991.03765, 19673.335730000003, 11085.5868, 7623.518, 3176.2877, 3704.3545, 9048.0273, 7954.517, 27117.99378, 6338.0756, 9630.396999999999, 11289.10925, 2261.5688, 10791.96, 5979.731, 2203.73595, 12235.8392, 5630.45785, 11015.1747, 7228.21565, 14426.07385, 2459.7201, 3989.841, 7727.2532, 5124.1887, 18963.171919999997, 2200.83085, 7153.5539, 5227.98875, 10982.5013, 4529.477, 4670.64, 6112.35295, 11093.6229, 6457.8434, 4433.9159, 2154.361, 6496.8859999999995, 2899.48935, 7650.77375, 2850.68375, 2632.992, 9447.3824, 8603.8234, 13844.7972, 13126.67745, 5327.40025, 13725.47184, 13019.16105, 8671.19125, 4134.08245, 18838.70366, 5699.8375, 6393.60345, 4934.705, 6198.7518, 8733.22925, 2055.3249, 9964.06, 5116.5004, 36910.60803, 12347.171999999999, 5373.36425, 23563.016180000002, 1702.4553, 10806.839, 3956.07145, 12890.05765, 5415.6612, 4058.1161, 7537.1639, 4718.20355, 6593.5083, 8442.667, 6858.4796, 4795.6568, 6640.54485, 7162.0122, 10594.2257, 11938.25595, 12479.70895, 11345.518999999998, 8515.7587, 2699.56835, 14449.8544, 12224.35085, 6985.50695, 3238.4357, 4296.2712, 3171.6149, 1135.9407, 5615.369000000001, 9101.798, 6059.173000000001, 1633.9618, 1241.565, 15828.821730000001, 4415.1588, 6474.013000000001, 11436.73815, 11305.93455, 30063.58055, 10197.7722, 4544.2348, 3277.1609999999996, 6770.1925, 7337.7480000000005, 10370.91255, 10704.47, 1880.487, 8615.3, 3292.52985, 3021.80915, 14478.33015, 4747.0529, 10959.33, 2741.948, 4357.04365, 4189.1131, 8283.6807, 1720.3537, 8534.6718, 3732.6251, 5472.4490000000005, 7147.4728, 7133.9025, 1515.3449, 9301.89355, 11931.12525, 1964.78, 1708.92575, 4340.4409, 5261.46945, 2710.82855, 3208.7870000000003, 2464.6188, 6875.960999999999, 6940.90985, 4571.41305, 4536.259, 11272.331390000001, 1731.6770000000001, 1163.4627, 19496.71917, 7201.70085, 5425.02335, 12981.3457, 4239.89265, 13143.33665, 7050.0213, 9377.9047, 22395.74424, 10325.206, 12629.1656, 10795.937329999999, 11411.685, 10600.5483, 2205.9808, 1629.8335, 2007.945], \"xaxis\": \"x2\", \"yaxis\": \"y2\"}],\n",
              "                        {\"bargap\": 0.1, \"barmode\": \"relative\", \"legend\": {\"tracegroupgap\": 0}, \"template\": {\"data\": {\"bar\": [{\"error_x\": {\"color\": \"#2a3f5f\"}, \"error_y\": {\"color\": \"#2a3f5f\"}, \"marker\": {\"line\": {\"color\": \"#E5ECF6\", \"width\": 0.5}}, \"type\": \"bar\"}], \"barpolar\": [{\"marker\": {\"line\": {\"color\": \"#E5ECF6\", \"width\": 0.5}}, \"type\": \"barpolar\"}], \"carpet\": [{\"aaxis\": {\"endlinecolor\": \"#2a3f5f\", \"gridcolor\": \"white\", \"linecolor\": \"white\", \"minorgridcolor\": \"white\", \"startlinecolor\": \"#2a3f5f\"}, \"baxis\": {\"endlinecolor\": \"#2a3f5f\", \"gridcolor\": \"white\", \"linecolor\": \"white\", \"minorgridcolor\": \"white\", \"startlinecolor\": \"#2a3f5f\"}, \"type\": \"carpet\"}], \"choropleth\": [{\"colorbar\": {\"outlinewidth\": 0, \"ticks\": \"\"}, \"type\": \"choropleth\"}], \"contour\": [{\"colorbar\": {\"outlinewidth\": 0, \"ticks\": \"\"}, \"colorscale\": [[0.0, \"#0d0887\"], [0.1111111111111111, \"#46039f\"], [0.2222222222222222, \"#7201a8\"], [0.3333333333333333, \"#9c179e\"], [0.4444444444444444, \"#bd3786\"], [0.5555555555555556, \"#d8576b\"], [0.6666666666666666, \"#ed7953\"], [0.7777777777777778, \"#fb9f3a\"], [0.8888888888888888, \"#fdca26\"], [1.0, \"#f0f921\"]], \"type\": \"contour\"}], \"contourcarpet\": [{\"colorbar\": {\"outlinewidth\": 0, \"ticks\": \"\"}, \"type\": \"contourcarpet\"}], \"heatmap\": [{\"colorbar\": {\"outlinewidth\": 0, \"ticks\": \"\"}, \"colorscale\": [[0.0, \"#0d0887\"], [0.1111111111111111, \"#46039f\"], [0.2222222222222222, \"#7201a8\"], [0.3333333333333333, \"#9c179e\"], [0.4444444444444444, \"#bd3786\"], [0.5555555555555556, \"#d8576b\"], [0.6666666666666666, \"#ed7953\"], [0.7777777777777778, \"#fb9f3a\"], [0.8888888888888888, \"#fdca26\"], [1.0, \"#f0f921\"]], \"type\": \"heatmap\"}], \"heatmapgl\": [{\"colorbar\": {\"outlinewidth\": 0, \"ticks\": \"\"}, \"colorscale\": [[0.0, \"#0d0887\"], [0.1111111111111111, \"#46039f\"], [0.2222222222222222, \"#7201a8\"], [0.3333333333333333, \"#9c179e\"], [0.4444444444444444, \"#bd3786\"], [0.5555555555555556, \"#d8576b\"], [0.6666666666666666, \"#ed7953\"], [0.7777777777777778, \"#fb9f3a\"], [0.8888888888888888, \"#fdca26\"], [1.0, \"#f0f921\"]], \"type\": \"heatmapgl\"}], \"histogram\": [{\"marker\": {\"colorbar\": {\"outlinewidth\": 0, \"ticks\": \"\"}}, \"type\": \"histogram\"}], \"histogram2d\": [{\"colorbar\": {\"outlinewidth\": 0, \"ticks\": \"\"}, \"colorscale\": [[0.0, \"#0d0887\"], [0.1111111111111111, \"#46039f\"], [0.2222222222222222, \"#7201a8\"], [0.3333333333333333, \"#9c179e\"], [0.4444444444444444, \"#bd3786\"], [0.5555555555555556, \"#d8576b\"], [0.6666666666666666, \"#ed7953\"], [0.7777777777777778, \"#fb9f3a\"], [0.8888888888888888, \"#fdca26\"], [1.0, \"#f0f921\"]], \"type\": \"histogram2d\"}], \"histogram2dcontour\": [{\"colorbar\": {\"outlinewidth\": 0, \"ticks\": \"\"}, \"colorscale\": [[0.0, \"#0d0887\"], [0.1111111111111111, \"#46039f\"], [0.2222222222222222, \"#7201a8\"], [0.3333333333333333, \"#9c179e\"], [0.4444444444444444, \"#bd3786\"], [0.5555555555555556, \"#d8576b\"], [0.6666666666666666, \"#ed7953\"], [0.7777777777777778, \"#fb9f3a\"], [0.8888888888888888, \"#fdca26\"], [1.0, \"#f0f921\"]], \"type\": \"histogram2dcontour\"}], \"mesh3d\": [{\"colorbar\": {\"outlinewidth\": 0, \"ticks\": \"\"}, \"type\": \"mesh3d\"}], \"parcoords\": [{\"line\": {\"colorbar\": {\"outlinewidth\": 0, \"ticks\": \"\"}}, \"type\": \"parcoords\"}], \"pie\": [{\"automargin\": true, \"type\": \"pie\"}], \"scatter\": [{\"marker\": {\"colorbar\": {\"outlinewidth\": 0, \"ticks\": \"\"}}, \"type\": \"scatter\"}], \"scatter3d\": [{\"line\": {\"colorbar\": {\"outlinewidth\": 0, \"ticks\": \"\"}}, \"marker\": {\"colorbar\": {\"outlinewidth\": 0, \"ticks\": \"\"}}, \"type\": \"scatter3d\"}], \"scattercarpet\": [{\"marker\": {\"colorbar\": {\"outlinewidth\": 0, \"ticks\": \"\"}}, \"type\": \"scattercarpet\"}], \"scattergeo\": [{\"marker\": {\"colorbar\": {\"outlinewidth\": 0, \"ticks\": \"\"}}, \"type\": \"scattergeo\"}], \"scattergl\": [{\"marker\": {\"colorbar\": {\"outlinewidth\": 0, \"ticks\": \"\"}}, \"type\": \"scattergl\"}], \"scattermapbox\": [{\"marker\": {\"colorbar\": {\"outlinewidth\": 0, \"ticks\": \"\"}}, \"type\": \"scattermapbox\"}], \"scatterpolar\": [{\"marker\": {\"colorbar\": {\"outlinewidth\": 0, \"ticks\": \"\"}}, \"type\": \"scatterpolar\"}], \"scatterpolargl\": [{\"marker\": {\"colorbar\": {\"outlinewidth\": 0, \"ticks\": \"\"}}, \"type\": \"scatterpolargl\"}], \"scatterternary\": [{\"marker\": {\"colorbar\": {\"outlinewidth\": 0, \"ticks\": \"\"}}, \"type\": \"scatterternary\"}], \"surface\": [{\"colorbar\": {\"outlinewidth\": 0, \"ticks\": \"\"}, \"colorscale\": [[0.0, \"#0d0887\"], [0.1111111111111111, \"#46039f\"], [0.2222222222222222, \"#7201a8\"], [0.3333333333333333, \"#9c179e\"], [0.4444444444444444, \"#bd3786\"], [0.5555555555555556, \"#d8576b\"], [0.6666666666666666, \"#ed7953\"], [0.7777777777777778, \"#fb9f3a\"], [0.8888888888888888, \"#fdca26\"], [1.0, \"#f0f921\"]], \"type\": \"surface\"}], \"table\": [{\"cells\": {\"fill\": {\"color\": \"#EBF0F8\"}, \"line\": {\"color\": \"white\"}}, \"header\": {\"fill\": {\"color\": \"#C8D4E3\"}, \"line\": {\"color\": \"white\"}}, \"type\": \"table\"}]}, \"layout\": {\"annotationdefaults\": {\"arrowcolor\": \"#2a3f5f\", \"arrowhead\": 0, \"arrowwidth\": 1}, \"coloraxis\": {\"colorbar\": {\"outlinewidth\": 0, \"ticks\": \"\"}}, \"colorscale\": {\"diverging\": [[0, \"#8e0152\"], [0.1, \"#c51b7d\"], [0.2, \"#de77ae\"], [0.3, \"#f1b6da\"], [0.4, \"#fde0ef\"], [0.5, \"#f7f7f7\"], [0.6, \"#e6f5d0\"], [0.7, \"#b8e186\"], [0.8, \"#7fbc41\"], [0.9, \"#4d9221\"], [1, \"#276419\"]], \"sequential\": [[0.0, \"#0d0887\"], [0.1111111111111111, \"#46039f\"], [0.2222222222222222, \"#7201a8\"], [0.3333333333333333, \"#9c179e\"], [0.4444444444444444, \"#bd3786\"], [0.5555555555555556, \"#d8576b\"], [0.6666666666666666, \"#ed7953\"], [0.7777777777777778, \"#fb9f3a\"], [0.8888888888888888, \"#fdca26\"], [1.0, \"#f0f921\"]], \"sequentialminus\": [[0.0, \"#0d0887\"], [0.1111111111111111, \"#46039f\"], [0.2222222222222222, \"#7201a8\"], [0.3333333333333333, \"#9c179e\"], [0.4444444444444444, \"#bd3786\"], [0.5555555555555556, \"#d8576b\"], [0.6666666666666666, \"#ed7953\"], [0.7777777777777778, \"#fb9f3a\"], [0.8888888888888888, \"#fdca26\"], [1.0, \"#f0f921\"]]}, \"colorway\": [\"#636efa\", \"#EF553B\", \"#00cc96\", \"#ab63fa\", \"#FFA15A\", \"#19d3f3\", \"#FF6692\", \"#B6E880\", \"#FF97FF\", \"#FECB52\"], \"font\": {\"color\": \"#2a3f5f\"}, \"geo\": {\"bgcolor\": \"white\", \"lakecolor\": \"white\", \"landcolor\": \"#E5ECF6\", \"showlakes\": true, \"showland\": true, \"subunitcolor\": \"white\"}, \"hoverlabel\": {\"align\": \"left\"}, \"hovermode\": \"closest\", \"mapbox\": {\"style\": \"light\"}, \"paper_bgcolor\": \"white\", \"plot_bgcolor\": \"#E5ECF6\", \"polar\": {\"angularaxis\": {\"gridcolor\": \"white\", \"linecolor\": \"white\", \"ticks\": \"\"}, \"bgcolor\": \"#E5ECF6\", \"radialaxis\": {\"gridcolor\": \"white\", \"linecolor\": \"white\", \"ticks\": \"\"}}, \"scene\": {\"xaxis\": {\"backgroundcolor\": \"#E5ECF6\", \"gridcolor\": \"white\", \"gridwidth\": 2, \"linecolor\": \"white\", \"showbackground\": true, \"ticks\": \"\", \"zerolinecolor\": \"white\"}, \"yaxis\": {\"backgroundcolor\": \"#E5ECF6\", \"gridcolor\": \"white\", \"gridwidth\": 2, \"linecolor\": \"white\", \"showbackground\": true, \"ticks\": \"\", \"zerolinecolor\": \"white\"}, \"zaxis\": {\"backgroundcolor\": \"#E5ECF6\", \"gridcolor\": \"white\", \"gridwidth\": 2, \"linecolor\": \"white\", \"showbackground\": true, \"ticks\": \"\", \"zerolinecolor\": \"white\"}}, \"shapedefaults\": {\"line\": {\"color\": \"#2a3f5f\"}}, \"ternary\": {\"aaxis\": {\"gridcolor\": \"white\", \"linecolor\": \"white\", \"ticks\": \"\"}, \"baxis\": {\"gridcolor\": \"white\", \"linecolor\": \"white\", \"ticks\": \"\"}, \"bgcolor\": \"#E5ECF6\", \"caxis\": {\"gridcolor\": \"white\", \"linecolor\": \"white\", \"ticks\": \"\"}}, \"title\": {\"x\": 0.05}, \"xaxis\": {\"automargin\": true, \"gridcolor\": \"white\", \"linecolor\": \"white\", \"ticks\": \"\", \"title\": {\"standoff\": 15}, \"zerolinecolor\": \"white\", \"zerolinewidth\": 2}, \"yaxis\": {\"automargin\": true, \"gridcolor\": \"white\", \"linecolor\": \"white\", \"ticks\": \"\", \"title\": {\"standoff\": 15}, \"zerolinecolor\": \"white\", \"zerolinewidth\": 2}}}, \"title\": {\"text\": \"Annual Medical Charges\"}, \"xaxis\": {\"anchor\": \"y\", \"domain\": [0.0, 1.0], \"title\": {\"text\": \"charges\"}}, \"xaxis2\": {\"anchor\": \"y2\", \"domain\": [0.0, 1.0], \"matches\": \"x\", \"showgrid\": true, \"showticklabels\": false}, \"yaxis\": {\"anchor\": \"x\", \"domain\": [0.0, 0.7326], \"title\": {\"text\": \"count\"}}, \"yaxis2\": {\"anchor\": \"x2\", \"domain\": [0.7426, 1.0], \"matches\": \"y2\", \"showgrid\": false, \"showline\": false, \"showticklabels\": false, \"ticks\": \"\"}},\n",
              "                        {\"responsive\": true}\n",
              "                    ).then(function(){\n",
              "                            \n",
              "var gd = document.getElementById('93d58f51-aaf3-4831-a308-a8462c2950e5');\n",
              "var x = new MutationObserver(function (mutations, observer) {{\n",
              "        var display = window.getComputedStyle(gd).display;\n",
              "        if (!display || display === 'none') {{\n",
              "            console.log([gd, 'removed!']);\n",
              "            Plotly.purge(gd);\n",
              "            observer.disconnect();\n",
              "        }}\n",
              "}});\n",
              "\n",
              "// Listen for the removal of the full notebook cells\n",
              "var notebookContainer = gd.closest('#notebook-container');\n",
              "if (notebookContainer) {{\n",
              "    x.observe(notebookContainer, {childList: true});\n",
              "}}\n",
              "\n",
              "// Listen for the clearing of the current output cell\n",
              "var outputEl = gd.closest('.output');\n",
              "if (outputEl) {{\n",
              "    x.observe(outputEl, {childList: true});\n",
              "}}\n",
              "\n",
              "                        })\n",
              "                };\n",
              "                \n",
              "            </script>\n",
              "        </div>\n",
              "</body>\n",
              "</html>"
            ]
          },
          "metadata": {
            "tags": []
          }
        }
      ]
    },
    {
      "cell_type": "code",
      "metadata": {
        "colab": {
          "base_uri": "https://localhost:8080/"
        },
        "id": "6uvjLnxQjEIe",
        "outputId": "76cd3a98-287b-4190-cde6-a077c5d77bdc"
      },
      "source": [
        "medical_df.children.value_counts()"
      ],
      "execution_count": null,
      "outputs": [
        {
          "output_type": "execute_result",
          "data": {
            "text/plain": [
              "0    574\n",
              "1    324\n",
              "2    240\n",
              "3    157\n",
              "4     25\n",
              "5     18\n",
              "Name: children, dtype: int64"
            ]
          },
          "metadata": {
            "tags": []
          },
          "execution_count": 24
        }
      ]
    },
    {
      "cell_type": "code",
      "metadata": {
        "colab": {
          "base_uri": "https://localhost:8080/",
          "height": 542
        },
        "id": "j_xFDexhjZG4",
        "outputId": "f3a06847-ed2e-41bc-83b0-9e7099456ad7"
      },
      "source": [
        "px.histogram(medical_df, x='smoker', color='children', title='Smoker')"
      ],
      "execution_count": null,
      "outputs": [
        {
          "output_type": "display_data",
          "data": {
            "text/html": [
              "<html>\n",
              "<head><meta charset=\"utf-8\" /></head>\n",
              "<body>\n",
              "    <div>\n",
              "            <script src=\"https://cdnjs.cloudflare.com/ajax/libs/mathjax/2.7.5/MathJax.js?config=TeX-AMS-MML_SVG\"></script><script type=\"text/javascript\">if (window.MathJax) {MathJax.Hub.Config({SVG: {font: \"STIX-Web\"}});}</script>\n",
              "                <script type=\"text/javascript\">window.PlotlyConfig = {MathJaxConfig: 'local'};</script>\n",
              "        <script src=\"https://cdn.plot.ly/plotly-latest.min.js\"></script>    \n",
              "            <div id=\"d933cc71-3007-48a8-b70a-3e88f5bbc872\" class=\"plotly-graph-div\" style=\"height:525px; width:100%;\"></div>\n",
              "            <script type=\"text/javascript\">\n",
              "                \n",
              "                    window.PLOTLYENV=window.PLOTLYENV || {};\n",
              "                    \n",
              "                if (document.getElementById(\"d933cc71-3007-48a8-b70a-3e88f5bbc872\")) {\n",
              "                    Plotly.newPlot(\n",
              "                        'd933cc71-3007-48a8-b70a-3e88f5bbc872',\n",
              "                        [{\"alignmentgroup\": \"True\", \"bingroup\": \"x\", \"hoverlabel\": {\"namelength\": 0}, \"hovertemplate\": \"children=0<br>smoker=%{x}<br>count=%{y}\", \"legendgroup\": \"children=0\", \"marker\": {\"color\": \"#636efa\"}, \"name\": \"children=0\", \"offsetgroup\": \"children=0\", \"orientation\": \"v\", \"showlegend\": true, \"type\": \"histogram\", \"x\": [\"yes\", \"no\", \"no\", \"no\", \"no\", \"no\", \"yes\", \"no\", \"no\", \"yes\", \"no\", \"no\", \"yes\", \"no\", \"no\", \"no\", \"yes\", \"no\", \"no\", \"no\", \"no\", \"yes\", \"no\", \"no\", \"no\", \"no\", \"no\", \"yes\", \"yes\", \"no\", \"no\", \"yes\", \"no\", \"no\", \"no\", \"no\", \"no\", \"yes\", \"no\", \"no\", \"no\", \"no\", \"no\", \"yes\", \"yes\", \"no\", \"no\", \"no\", \"no\", \"yes\", \"no\", \"no\", \"no\", \"no\", \"no\", \"no\", \"no\", \"no\", \"yes\", \"no\", \"no\", \"no\", \"no\", \"no\", \"no\", \"no\", \"no\", \"no\", \"no\", \"yes\", \"no\", \"yes\", \"yes\", \"yes\", \"yes\", \"yes\", \"no\", \"no\", \"no\", \"no\", \"no\", \"yes\", \"no\", \"no\", \"no\", \"no\", \"no\", \"no\", \"no\", \"no\", \"no\", \"no\", \"no\", \"no\", \"no\", \"yes\", \"no\", \"no\", \"no\", \"no\", \"no\", \"no\", \"no\", \"yes\", \"yes\", \"no\", \"no\", \"no\", \"no\", \"yes\", \"yes\", \"no\", \"no\", \"no\", \"yes\", \"yes\", \"no\", \"yes\", \"no\", \"yes\", \"no\", \"no\", \"no\", \"no\", \"no\", \"no\", \"no\", \"yes\", \"no\", \"no\", \"no\", \"no\", \"yes\", \"no\", \"no\", \"no\", \"no\", \"yes\", \"no\", \"no\", \"no\", \"yes\", \"no\", \"no\", \"no\", \"no\", \"no\", \"no\", \"no\", \"no\", \"no\", \"no\", \"no\", \"no\", \"no\", \"no\", \"no\", \"no\", \"no\", \"yes\", \"no\", \"no\", \"no\", \"yes\", \"yes\", \"yes\", \"no\", \"no\", \"no\", \"no\", \"no\", \"no\", \"no\", \"no\", \"no\", \"no\", \"no\", \"no\", \"no\", \"no\", \"no\", \"yes\", \"yes\", \"yes\", \"no\", \"no\", \"no\", \"no\", \"no\", \"no\", \"no\", \"yes\", \"no\", \"no\", \"no\", \"no\", \"no\", \"no\", \"no\", \"no\", \"no\", \"no\", \"yes\", \"no\", \"no\", \"no\", \"no\", \"no\", \"no\", \"yes\", \"no\", \"no\", \"no\", \"no\", \"no\", \"no\", \"yes\", \"no\", \"no\", \"no\", \"no\", \"no\", \"no\", \"yes\", \"no\", \"yes\", \"no\", \"no\", \"no\", \"no\", \"no\", \"no\", \"no\", \"no\", \"no\", \"no\", \"no\", \"no\", \"no\", \"no\", \"no\", \"no\", \"no\", \"no\", \"yes\", \"no\", \"no\", \"no\", \"yes\", \"no\", \"no\", \"no\", \"no\", \"no\", \"no\", \"no\", \"no\", \"no\", \"no\", \"no\", \"no\", \"no\", \"no\", \"no\", \"no\", \"no\", \"no\", \"no\", \"no\", \"no\", \"yes\", \"no\", \"no\", \"yes\", \"no\", \"no\", \"no\", \"yes\", \"no\", \"yes\", \"no\", \"no\", \"no\", \"yes\", \"no\", \"no\", \"no\", \"yes\", \"no\", \"no\", \"no\", \"no\", \"no\", \"no\", \"yes\", \"yes\", \"no\", \"no\", \"no\", \"no\", \"no\", \"no\", \"no\", \"no\", \"no\", \"no\", \"no\", \"no\", \"no\", \"no\", \"yes\", \"no\", \"no\", \"no\", \"no\", \"no\", \"no\", \"no\", \"no\", \"no\", \"yes\", \"yes\", \"yes\", \"no\", \"no\", \"no\", \"no\", \"yes\", \"no\", \"no\", \"no\", \"yes\", \"yes\", \"no\", \"no\", \"no\", \"no\", \"yes\", \"no\", \"no\", \"no\", \"no\", \"no\", \"no\", \"no\", \"no\", \"no\", \"yes\", \"yes\", \"no\", \"yes\", \"no\", \"yes\", \"no\", \"no\", \"no\", \"no\", \"no\", \"no\", \"yes\", \"no\", \"no\", \"no\", \"no\", \"no\", \"no\", \"no\", \"no\", \"no\", \"no\", \"no\", \"yes\", \"no\", \"yes\", \"no\", \"no\", \"yes\", \"yes\", \"no\", \"yes\", \"yes\", \"no\", \"no\", \"no\", \"no\", \"no\", \"no\", \"no\", \"no\", \"no\", \"yes\", \"no\", \"no\", \"yes\", \"no\", \"no\", \"no\", \"no\", \"no\", \"no\", \"yes\", \"no\", \"no\", \"yes\", \"yes\", \"no\", \"yes\", \"yes\", \"no\", \"no\", \"no\", \"no\", \"no\", \"no\", \"no\", \"no\", \"no\", \"no\", \"no\", \"no\", \"no\", \"no\", \"no\", \"no\", \"no\", \"no\", \"no\", \"no\", \"yes\", \"no\", \"no\", \"no\", \"no\", \"yes\", \"no\", \"no\", \"yes\", \"no\", \"no\", \"no\", \"no\", \"no\", \"no\", \"no\", \"no\", \"no\", \"yes\", \"no\", \"yes\", \"no\", \"no\", \"yes\", \"no\", \"yes\", \"no\", \"no\", \"yes\", \"no\", \"no\", \"no\", \"no\", \"no\", \"no\", \"no\", \"no\", \"no\", \"no\", \"no\", \"no\", \"yes\", \"no\", \"no\", \"no\", \"yes\", \"no\", \"yes\", \"no\", \"no\", \"no\", \"no\", \"no\", \"no\", \"no\", \"yes\", \"no\", \"no\", \"no\", \"no\", \"no\", \"no\", \"no\", \"no\", \"yes\", \"no\", \"yes\", \"no\", \"no\", \"no\", \"no\", \"yes\", \"no\", \"no\", \"no\", \"no\", \"no\", \"no\", \"no\", \"no\", \"yes\", \"no\", \"no\", \"no\", \"no\", \"no\", \"no\", \"yes\", \"no\", \"no\", \"no\", \"no\", \"no\", \"no\", \"yes\", \"no\", \"no\", \"yes\", \"no\", \"no\", \"no\", \"no\", \"no\", \"no\", \"no\", \"yes\", \"no\", \"yes\", \"no\", \"no\", \"no\", \"no\", \"yes\", \"no\", \"yes\", \"no\", \"no\", \"yes\", \"no\", \"no\", \"no\", \"no\", \"yes\", \"no\", \"no\", \"yes\", \"no\", \"no\", \"no\", \"yes\", \"yes\", \"no\", \"yes\", \"yes\", \"no\", \"no\", \"no\", \"yes\", \"no\", \"no\", \"no\", \"no\", \"no\", \"no\", \"no\", \"yes\"], \"xaxis\": \"x\", \"yaxis\": \"y\"}, {\"alignmentgroup\": \"True\", \"bingroup\": \"x\", \"hoverlabel\": {\"namelength\": 0}, \"hovertemplate\": \"children=1<br>smoker=%{x}<br>count=%{y}\", \"legendgroup\": \"children=1\", \"marker\": {\"color\": \"#EF553B\"}, \"name\": \"children=1\", \"offsetgroup\": \"children=1\", \"orientation\": \"v\", \"showlegend\": true, \"type\": \"histogram\", \"x\": [\"no\", \"no\", \"no\", \"no\", \"no\", \"yes\", \"no\", \"yes\", \"yes\", \"no\", \"no\", \"yes\", \"yes\", \"yes\", \"no\", \"no\", \"no\", \"no\", \"no\", \"no\", \"yes\", \"no\", \"no\", \"no\", \"yes\", \"no\", \"no\", \"yes\", \"yes\", \"no\", \"no\", \"no\", \"no\", \"no\", \"no\", \"no\", \"no\", \"no\", \"no\", \"no\", \"no\", \"no\", \"no\", \"no\", \"no\", \"no\", \"no\", \"no\", \"no\", \"no\", \"no\", \"no\", \"no\", \"no\", \"no\", \"no\", \"yes\", \"yes\", \"no\", \"no\", \"no\", \"no\", \"no\", \"yes\", \"no\", \"no\", \"no\", \"yes\", \"no\", \"yes\", \"no\", \"no\", \"no\", \"no\", \"no\", \"no\", \"yes\", \"yes\", \"no\", \"yes\", \"no\", \"no\", \"no\", \"no\", \"no\", \"no\", \"no\", \"no\", \"no\", \"no\", \"no\", \"no\", \"no\", \"yes\", \"no\", \"no\", \"yes\", \"no\", \"no\", \"no\", \"no\", \"no\", \"yes\", \"no\", \"no\", \"yes\", \"no\", \"no\", \"no\", \"yes\", \"no\", \"no\", \"yes\", \"no\", \"no\", \"no\", \"yes\", \"no\", \"no\", \"yes\", \"no\", \"no\", \"yes\", \"no\", \"no\", \"no\", \"no\", \"no\", \"no\", \"no\", \"yes\", \"no\", \"no\", \"no\", \"no\", \"yes\", \"no\", \"no\", \"yes\", \"no\", \"no\", \"no\", \"yes\", \"no\", \"no\", \"no\", \"no\", \"no\", \"no\", \"no\", \"no\", \"no\", \"no\", \"no\", \"no\", \"no\", \"no\", \"no\", \"no\", \"no\", \"yes\", \"no\", \"no\", \"no\", \"yes\", \"no\", \"no\", \"no\", \"no\", \"no\", \"no\", \"no\", \"yes\", \"no\", \"no\", \"no\", \"no\", \"no\", \"no\", \"no\", \"yes\", \"no\", \"no\", \"no\", \"yes\", \"no\", \"no\", \"no\", \"no\", \"no\", \"no\", \"yes\", \"no\", \"yes\", \"no\", \"no\", \"no\", \"no\", \"no\", \"no\", \"no\", \"no\", \"no\", \"no\", \"no\", \"yes\", \"no\", \"no\", \"no\", \"no\", \"no\", \"no\", \"no\", \"no\", \"no\", \"no\", \"no\", \"no\", \"no\", \"yes\", \"no\", \"yes\", \"no\", \"yes\", \"no\", \"yes\", \"no\", \"no\", \"no\", \"no\", \"no\", \"no\", \"no\", \"no\", \"no\", \"no\", \"no\", \"no\", \"no\", \"no\", \"no\", \"no\", \"yes\", \"no\", \"no\", \"yes\", \"yes\", \"yes\", \"no\", \"yes\", \"no\", \"no\", \"no\", \"no\", \"no\", \"yes\", \"no\", \"no\", \"no\", \"yes\", \"no\", \"no\", \"no\", \"no\", \"no\", \"no\", \"no\", \"no\", \"no\", \"no\", \"no\", \"yes\", \"no\", \"yes\", \"no\", \"no\", \"no\", \"no\", \"no\", \"no\", \"no\", \"no\", \"no\", \"yes\", \"yes\", \"no\", \"no\", \"no\", \"yes\", \"yes\", \"no\", \"no\", \"no\", \"no\", \"no\", \"yes\", \"no\", \"no\", \"no\", \"yes\", \"no\", \"no\", \"no\", \"no\", \"yes\", \"no\", \"no\", \"no\", \"no\", \"no\", \"no\", \"yes\", \"no\", \"yes\", \"no\", \"no\", \"no\", \"no\", \"no\", \"no\", \"no\", \"no\", \"no\", \"no\"], \"xaxis\": \"x\", \"yaxis\": \"y\"}, {\"alignmentgroup\": \"True\", \"bingroup\": \"x\", \"hoverlabel\": {\"namelength\": 0}, \"hovertemplate\": \"children=3<br>smoker=%{x}<br>count=%{y}\", \"legendgroup\": \"children=3\", \"marker\": {\"color\": \"#00cc96\"}, \"name\": \"children=3\", \"offsetgroup\": \"children=3\", \"orientation\": \"v\", \"showlegend\": true, \"type\": \"histogram\", \"x\": [\"no\", \"no\", \"no\", \"no\", \"no\", \"no\", \"yes\", \"no\", \"yes\", \"no\", \"yes\", \"no\", \"no\", \"no\", \"yes\", \"no\", \"yes\", \"no\", \"no\", \"no\", \"no\", \"no\", \"no\", \"yes\", \"no\", \"no\", \"no\", \"no\", \"no\", \"no\", \"no\", \"yes\", \"no\", \"yes\", \"no\", \"yes\", \"no\", \"no\", \"yes\", \"no\", \"yes\", \"yes\", \"no\", \"no\", \"no\", \"no\", \"no\", \"yes\", \"no\", \"no\", \"no\", \"no\", \"no\", \"no\", \"no\", \"no\", \"no\", \"no\", \"yes\", \"no\", \"no\", \"no\", \"no\", \"no\", \"no\", \"yes\", \"no\", \"no\", \"no\", \"no\", \"yes\", \"no\", \"no\", \"no\", \"no\", \"no\", \"no\", \"yes\", \"no\", \"no\", \"no\", \"no\", \"yes\", \"yes\", \"no\", \"no\", \"yes\", \"no\", \"no\", \"no\", \"no\", \"no\", \"yes\", \"no\", \"no\", \"no\", \"no\", \"no\", \"yes\", \"yes\", \"no\", \"no\", \"no\", \"no\", \"yes\", \"no\", \"no\", \"no\", \"no\", \"yes\", \"no\", \"no\", \"no\", \"yes\", \"no\", \"yes\", \"no\", \"no\", \"no\", \"yes\", \"no\", \"yes\", \"no\", \"yes\", \"no\", \"no\", \"no\", \"no\", \"no\", \"yes\", \"yes\", \"no\", \"no\", \"yes\", \"no\", \"no\", \"no\", \"yes\", \"no\", \"yes\", \"no\", \"yes\", \"no\", \"yes\", \"no\", \"no\", \"no\", \"no\", \"no\", \"no\", \"no\", \"no\", \"yes\", \"yes\", \"no\", \"no\", \"no\"], \"xaxis\": \"x\", \"yaxis\": \"y\"}, {\"alignmentgroup\": \"True\", \"bingroup\": \"x\", \"hoverlabel\": {\"namelength\": 0}, \"hovertemplate\": \"children=2<br>smoker=%{x}<br>count=%{y}\", \"legendgroup\": \"children=2\", \"marker\": {\"color\": \"#ab63fa\"}, \"name\": \"children=2\", \"offsetgroup\": \"children=2\", \"orientation\": \"v\", \"showlegend\": true, \"type\": \"histogram\", \"x\": [\"no\", \"no\", \"no\", \"yes\", \"no\", \"no\", \"no\", \"no\", \"yes\", \"no\", \"yes\", \"no\", \"no\", \"no\", \"yes\", \"yes\", \"no\", \"yes\", \"no\", \"no\", \"no\", \"no\", \"yes\", \"no\", \"no\", \"no\", \"yes\", \"no\", \"no\", \"no\", \"no\", \"no\", \"no\", \"no\", \"no\", \"yes\", \"no\", \"no\", \"no\", \"no\", \"no\", \"yes\", \"no\", \"yes\", \"yes\", \"yes\", \"yes\", \"yes\", \"no\", \"no\", \"no\", \"no\", \"no\", \"yes\", \"no\", \"no\", \"no\", \"no\", \"no\", \"no\", \"yes\", \"no\", \"no\", \"no\", \"no\", \"no\", \"no\", \"yes\", \"yes\", \"no\", \"no\", \"no\", \"no\", \"no\", \"no\", \"yes\", \"yes\", \"no\", \"no\", \"no\", \"no\", \"no\", \"no\", \"no\", \"no\", \"no\", \"no\", \"no\", \"no\", \"no\", \"no\", \"no\", \"no\", \"yes\", \"no\", \"no\", \"no\", \"no\", \"no\", \"no\", \"yes\", \"no\", \"no\", \"no\", \"no\", \"no\", \"no\", \"no\", \"no\", \"yes\", \"no\", \"yes\", \"no\", \"no\", \"no\", \"no\", \"no\", \"yes\", \"no\", \"yes\", \"yes\", \"yes\", \"no\", \"yes\", \"no\", \"no\", \"no\", \"no\", \"no\", \"no\", \"no\", \"no\", \"no\", \"yes\", \"no\", \"no\", \"no\", \"no\", \"no\", \"no\", \"no\", \"no\", \"no\", \"no\", \"no\", \"no\", \"no\", \"no\", \"no\", \"no\", \"yes\", \"no\", \"no\", \"no\", \"yes\", \"no\", \"no\", \"yes\", \"no\", \"no\", \"no\", \"yes\", \"yes\", \"no\", \"no\", \"no\", \"no\", \"no\", \"no\", \"no\", \"no\", \"yes\", \"yes\", \"no\", \"yes\", \"no\", \"no\", \"no\", \"yes\", \"no\", \"no\", \"no\", \"yes\", \"no\", \"no\", \"no\", \"yes\", \"no\", \"yes\", \"no\", \"no\", \"no\", \"no\", \"yes\", \"yes\", \"no\", \"yes\", \"no\", \"no\", \"no\", \"no\", \"no\", \"no\", \"no\", \"no\", \"no\", \"yes\", \"no\", \"no\", \"no\", \"no\", \"no\", \"no\", \"no\", \"no\", \"yes\", \"no\", \"no\", \"no\", \"no\", \"no\", \"no\", \"no\", \"yes\", \"yes\", \"no\", \"no\", \"yes\", \"yes\", \"no\", \"no\", \"no\", \"yes\", \"no\", \"yes\", \"no\", \"yes\", \"no\", \"no\", \"no\"], \"xaxis\": \"x\", \"yaxis\": \"y\"}, {\"alignmentgroup\": \"True\", \"bingroup\": \"x\", \"hoverlabel\": {\"namelength\": 0}, \"hovertemplate\": \"children=5<br>smoker=%{x}<br>count=%{y}\", \"legendgroup\": \"children=5\", \"marker\": {\"color\": \"#FFA15A\"}, \"name\": \"children=5\", \"offsetgroup\": \"children=5\", \"orientation\": \"v\", \"showlegend\": true, \"type\": \"histogram\", \"x\": [\"no\", \"no\", \"no\", \"no\", \"no\", \"no\", \"no\", \"no\", \"no\", \"no\", \"no\", \"no\", \"no\", \"yes\", \"no\", \"no\", \"no\", \"no\"], \"xaxis\": \"x\", \"yaxis\": \"y\"}, {\"alignmentgroup\": \"True\", \"bingroup\": \"x\", \"hoverlabel\": {\"namelength\": 0}, \"hovertemplate\": \"children=4<br>smoker=%{x}<br>count=%{y}\", \"legendgroup\": \"children=4\", \"marker\": {\"color\": \"#19d3f3\"}, \"name\": \"children=4\", \"offsetgroup\": \"children=4\", \"orientation\": \"v\", \"showlegend\": true, \"type\": \"histogram\", \"x\": [\"no\", \"no\", \"no\", \"no\", \"no\", \"no\", \"no\", \"no\", \"no\", \"yes\", \"yes\", \"no\", \"no\", \"no\", \"no\", \"no\", \"no\", \"no\", \"no\", \"no\", \"no\", \"no\", \"no\", \"yes\", \"no\"], \"xaxis\": \"x\", \"yaxis\": \"y\"}],\n",
              "                        {\"barmode\": \"relative\", \"legend\": {\"tracegroupgap\": 0}, \"template\": {\"data\": {\"bar\": [{\"error_x\": {\"color\": \"#2a3f5f\"}, \"error_y\": {\"color\": \"#2a3f5f\"}, \"marker\": {\"line\": {\"color\": \"#E5ECF6\", \"width\": 0.5}}, \"type\": \"bar\"}], \"barpolar\": [{\"marker\": {\"line\": {\"color\": \"#E5ECF6\", \"width\": 0.5}}, \"type\": \"barpolar\"}], \"carpet\": [{\"aaxis\": {\"endlinecolor\": \"#2a3f5f\", \"gridcolor\": \"white\", \"linecolor\": \"white\", \"minorgridcolor\": \"white\", \"startlinecolor\": \"#2a3f5f\"}, \"baxis\": {\"endlinecolor\": \"#2a3f5f\", \"gridcolor\": \"white\", \"linecolor\": \"white\", \"minorgridcolor\": \"white\", \"startlinecolor\": \"#2a3f5f\"}, \"type\": \"carpet\"}], \"choropleth\": [{\"colorbar\": {\"outlinewidth\": 0, \"ticks\": \"\"}, \"type\": \"choropleth\"}], \"contour\": [{\"colorbar\": {\"outlinewidth\": 0, \"ticks\": \"\"}, \"colorscale\": [[0.0, \"#0d0887\"], [0.1111111111111111, \"#46039f\"], [0.2222222222222222, \"#7201a8\"], [0.3333333333333333, \"#9c179e\"], [0.4444444444444444, \"#bd3786\"], [0.5555555555555556, \"#d8576b\"], [0.6666666666666666, \"#ed7953\"], [0.7777777777777778, \"#fb9f3a\"], [0.8888888888888888, \"#fdca26\"], [1.0, \"#f0f921\"]], \"type\": \"contour\"}], \"contourcarpet\": [{\"colorbar\": {\"outlinewidth\": 0, \"ticks\": \"\"}, \"type\": \"contourcarpet\"}], \"heatmap\": [{\"colorbar\": {\"outlinewidth\": 0, \"ticks\": \"\"}, \"colorscale\": [[0.0, \"#0d0887\"], [0.1111111111111111, \"#46039f\"], [0.2222222222222222, \"#7201a8\"], [0.3333333333333333, \"#9c179e\"], [0.4444444444444444, \"#bd3786\"], [0.5555555555555556, \"#d8576b\"], [0.6666666666666666, \"#ed7953\"], [0.7777777777777778, \"#fb9f3a\"], [0.8888888888888888, \"#fdca26\"], [1.0, \"#f0f921\"]], \"type\": \"heatmap\"}], \"heatmapgl\": [{\"colorbar\": {\"outlinewidth\": 0, \"ticks\": \"\"}, \"colorscale\": [[0.0, \"#0d0887\"], [0.1111111111111111, \"#46039f\"], [0.2222222222222222, \"#7201a8\"], [0.3333333333333333, \"#9c179e\"], [0.4444444444444444, \"#bd3786\"], [0.5555555555555556, \"#d8576b\"], [0.6666666666666666, \"#ed7953\"], [0.7777777777777778, \"#fb9f3a\"], [0.8888888888888888, \"#fdca26\"], [1.0, \"#f0f921\"]], \"type\": \"heatmapgl\"}], \"histogram\": [{\"marker\": {\"colorbar\": {\"outlinewidth\": 0, \"ticks\": \"\"}}, \"type\": \"histogram\"}], \"histogram2d\": [{\"colorbar\": {\"outlinewidth\": 0, \"ticks\": \"\"}, \"colorscale\": [[0.0, \"#0d0887\"], [0.1111111111111111, \"#46039f\"], [0.2222222222222222, \"#7201a8\"], [0.3333333333333333, \"#9c179e\"], [0.4444444444444444, \"#bd3786\"], [0.5555555555555556, \"#d8576b\"], [0.6666666666666666, \"#ed7953\"], [0.7777777777777778, \"#fb9f3a\"], [0.8888888888888888, \"#fdca26\"], [1.0, \"#f0f921\"]], \"type\": \"histogram2d\"}], \"histogram2dcontour\": [{\"colorbar\": {\"outlinewidth\": 0, \"ticks\": \"\"}, \"colorscale\": [[0.0, \"#0d0887\"], [0.1111111111111111, \"#46039f\"], [0.2222222222222222, \"#7201a8\"], [0.3333333333333333, \"#9c179e\"], [0.4444444444444444, \"#bd3786\"], [0.5555555555555556, \"#d8576b\"], [0.6666666666666666, \"#ed7953\"], [0.7777777777777778, \"#fb9f3a\"], [0.8888888888888888, \"#fdca26\"], [1.0, \"#f0f921\"]], \"type\": \"histogram2dcontour\"}], \"mesh3d\": [{\"colorbar\": {\"outlinewidth\": 0, \"ticks\": \"\"}, \"type\": \"mesh3d\"}], \"parcoords\": [{\"line\": {\"colorbar\": {\"outlinewidth\": 0, \"ticks\": \"\"}}, \"type\": \"parcoords\"}], \"pie\": [{\"automargin\": true, \"type\": \"pie\"}], \"scatter\": [{\"marker\": {\"colorbar\": {\"outlinewidth\": 0, \"ticks\": \"\"}}, \"type\": \"scatter\"}], \"scatter3d\": [{\"line\": {\"colorbar\": {\"outlinewidth\": 0, \"ticks\": \"\"}}, \"marker\": {\"colorbar\": {\"outlinewidth\": 0, \"ticks\": \"\"}}, \"type\": \"scatter3d\"}], \"scattercarpet\": [{\"marker\": {\"colorbar\": {\"outlinewidth\": 0, \"ticks\": \"\"}}, \"type\": \"scattercarpet\"}], \"scattergeo\": [{\"marker\": {\"colorbar\": {\"outlinewidth\": 0, \"ticks\": \"\"}}, \"type\": \"scattergeo\"}], \"scattergl\": [{\"marker\": {\"colorbar\": {\"outlinewidth\": 0, \"ticks\": \"\"}}, \"type\": \"scattergl\"}], \"scattermapbox\": [{\"marker\": {\"colorbar\": {\"outlinewidth\": 0, \"ticks\": \"\"}}, \"type\": \"scattermapbox\"}], \"scatterpolar\": [{\"marker\": {\"colorbar\": {\"outlinewidth\": 0, \"ticks\": \"\"}}, \"type\": \"scatterpolar\"}], \"scatterpolargl\": [{\"marker\": {\"colorbar\": {\"outlinewidth\": 0, \"ticks\": \"\"}}, \"type\": \"scatterpolargl\"}], \"scatterternary\": [{\"marker\": {\"colorbar\": {\"outlinewidth\": 0, \"ticks\": \"\"}}, \"type\": \"scatterternary\"}], \"surface\": [{\"colorbar\": {\"outlinewidth\": 0, \"ticks\": \"\"}, \"colorscale\": [[0.0, \"#0d0887\"], [0.1111111111111111, \"#46039f\"], [0.2222222222222222, \"#7201a8\"], [0.3333333333333333, \"#9c179e\"], [0.4444444444444444, \"#bd3786\"], [0.5555555555555556, \"#d8576b\"], [0.6666666666666666, \"#ed7953\"], [0.7777777777777778, \"#fb9f3a\"], [0.8888888888888888, \"#fdca26\"], [1.0, \"#f0f921\"]], \"type\": \"surface\"}], \"table\": [{\"cells\": {\"fill\": {\"color\": \"#EBF0F8\"}, \"line\": {\"color\": \"white\"}}, \"header\": {\"fill\": {\"color\": \"#C8D4E3\"}, \"line\": {\"color\": \"white\"}}, \"type\": \"table\"}]}, \"layout\": {\"annotationdefaults\": {\"arrowcolor\": \"#2a3f5f\", \"arrowhead\": 0, \"arrowwidth\": 1}, \"coloraxis\": {\"colorbar\": {\"outlinewidth\": 0, \"ticks\": \"\"}}, \"colorscale\": {\"diverging\": [[0, \"#8e0152\"], [0.1, \"#c51b7d\"], [0.2, \"#de77ae\"], [0.3, \"#f1b6da\"], [0.4, \"#fde0ef\"], [0.5, \"#f7f7f7\"], [0.6, \"#e6f5d0\"], [0.7, \"#b8e186\"], [0.8, \"#7fbc41\"], [0.9, \"#4d9221\"], [1, \"#276419\"]], \"sequential\": [[0.0, \"#0d0887\"], [0.1111111111111111, \"#46039f\"], [0.2222222222222222, \"#7201a8\"], [0.3333333333333333, \"#9c179e\"], [0.4444444444444444, \"#bd3786\"], [0.5555555555555556, \"#d8576b\"], [0.6666666666666666, \"#ed7953\"], [0.7777777777777778, \"#fb9f3a\"], [0.8888888888888888, \"#fdca26\"], [1.0, \"#f0f921\"]], \"sequentialminus\": [[0.0, \"#0d0887\"], [0.1111111111111111, \"#46039f\"], [0.2222222222222222, \"#7201a8\"], [0.3333333333333333, \"#9c179e\"], [0.4444444444444444, \"#bd3786\"], [0.5555555555555556, \"#d8576b\"], [0.6666666666666666, \"#ed7953\"], [0.7777777777777778, \"#fb9f3a\"], [0.8888888888888888, \"#fdca26\"], [1.0, \"#f0f921\"]]}, \"colorway\": [\"#636efa\", \"#EF553B\", \"#00cc96\", \"#ab63fa\", \"#FFA15A\", \"#19d3f3\", \"#FF6692\", \"#B6E880\", \"#FF97FF\", \"#FECB52\"], \"font\": {\"color\": \"#2a3f5f\"}, \"geo\": {\"bgcolor\": \"white\", \"lakecolor\": \"white\", \"landcolor\": \"#E5ECF6\", \"showlakes\": true, \"showland\": true, \"subunitcolor\": \"white\"}, \"hoverlabel\": {\"align\": \"left\"}, \"hovermode\": \"closest\", \"mapbox\": {\"style\": \"light\"}, \"paper_bgcolor\": \"white\", \"plot_bgcolor\": \"#E5ECF6\", \"polar\": {\"angularaxis\": {\"gridcolor\": \"white\", \"linecolor\": \"white\", \"ticks\": \"\"}, \"bgcolor\": \"#E5ECF6\", \"radialaxis\": {\"gridcolor\": \"white\", \"linecolor\": \"white\", \"ticks\": \"\"}}, \"scene\": {\"xaxis\": {\"backgroundcolor\": \"#E5ECF6\", \"gridcolor\": \"white\", \"gridwidth\": 2, \"linecolor\": \"white\", \"showbackground\": true, \"ticks\": \"\", \"zerolinecolor\": \"white\"}, \"yaxis\": {\"backgroundcolor\": \"#E5ECF6\", \"gridcolor\": \"white\", \"gridwidth\": 2, \"linecolor\": \"white\", \"showbackground\": true, \"ticks\": \"\", \"zerolinecolor\": \"white\"}, \"zaxis\": {\"backgroundcolor\": \"#E5ECF6\", \"gridcolor\": \"white\", \"gridwidth\": 2, \"linecolor\": \"white\", \"showbackground\": true, \"ticks\": \"\", \"zerolinecolor\": \"white\"}}, \"shapedefaults\": {\"line\": {\"color\": \"#2a3f5f\"}}, \"ternary\": {\"aaxis\": {\"gridcolor\": \"white\", \"linecolor\": \"white\", \"ticks\": \"\"}, \"baxis\": {\"gridcolor\": \"white\", \"linecolor\": \"white\", \"ticks\": \"\"}, \"bgcolor\": \"#E5ECF6\", \"caxis\": {\"gridcolor\": \"white\", \"linecolor\": \"white\", \"ticks\": \"\"}}, \"title\": {\"x\": 0.05}, \"xaxis\": {\"automargin\": true, \"gridcolor\": \"white\", \"linecolor\": \"white\", \"ticks\": \"\", \"title\": {\"standoff\": 15}, \"zerolinecolor\": \"white\", \"zerolinewidth\": 2}, \"yaxis\": {\"automargin\": true, \"gridcolor\": \"white\", \"linecolor\": \"white\", \"ticks\": \"\", \"title\": {\"standoff\": 15}, \"zerolinecolor\": \"white\", \"zerolinewidth\": 2}}}, \"title\": {\"text\": \"Smoker\"}, \"xaxis\": {\"anchor\": \"y\", \"domain\": [0.0, 1.0], \"title\": {\"text\": \"smoker\"}}, \"yaxis\": {\"anchor\": \"x\", \"domain\": [0.0, 1.0], \"title\": {\"text\": \"count\"}}},\n",
              "                        {\"responsive\": true}\n",
              "                    ).then(function(){\n",
              "                            \n",
              "var gd = document.getElementById('d933cc71-3007-48a8-b70a-3e88f5bbc872');\n",
              "var x = new MutationObserver(function (mutations, observer) {{\n",
              "        var display = window.getComputedStyle(gd).display;\n",
              "        if (!display || display === 'none') {{\n",
              "            console.log([gd, 'removed!']);\n",
              "            Plotly.purge(gd);\n",
              "            observer.disconnect();\n",
              "        }}\n",
              "}});\n",
              "\n",
              "// Listen for the removal of the full notebook cells\n",
              "var notebookContainer = gd.closest('#notebook-container');\n",
              "if (notebookContainer) {{\n",
              "    x.observe(notebookContainer, {childList: true});\n",
              "}}\n",
              "\n",
              "// Listen for the clearing of the current output cell\n",
              "var outputEl = gd.closest('.output');\n",
              "if (outputEl) {{\n",
              "    x.observe(outputEl, {childList: true});\n",
              "}}\n",
              "\n",
              "                        })\n",
              "                };\n",
              "                \n",
              "            </script>\n",
              "        </div>\n",
              "</body>\n",
              "</html>"
            ]
          },
          "metadata": {
            "tags": []
          }
        }
      ]
    },
    {
      "cell_type": "code",
      "metadata": {
        "colab": {
          "base_uri": "https://localhost:8080/",
          "height": 542
        },
        "id": "BoTbF2cckCgq",
        "outputId": "70a4f9db-a0ef-49a5-b765-d79da122e012"
      },
      "source": [
        "fig = px.scatter(medical_df, \n",
        "                 x='age', \n",
        "                 y='charges', \n",
        "                 color='smoker', \n",
        "                 opacity=0.8, \n",
        "                 hover_data=['sex'], \n",
        "                 title='Age vs. Charges')\n",
        "fig.update_traces(marker_size=5)\n",
        "fig.show()"
      ],
      "execution_count": null,
      "outputs": [
        {
          "output_type": "display_data",
          "data": {
            "text/html": [
              "<html>\n",
              "<head><meta charset=\"utf-8\" /></head>\n",
              "<body>\n",
              "    <div>\n",
              "            <script src=\"https://cdnjs.cloudflare.com/ajax/libs/mathjax/2.7.5/MathJax.js?config=TeX-AMS-MML_SVG\"></script><script type=\"text/javascript\">if (window.MathJax) {MathJax.Hub.Config({SVG: {font: \"STIX-Web\"}});}</script>\n",
              "                <script type=\"text/javascript\">window.PlotlyConfig = {MathJaxConfig: 'local'};</script>\n",
              "        <script src=\"https://cdn.plot.ly/plotly-latest.min.js\"></script>    \n",
              "            <div id=\"56bd0361-a323-48f9-af86-9d21db1f94c4\" class=\"plotly-graph-div\" style=\"height:525px; width:100%;\"></div>\n",
              "            <script type=\"text/javascript\">\n",
              "                \n",
              "                    window.PLOTLYENV=window.PLOTLYENV || {};\n",
              "                    \n",
              "                if (document.getElementById(\"56bd0361-a323-48f9-af86-9d21db1f94c4\")) {\n",
              "                    Plotly.newPlot(\n",
              "                        '56bd0361-a323-48f9-af86-9d21db1f94c4',\n",
              "                        [{\"customdata\": [[\"female\"], [\"female\"], [\"male\"], [\"male\"], [\"female\"], [\"male\"], [\"male\"], [\"male\"], [\"male\"], [\"male\"], [\"male\"], [\"male\"], [\"male\"], [\"male\"], [\"male\"], [\"female\"], [\"female\"], [\"male\"], [\"female\"], [\"male\"], [\"female\"], [\"male\"], [\"female\"], [\"male\"], [\"female\"], [\"male\"], [\"male\"], [\"female\"], [\"male\"], [\"male\"], [\"female\"], [\"male\"], [\"female\"], [\"female\"], [\"male\"], [\"male\"], [\"male\"], [\"female\"], [\"male\"], [\"male\"], [\"male\"], [\"female\"], [\"female\"], [\"female\"], [\"male\"], [\"female\"], [\"male\"], [\"male\"], [\"male\"], [\"female\"], [\"male\"], [\"female\"], [\"female\"], [\"male\"], [\"female\"], [\"male\"], [\"male\"], [\"male\"], [\"male\"], [\"female\"], [\"male\"], [\"male\"], [\"male\"], [\"male\"], [\"male\"], [\"female\"], [\"male\"], [\"female\"], [\"male\"], [\"male\"], [\"male\"], [\"male\"], [\"female\"], [\"male\"], [\"female\"], [\"male\"], [\"male\"], [\"female\"], [\"female\"], [\"male\"], [\"male\"], [\"female\"], [\"male\"], [\"female\"], [\"female\"], [\"male\"], [\"female\"], [\"male\"], [\"female\"], [\"female\"], [\"female\"], [\"female\"], [\"male\"], [\"male\"], [\"male\"], [\"female\"], [\"male\"], [\"male\"], [\"female\"], [\"male\"], [\"male\"], [\"male\"], [\"female\"], [\"male\"], [\"male\"], [\"male\"], [\"male\"], [\"male\"], [\"male\"], [\"male\"], [\"female\"], [\"male\"], [\"female\"], [\"female\"], [\"male\"], [\"female\"], [\"female\"], [\"female\"], [\"female\"], [\"female\"], [\"male\"], [\"female\"], [\"male\"], [\"female\"], [\"male\"], [\"male\"], [\"female\"], [\"male\"], [\"male\"], [\"female\"], [\"female\"], [\"male\"], [\"female\"], [\"male\"], [\"female\"], [\"male\"], [\"male\"], [\"male\"], [\"male\"], [\"female\"], [\"female\"], [\"female\"], [\"male\"], [\"female\"], [\"male\"], [\"male\"], [\"male\"], [\"male\"], [\"female\"], [\"female\"], [\"male\"], [\"male\"], [\"female\"], [\"male\"], [\"female\"], [\"male\"], [\"male\"], [\"male\"], [\"female\"], [\"female\"], [\"female\"], [\"male\"], [\"male\"], [\"male\"], [\"female\"], [\"female\"], [\"female\"], [\"female\"], [\"female\"], [\"female\"], [\"female\"], [\"male\"], [\"female\"], [\"female\"], [\"male\"], [\"male\"], [\"female\"], [\"male\"], [\"female\"], [\"male\"], [\"female\"], [\"male\"], [\"female\"], [\"male\"], [\"male\"], [\"male\"], [\"male\"], [\"male\"], [\"male\"], [\"male\"], [\"male\"], [\"male\"], [\"male\"], [\"male\"], [\"female\"], [\"female\"], [\"male\"], [\"male\"], [\"male\"], [\"male\"], [\"female\"], [\"male\"], [\"male\"], [\"female\"], [\"female\"], [\"male\"], [\"male\"], [\"female\"], [\"female\"], [\"male\"], [\"female\"], [\"male\"], [\"male\"], [\"male\"], [\"male\"], [\"male\"], [\"male\"], [\"female\"], [\"male\"], [\"female\"], [\"female\"], [\"female\"], [\"male\"], [\"female\"], [\"male\"], [\"male\"], [\"female\"], [\"female\"], [\"female\"], [\"female\"], [\"male\"], [\"female\"], [\"male\"], [\"male\"], [\"female\"], [\"female\"], [\"male\"], [\"female\"], [\"male\"], [\"female\"], [\"female\"], [\"female\"], [\"male\"], [\"female\"], [\"female\"], [\"female\"], [\"male\"], [\"female\"], [\"male\"], [\"male\"], [\"male\"], [\"male\"], [\"male\"], [\"male\"], [\"male\"], [\"male\"], [\"male\"], [\"female\"], [\"female\"], [\"male\"], [\"male\"], [\"male\"], [\"male\"], [\"male\"], [\"male\"], [\"male\"], [\"female\"], [\"male\"], [\"female\"], [\"female\"], [\"female\"], [\"male\"], [\"female\"], [\"female\"]], \"hoverlabel\": {\"namelength\": 0}, \"hovertemplate\": \"smoker=yes<br>age=%{x}<br>charges=%{y}<br>sex=%{customdata[0]}\", \"legendgroup\": \"smoker=yes\", \"marker\": {\"color\": \"#636efa\", \"opacity\": 0.8, \"size\": 5, \"symbol\": \"circle\"}, \"mode\": \"markers\", \"name\": \"smoker=yes\", \"showlegend\": true, \"type\": \"scattergl\", \"x\": [19, 62, 27, 30, 34, 31, 22, 28, 35, 60, 36, 48, 36, 58, 18, 53, 20, 28, 27, 22, 37, 45, 57, 59, 64, 56, 38, 61, 20, 63, 29, 44, 19, 32, 34, 30, 46, 42, 48, 18, 30, 42, 18, 63, 36, 27, 35, 19, 42, 40, 19, 23, 63, 18, 63, 54, 50, 56, 19, 20, 52, 19, 46, 40, 50, 40, 54, 59, 25, 19, 47, 31, 53, 43, 27, 34, 45, 64, 61, 52, 50, 19, 26, 23, 39, 24, 27, 55, 44, 26, 36, 63, 64, 61, 40, 33, 56, 42, 30, 54, 61, 24, 44, 21, 29, 51, 19, 39, 42, 57, 54, 49, 43, 35, 48, 31, 34, 21, 19, 59, 30, 47, 49, 19, 37, 18, 44, 39, 42, 52, 64, 43, 40, 62, 44, 60, 39, 27, 41, 51, 30, 29, 35, 37, 23, 29, 27, 53, 37, 47, 18, 33, 19, 30, 50, 53, 27, 33, 18, 47, 33, 56, 36, 41, 23, 57, 60, 37, 46, 49, 48, 25, 37, 51, 32, 57, 64, 47, 43, 60, 32, 18, 43, 45, 37, 25, 51, 44, 34, 54, 43, 51, 29, 31, 24, 27, 30, 24, 47, 43, 22, 47, 19, 46, 55, 18, 22, 45, 35, 20, 43, 22, 49, 47, 59, 37, 28, 39, 47, 22, 51, 33, 38, 48, 25, 33, 23, 53, 23, 19, 60, 43, 19, 18, 43, 52, 31, 23, 20, 43, 19, 18, 36, 37, 46, 20, 52, 20, 52, 64, 32, 24, 20, 64, 24, 26, 39, 47, 18, 61, 20, 19, 45, 62, 43, 42, 29, 32, 25, 19, 30, 62, 42, 61], \"xaxis\": \"x\", \"y\": [16884.924, 27808.7251, 39611.7577, 36837.467000000004, 37701.8768, 38711.0, 35585.576, 51194.55914, 39774.2763, 48173.361, 38709.176, 23568.272, 37742.5757, 47496.49445, 34303.1672, 23244.7902, 14711.7438, 17663.1442, 16577.7795, 37165.1638, 39836.519, 21098.55405, 43578.9394, 30184.9367, 47291.055, 22412.6485, 15820.698999999999, 30942.1918, 17560.37975, 47055.5321, 19107.7796, 39556.4945, 17081.08, 32734.1863, 18972.495, 20745.9891, 40720.55105, 19964.7463, 21223.6758, 15518.18025, 36950.2567, 21348.706000000002, 36149.4835, 48824.45, 43753.33705, 37133.8982, 20984.0936, 34779.615, 19515.5416, 19444.2658, 17352.6803, 38511.6283, 29523.1656, 12829.4551, 47305.305, 44260.7499, 41097.16175, 43921.1837, 33750.2918, 17085.2676, 24869.8368, 36219.40545, 46151.1245, 17179.522, 42856.837999999996, 22331.5668, 48549.17835, 47896.79135, 42112.2356, 16297.846000000001, 21978.6769, 38746.3551, 24873.3849, 42124.5153, 34838.873, 35491.64, 42760.5022, 47928.03, 48517.56315, 24393.6224, 41919.097, 13844.506000000001, 36085.219, 18033.9679, 21659.9301, 38126.2465, 15006.57945, 42303.69215, 19594.80965, 14455.64405, 18608.262, 28950.4692, 46889.2612, 46599.1084, 39125.33225, 37079.372, 26109.32905, 22144.032000000003, 19521.9682, 25382.297000000002, 28868.6639, 35147.52848, 48885.135610000005, 17942.106, 36197.699, 22218.1149, 32548.3405, 21082.16, 38245.59327, 48675.5177, 63770.42801, 23807.2406, 45863.205, 39983.42595, 45702.02235, 58571.074479999996, 43943.8761, 15359.1045, 17468.9839, 25678.77845, 39241.442, 42969.8527, 23306.547000000002, 34439.8559, 40182.246, 34617.84065, 42983.4585, 20149.3229, 32787.458589999995, 24667.418999999998, 27037.9141, 42560.4304, 40003.33225, 45710.20785, 46200.9851, 46130.5265, 40103.89, 34806.4677, 40273.6455, 44400.4064, 40932.4295, 16657.71745, 19361.9988, 40419.0191, 36189.1017, 44585.45587, 18246.4955, 43254.41795, 19539.243000000002, 23065.4207, 36307.7983, 19040.876, 17748.5062, 18259.216, 24520.264, 21195.818, 18310.742, 17904.52705, 38792.6856, 23401.30575, 55135.402089999996, 43813.8661, 20773.62775, 39597.4072, 36021.0112, 27533.9129, 45008.9555, 37270.1512, 42111.6647, 24106.91255, 40974.1649, 15817.9857, 46113.511, 46255.1125, 19719.6947, 27218.43725, 29330.98315, 44202.6536, 19798.05455, 48673.5588, 17496.306, 33732.6867, 21774.32215, 35069.37452, 39047.285, 19933.458, 47462.894, 38998.546, 20009.63365, 41999.52, 41034.2214, 23967.38305, 16138.76205, 19199.944, 14571.8908, 16420.49455, 17361.7661, 34472.841, 24915.22085, 18767.7377, 35595.5898, 42211.1382, 16450.8947, 21677.28345, 44423.803, 13747.87235, 37484.4493, 39725.51805, 20234.85475, 33475.81715, 21880.82, 44501.3982, 39727.614, 25309.488999999998, 48970.2476, 39871.7043, 34672.1472, 19023.26, 41676.0811, 33907.547999999995, 44641.1974, 16776.30405, 41949.2441, 24180.9335, 36124.5737, 38282.7495, 34166.273, 46661.4424, 40904.1995, 36898.73308, 52590.82939, 40941.2854, 39722.7462, 17178.6824, 22478.6, 23887.6627, 19350.3689, 18328.2381, 37465.34375, 21771.3423, 33307.5508, 18223.4512, 38415.474, 20296.86345, 41661.602, 26125.674769999998, 60021.39897, 20167.336030000002, 47269.85400000001, 49577.6624, 37607.5277, 18648.4217, 16232.847, 26926.5144, 34254.05335, 17043.3414, 22462.04375, 24535.69855, 14283.4594, 47403.88, 38344.566, 34828.654, 62592.87309, 46718.16325, 37829.7242, 21259.37795, 16115.3045, 21472.4788, 33900.653, 36397.576, 18765.87545, 28101.33305, 43896.3763, 29141.3603], \"yaxis\": \"y\"}, {\"customdata\": [[\"male\"], [\"male\"], [\"male\"], [\"male\"], [\"female\"], [\"female\"], [\"female\"], [\"male\"], [\"female\"], [\"male\"], [\"male\"], [\"female\"], [\"male\"], [\"female\"], [\"male\"], [\"male\"], [\"female\"], [\"female\"], [\"male\"], [\"male\"], [\"female\"], [\"female\"], [\"female\"], [\"male\"], [\"female\"], [\"female\"], [\"male\"], [\"male\"], [\"female\"], [\"male\"], [\"female\"], [\"female\"], [\"male\"], [\"female\"], [\"male\"], [\"male\"], [\"female\"], [\"female\"], [\"female\"], [\"female\"], [\"female\"], [\"female\"], [\"female\"], [\"female\"], [\"male\"], [\"male\"], [\"male\"], [\"female\"], [\"female\"], [\"female\"], [\"male\"], [\"female\"], [\"male\"], [\"female\"], [\"male\"], [\"male\"], [\"male\"], [\"female\"], [\"male\"], [\"female\"], [\"female\"], [\"male\"], [\"female\"], [\"female\"], [\"female\"], [\"female\"], [\"female\"], [\"female\"], [\"female\"], [\"male\"], [\"female\"], [\"female\"], [\"male\"], [\"female\"], [\"male\"], [\"female\"], [\"female\"], [\"female\"], [\"male\"], [\"male\"], [\"male\"], [\"female\"], [\"male\"], [\"female\"], [\"male\"], [\"male\"], [\"male\"], [\"female\"], [\"female\"], [\"male\"], [\"male\"], [\"female\"], [\"female\"], [\"female\"], [\"female\"], [\"male\"], [\"female\"], [\"female\"], [\"female\"], [\"male\"], [\"female\"], [\"female\"], [\"male\"], [\"male\"], [\"female\"], [\"female\"], [\"male\"], [\"male\"], [\"male\"], [\"female\"], [\"female\"], [\"female\"], [\"male\"], [\"male\"], [\"male\"], [\"female\"], [\"female\"], [\"male\"], [\"female\"], [\"male\"], [\"female\"], [\"male\"], [\"male\"], [\"female\"], [\"female\"], [\"female\"], [\"male\"], [\"male\"], [\"male\"], [\"male\"], [\"female\"], [\"female\"], [\"male\"], [\"male\"], [\"female\"], [\"female\"], [\"male\"], [\"female\"], [\"male\"], [\"female\"], [\"male\"], [\"female\"], [\"female\"], [\"female\"], [\"female\"], [\"male\"], [\"female\"], [\"male\"], [\"female\"], [\"male\"], [\"male\"], [\"female\"], [\"female\"], [\"female\"], [\"female\"], [\"female\"], [\"female\"], [\"female\"], [\"male\"], [\"female\"], [\"male\"], [\"female\"], [\"male\"], [\"male\"], [\"male\"], [\"male\"], [\"female\"], [\"female\"], [\"female\"], [\"female\"], [\"male\"], [\"female\"], [\"female\"], [\"female\"], [\"female\"], [\"male\"], [\"male\"], [\"male\"], [\"female\"], [\"female\"], [\"male\"], [\"female\"], [\"female\"], [\"female\"], [\"male\"], [\"male\"], [\"female\"], [\"male\"], [\"male\"], [\"female\"], [\"female\"], [\"male\"], [\"male\"], [\"female\"], [\"male\"], [\"male\"], [\"male\"], [\"male\"], [\"female\"], [\"female\"], [\"male\"], [\"female\"], [\"female\"], [\"female\"], [\"male\"], [\"male\"], [\"male\"], [\"male\"], [\"male\"], [\"male\"], [\"female\"], [\"male\"], [\"female\"], [\"male\"], [\"female\"], [\"male\"], [\"female\"], [\"female\"], [\"male\"], [\"female\"], [\"female\"], [\"male\"], [\"female\"], [\"male\"], [\"female\"], [\"male\"], [\"male\"], [\"female\"], [\"male\"], [\"female\"], [\"female\"], [\"female\"], [\"male\"], [\"female\"], [\"female\"], [\"male\"], [\"female\"], [\"male\"], [\"female\"], [\"male\"], [\"male\"], [\"male\"], [\"male\"], [\"female\"], [\"male\"], [\"male\"], [\"female\"], [\"male\"], [\"male\"], [\"male\"], [\"female\"], [\"male\"], [\"female\"], [\"female\"], [\"female\"], [\"male\"], [\"male\"], [\"male\"], [\"female\"], [\"female\"], [\"male\"], [\"female\"], [\"male\"], [\"female\"], [\"female\"], [\"male\"], [\"male\"], [\"female\"], [\"male\"], [\"female\"], [\"female\"], [\"female\"], [\"male\"], [\"female\"], [\"male\"], [\"male\"], [\"male\"], [\"male\"], [\"female\"], [\"female\"], [\"male\"], [\"female\"], [\"female\"], [\"female\"], [\"female\"], [\"female\"], [\"male\"], [\"male\"], [\"female\"], [\"female\"], [\"female\"], [\"male\"], [\"female\"], [\"male\"], [\"male\"], [\"female\"], [\"male\"], [\"male\"], [\"female\"], [\"male\"], [\"female\"], [\"female\"], [\"male\"], [\"female\"], [\"male\"], [\"male\"], [\"female\"], [\"male\"], [\"female\"], [\"male\"], [\"male\"], [\"female\"], [\"female\"], [\"male\"], [\"female\"], [\"male\"], [\"male\"], [\"female\"], [\"female\"], [\"female\"], [\"male\"], [\"male\"], [\"male\"], [\"male\"], [\"female\"], [\"female\"], [\"male\"], [\"male\"], [\"male\"], [\"male\"], [\"male\"], [\"female\"], [\"female\"], [\"female\"], [\"female\"], [\"male\"], [\"female\"], [\"male\"], [\"female\"], [\"male\"], [\"male\"], [\"male\"], [\"male\"], [\"female\"], [\"male\"], [\"female\"], [\"male\"], [\"female\"], [\"female\"], [\"male\"], [\"female\"], [\"female\"], [\"male\"], [\"male\"], [\"male\"], [\"male\"], [\"male\"], [\"male\"], [\"male\"], [\"female\"], [\"female\"], [\"male\"], [\"female\"], [\"female\"], [\"female\"], [\"male\"], [\"male\"], [\"female\"], [\"female\"], [\"female\"], [\"female\"], [\"male\"], [\"female\"], [\"female\"], [\"female\"], [\"male\"], [\"male\"], [\"male\"], [\"male\"], [\"male\"], [\"female\"], [\"female\"], [\"male\"], [\"female\"], [\"female\"], [\"male\"], [\"male\"], [\"female\"], [\"female\"], [\"female\"], [\"male\"], [\"male\"], [\"female\"], [\"male\"], [\"female\"], [\"female\"], [\"male\"], [\"female\"], [\"male\"], [\"male\"], [\"male\"], [\"female\"], [\"female\"], [\"male\"], [\"male\"], [\"male\"], [\"male\"], [\"male\"], [\"male\"], [\"male\"], [\"female\"], [\"male\"], [\"female\"], [\"female\"], [\"female\"], [\"female\"], [\"female\"], [\"female\"], [\"female\"], [\"male\"], [\"male\"], [\"female\"], [\"male\"], [\"male\"], [\"male\"], [\"male\"], [\"female\"], [\"female\"], [\"female\"], [\"male\"], [\"female\"], [\"female\"], [\"female\"], [\"male\"], [\"male\"], [\"female\"], [\"female\"], [\"male\"], [\"female\"], [\"male\"], [\"female\"], [\"female\"], [\"male\"], [\"male\"], [\"male\"], [\"male\"], [\"female\"], [\"female\"], [\"male\"], [\"male\"], [\"female\"], [\"female\"], [\"female\"], [\"male\"], [\"female\"], [\"female\"], [\"female\"], [\"female\"], [\"female\"], [\"female\"], [\"female\"], [\"male\"], [\"male\"], [\"female\"], [\"male\"], [\"male\"], [\"male\"], [\"female\"], [\"male\"], [\"female\"], [\"male\"], [\"female\"], [\"female\"], [\"female\"], [\"male\"], [\"male\"], [\"male\"], [\"female\"], [\"female\"], [\"female\"], [\"male\"], [\"female\"], [\"female\"], [\"male\"], [\"female\"], [\"female\"], [\"female\"], [\"female\"], [\"male\"], [\"female\"], [\"female\"], [\"female\"], [\"female\"], [\"female\"], [\"female\"], [\"female\"], [\"male\"], [\"female\"], [\"male\"], [\"female\"], [\"male\"], [\"male\"], [\"male\"], [\"male\"], [\"male\"], [\"female\"], [\"male\"], [\"male\"], [\"male\"], [\"female\"], [\"female\"], [\"male\"], [\"male\"], [\"male\"], [\"female\"], [\"male\"], [\"male\"], [\"male\"], [\"female\"], [\"male\"], [\"female\"], [\"female\"], [\"female\"], [\"female\"], [\"female\"], [\"female\"], [\"female\"], [\"male\"], [\"female\"], [\"female\"], [\"male\"], [\"female\"], [\"female\"], [\"male\"], [\"male\"], [\"female\"], [\"male\"], [\"female\"], [\"male\"], [\"female\"], [\"male\"], [\"female\"], [\"male\"], [\"female\"], [\"female\"], [\"male\"], [\"male\"], [\"female\"], [\"male\"], [\"male\"], [\"male\"], [\"female\"], [\"male\"], [\"male\"], [\"male\"], [\"male\"], [\"female\"], [\"female\"], [\"female\"], [\"male\"], [\"female\"], [\"female\"], [\"female\"], [\"male\"], [\"female\"], [\"female\"], [\"female\"], [\"male\"], [\"female\"], [\"female\"], [\"male\"], [\"female\"], [\"female\"], [\"male\"], [\"female\"], [\"male\"], [\"female\"], [\"male\"], [\"female\"], [\"female\"], [\"female\"], [\"male\"], [\"male\"], [\"male\"], [\"female\"], [\"male\"], [\"female\"], [\"female\"], [\"male\"], [\"female\"], [\"female\"], [\"female\"], [\"female\"], [\"male\"], [\"male\"], [\"female\"], [\"male\"], [\"female\"], [\"male\"], [\"male\"], [\"female\"], [\"male\"], [\"male\"], [\"male\"], [\"female\"], [\"male\"], [\"male\"], [\"female\"], [\"male\"], [\"female\"], [\"male\"], [\"male\"], [\"female\"], [\"female\"], [\"male\"], [\"female\"], [\"female\"], [\"female\"], [\"male\"], [\"female\"], [\"female\"], [\"male\"], [\"male\"], [\"male\"], [\"male\"], [\"male\"], [\"male\"], [\"male\"], [\"male\"], [\"female\"], [\"female\"], [\"male\"], [\"male\"], [\"male\"], [\"female\"], [\"female\"], [\"male\"], [\"female\"], [\"female\"], [\"male\"], [\"female\"], [\"female\"], [\"female\"], [\"female\"], [\"male\"], [\"male\"], [\"female\"], [\"female\"], [\"female\"], [\"male\"], [\"male\"], [\"female\"], [\"female\"], [\"male\"], [\"male\"], [\"male\"], [\"female\"], [\"female\"], [\"male\"], [\"male\"], [\"male\"], [\"female\"], [\"female\"], [\"male\"], [\"female\"], [\"male\"], [\"male\"], [\"female\"], [\"female\"], [\"male\"], [\"male\"], [\"male\"], [\"male\"], [\"female\"], [\"female\"], [\"female\"], [\"male\"], [\"male\"], [\"male\"], [\"female\"], [\"male\"], [\"female\"], [\"male\"], [\"male\"], [\"female\"], [\"female\"], [\"female\"], [\"male\"], [\"female\"], [\"female\"], [\"female\"], [\"male\"], [\"male\"], [\"male\"], [\"male\"], [\"male\"], [\"female\"], [\"male\"], [\"female\"], [\"male\"], [\"male\"], [\"male\"], [\"female\"], [\"female\"], [\"male\"], [\"male\"], [\"female\"], [\"male\"], [\"male\"], [\"female\"], [\"male\"], [\"female\"], [\"male\"], [\"male\"], [\"female\"], [\"male\"], [\"male\"], [\"female\"], [\"male\"], [\"female\"], [\"female\"], [\"male\"], [\"male\"], [\"male\"], [\"female\"], [\"female\"], [\"male\"], [\"female\"], [\"male\"], [\"male\"], [\"female\"], [\"female\"], [\"male\"], [\"female\"], [\"female\"], [\"female\"], [\"female\"], [\"female\"], [\"male\"], [\"male\"], [\"male\"], [\"male\"], [\"female\"], [\"female\"], [\"female\"], [\"male\"], [\"male\"], [\"female\"], [\"male\"], [\"female\"], [\"male\"], [\"female\"], [\"male\"], [\"female\"], [\"male\"], [\"male\"], [\"male\"], [\"female\"], [\"female\"], [\"male\"], [\"male\"], [\"female\"], [\"male\"], [\"male\"], [\"male\"], [\"female\"], [\"male\"], [\"male\"], [\"male\"], [\"female\"], [\"female\"], [\"female\"], [\"male\"], [\"male\"], [\"male\"], [\"male\"], [\"male\"], [\"female\"], [\"female\"], [\"female\"], [\"female\"], [\"female\"], [\"male\"], [\"male\"], [\"male\"], [\"female\"], [\"female\"], [\"male\"], [\"male\"], [\"female\"], [\"male\"], [\"female\"], [\"male\"], [\"female\"], [\"male\"], [\"female\"], [\"female\"], [\"female\"], [\"male\"], [\"female\"], [\"female\"], [\"female\"], [\"female\"], [\"female\"], [\"male\"], [\"male\"], [\"male\"], [\"male\"], [\"male\"], [\"male\"], [\"male\"], [\"female\"], [\"female\"], [\"male\"], [\"female\"], [\"male\"], [\"female\"], [\"female\"], [\"female\"], [\"female\"], [\"male\"], [\"male\"], [\"female\"], [\"female\"], [\"male\"], [\"male\"], [\"female\"], [\"female\"], [\"male\"], [\"female\"], [\"male\"], [\"male\"], [\"male\"], [\"female\"], [\"male\"], [\"female\"], [\"female\"], [\"female\"], [\"male\"], [\"male\"], [\"female\"], [\"male\"], [\"female\"], [\"female\"], [\"female\"], [\"male\"], [\"male\"], [\"male\"], [\"male\"], [\"female\"], [\"female\"], [\"male\"], [\"male\"], [\"male\"], [\"female\"], [\"male\"], [\"male\"], [\"female\"], [\"female\"], [\"female\"], [\"female\"], [\"male\"], [\"male\"], [\"male\"], [\"male\"], [\"male\"], [\"male\"], [\"female\"], [\"male\"], [\"male\"], [\"male\"], [\"male\"], [\"female\"], [\"male\"], [\"female\"], [\"female\"], [\"male\"], [\"female\"], [\"female\"], [\"male\"], [\"male\"], [\"male\"], [\"male\"], [\"female\"], [\"female\"], [\"female\"], [\"male\"], [\"male\"], [\"female\"], [\"female\"], [\"male\"], [\"male\"], [\"male\"], [\"female\"], [\"male\"], [\"female\"], [\"female\"], [\"male\"], [\"female\"], [\"male\"], [\"female\"], [\"female\"], [\"male\"], [\"male\"], [\"female\"], [\"male\"], [\"female\"], [\"female\"], [\"female\"], [\"male\"], [\"male\"], [\"female\"], [\"female\"], [\"male\"], [\"male\"], [\"male\"], [\"female\"], [\"male\"], [\"male\"], [\"female\"], [\"female\"], [\"female\"], [\"female\"], [\"female\"], [\"female\"], [\"female\"], [\"female\"], [\"female\"], [\"male\"], [\"male\"], [\"female\"], [\"female\"], [\"female\"], [\"male\"], [\"female\"], [\"male\"], [\"female\"], [\"female\"], [\"male\"], [\"male\"], [\"female\"], [\"female\"], [\"female\"], [\"female\"], [\"female\"], [\"female\"], [\"female\"], [\"male\"], [\"female\"], [\"female\"], [\"female\"], [\"female\"], [\"female\"], [\"female\"], [\"female\"], [\"female\"], [\"male\"], [\"male\"], [\"female\"], [\"male\"], [\"male\"], [\"male\"], [\"male\"], [\"male\"], [\"female\"], [\"male\"], [\"male\"], [\"male\"], [\"male\"], [\"female\"], [\"female\"], [\"male\"], [\"male\"], [\"male\"], [\"female\"], [\"female\"], [\"male\"], [\"male\"], [\"male\"], [\"female\"], [\"male\"], [\"male\"], [\"male\"], [\"male\"], [\"female\"], [\"male\"], [\"female\"], [\"male\"], [\"female\"], [\"female\"], [\"male\"], [\"female\"], [\"female\"], [\"female\"], [\"male\"], [\"male\"], [\"female\"], [\"male\"], [\"female\"], [\"male\"], [\"female\"], [\"female\"], [\"female\"], [\"female\"], [\"female\"], [\"male\"], [\"female\"], [\"female\"], [\"male\"], [\"female\"], [\"female\"], [\"female\"], [\"female\"], [\"female\"], [\"male\"], [\"male\"], [\"female\"], [\"male\"], [\"male\"], [\"male\"], [\"female\"], [\"female\"], [\"female\"], [\"female\"], [\"male\"], [\"female\"], [\"female\"], [\"female\"], [\"male\"], [\"female\"], [\"male\"], [\"male\"], [\"male\"], [\"male\"], [\"male\"], [\"female\"], [\"male\"], [\"female\"], [\"female\"], [\"female\"], [\"male\"], [\"male\"], [\"female\"], [\"male\"], [\"male\"], [\"female\"], [\"male\"], [\"male\"], [\"female\"], [\"male\"], [\"male\"], [\"male\"], [\"male\"], [\"female\"], [\"male\"], [\"female\"], [\"male\"], [\"female\"], [\"female\"], [\"female\"], [\"male\"], [\"female\"], [\"female\"], [\"female\"]], \"hoverlabel\": {\"namelength\": 0}, \"hovertemplate\": \"smoker=no<br>age=%{x}<br>charges=%{y}<br>sex=%{customdata[0]}\", \"legendgroup\": \"smoker=no\", \"marker\": {\"color\": \"#EF553B\", \"opacity\": 0.8, \"size\": 5, \"symbol\": \"circle\"}, \"mode\": \"markers\", \"name\": \"smoker=no\", \"showlegend\": true, \"type\": \"scattergl\", \"x\": [18, 28, 33, 32, 31, 46, 37, 37, 60, 25, 23, 56, 19, 52, 23, 56, 60, 30, 18, 37, 59, 63, 55, 23, 18, 19, 63, 19, 62, 26, 24, 31, 41, 37, 38, 55, 18, 28, 60, 18, 21, 40, 58, 34, 43, 25, 64, 28, 19, 61, 40, 40, 31, 53, 58, 44, 57, 29, 21, 22, 41, 31, 45, 48, 56, 46, 55, 21, 53, 35, 28, 54, 55, 41, 30, 18, 34, 19, 26, 29, 54, 55, 37, 21, 52, 60, 58, 49, 37, 44, 18, 20, 47, 26, 52, 38, 59, 61, 53, 19, 20, 22, 19, 22, 54, 22, 34, 26, 29, 29, 51, 53, 19, 35, 48, 32, 40, 44, 50, 54, 32, 37, 47, 20, 32, 19, 27, 63, 49, 18, 35, 24, 38, 54, 46, 41, 58, 18, 22, 44, 44, 26, 30, 41, 29, 61, 36, 25, 56, 18, 19, 39, 45, 51, 64, 19, 48, 60, 46, 28, 59, 63, 40, 20, 40, 24, 34, 45, 41, 53, 27, 26, 24, 34, 53, 32, 55, 28, 58, 41, 47, 42, 59, 19, 59, 39, 18, 31, 44, 33, 55, 40, 54, 60, 24, 19, 29, 27, 55, 38, 51, 58, 53, 59, 45, 49, 18, 41, 50, 25, 47, 19, 22, 59, 51, 30, 55, 52, 46, 46, 63, 52, 28, 29, 22, 25, 18, 48, 36, 56, 28, 57, 29, 28, 30, 58, 41, 50, 19, 49, 52, 50, 54, 44, 32, 34, 26, 57, 29, 40, 27, 52, 61, 56, 43, 64, 60, 62, 46, 24, 62, 60, 63, 49, 34, 33, 46, 36, 19, 57, 50, 30, 33, 18, 46, 46, 47, 23, 18, 48, 35, 21, 21, 49, 56, 42, 44, 18, 61, 57, 42, 20, 64, 62, 55, 35, 44, 19, 58, 50, 26, 24, 48, 19, 48, 49, 46, 46, 43, 21, 64, 18, 51, 47, 64, 49, 31, 52, 33, 47, 38, 32, 19, 25, 19, 43, 52, 64, 25, 48, 45, 38, 18, 21, 27, 19, 29, 42, 60, 31, 60, 22, 35, 52, 26, 31, 18, 59, 45, 60, 56, 40, 35, 39, 30, 24, 20, 32, 59, 55, 57, 56, 40, 49, 62, 56, 19, 60, 56, 28, 18, 27, 18, 19, 47, 25, 21, 23, 63, 49, 18, 51, 48, 31, 54, 19, 53, 19, 61, 18, 61, 20, 31, 45, 44, 62, 43, 38, 37, 22, 21, 24, 57, 56, 27, 51, 19, 58, 20, 45, 35, 31, 50, 32, 51, 38, 18, 19, 51, 46, 18, 62, 59, 37, 64, 38, 33, 46, 46, 53, 34, 20, 63, 54, 28, 54, 25, 63, 32, 62, 52, 25, 28, 46, 34, 19, 46, 54, 27, 50, 18, 19, 38, 41, 49, 31, 18, 30, 62, 57, 58, 22, 52, 25, 59, 19, 39, 32, 19, 33, 21, 61, 38, 58, 47, 20, 41, 46, 42, 34, 43, 52, 18, 51, 56, 64, 51, 27, 28, 47, 38, 18, 34, 20, 56, 55, 30, 49, 59, 29, 36, 33, 58, 53, 24, 29, 40, 51, 64, 19, 35, 56, 33, 61, 23, 43, 48, 39, 40, 18, 58, 49, 53, 48, 45, 59, 26, 27, 48, 57, 37, 57, 32, 18, 49, 40, 30, 29, 36, 41, 45, 55, 56, 49, 21, 19, 53, 33, 53, 42, 40, 47, 21, 47, 20, 24, 27, 26, 53, 56, 23, 21, 50, 53, 34, 47, 33, 49, 31, 36, 18, 50, 43, 20, 24, 60, 49, 60, 51, 58, 51, 53, 62, 19, 50, 41, 18, 41, 53, 24, 48, 59, 49, 26, 45, 31, 50, 50, 34, 19, 47, 28, 21, 64, 58, 24, 31, 39, 30, 22, 23, 27, 45, 57, 47, 42, 64, 38, 61, 53, 44, 41, 51, 40, 45, 35, 53, 18, 51, 31, 35, 60, 21, 29, 62, 39, 19, 22, 39, 30, 30, 58, 42, 64, 21, 23, 45, 40, 19, 18, 25, 46, 33, 54, 28, 36, 20, 24, 23, 45, 26, 18, 44, 60, 64, 39, 63, 36, 28, 58, 36, 42, 36, 56, 35, 59, 21, 59, 53, 51, 23, 27, 55, 61, 53, 20, 25, 57, 38, 55, 36, 51, 40, 18, 57, 61, 25, 50, 26, 42, 43, 44, 23, 49, 33, 41, 37, 22, 23, 21, 25, 36, 22, 57, 36, 54, 62, 61, 19, 18, 19, 49, 26, 49, 60, 26, 27, 44, 63, 22, 59, 44, 33, 24, 61, 35, 62, 62, 38, 34, 43, 50, 19, 57, 62, 41, 26, 39, 46, 45, 32, 59, 44, 39, 18, 53, 18, 50, 18, 19, 62, 56, 42, 42, 57, 30, 31, 24, 48, 19, 29, 63, 46, 52, 35, 44, 21, 39, 50, 34, 22, 19, 26, 48, 26, 45, 36, 54, 34, 27, 20, 44, 43, 45, 34, 26, 38, 50, 38, 39, 39, 63, 33, 36, 24, 48, 47, 29, 28, 25, 51, 48, 61, 48, 38, 59, 19, 26, 54, 21, 51, 18, 47, 21, 23, 54, 37, 30, 61, 54, 22, 19, 18, 28, 55, 43, 25, 44, 64, 49, 27, 55, 48, 45, 24, 32, 24, 57, 36, 29, 42, 48, 39, 63, 54, 63, 21, 54, 60, 32, 47, 21, 63, 18, 32, 38, 32, 62, 55, 57, 52, 56, 55, 23, 50, 18, 22, 52, 25, 53, 29, 58, 37, 54, 49, 50, 26, 45, 54, 28, 23, 55, 41, 30, 46, 27, 63, 55, 35, 34, 19, 39, 27, 57, 52, 28, 50, 44, 26, 33, 50, 41, 52, 39, 50, 52, 20, 55, 42, 18, 58, 35, 48, 36, 23, 20, 32, 43, 34, 30, 18, 41, 35, 57, 29, 32, 37, 56, 38, 29, 22, 40, 23, 42, 24, 25, 48, 45, 62, 23, 31, 41, 58, 48, 31, 19, 41, 40, 31, 37, 46, 22, 51, 35, 59, 59, 36, 39, 18, 52, 27, 18, 40, 29, 38, 30, 40, 50, 41, 33, 38, 42, 56, 58, 54, 58, 45, 26, 63, 58, 37, 25, 22, 28, 18, 28, 45, 33, 18, 19, 40, 34, 42, 51, 54, 55, 52, 32, 28, 41, 43, 49, 55, 20, 45, 26, 25, 43, 35, 57, 22, 32, 25, 48, 18, 47, 28, 36, 44, 38, 21, 46, 58, 20, 18, 28, 33, 19, 25, 24, 41, 42, 33, 34, 18, 19, 18, 35, 39, 31, 62, 31, 61, 42, 51, 23, 52, 57, 23, 52, 50, 18, 18, 21], \"xaxis\": \"x\", \"y\": [1725.5523, 4449.462, 21984.47061, 3866.8552, 3756.6216, 8240.5896, 7281.5056, 6406.4107, 28923.136919999997, 2721.3208, 1826.8429999999998, 11090.7178, 1837.237, 10797.3362, 2395.17155, 10602.385, 13228.84695, 4149.736, 1137.011, 6203.90175, 14001.1338, 14451.83515, 12268.63225, 2775.19215, 2198.18985, 4687.7970000000005, 13770.0979, 1625.43375, 15612.19335, 2302.3, 3046.062, 4949.7587, 6272.4772, 6313.759, 6079.6715, 20630.28351, 3393.35635, 3556.9223, 12629.8967, 2211.13075, 3579.8287, 8059.6791, 13607.36875, 5989.52365, 8606.2174, 4504.6624, 30166.618169999998, 4133.64165, 1743.214, 14235.072, 6389.37785, 5920.1041, 6799.4580000000005, 11741.726, 11946.6259, 7726.854, 11356.6609, 3947.4131, 1532.4697, 2755.02095, 6571.02435, 4441.21315, 7935.29115, 11033.6617, 11073.176000000001, 8026.6666, 11082.5772, 2026.9741, 10942.13205, 5729.0053, 3766.8838, 12105.32, 10226.2842, 6186.1269999999995, 3645.0894, 21344.8467, 5003.853, 2331.519, 3877.30425, 2867.1196, 10825.2537, 11881.358, 4646.759, 2404.7338, 11488.31695, 30259.995560000003, 11381.3254, 8601.3293, 6686.4313, 7740.3369999999995, 1705.6245, 2257.47525, 10115.00885, 3385.39915, 9634.538, 6082.405, 12815.44495, 13616.3586, 11163.568000000001, 1632.56445, 2457.21115, 2155.6815, 1261.442, 2045.68525, 27322.733860000004, 2166.732, 27375.90478, 3490.5491, 18157.876, 5138.2567, 9877.6077, 10959.6947, 1842.519, 5125.2157, 7789.635, 6334.34355, 7077.1894, 6948.7008, 19749.383380000003, 10450.552, 5152.134, 5028.1466, 10407.08585, 4830.63, 6128.79745, 2719.27975, 4827.90495, 13405.3903, 8116.68, 1694.7964, 5246.047, 2855.43755, 6455.86265, 10436.096, 8823.279, 8538.28845, 11735.87905, 1631.8212, 4005.4225, 7419.4779, 7731.4271, 3981.9768, 5325.651, 6775.960999999999, 4922.9159, 12557.6053, 4883.866, 2137.6536, 12044.341999999999, 1137.4697, 1639.5631, 5649.715, 8516.829, 9644.2525, 14901.5167, 2130.6759, 8871.1517, 13012.20865, 7147.105, 4337.7352, 11743.298999999999, 13880.948999999999, 6610.1097, 1980.07, 8162.71625, 3537.703, 5002.7827, 8520.026, 7371.772, 10355.641, 2483.736, 3392.9768, 25081.76784, 5012.471, 10564.8845, 5253.524, 11987.1682, 2689.4954, 24227.33724, 7358.17565, 9225.2564, 7443.64305, 14001.2867, 1727.785, 12333.828000000001, 6710.1919, 1615.7667, 4463.2051, 7152.6714, 5354.07465, 35160.13457, 7196.866999999999, 24476.47851, 12648.7034, 1986.9334, 1832.094, 4040.55825, 4260.744000000001, 13047.33235, 5400.9805, 11520.09985, 11837.16, 20462.99766, 14590.63205, 7441.053000000001, 9282.4806, 1719.4363, 7265.7025, 9617.66245, 2523.1695, 9715.841, 2803.69785, 2150.469, 12928.7911, 9855.1314, 4237.12655, 11879.10405, 9625.92, 7742.1098, 9432.9253, 14256.1928, 25992.82104, 3172.018, 20277.80751, 2156.7518, 3906.127, 1704.5681, 9249.4952, 6746.7425, 12265.5069, 4349.462, 12646.207, 19442.3535, 20177.671130000002, 4151.0287, 11944.59435, 7749.1564, 8444.474, 1737.376, 8124.4084, 9722.7695, 8835.26495, 10435.06525, 7421.19455, 4667.60765, 4894.7533, 24671.66334, 11566.30055, 2866.091, 6600.20595, 3561.8889, 9144.565, 13429.0354, 11658.37915, 19144.57652, 13822.803, 12142.5786, 13937.6665, 8232.6388, 18955.22017, 13352.0998, 13217.0945, 13981.85035, 10977.2063, 6184.2994, 4889.9995, 8334.45755, 5478.0368, 1635.73365, 11830.6072, 8932.084, 3554.203, 12404.8791, 14133.03775, 24603.04837, 8944.1151, 9620.3307, 1837.2819, 1607.5101, 10043.249, 4751.07, 2597.779, 3180.5101, 9778.3472, 13430.265, 8017.06115, 8116.26885, 3481.868, 13415.0381, 12029.2867, 7639.41745, 1391.5287, 16455.70785, 27000.98473, 20781.48892, 5846.9176, 8302.53565, 1261.859, 11856.4115, 30284.642939999998, 3176.8159, 4618.0799, 10736.87075, 2138.0707, 8964.06055, 9290.1395, 9411.005, 7526.70645, 8522.003, 16586.49771, 14988.431999999999, 1631.6683, 9264.796999999999, 8083.9198, 14692.66935, 10269.46, 3260.199, 11396.9002, 4185.0979, 8539.671, 6652.5288, 4074.4537, 1621.3402, 5080.096, 2134.9015, 7345.7266, 9140.951, 14418.2804, 2727.3951, 8968.33, 9788.8659, 6555.07035, 7323.734818999999, 3167.45585, 18804.7524, 23082.95533, 4906.40965, 5969.723000000001, 12638.195, 4243.59005, 13919.8229, 2254.7967, 5926.846, 12592.5345, 2897.3235, 4738.2682, 1149.3959, 28287.897660000002, 7345.084, 12730.9996, 11454.0215, 5910.944, 4762.329000000001, 7512.267, 4032.2407, 1969.614, 1769.53165, 4686.3887, 21797.0004, 11881.9696, 11840.77505, 10601.412, 7682.67, 10381.4787, 15230.32405, 11165.41765, 1632.03625, 13224.693000000001, 12643.3778, 23288.9284, 2201.0971, 2497.0383, 2203.47185, 1744.465, 20878.78443, 2534.39375, 1534.3045, 1824.2854, 15555.18875, 9304.7019, 1622.1885, 9880.068000000001, 9563.029, 4347.02335, 12475.3513, 1253.9360000000001, 10461.9794, 1748.774, 24513.09126, 2196.4732, 12574.048999999999, 1967.0227, 4931.647, 8027.968000000001, 8211.1002, 13470.86, 6837.3687, 5974.3847, 6796.86325, 2643.2685, 3077.0955, 3044.2133, 11455.28, 11763.0009, 2498.4144, 9361.3268, 1256.299, 11362.755, 27724.28875, 8413.46305, 5240.765, 3857.75925, 25656.575259999998, 3994.1778, 9866.30485, 5397.6167, 11482.63485, 24059.68019, 9861.025, 8342.90875, 1708.0014, 14043.4767, 12925.886, 19214.705530000003, 13831.1152, 6067.12675, 5972.378000000001, 8825.086, 8233.0975, 27346.04207, 6196.448, 3056.3881, 13887.204, 10231.4999, 3268.84665, 11538.421, 3213.62205, 13390.559, 3972.9247, 12957.118, 11187.6567, 17878.900680000002, 3847.6740000000004, 8334.5896, 3935.1799, 1646.4297, 9193.8385, 10923.9332, 2494.022, 9058.7303, 2801.2588, 2128.43105, 6373.55735, 7256.7231, 11552.903999999999, 3761.292, 2219.4451, 4753.6368, 31620.001060000002, 13224.05705, 12222.8983, 1664.9996, 9724.53, 3206.49135, 12913.9924, 1639.5631, 6356.2707, 17626.23951, 1242.816, 4779.6023, 3861.20965, 13635.6379, 5976.8311, 11842.442, 8428.0693, 2566.4707, 5709.1644, 8823.98575, 7640.3092, 5594.8455, 7441.501, 33471.97189, 1633.0444, 9174.13565, 11070.535, 16085.1275, 9283.562, 3558.62025, 4435.0942, 8547.6913, 6571.544, 2207.69745, 6753.0380000000005, 1880.07, 11658.11505, 10713.643999999998, 3659.3459999999995, 9182.17, 12129.61415, 3736.4647, 6748.5912, 11326.71487, 11365.952, 10085.846, 1977.815, 3366.6697, 7173.35995, 9391.346, 14410.9321, 2709.1119, 24915.04626, 12949.1554, 6666.243, 13143.86485, 4466.6214, 18806.14547, 10141.1362, 6123.5688, 8252.2843, 1712.227, 12430.95335, 9800.8882, 10579.711000000001, 8280.6227, 8527.532, 12244.531, 3410.324, 4058.71245, 26392.260290000002, 14394.39815, 6435.6237, 22192.43711, 5148.5526, 1136.3994, 8703.456, 6500.2359, 4837.5823, 3943.5954, 4399.731, 6185.3208, 7222.78625, 12485.8009, 12363.546999999999, 10156.7832, 2585.269, 1242.26, 9863.4718, 4766.022, 11244.3769, 7729.64575, 5438.7491, 26236.57997, 2104.1134, 8068.185, 2362.22905, 2352.96845, 3577.9990000000003, 3201.24515, 29186.48236, 10976.24575, 3500.6123, 2020.5523, 9541.69555, 9504.3103, 5385.3379, 8930.93455, 5375.0380000000005, 10264.4421, 6113.23105, 5469.0066, 1727.54, 10107.2206, 8310.83915, 1984.4533, 2457.502, 12146.971000000001, 9566.9909, 13112.6048, 10848.1343, 12231.6136, 9875.6804, 11264.541000000001, 12979.358, 1263.249, 10106.13425, 6664.68595, 2217.6012, 6781.3542, 10065.413, 4234.927, 9447.25035, 14007.222, 9583.8933, 3484.3309999999997, 8604.48365, 3757.8448, 8827.2099, 9910.35985, 11737.84884, 1627.28245, 8556.907, 3062.50825, 1906.35825, 14210.53595, 11833.7823, 17128.42608, 5031.26955, 7985.815, 5428.7277, 3925.7582, 2416.955, 3070.8087, 9095.06825, 11842.62375, 8062.764, 7050.642, 14319.031, 6933.24225, 27941.28758, 11150.78, 12797.20962, 7261.741, 10560.4917, 6986.696999999999, 7448.40395, 5934.3798, 9869.8102, 1146.7966, 9386.1613, 4350.5144, 6414.178000000001, 12741.16745, 1917.3184, 5209.57885, 13457.9608, 5662.225, 1252.407, 2731.9122, 7209.4918, 4266.1658, 4719.52405, 11848.141000000001, 7046.7222, 14313.8463, 2103.08, 1815.8759, 7731.85785, 28476.734989999997, 2136.88225, 1131.5066, 3309.7926, 9414.92, 6360.9936, 11013.7119, 4428.88785, 5584.3057, 1877.9294, 2842.76075, 3597.5959999999995, 7445.918000000001, 2680.9493, 1621.8827, 8219.2039, 12523.6048, 16069.08475, 6117.4945, 13393.756000000001, 5266.3656, 4719.73655, 11743.9341, 5377.4578, 7160.3303, 4402.233, 11657.7189, 6402.29135, 12622.1795, 1526.3120000000001, 12323.936000000002, 10072.05505, 9872.701, 2438.0552, 2974.1259999999997, 10601.63225, 14119.62, 11729.6795, 1875.344, 18218.16139, 10965.446000000002, 7151.092, 12269.68865, 5458.04645, 8782.469000000001, 6600.361, 1141.4451, 11576.13, 13129.60345, 4391.652, 8457.818000000001, 3392.3652, 5966.8874, 6849.026, 8891.1395, 2690.1138, 26140.3603, 6653.7886, 6282.235, 6311.951999999999, 3443.0640000000003, 2789.0574, 2585.85065, 4877.98105, 5272.1758, 1682.5970000000002, 11945.1327, 7243.8136, 10422.91665, 13555.0049, 13063.883, 2221.56445, 1634.5734, 2117.33885, 8688.85885, 4661.28635, 8125.7845, 12644.589, 4564.19145, 4846.92015, 7633.7206, 15170.069, 2639.0429, 14382.70905, 7626.993, 5257.50795, 2473.3341, 13041.921, 5245.2269, 13451.122, 13462.52, 5488.262, 4320.41085, 6250.435, 25333.33284, 2913.5690000000004, 12032.326000000001, 13470.8044, 6289.7549, 2927.0647, 6238.298000000001, 10096.97, 7348.142, 4673.3922, 12233.828000000001, 32108.662819999998, 8965.79575, 2304.0022, 9487.6442, 1121.8739, 9549.5651, 2217.46915, 1628.4709, 12982.8747, 11674.13, 7160.094, 6358.77645, 11534.87265, 4527.18295, 3875.7341, 12609.88702, 28468.91901, 2730.10785, 3353.284, 14474.675, 9500.57305, 26467.09737, 4746.344, 7518.02535, 3279.86855, 8596.8278, 10702.6424, 4992.3764, 2527.81865, 1759.338, 2322.6218, 7804.1605, 2902.9065, 9704.66805, 4889.0368, 25517.11363, 4500.33925, 16796.41194, 4915.05985, 7624.63, 8410.04685, 28340.18885, 4518.82625, 3378.91, 7144.86265, 10118.424, 5484.4673, 7986.47525, 7418.522, 13887.9685, 6551.7501, 5267.81815, 1972.95, 21232.182259999998, 8627.5411, 4433.3877, 4438.2634, 23241.47453, 9957.7216, 8269.044, 36580.28216, 8765.249, 5383.536, 12124.9924, 2709.24395, 3987.926, 12495.29085, 26018.95052, 8798.593, 1711.0268, 8569.8618, 2020.1770000000001, 21595.38229, 9850.431999999999, 6877.9801, 4137.5227, 12950.0712, 12094.478000000001, 2250.8352, 22493.65964, 1704.70015, 3161.454, 11394.06555, 7325.0482, 3594.17085, 8023.13545, 14394.5579, 9288.0267, 3353.4703, 10594.50155, 8277.523000000001, 17929.303369999998, 2480.9791, 4462.7218, 1981.5819, 11554.2236, 6548.19505, 5708.866999999999, 7045.499, 8978.1851, 5757.41345, 14349.8544, 10928.848999999998, 13974.45555, 1909.52745, 12096.6512, 13204.28565, 4562.8421, 8551.347, 2102.2647, 15161.5344, 11884.04858, 4454.40265, 5855.9025, 4076.4970000000003, 15019.76005, 10796.35025, 11353.2276, 9748.9106, 10577.087, 11286.5387, 3591.48, 11299.343, 4561.1885, 1674.6323, 23045.56616, 3227.1211, 11253.421, 3471.4096, 11363.2832, 20420.60465, 10338.9316, 8988.15875, 10493.9458, 2904.0879999999997, 8605.3615, 11512.405, 5312.16985, 2396.0959, 10807.4863, 9222.4026, 5693.4305, 8347.1643, 18903.49141, 14254.6082, 10214.636, 5836.5204, 14358.36437, 1728.8970000000002, 8582.3023, 3693.428, 20709.02034, 9991.03765, 19673.335730000003, 11085.5868, 7623.518, 3176.2877, 3704.3545, 9048.0273, 7954.517, 27117.99378, 6338.0756, 9630.396999999999, 11289.10925, 2261.5688, 10791.96, 5979.731, 2203.73595, 12235.8392, 5630.45785, 11015.1747, 7228.21565, 14426.07385, 2459.7201, 3989.841, 7727.2532, 5124.1887, 18963.171919999997, 2200.83085, 7153.5539, 5227.98875, 10982.5013, 4529.477, 4670.64, 6112.35295, 11093.6229, 6457.8434, 4433.9159, 2154.361, 6496.8859999999995, 2899.48935, 7650.77375, 2850.68375, 2632.992, 9447.3824, 8603.8234, 13844.7972, 13126.67745, 5327.40025, 13725.47184, 13019.16105, 8671.19125, 4134.08245, 18838.70366, 5699.8375, 6393.60345, 4934.705, 6198.7518, 8733.22925, 2055.3249, 9964.06, 5116.5004, 36910.60803, 12347.171999999999, 5373.36425, 23563.016180000002, 1702.4553, 10806.839, 3956.07145, 12890.05765, 5415.6612, 4058.1161, 7537.1639, 4718.20355, 6593.5083, 8442.667, 6858.4796, 4795.6568, 6640.54485, 7162.0122, 10594.2257, 11938.25595, 12479.70895, 11345.518999999998, 8515.7587, 2699.56835, 14449.8544, 12224.35085, 6985.50695, 3238.4357, 4296.2712, 3171.6149, 1135.9407, 5615.369000000001, 9101.798, 6059.173000000001, 1633.9618, 1241.565, 15828.821730000001, 4415.1588, 6474.013000000001, 11436.73815, 11305.93455, 30063.58055, 10197.7722, 4544.2348, 3277.1609999999996, 6770.1925, 7337.7480000000005, 10370.91255, 10704.47, 1880.487, 8615.3, 3292.52985, 3021.80915, 14478.33015, 4747.0529, 10959.33, 2741.948, 4357.04365, 4189.1131, 8283.6807, 1720.3537, 8534.6718, 3732.6251, 5472.4490000000005, 7147.4728, 7133.9025, 1515.3449, 9301.89355, 11931.12525, 1964.78, 1708.92575, 4340.4409, 5261.46945, 2710.82855, 3208.7870000000003, 2464.6188, 6875.960999999999, 6940.90985, 4571.41305, 4536.259, 11272.331390000001, 1731.6770000000001, 1163.4627, 19496.71917, 7201.70085, 5425.02335, 12981.3457, 4239.89265, 13143.33665, 7050.0213, 9377.9047, 22395.74424, 10325.206, 12629.1656, 10795.937329999999, 11411.685, 10600.5483, 2205.9808, 1629.8335, 2007.945], \"yaxis\": \"y\"}],\n",
              "                        {\"legend\": {\"tracegroupgap\": 0}, \"template\": {\"data\": {\"bar\": [{\"error_x\": {\"color\": \"#2a3f5f\"}, \"error_y\": {\"color\": \"#2a3f5f\"}, \"marker\": {\"line\": {\"color\": \"#E5ECF6\", \"width\": 0.5}}, \"type\": \"bar\"}], \"barpolar\": [{\"marker\": {\"line\": {\"color\": \"#E5ECF6\", \"width\": 0.5}}, \"type\": \"barpolar\"}], \"carpet\": [{\"aaxis\": {\"endlinecolor\": \"#2a3f5f\", \"gridcolor\": \"white\", \"linecolor\": \"white\", \"minorgridcolor\": \"white\", \"startlinecolor\": \"#2a3f5f\"}, \"baxis\": {\"endlinecolor\": \"#2a3f5f\", \"gridcolor\": \"white\", \"linecolor\": \"white\", \"minorgridcolor\": \"white\", \"startlinecolor\": \"#2a3f5f\"}, \"type\": \"carpet\"}], \"choropleth\": [{\"colorbar\": {\"outlinewidth\": 0, \"ticks\": \"\"}, \"type\": \"choropleth\"}], \"contour\": [{\"colorbar\": {\"outlinewidth\": 0, \"ticks\": \"\"}, \"colorscale\": [[0.0, \"#0d0887\"], [0.1111111111111111, \"#46039f\"], [0.2222222222222222, \"#7201a8\"], [0.3333333333333333, \"#9c179e\"], [0.4444444444444444, \"#bd3786\"], [0.5555555555555556, \"#d8576b\"], [0.6666666666666666, \"#ed7953\"], [0.7777777777777778, \"#fb9f3a\"], [0.8888888888888888, \"#fdca26\"], [1.0, \"#f0f921\"]], \"type\": \"contour\"}], \"contourcarpet\": [{\"colorbar\": {\"outlinewidth\": 0, \"ticks\": \"\"}, \"type\": \"contourcarpet\"}], \"heatmap\": [{\"colorbar\": {\"outlinewidth\": 0, \"ticks\": \"\"}, \"colorscale\": [[0.0, \"#0d0887\"], [0.1111111111111111, \"#46039f\"], [0.2222222222222222, \"#7201a8\"], [0.3333333333333333, \"#9c179e\"], [0.4444444444444444, \"#bd3786\"], [0.5555555555555556, \"#d8576b\"], [0.6666666666666666, \"#ed7953\"], [0.7777777777777778, \"#fb9f3a\"], [0.8888888888888888, \"#fdca26\"], [1.0, \"#f0f921\"]], \"type\": \"heatmap\"}], \"heatmapgl\": [{\"colorbar\": {\"outlinewidth\": 0, \"ticks\": \"\"}, \"colorscale\": [[0.0, \"#0d0887\"], [0.1111111111111111, \"#46039f\"], [0.2222222222222222, \"#7201a8\"], [0.3333333333333333, \"#9c179e\"], [0.4444444444444444, \"#bd3786\"], [0.5555555555555556, \"#d8576b\"], [0.6666666666666666, \"#ed7953\"], [0.7777777777777778, \"#fb9f3a\"], [0.8888888888888888, \"#fdca26\"], [1.0, \"#f0f921\"]], \"type\": \"heatmapgl\"}], \"histogram\": [{\"marker\": {\"colorbar\": {\"outlinewidth\": 0, \"ticks\": \"\"}}, \"type\": \"histogram\"}], \"histogram2d\": [{\"colorbar\": {\"outlinewidth\": 0, \"ticks\": \"\"}, \"colorscale\": [[0.0, \"#0d0887\"], [0.1111111111111111, \"#46039f\"], [0.2222222222222222, \"#7201a8\"], [0.3333333333333333, \"#9c179e\"], [0.4444444444444444, \"#bd3786\"], [0.5555555555555556, \"#d8576b\"], [0.6666666666666666, \"#ed7953\"], [0.7777777777777778, \"#fb9f3a\"], [0.8888888888888888, \"#fdca26\"], [1.0, \"#f0f921\"]], \"type\": \"histogram2d\"}], \"histogram2dcontour\": [{\"colorbar\": {\"outlinewidth\": 0, \"ticks\": \"\"}, \"colorscale\": [[0.0, \"#0d0887\"], [0.1111111111111111, \"#46039f\"], [0.2222222222222222, \"#7201a8\"], [0.3333333333333333, \"#9c179e\"], [0.4444444444444444, \"#bd3786\"], [0.5555555555555556, \"#d8576b\"], [0.6666666666666666, \"#ed7953\"], [0.7777777777777778, \"#fb9f3a\"], [0.8888888888888888, \"#fdca26\"], [1.0, \"#f0f921\"]], \"type\": \"histogram2dcontour\"}], \"mesh3d\": [{\"colorbar\": {\"outlinewidth\": 0, \"ticks\": \"\"}, \"type\": \"mesh3d\"}], \"parcoords\": [{\"line\": {\"colorbar\": {\"outlinewidth\": 0, \"ticks\": \"\"}}, \"type\": \"parcoords\"}], \"pie\": [{\"automargin\": true, \"type\": \"pie\"}], \"scatter\": [{\"marker\": {\"colorbar\": {\"outlinewidth\": 0, \"ticks\": \"\"}}, \"type\": \"scatter\"}], \"scatter3d\": [{\"line\": {\"colorbar\": {\"outlinewidth\": 0, \"ticks\": \"\"}}, \"marker\": {\"colorbar\": {\"outlinewidth\": 0, \"ticks\": \"\"}}, \"type\": \"scatter3d\"}], \"scattercarpet\": [{\"marker\": {\"colorbar\": {\"outlinewidth\": 0, \"ticks\": \"\"}}, \"type\": \"scattercarpet\"}], \"scattergeo\": [{\"marker\": {\"colorbar\": {\"outlinewidth\": 0, \"ticks\": \"\"}}, \"type\": \"scattergeo\"}], \"scattergl\": [{\"marker\": {\"colorbar\": {\"outlinewidth\": 0, \"ticks\": \"\"}}, \"type\": \"scattergl\"}], \"scattermapbox\": [{\"marker\": {\"colorbar\": {\"outlinewidth\": 0, \"ticks\": \"\"}}, \"type\": \"scattermapbox\"}], \"scatterpolar\": [{\"marker\": {\"colorbar\": {\"outlinewidth\": 0, \"ticks\": \"\"}}, \"type\": \"scatterpolar\"}], \"scatterpolargl\": [{\"marker\": {\"colorbar\": {\"outlinewidth\": 0, \"ticks\": \"\"}}, \"type\": \"scatterpolargl\"}], \"scatterternary\": [{\"marker\": {\"colorbar\": {\"outlinewidth\": 0, \"ticks\": \"\"}}, \"type\": \"scatterternary\"}], \"surface\": [{\"colorbar\": {\"outlinewidth\": 0, \"ticks\": \"\"}, \"colorscale\": [[0.0, \"#0d0887\"], [0.1111111111111111, \"#46039f\"], [0.2222222222222222, \"#7201a8\"], [0.3333333333333333, \"#9c179e\"], [0.4444444444444444, \"#bd3786\"], [0.5555555555555556, \"#d8576b\"], [0.6666666666666666, \"#ed7953\"], [0.7777777777777778, \"#fb9f3a\"], [0.8888888888888888, \"#fdca26\"], [1.0, \"#f0f921\"]], \"type\": \"surface\"}], \"table\": [{\"cells\": {\"fill\": {\"color\": \"#EBF0F8\"}, \"line\": {\"color\": \"white\"}}, \"header\": {\"fill\": {\"color\": \"#C8D4E3\"}, \"line\": {\"color\": \"white\"}}, \"type\": \"table\"}]}, \"layout\": {\"annotationdefaults\": {\"arrowcolor\": \"#2a3f5f\", \"arrowhead\": 0, \"arrowwidth\": 1}, \"coloraxis\": {\"colorbar\": {\"outlinewidth\": 0, \"ticks\": \"\"}}, \"colorscale\": {\"diverging\": [[0, \"#8e0152\"], [0.1, \"#c51b7d\"], [0.2, \"#de77ae\"], [0.3, \"#f1b6da\"], [0.4, \"#fde0ef\"], [0.5, \"#f7f7f7\"], [0.6, \"#e6f5d0\"], [0.7, \"#b8e186\"], [0.8, \"#7fbc41\"], [0.9, \"#4d9221\"], [1, \"#276419\"]], \"sequential\": [[0.0, \"#0d0887\"], [0.1111111111111111, \"#46039f\"], [0.2222222222222222, \"#7201a8\"], [0.3333333333333333, \"#9c179e\"], [0.4444444444444444, \"#bd3786\"], [0.5555555555555556, \"#d8576b\"], [0.6666666666666666, \"#ed7953\"], [0.7777777777777778, \"#fb9f3a\"], [0.8888888888888888, \"#fdca26\"], [1.0, \"#f0f921\"]], \"sequentialminus\": [[0.0, \"#0d0887\"], [0.1111111111111111, \"#46039f\"], [0.2222222222222222, \"#7201a8\"], [0.3333333333333333, \"#9c179e\"], [0.4444444444444444, \"#bd3786\"], [0.5555555555555556, \"#d8576b\"], [0.6666666666666666, \"#ed7953\"], [0.7777777777777778, \"#fb9f3a\"], [0.8888888888888888, \"#fdca26\"], [1.0, \"#f0f921\"]]}, \"colorway\": [\"#636efa\", \"#EF553B\", \"#00cc96\", \"#ab63fa\", \"#FFA15A\", \"#19d3f3\", \"#FF6692\", \"#B6E880\", \"#FF97FF\", \"#FECB52\"], \"font\": {\"color\": \"#2a3f5f\"}, \"geo\": {\"bgcolor\": \"white\", \"lakecolor\": \"white\", \"landcolor\": \"#E5ECF6\", \"showlakes\": true, \"showland\": true, \"subunitcolor\": \"white\"}, \"hoverlabel\": {\"align\": \"left\"}, \"hovermode\": \"closest\", \"mapbox\": {\"style\": \"light\"}, \"paper_bgcolor\": \"white\", \"plot_bgcolor\": \"#E5ECF6\", \"polar\": {\"angularaxis\": {\"gridcolor\": \"white\", \"linecolor\": \"white\", \"ticks\": \"\"}, \"bgcolor\": \"#E5ECF6\", \"radialaxis\": {\"gridcolor\": \"white\", \"linecolor\": \"white\", \"ticks\": \"\"}}, \"scene\": {\"xaxis\": {\"backgroundcolor\": \"#E5ECF6\", \"gridcolor\": \"white\", \"gridwidth\": 2, \"linecolor\": \"white\", \"showbackground\": true, \"ticks\": \"\", \"zerolinecolor\": \"white\"}, \"yaxis\": {\"backgroundcolor\": \"#E5ECF6\", \"gridcolor\": \"white\", \"gridwidth\": 2, \"linecolor\": \"white\", \"showbackground\": true, \"ticks\": \"\", \"zerolinecolor\": \"white\"}, \"zaxis\": {\"backgroundcolor\": \"#E5ECF6\", \"gridcolor\": \"white\", \"gridwidth\": 2, \"linecolor\": \"white\", \"showbackground\": true, \"ticks\": \"\", \"zerolinecolor\": \"white\"}}, \"shapedefaults\": {\"line\": {\"color\": \"#2a3f5f\"}}, \"ternary\": {\"aaxis\": {\"gridcolor\": \"white\", \"linecolor\": \"white\", \"ticks\": \"\"}, \"baxis\": {\"gridcolor\": \"white\", \"linecolor\": \"white\", \"ticks\": \"\"}, \"bgcolor\": \"#E5ECF6\", \"caxis\": {\"gridcolor\": \"white\", \"linecolor\": \"white\", \"ticks\": \"\"}}, \"title\": {\"x\": 0.05}, \"xaxis\": {\"automargin\": true, \"gridcolor\": \"white\", \"linecolor\": \"white\", \"ticks\": \"\", \"title\": {\"standoff\": 15}, \"zerolinecolor\": \"white\", \"zerolinewidth\": 2}, \"yaxis\": {\"automargin\": true, \"gridcolor\": \"white\", \"linecolor\": \"white\", \"ticks\": \"\", \"title\": {\"standoff\": 15}, \"zerolinecolor\": \"white\", \"zerolinewidth\": 2}}}, \"title\": {\"text\": \"Age vs. Charges\"}, \"xaxis\": {\"anchor\": \"y\", \"domain\": [0.0, 1.0], \"title\": {\"text\": \"age\"}}, \"yaxis\": {\"anchor\": \"x\", \"domain\": [0.0, 1.0], \"title\": {\"text\": \"charges\"}}},\n",
              "                        {\"responsive\": true}\n",
              "                    ).then(function(){\n",
              "                            \n",
              "var gd = document.getElementById('56bd0361-a323-48f9-af86-9d21db1f94c4');\n",
              "var x = new MutationObserver(function (mutations, observer) {{\n",
              "        var display = window.getComputedStyle(gd).display;\n",
              "        if (!display || display === 'none') {{\n",
              "            console.log([gd, 'removed!']);\n",
              "            Plotly.purge(gd);\n",
              "            observer.disconnect();\n",
              "        }}\n",
              "}});\n",
              "\n",
              "// Listen for the removal of the full notebook cells\n",
              "var notebookContainer = gd.closest('#notebook-container');\n",
              "if (notebookContainer) {{\n",
              "    x.observe(notebookContainer, {childList: true});\n",
              "}}\n",
              "\n",
              "// Listen for the clearing of the current output cell\n",
              "var outputEl = gd.closest('.output');\n",
              "if (outputEl) {{\n",
              "    x.observe(outputEl, {childList: true});\n",
              "}}\n",
              "\n",
              "                        })\n",
              "                };\n",
              "                \n",
              "            </script>\n",
              "        </div>\n",
              "</body>\n",
              "</html>"
            ]
          },
          "metadata": {
            "tags": []
          }
        }
      ]
    },
    {
      "cell_type": "code",
      "metadata": {
        "colab": {
          "base_uri": "https://localhost:8080/",
          "height": 542
        },
        "id": "uY73In3okhCI",
        "outputId": "226f222a-0163-454e-eae5-0c8db001387f"
      },
      "source": [
        "fig = px.scatter(medical_df, \n",
        "                 x='bmi', \n",
        "                 y='charges', \n",
        "                 color='smoker', \n",
        "                 opacity=0.8, \n",
        "                 hover_data=['sex'], \n",
        "                 title='BMI vs. Charges')\n",
        "fig.update_traces(marker_size=8)\n",
        "fig.show()"
      ],
      "execution_count": null,
      "outputs": [
        {
          "output_type": "display_data",
          "data": {
            "text/html": [
              "<html>\n",
              "<head><meta charset=\"utf-8\" /></head>\n",
              "<body>\n",
              "    <div>\n",
              "            <script src=\"https://cdnjs.cloudflare.com/ajax/libs/mathjax/2.7.5/MathJax.js?config=TeX-AMS-MML_SVG\"></script><script type=\"text/javascript\">if (window.MathJax) {MathJax.Hub.Config({SVG: {font: \"STIX-Web\"}});}</script>\n",
              "                <script type=\"text/javascript\">window.PlotlyConfig = {MathJaxConfig: 'local'};</script>\n",
              "        <script src=\"https://cdn.plot.ly/plotly-latest.min.js\"></script>    \n",
              "            <div id=\"ac73d1ee-c95d-4516-aefb-9b25e51ab6ba\" class=\"plotly-graph-div\" style=\"height:525px; width:100%;\"></div>\n",
              "            <script type=\"text/javascript\">\n",
              "                \n",
              "                    window.PLOTLYENV=window.PLOTLYENV || {};\n",
              "                    \n",
              "                if (document.getElementById(\"ac73d1ee-c95d-4516-aefb-9b25e51ab6ba\")) {\n",
              "                    Plotly.newPlot(\n",
              "                        'ac73d1ee-c95d-4516-aefb-9b25e51ab6ba',\n",
              "                        [{\"customdata\": [[\"female\"], [\"female\"], [\"male\"], [\"male\"], [\"female\"], [\"male\"], [\"male\"], [\"male\"], [\"male\"], [\"male\"], [\"male\"], [\"male\"], [\"male\"], [\"male\"], [\"male\"], [\"female\"], [\"female\"], [\"male\"], [\"female\"], [\"male\"], [\"female\"], [\"male\"], [\"female\"], [\"male\"], [\"female\"], [\"male\"], [\"male\"], [\"female\"], [\"male\"], [\"male\"], [\"female\"], [\"male\"], [\"female\"], [\"female\"], [\"male\"], [\"male\"], [\"male\"], [\"female\"], [\"male\"], [\"male\"], [\"male\"], [\"female\"], [\"female\"], [\"female\"], [\"male\"], [\"female\"], [\"male\"], [\"male\"], [\"male\"], [\"female\"], [\"male\"], [\"female\"], [\"female\"], [\"male\"], [\"female\"], [\"male\"], [\"male\"], [\"male\"], [\"male\"], [\"female\"], [\"male\"], [\"male\"], [\"male\"], [\"male\"], [\"male\"], [\"female\"], [\"male\"], [\"female\"], [\"male\"], [\"male\"], [\"male\"], [\"male\"], [\"female\"], [\"male\"], [\"female\"], [\"male\"], [\"male\"], [\"female\"], [\"female\"], [\"male\"], [\"male\"], [\"female\"], [\"male\"], [\"female\"], [\"female\"], [\"male\"], [\"female\"], [\"male\"], [\"female\"], [\"female\"], [\"female\"], [\"female\"], [\"male\"], [\"male\"], [\"male\"], [\"female\"], [\"male\"], [\"male\"], [\"female\"], [\"male\"], [\"male\"], [\"male\"], [\"female\"], [\"male\"], [\"male\"], [\"male\"], [\"male\"], [\"male\"], [\"male\"], [\"male\"], [\"female\"], [\"male\"], [\"female\"], [\"female\"], [\"male\"], [\"female\"], [\"female\"], [\"female\"], [\"female\"], [\"female\"], [\"male\"], [\"female\"], [\"male\"], [\"female\"], [\"male\"], [\"male\"], [\"female\"], [\"male\"], [\"male\"], [\"female\"], [\"female\"], [\"male\"], [\"female\"], [\"male\"], [\"female\"], [\"male\"], [\"male\"], [\"male\"], [\"male\"], [\"female\"], [\"female\"], [\"female\"], [\"male\"], [\"female\"], [\"male\"], [\"male\"], [\"male\"], [\"male\"], [\"female\"], [\"female\"], [\"male\"], [\"male\"], [\"female\"], [\"male\"], [\"female\"], [\"male\"], [\"male\"], [\"male\"], [\"female\"], [\"female\"], [\"female\"], [\"male\"], [\"male\"], [\"male\"], [\"female\"], [\"female\"], [\"female\"], [\"female\"], [\"female\"], [\"female\"], [\"female\"], [\"male\"], [\"female\"], [\"female\"], [\"male\"], [\"male\"], [\"female\"], [\"male\"], [\"female\"], [\"male\"], [\"female\"], [\"male\"], [\"female\"], [\"male\"], [\"male\"], [\"male\"], [\"male\"], [\"male\"], [\"male\"], [\"male\"], [\"male\"], [\"male\"], [\"male\"], [\"male\"], [\"female\"], [\"female\"], [\"male\"], [\"male\"], [\"male\"], [\"male\"], [\"female\"], [\"male\"], [\"male\"], [\"female\"], [\"female\"], [\"male\"], [\"male\"], [\"female\"], [\"female\"], [\"male\"], [\"female\"], [\"male\"], [\"male\"], [\"male\"], [\"male\"], [\"male\"], [\"male\"], [\"female\"], [\"male\"], [\"female\"], [\"female\"], [\"female\"], [\"male\"], [\"female\"], [\"male\"], [\"male\"], [\"female\"], [\"female\"], [\"female\"], [\"female\"], [\"male\"], [\"female\"], [\"male\"], [\"male\"], [\"female\"], [\"female\"], [\"male\"], [\"female\"], [\"male\"], [\"female\"], [\"female\"], [\"female\"], [\"male\"], [\"female\"], [\"female\"], [\"female\"], [\"male\"], [\"female\"], [\"male\"], [\"male\"], [\"male\"], [\"male\"], [\"male\"], [\"male\"], [\"male\"], [\"male\"], [\"male\"], [\"female\"], [\"female\"], [\"male\"], [\"male\"], [\"male\"], [\"male\"], [\"male\"], [\"male\"], [\"male\"], [\"female\"], [\"male\"], [\"female\"], [\"female\"], [\"female\"], [\"male\"], [\"female\"], [\"female\"]], \"hoverlabel\": {\"namelength\": 0}, \"hovertemplate\": \"smoker=yes<br>bmi=%{x}<br>charges=%{y}<br>sex=%{customdata[0]}\", \"legendgroup\": \"smoker=yes\", \"marker\": {\"color\": \"#636efa\", \"opacity\": 0.8, \"size\": 8, \"symbol\": \"circle\"}, \"mode\": \"markers\", \"name\": \"smoker=yes\", \"showlegend\": true, \"type\": \"scattergl\", \"x\": [27.9, 26.29, 42.13, 35.3, 31.92, 36.3, 35.6, 36.4, 36.67, 39.9, 35.2, 28.0, 34.43, 36.955, 31.68, 22.88, 22.42, 23.98, 24.75, 37.62, 34.8, 22.895, 31.16, 29.83, 31.3, 19.95, 19.3, 29.92, 28.025, 35.09, 27.94, 31.35, 28.3, 17.765, 25.3, 28.69, 30.495, 23.37, 24.42, 25.175, 35.53, 26.6, 36.85, 37.7, 41.895, 36.08, 27.74, 34.8, 24.64, 22.22, 29.07, 36.67, 27.74, 17.29, 32.2, 34.21, 31.825, 33.63, 31.92, 26.84, 24.32, 36.955, 42.35, 19.8, 34.2, 28.12, 40.565, 36.765, 45.54, 27.7, 25.41, 34.39, 22.61, 35.97, 31.4, 30.8, 36.48, 33.8, 36.385, 27.36, 32.3, 21.7, 32.9, 28.31, 24.89, 40.15, 17.955, 30.685, 20.235, 17.195, 22.6, 26.98, 33.88, 35.86, 32.775, 33.5, 26.695, 30.0, 28.38, 25.1, 28.31, 28.5, 38.06, 25.7, 34.4, 23.21, 30.25, 28.3, 26.07, 42.13, 47.41, 25.84, 46.2, 34.105, 40.565, 38.095, 30.21, 21.85, 28.31, 23.655, 37.8, 36.63, 25.6, 33.11, 34.1, 33.535, 38.95, 26.41, 28.31, 25.3, 22.99, 38.06, 32.775, 32.015, 43.89, 31.35, 35.3, 31.13, 35.75, 38.06, 39.05, 21.755, 24.42, 38.39, 31.73, 35.5, 29.15, 34.105, 26.4, 27.83, 38.17, 27.1, 28.88, 24.4, 27.6, 20.9, 28.5, 24.795, 42.24, 26.125, 35.53, 31.79, 28.025, 30.78, 32.78, 29.81, 32.45, 30.78, 35.53, 23.845, 33.11, 24.13, 47.6, 37.05, 28.93, 28.975, 26.885, 38.94, 20.045, 40.92, 24.6, 31.73, 26.885, 22.895, 34.2, 29.7, 42.9, 30.2, 27.835, 30.8, 34.96, 24.795, 22.895, 25.9, 20.52, 20.045, 22.99, 32.7, 28.215, 20.13, 31.02, 36.08, 26.03, 23.655, 35.2, 21.565, 37.07, 30.495, 28.025, 30.685, 24.7, 52.58, 30.9, 29.8, 41.14, 37.07, 31.68, 18.3, 36.19, 30.4, 34.96, 19.095, 38.39, 25.85, 33.33, 35.75, 31.4, 36.86, 42.75, 32.49, 32.8, 32.56, 44.88, 27.36, 26.7, 24.13, 29.81, 28.49, 35.625, 25.27, 30.02, 27.28, 33.4, 25.555, 34.6, 24.42, 34.485, 21.8, 41.8, 36.96, 33.63, 29.83, 27.3, 23.76, 31.065, 27.06, 29.925, 27.645, 21.66, 36.3, 39.4, 34.9, 30.36, 30.875, 27.8, 24.605, 21.85, 28.12, 30.2, 34.7, 23.655, 26.695, 40.37, 29.07], \"xaxis\": \"x\", \"y\": [16884.924, 27808.7251, 39611.7577, 36837.467000000004, 37701.8768, 38711.0, 35585.576, 51194.55914, 39774.2763, 48173.361, 38709.176, 23568.272, 37742.5757, 47496.49445, 34303.1672, 23244.7902, 14711.7438, 17663.1442, 16577.7795, 37165.1638, 39836.519, 21098.55405, 43578.9394, 30184.9367, 47291.055, 22412.6485, 15820.698999999999, 30942.1918, 17560.37975, 47055.5321, 19107.7796, 39556.4945, 17081.08, 32734.1863, 18972.495, 20745.9891, 40720.55105, 19964.7463, 21223.6758, 15518.18025, 36950.2567, 21348.706000000002, 36149.4835, 48824.45, 43753.33705, 37133.8982, 20984.0936, 34779.615, 19515.5416, 19444.2658, 17352.6803, 38511.6283, 29523.1656, 12829.4551, 47305.305, 44260.7499, 41097.16175, 43921.1837, 33750.2918, 17085.2676, 24869.8368, 36219.40545, 46151.1245, 17179.522, 42856.837999999996, 22331.5668, 48549.17835, 47896.79135, 42112.2356, 16297.846000000001, 21978.6769, 38746.3551, 24873.3849, 42124.5153, 34838.873, 35491.64, 42760.5022, 47928.03, 48517.56315, 24393.6224, 41919.097, 13844.506000000001, 36085.219, 18033.9679, 21659.9301, 38126.2465, 15006.57945, 42303.69215, 19594.80965, 14455.64405, 18608.262, 28950.4692, 46889.2612, 46599.1084, 39125.33225, 37079.372, 26109.32905, 22144.032000000003, 19521.9682, 25382.297000000002, 28868.6639, 35147.52848, 48885.135610000005, 17942.106, 36197.699, 22218.1149, 32548.3405, 21082.16, 38245.59327, 48675.5177, 63770.42801, 23807.2406, 45863.205, 39983.42595, 45702.02235, 58571.074479999996, 43943.8761, 15359.1045, 17468.9839, 25678.77845, 39241.442, 42969.8527, 23306.547000000002, 34439.8559, 40182.246, 34617.84065, 42983.4585, 20149.3229, 32787.458589999995, 24667.418999999998, 27037.9141, 42560.4304, 40003.33225, 45710.20785, 46200.9851, 46130.5265, 40103.89, 34806.4677, 40273.6455, 44400.4064, 40932.4295, 16657.71745, 19361.9988, 40419.0191, 36189.1017, 44585.45587, 18246.4955, 43254.41795, 19539.243000000002, 23065.4207, 36307.7983, 19040.876, 17748.5062, 18259.216, 24520.264, 21195.818, 18310.742, 17904.52705, 38792.6856, 23401.30575, 55135.402089999996, 43813.8661, 20773.62775, 39597.4072, 36021.0112, 27533.9129, 45008.9555, 37270.1512, 42111.6647, 24106.91255, 40974.1649, 15817.9857, 46113.511, 46255.1125, 19719.6947, 27218.43725, 29330.98315, 44202.6536, 19798.05455, 48673.5588, 17496.306, 33732.6867, 21774.32215, 35069.37452, 39047.285, 19933.458, 47462.894, 38998.546, 20009.63365, 41999.52, 41034.2214, 23967.38305, 16138.76205, 19199.944, 14571.8908, 16420.49455, 17361.7661, 34472.841, 24915.22085, 18767.7377, 35595.5898, 42211.1382, 16450.8947, 21677.28345, 44423.803, 13747.87235, 37484.4493, 39725.51805, 20234.85475, 33475.81715, 21880.82, 44501.3982, 39727.614, 25309.488999999998, 48970.2476, 39871.7043, 34672.1472, 19023.26, 41676.0811, 33907.547999999995, 44641.1974, 16776.30405, 41949.2441, 24180.9335, 36124.5737, 38282.7495, 34166.273, 46661.4424, 40904.1995, 36898.73308, 52590.82939, 40941.2854, 39722.7462, 17178.6824, 22478.6, 23887.6627, 19350.3689, 18328.2381, 37465.34375, 21771.3423, 33307.5508, 18223.4512, 38415.474, 20296.86345, 41661.602, 26125.674769999998, 60021.39897, 20167.336030000002, 47269.85400000001, 49577.6624, 37607.5277, 18648.4217, 16232.847, 26926.5144, 34254.05335, 17043.3414, 22462.04375, 24535.69855, 14283.4594, 47403.88, 38344.566, 34828.654, 62592.87309, 46718.16325, 37829.7242, 21259.37795, 16115.3045, 21472.4788, 33900.653, 36397.576, 18765.87545, 28101.33305, 43896.3763, 29141.3603], \"yaxis\": \"y\"}, {\"customdata\": [[\"male\"], [\"male\"], [\"male\"], [\"male\"], [\"female\"], [\"female\"], [\"female\"], [\"male\"], [\"female\"], [\"male\"], [\"male\"], [\"female\"], [\"male\"], [\"female\"], [\"male\"], [\"male\"], [\"female\"], [\"female\"], [\"male\"], [\"male\"], [\"female\"], [\"female\"], [\"female\"], [\"male\"], [\"female\"], [\"female\"], [\"male\"], [\"male\"], [\"female\"], [\"male\"], [\"female\"], [\"female\"], [\"male\"], [\"female\"], [\"male\"], [\"male\"], [\"female\"], [\"female\"], [\"female\"], [\"female\"], [\"female\"], [\"female\"], [\"female\"], [\"female\"], [\"male\"], [\"male\"], [\"male\"], [\"female\"], [\"female\"], [\"female\"], [\"male\"], [\"female\"], [\"male\"], [\"female\"], [\"male\"], [\"male\"], [\"male\"], [\"female\"], [\"male\"], [\"female\"], [\"female\"], [\"male\"], [\"female\"], [\"female\"], [\"female\"], [\"female\"], [\"female\"], [\"female\"], [\"female\"], [\"male\"], [\"female\"], [\"female\"], [\"male\"], [\"female\"], [\"male\"], [\"female\"], [\"female\"], [\"female\"], [\"male\"], [\"male\"], [\"male\"], [\"female\"], [\"male\"], [\"female\"], [\"male\"], [\"male\"], [\"male\"], [\"female\"], [\"female\"], [\"male\"], [\"male\"], [\"female\"], [\"female\"], [\"female\"], [\"female\"], [\"male\"], [\"female\"], [\"female\"], [\"female\"], [\"male\"], [\"female\"], [\"female\"], [\"male\"], [\"male\"], [\"female\"], [\"female\"], [\"male\"], [\"male\"], [\"male\"], [\"female\"], [\"female\"], [\"female\"], [\"male\"], [\"male\"], [\"male\"], [\"female\"], [\"female\"], [\"male\"], [\"female\"], [\"male\"], [\"female\"], [\"male\"], [\"male\"], [\"female\"], [\"female\"], [\"female\"], [\"male\"], [\"male\"], [\"male\"], [\"male\"], [\"female\"], [\"female\"], [\"male\"], [\"male\"], [\"female\"], [\"female\"], [\"male\"], [\"female\"], [\"male\"], [\"female\"], [\"male\"], [\"female\"], [\"female\"], [\"female\"], [\"female\"], [\"male\"], [\"female\"], [\"male\"], [\"female\"], [\"male\"], [\"male\"], [\"female\"], [\"female\"], [\"female\"], [\"female\"], [\"female\"], [\"female\"], [\"female\"], [\"male\"], [\"female\"], [\"male\"], [\"female\"], [\"male\"], [\"male\"], [\"male\"], [\"male\"], [\"female\"], [\"female\"], [\"female\"], [\"female\"], [\"male\"], [\"female\"], [\"female\"], [\"female\"], [\"female\"], [\"male\"], [\"male\"], [\"male\"], [\"female\"], [\"female\"], [\"male\"], [\"female\"], [\"female\"], [\"female\"], [\"male\"], [\"male\"], [\"female\"], [\"male\"], [\"male\"], [\"female\"], [\"female\"], [\"male\"], [\"male\"], [\"female\"], [\"male\"], [\"male\"], [\"male\"], [\"male\"], [\"female\"], [\"female\"], [\"male\"], [\"female\"], [\"female\"], [\"female\"], [\"male\"], [\"male\"], [\"male\"], [\"male\"], [\"male\"], [\"male\"], [\"female\"], [\"male\"], [\"female\"], [\"male\"], [\"female\"], [\"male\"], [\"female\"], [\"female\"], [\"male\"], [\"female\"], [\"female\"], [\"male\"], [\"female\"], [\"male\"], [\"female\"], [\"male\"], [\"male\"], [\"female\"], [\"male\"], [\"female\"], [\"female\"], [\"female\"], [\"male\"], [\"female\"], [\"female\"], [\"male\"], [\"female\"], [\"male\"], [\"female\"], [\"male\"], [\"male\"], [\"male\"], [\"male\"], [\"female\"], [\"male\"], [\"male\"], [\"female\"], [\"male\"], [\"male\"], [\"male\"], [\"female\"], [\"male\"], [\"female\"], [\"female\"], [\"female\"], [\"male\"], [\"male\"], [\"male\"], [\"female\"], [\"female\"], [\"male\"], [\"female\"], [\"male\"], [\"female\"], [\"female\"], [\"male\"], [\"male\"], [\"female\"], [\"male\"], [\"female\"], [\"female\"], [\"female\"], [\"male\"], [\"female\"], [\"male\"], [\"male\"], [\"male\"], [\"male\"], [\"female\"], [\"female\"], [\"male\"], [\"female\"], [\"female\"], [\"female\"], [\"female\"], [\"female\"], [\"male\"], [\"male\"], [\"female\"], [\"female\"], [\"female\"], [\"male\"], [\"female\"], [\"male\"], [\"male\"], [\"female\"], [\"male\"], [\"male\"], [\"female\"], [\"male\"], [\"female\"], [\"female\"], [\"male\"], [\"female\"], [\"male\"], [\"male\"], [\"female\"], [\"male\"], [\"female\"], [\"male\"], [\"male\"], [\"female\"], [\"female\"], [\"male\"], [\"female\"], [\"male\"], [\"male\"], [\"female\"], [\"female\"], [\"female\"], [\"male\"], [\"male\"], [\"male\"], [\"male\"], [\"female\"], [\"female\"], [\"male\"], [\"male\"], [\"male\"], [\"male\"], [\"male\"], [\"female\"], [\"female\"], [\"female\"], [\"female\"], [\"male\"], [\"female\"], [\"male\"], [\"female\"], [\"male\"], [\"male\"], [\"male\"], [\"male\"], [\"female\"], [\"male\"], [\"female\"], [\"male\"], [\"female\"], [\"female\"], [\"male\"], [\"female\"], [\"female\"], [\"male\"], [\"male\"], [\"male\"], [\"male\"], [\"male\"], [\"male\"], [\"male\"], [\"female\"], [\"female\"], [\"male\"], [\"female\"], [\"female\"], [\"female\"], [\"male\"], [\"male\"], [\"female\"], [\"female\"], [\"female\"], [\"female\"], [\"male\"], [\"female\"], [\"female\"], [\"female\"], [\"male\"], [\"male\"], [\"male\"], [\"male\"], [\"male\"], [\"female\"], [\"female\"], [\"male\"], [\"female\"], [\"female\"], [\"male\"], [\"male\"], [\"female\"], [\"female\"], [\"female\"], [\"male\"], [\"male\"], [\"female\"], [\"male\"], [\"female\"], [\"female\"], [\"male\"], [\"female\"], [\"male\"], [\"male\"], [\"male\"], [\"female\"], [\"female\"], [\"male\"], [\"male\"], [\"male\"], [\"male\"], [\"male\"], [\"male\"], [\"male\"], [\"female\"], [\"male\"], [\"female\"], [\"female\"], [\"female\"], [\"female\"], [\"female\"], [\"female\"], [\"female\"], [\"male\"], [\"male\"], [\"female\"], [\"male\"], [\"male\"], [\"male\"], [\"male\"], [\"female\"], [\"female\"], [\"female\"], [\"male\"], [\"female\"], [\"female\"], [\"female\"], [\"male\"], [\"male\"], [\"female\"], [\"female\"], [\"male\"], [\"female\"], [\"male\"], [\"female\"], [\"female\"], [\"male\"], [\"male\"], [\"male\"], [\"male\"], [\"female\"], [\"female\"], [\"male\"], [\"male\"], [\"female\"], [\"female\"], [\"female\"], [\"male\"], [\"female\"], [\"female\"], [\"female\"], [\"female\"], [\"female\"], [\"female\"], [\"female\"], [\"male\"], [\"male\"], [\"female\"], [\"male\"], [\"male\"], [\"male\"], [\"female\"], [\"male\"], [\"female\"], [\"male\"], [\"female\"], [\"female\"], [\"female\"], [\"male\"], [\"male\"], [\"male\"], [\"female\"], [\"female\"], [\"female\"], [\"male\"], [\"female\"], [\"female\"], [\"male\"], [\"female\"], [\"female\"], [\"female\"], [\"female\"], [\"male\"], [\"female\"], [\"female\"], [\"female\"], [\"female\"], [\"female\"], [\"female\"], [\"female\"], [\"male\"], [\"female\"], [\"male\"], [\"female\"], [\"male\"], [\"male\"], [\"male\"], [\"male\"], [\"male\"], [\"female\"], [\"male\"], [\"male\"], [\"male\"], [\"female\"], [\"female\"], [\"male\"], [\"male\"], [\"male\"], [\"female\"], [\"male\"], [\"male\"], [\"male\"], [\"female\"], [\"male\"], [\"female\"], [\"female\"], [\"female\"], [\"female\"], [\"female\"], [\"female\"], [\"female\"], [\"male\"], [\"female\"], [\"female\"], [\"male\"], [\"female\"], [\"female\"], [\"male\"], [\"male\"], [\"female\"], [\"male\"], [\"female\"], [\"male\"], [\"female\"], [\"male\"], [\"female\"], [\"male\"], [\"female\"], [\"female\"], [\"male\"], [\"male\"], [\"female\"], [\"male\"], [\"male\"], [\"male\"], [\"female\"], [\"male\"], [\"male\"], [\"male\"], [\"male\"], [\"female\"], [\"female\"], [\"female\"], [\"male\"], [\"female\"], [\"female\"], [\"female\"], [\"male\"], [\"female\"], [\"female\"], [\"female\"], [\"male\"], [\"female\"], [\"female\"], [\"male\"], [\"female\"], [\"female\"], [\"male\"], [\"female\"], [\"male\"], [\"female\"], [\"male\"], [\"female\"], [\"female\"], [\"female\"], [\"male\"], [\"male\"], [\"male\"], [\"female\"], [\"male\"], [\"female\"], [\"female\"], [\"male\"], [\"female\"], [\"female\"], [\"female\"], [\"female\"], [\"male\"], [\"male\"], [\"female\"], [\"male\"], [\"female\"], [\"male\"], [\"male\"], [\"female\"], [\"male\"], [\"male\"], [\"male\"], [\"female\"], [\"male\"], [\"male\"], [\"female\"], [\"male\"], [\"female\"], [\"male\"], [\"male\"], [\"female\"], [\"female\"], [\"male\"], [\"female\"], [\"female\"], [\"female\"], [\"male\"], [\"female\"], [\"female\"], [\"male\"], [\"male\"], [\"male\"], [\"male\"], [\"male\"], [\"male\"], [\"male\"], [\"male\"], [\"female\"], [\"female\"], [\"male\"], [\"male\"], [\"male\"], [\"female\"], [\"female\"], [\"male\"], [\"female\"], [\"female\"], [\"male\"], [\"female\"], [\"female\"], [\"female\"], [\"female\"], [\"male\"], [\"male\"], [\"female\"], [\"female\"], [\"female\"], [\"male\"], [\"male\"], [\"female\"], [\"female\"], [\"male\"], [\"male\"], [\"male\"], [\"female\"], [\"female\"], [\"male\"], [\"male\"], [\"male\"], [\"female\"], [\"female\"], [\"male\"], [\"female\"], [\"male\"], [\"male\"], [\"female\"], [\"female\"], [\"male\"], [\"male\"], [\"male\"], [\"male\"], [\"female\"], [\"female\"], [\"female\"], [\"male\"], [\"male\"], [\"male\"], [\"female\"], [\"male\"], [\"female\"], [\"male\"], [\"male\"], [\"female\"], [\"female\"], [\"female\"], [\"male\"], [\"female\"], [\"female\"], [\"female\"], [\"male\"], [\"male\"], [\"male\"], [\"male\"], [\"male\"], [\"female\"], [\"male\"], [\"female\"], [\"male\"], [\"male\"], [\"male\"], [\"female\"], [\"female\"], [\"male\"], [\"male\"], [\"female\"], [\"male\"], [\"male\"], [\"female\"], [\"male\"], [\"female\"], [\"male\"], [\"male\"], [\"female\"], [\"male\"], [\"male\"], [\"female\"], [\"male\"], [\"female\"], [\"female\"], [\"male\"], [\"male\"], [\"male\"], [\"female\"], [\"female\"], [\"male\"], [\"female\"], [\"male\"], [\"male\"], [\"female\"], [\"female\"], [\"male\"], [\"female\"], [\"female\"], [\"female\"], [\"female\"], [\"female\"], [\"male\"], [\"male\"], [\"male\"], [\"male\"], [\"female\"], [\"female\"], [\"female\"], [\"male\"], [\"male\"], [\"female\"], [\"male\"], [\"female\"], [\"male\"], [\"female\"], [\"male\"], [\"female\"], [\"male\"], [\"male\"], [\"male\"], [\"female\"], [\"female\"], [\"male\"], [\"male\"], [\"female\"], [\"male\"], [\"male\"], [\"male\"], [\"female\"], [\"male\"], [\"male\"], [\"male\"], [\"female\"], [\"female\"], [\"female\"], [\"male\"], [\"male\"], [\"male\"], [\"male\"], [\"male\"], [\"female\"], [\"female\"], [\"female\"], [\"female\"], [\"female\"], [\"male\"], [\"male\"], [\"male\"], [\"female\"], [\"female\"], [\"male\"], [\"male\"], [\"female\"], [\"male\"], [\"female\"], [\"male\"], [\"female\"], [\"male\"], [\"female\"], [\"female\"], [\"female\"], [\"male\"], [\"female\"], [\"female\"], [\"female\"], [\"female\"], [\"female\"], [\"male\"], [\"male\"], [\"male\"], [\"male\"], [\"male\"], [\"male\"], [\"male\"], [\"female\"], [\"female\"], [\"male\"], [\"female\"], [\"male\"], [\"female\"], [\"female\"], [\"female\"], [\"female\"], [\"male\"], [\"male\"], [\"female\"], [\"female\"], [\"male\"], [\"male\"], [\"female\"], [\"female\"], [\"male\"], [\"female\"], [\"male\"], [\"male\"], [\"male\"], [\"female\"], [\"male\"], [\"female\"], [\"female\"], [\"female\"], [\"male\"], [\"male\"], [\"female\"], [\"male\"], [\"female\"], [\"female\"], [\"female\"], [\"male\"], [\"male\"], [\"male\"], [\"male\"], [\"female\"], [\"female\"], [\"male\"], [\"male\"], [\"male\"], [\"female\"], [\"male\"], [\"male\"], [\"female\"], [\"female\"], [\"female\"], [\"female\"], [\"male\"], [\"male\"], [\"male\"], [\"male\"], [\"male\"], [\"male\"], [\"female\"], [\"male\"], [\"male\"], [\"male\"], [\"male\"], [\"female\"], [\"male\"], [\"female\"], [\"female\"], [\"male\"], [\"female\"], [\"female\"], [\"male\"], [\"male\"], [\"male\"], [\"male\"], [\"female\"], [\"female\"], [\"female\"], [\"male\"], [\"male\"], [\"female\"], [\"female\"], [\"male\"], [\"male\"], [\"male\"], [\"female\"], [\"male\"], [\"female\"], [\"female\"], [\"male\"], [\"female\"], [\"male\"], [\"female\"], [\"female\"], [\"male\"], [\"male\"], [\"female\"], [\"male\"], [\"female\"], [\"female\"], [\"female\"], [\"male\"], [\"male\"], [\"female\"], [\"female\"], [\"male\"], [\"male\"], [\"male\"], [\"female\"], [\"male\"], [\"male\"], [\"female\"], [\"female\"], [\"female\"], [\"female\"], [\"female\"], [\"female\"], [\"female\"], [\"female\"], [\"female\"], [\"male\"], [\"male\"], [\"female\"], [\"female\"], [\"female\"], [\"male\"], [\"female\"], [\"male\"], [\"female\"], [\"female\"], [\"male\"], [\"male\"], [\"female\"], [\"female\"], [\"female\"], [\"female\"], [\"female\"], [\"female\"], [\"female\"], [\"male\"], [\"female\"], [\"female\"], [\"female\"], [\"female\"], [\"female\"], [\"female\"], [\"female\"], [\"female\"], [\"male\"], [\"male\"], [\"female\"], [\"male\"], [\"male\"], [\"male\"], [\"male\"], [\"male\"], [\"female\"], [\"male\"], [\"male\"], [\"male\"], [\"male\"], [\"female\"], [\"female\"], [\"male\"], [\"male\"], [\"male\"], [\"female\"], [\"female\"], [\"male\"], [\"male\"], [\"male\"], [\"female\"], [\"male\"], [\"male\"], [\"male\"], [\"male\"], [\"female\"], [\"male\"], [\"female\"], [\"male\"], [\"female\"], [\"female\"], [\"male\"], [\"female\"], [\"female\"], [\"female\"], [\"male\"], [\"male\"], [\"female\"], [\"male\"], [\"female\"], [\"male\"], [\"female\"], [\"female\"], [\"female\"], [\"female\"], [\"female\"], [\"male\"], [\"female\"], [\"female\"], [\"male\"], [\"female\"], [\"female\"], [\"female\"], [\"female\"], [\"female\"], [\"male\"], [\"male\"], [\"female\"], [\"male\"], [\"male\"], [\"male\"], [\"female\"], [\"female\"], [\"female\"], [\"female\"], [\"male\"], [\"female\"], [\"female\"], [\"female\"], [\"male\"], [\"female\"], [\"male\"], [\"male\"], [\"male\"], [\"male\"], [\"male\"], [\"female\"], [\"male\"], [\"female\"], [\"female\"], [\"female\"], [\"male\"], [\"male\"], [\"female\"], [\"male\"], [\"male\"], [\"female\"], [\"male\"], [\"male\"], [\"female\"], [\"male\"], [\"male\"], [\"male\"], [\"male\"], [\"female\"], [\"male\"], [\"female\"], [\"male\"], [\"female\"], [\"female\"], [\"female\"], [\"male\"], [\"female\"], [\"female\"], [\"female\"]], \"hoverlabel\": {\"namelength\": 0}, \"hovertemplate\": \"smoker=no<br>bmi=%{x}<br>charges=%{y}<br>sex=%{customdata[0]}\", \"legendgroup\": \"smoker=no\", \"marker\": {\"color\": \"#EF553B\", \"opacity\": 0.8, \"size\": 8, \"symbol\": \"circle\"}, \"mode\": \"markers\", \"name\": \"smoker=no\", \"showlegend\": true, \"type\": \"scattergl\", \"x\": [33.77, 33.0, 22.705, 28.88, 25.74, 33.44, 27.74, 29.83, 25.84, 26.22, 34.4, 39.82, 24.6, 30.78, 23.845, 40.3, 36.005, 32.4, 34.1, 28.025, 27.72, 23.085, 32.775, 17.385, 26.315, 28.6, 28.31, 20.425, 32.965, 20.8, 26.6, 36.63, 21.78, 30.8, 37.05, 37.3, 38.665, 34.77, 24.53, 35.625, 33.63, 28.69, 31.825, 37.335, 27.36, 33.66, 24.7, 25.935, 28.9, 39.1, 26.315, 36.19, 28.5, 28.1, 32.01, 27.4, 34.01, 29.59, 35.53, 39.805, 32.965, 26.885, 38.285, 41.23, 27.2, 27.74, 26.98, 39.49, 24.795, 34.77, 37.62, 30.8, 38.28, 31.6, 25.46, 30.115, 27.5, 28.4, 30.875, 27.94, 33.63, 29.7, 30.8, 35.72, 32.205, 28.595, 49.06, 27.17, 23.37, 37.1, 23.75, 28.975, 33.915, 28.785, 37.4, 34.7, 26.505, 22.04, 35.9, 25.555, 28.785, 28.05, 34.1, 25.175, 31.9, 36.0, 22.42, 32.49, 29.735, 38.83, 37.73, 37.43, 28.4, 24.13, 29.7, 37.145, 25.46, 39.52, 27.83, 39.6, 29.8, 29.64, 28.215, 37.0, 33.155, 31.825, 18.905, 41.47, 30.3, 15.96, 34.8, 33.345, 27.835, 29.2, 28.9, 33.155, 28.595, 38.28, 19.95, 26.41, 30.69, 29.92, 30.9, 32.2, 32.11, 31.57, 26.2, 25.74, 26.6, 34.43, 30.59, 32.8, 28.6, 18.05, 39.33, 32.11, 32.23, 24.035, 22.3, 28.88, 26.4, 31.8, 41.23, 33.0, 30.875, 28.5, 26.73, 30.9, 37.1, 26.6, 23.1, 29.92, 23.21, 33.7, 33.25, 30.8, 33.88, 38.06, 41.91, 31.635, 25.46, 36.195, 27.83, 17.8, 27.5, 24.51, 26.73, 38.39, 38.06, 22.135, 26.8, 35.3, 30.02, 38.06, 35.86, 20.9, 28.975, 30.3, 25.365, 40.15, 24.415, 25.2, 38.06, 32.395, 30.2, 25.84, 29.37, 37.05, 27.455, 27.55, 26.6, 20.615, 24.3, 31.79, 21.56, 27.645, 32.395, 31.2, 26.62, 48.07, 26.22, 26.4, 33.4, 29.64, 28.82, 26.8, 22.99, 28.88, 27.55, 37.51, 33.0, 38.0, 33.345, 27.5, 33.33, 34.865, 33.06, 26.6, 24.7, 35.86, 33.25, 32.205, 32.775, 27.645, 37.335, 25.27, 29.64, 40.945, 27.2, 34.105, 23.21, 36.7, 31.16, 28.785, 35.72, 34.5, 25.74, 27.55, 27.72, 27.6, 30.02, 27.55, 36.765, 41.47, 29.26, 35.75, 33.345, 29.92, 27.835, 23.18, 25.6, 27.7, 35.245, 38.28, 27.6, 43.89, 29.83, 41.91, 20.79, 32.3, 30.5, 26.4, 21.89, 30.78, 32.3, 24.985, 32.015, 30.4, 21.09, 22.23, 33.155, 33.33, 30.115, 31.46, 33.0, 43.34, 22.135, 34.4, 39.05, 25.365, 22.61, 30.21, 35.625, 37.43, 31.445, 31.35, 32.3, 19.855, 34.4, 31.02, 25.6, 38.17, 20.6, 47.52, 32.965, 32.3, 20.4, 38.38, 24.31, 23.6, 21.12, 30.03, 17.48, 23.9, 35.15, 35.64, 34.1, 39.16, 30.59, 30.2, 24.31, 27.265, 29.165, 16.815, 30.4, 33.1, 20.235, 26.9, 30.5, 28.595, 33.11, 31.73, 28.9, 46.75, 29.45, 32.68, 43.01, 36.52, 33.1, 29.64, 25.65, 29.6, 38.6, 29.6, 24.13, 23.4, 29.735, 46.53, 37.4, 30.14, 30.495, 39.6, 33.0, 36.63, 38.095, 25.935, 25.175, 28.7, 33.82, 24.32, 24.09, 32.67, 30.115, 29.8, 33.345, 35.625, 36.85, 32.56, 41.325, 37.51, 31.35, 39.5, 34.3, 31.065, 21.47, 28.7, 31.16, 32.9, 25.08, 25.08, 43.4, 27.93, 23.6, 28.7, 23.98, 39.2, 26.03, 28.93, 30.875, 31.35, 23.75, 25.27, 28.7, 32.11, 33.66, 22.42, 30.4, 35.7, 35.31, 30.495, 31.0, 30.875, 27.36, 44.22, 33.915, 37.73, 33.88, 30.59, 25.8, 39.425, 25.46, 31.73, 29.7, 36.19, 40.48, 28.025, 38.9, 30.2, 28.05, 31.35, 38.0, 31.79, 36.3, 30.21, 35.435, 46.7, 28.595, 30.8, 28.93, 21.4, 31.73, 41.325, 23.8, 33.44, 34.21, 35.53, 19.95, 32.68, 30.5, 44.77, 32.12, 30.495, 40.565, 30.59, 31.9, 29.1, 37.29, 43.12, 36.86, 34.295, 27.17, 26.84, 30.2, 23.465, 25.46, 30.59, 45.43, 23.65, 20.7, 28.27, 20.235, 35.91, 30.69, 29.0, 19.57, 31.13, 40.26, 33.725, 29.48, 33.25, 32.6, 37.525, 39.16, 31.635, 25.3, 39.05, 34.1, 25.175, 26.98, 29.37, 34.8, 33.155, 19.0, 33.0, 28.595, 37.1, 31.4, 21.3, 28.785, 26.03, 28.88, 42.46, 38.0, 36.1, 29.3, 35.53, 22.705, 39.7, 38.19, 24.51, 38.095, 33.66, 42.4, 33.915, 34.96, 35.31, 30.78, 26.22, 23.37, 28.5, 32.965, 42.68, 39.6, 31.13, 36.3, 35.2, 42.4, 33.155, 35.91, 28.785, 46.53, 23.98, 31.54, 33.66, 28.7, 29.81, 31.57, 31.16, 29.7, 31.02, 21.375, 40.81, 36.1, 23.18, 17.4, 20.3, 24.32, 18.5, 26.41, 26.125, 41.69, 24.1, 27.36, 36.2, 32.395, 23.655, 34.8, 40.185, 32.3, 33.725, 39.27, 34.87, 44.745, 41.47, 26.41, 29.545, 32.9, 28.69, 30.495, 27.74, 35.2, 23.54, 30.685, 40.47, 22.6, 28.9, 22.61, 24.32, 36.67, 33.44, 40.66, 36.6, 37.4, 35.4, 27.075, 28.405, 40.28, 36.08, 21.4, 30.1, 27.265, 32.1, 34.77, 23.7, 24.035, 26.62, 26.41, 30.115, 27.0, 21.755, 36.0, 30.875, 28.975, 37.905, 22.77, 33.63, 27.645, 22.8, 37.43, 34.58, 35.2, 26.03, 25.175, 31.825, 32.3, 29.0, 39.7, 19.475, 36.1, 26.7, 36.48, 34.2, 33.33, 32.3, 39.805, 34.32, 28.88, 41.14, 35.97, 29.26, 27.7, 36.955, 36.86, 22.515, 29.92, 41.8, 27.6, 23.18, 31.92, 44.22, 22.895, 33.1, 26.18, 35.97, 22.3, 26.51, 35.815, 41.42, 36.575, 30.14, 25.84, 30.8, 42.94, 21.01, 22.515, 34.43, 31.46, 24.225, 37.1, 33.7, 17.67, 31.13, 29.81, 24.32, 31.825, 21.85, 33.1, 25.84, 23.845, 34.39, 33.82, 35.97, 31.5, 28.31, 23.465, 31.35, 31.1, 24.7, 30.495, 34.2, 50.38, 24.1, 32.775, 32.3, 23.75, 29.6, 32.23, 28.1, 28.0, 33.535, 19.855, 25.4, 29.9, 37.29, 43.7, 23.655, 24.3, 36.2, 29.48, 24.86, 30.1, 21.85, 28.12, 27.1, 33.44, 28.8, 29.5, 34.8, 27.36, 22.135, 26.695, 30.02, 39.5, 33.63, 29.04, 24.035, 32.11, 44.0, 25.555, 40.26, 22.515, 22.515, 27.265, 36.85, 35.1, 29.355, 32.585, 32.34, 39.8, 28.31, 26.695, 27.5, 24.605, 33.99, 28.2, 34.21, 25.0, 33.2, 31.0, 35.815, 23.2, 32.11, 23.4, 20.1, 39.16, 34.21, 46.53, 32.5, 25.8, 35.3, 37.18, 27.5, 29.735, 24.225, 26.18, 29.48, 23.21, 46.09, 40.185, 22.61, 39.93, 35.8, 35.8, 31.255, 18.335, 28.405, 39.49, 26.79, 36.67, 39.615, 25.9, 35.2, 24.795, 36.765, 27.1, 25.365, 25.745, 34.32, 28.16, 23.56, 20.235, 40.5, 35.42, 40.15, 29.15, 39.995, 29.92, 25.46, 21.375, 30.59, 30.115, 25.8, 30.115, 27.645, 34.675, 19.8, 27.835, 31.6, 28.27, 23.275, 34.1, 36.85, 36.29, 26.885, 25.8, 29.6, 19.19, 31.73, 29.26, 24.985, 27.74, 22.8, 33.33, 32.3, 27.6, 25.46, 24.605, 34.2, 35.815, 32.68, 37.0, 23.32, 45.32, 34.6, 18.715, 31.6, 17.29, 27.93, 38.38, 23.0, 28.88, 27.265, 23.085, 25.8, 35.245, 25.08, 22.515, 36.955, 26.41, 29.83, 21.47, 27.645, 28.9, 31.79, 39.49, 33.82, 32.01, 27.94, 28.595, 25.6, 25.3, 37.29, 42.655, 21.66, 31.9, 31.445, 31.255, 28.88, 18.335, 29.59, 32.0, 26.03, 33.66, 21.78, 27.835, 19.95, 31.5, 30.495, 28.975, 31.54, 47.74, 22.1, 29.83, 32.7, 33.7, 31.35, 33.77, 30.875, 33.99, 28.6, 38.94, 36.08, 29.8, 31.24, 29.925, 26.22, 30.0, 20.35, 32.3, 26.315, 24.51, 32.67, 29.64, 19.95, 38.17, 32.395, 25.08, 29.9, 35.86, 32.8, 18.6, 23.87, 45.9, 40.28, 18.335, 33.82, 28.12, 25.0, 22.23, 30.25, 37.07, 32.6, 24.86, 32.34, 32.3, 32.775, 31.92, 21.5, 34.1, 30.305, 36.48, 35.815, 27.93, 22.135, 23.18, 30.59, 41.1, 34.58, 42.13, 38.83, 28.215, 28.31, 26.125, 40.37, 24.6, 35.2, 34.105, 41.91, 29.26, 32.11, 27.1, 27.4, 34.865, 41.325, 29.925, 30.3, 27.36, 23.56, 32.68, 28.0, 32.775, 21.755, 32.395, 36.575, 21.755, 27.93, 33.55, 29.355, 25.8, 24.32, 40.375, 32.11, 32.3, 17.86, 34.8, 37.1, 30.875, 34.1, 21.47, 33.3, 31.255, 39.14, 25.08, 37.29, 30.21, 21.945, 24.97, 25.3, 23.94, 39.82, 16.815, 37.18, 34.43, 30.305, 24.605, 23.3, 27.83, 31.065, 21.66, 28.215, 22.705, 42.13, 21.28, 33.11, 33.33, 24.3, 25.7, 29.4, 39.82, 19.8, 29.3, 27.72, 37.9, 36.385, 27.645, 37.715, 23.18, 20.52, 37.1, 28.05, 29.9, 33.345, 30.5, 33.3, 27.5, 33.915, 34.485, 25.52, 27.61, 23.7, 30.4, 29.735, 26.79, 33.33, 30.03, 24.32, 17.29, 25.9, 34.32, 19.95, 23.21, 25.745, 25.175, 22.0, 26.125, 26.51, 27.455, 25.745, 20.8, 27.72, 32.2, 26.315, 26.695, 42.9, 28.31, 20.6, 53.13, 39.71, 26.315, 31.065, 38.83, 25.935, 33.535, 32.87, 30.03, 24.225, 38.6, 25.74, 33.4, 44.7, 30.97, 31.92, 36.85, 25.8], \"xaxis\": \"x\", \"y\": [1725.5523, 4449.462, 21984.47061, 3866.8552, 3756.6216, 8240.5896, 7281.5056, 6406.4107, 28923.136919999997, 2721.3208, 1826.8429999999998, 11090.7178, 1837.237, 10797.3362, 2395.17155, 10602.385, 13228.84695, 4149.736, 1137.011, 6203.90175, 14001.1338, 14451.83515, 12268.63225, 2775.19215, 2198.18985, 4687.7970000000005, 13770.0979, 1625.43375, 15612.19335, 2302.3, 3046.062, 4949.7587, 6272.4772, 6313.759, 6079.6715, 20630.28351, 3393.35635, 3556.9223, 12629.8967, 2211.13075, 3579.8287, 8059.6791, 13607.36875, 5989.52365, 8606.2174, 4504.6624, 30166.618169999998, 4133.64165, 1743.214, 14235.072, 6389.37785, 5920.1041, 6799.4580000000005, 11741.726, 11946.6259, 7726.854, 11356.6609, 3947.4131, 1532.4697, 2755.02095, 6571.02435, 4441.21315, 7935.29115, 11033.6617, 11073.176000000001, 8026.6666, 11082.5772, 2026.9741, 10942.13205, 5729.0053, 3766.8838, 12105.32, 10226.2842, 6186.1269999999995, 3645.0894, 21344.8467, 5003.853, 2331.519, 3877.30425, 2867.1196, 10825.2537, 11881.358, 4646.759, 2404.7338, 11488.31695, 30259.995560000003, 11381.3254, 8601.3293, 6686.4313, 7740.3369999999995, 1705.6245, 2257.47525, 10115.00885, 3385.39915, 9634.538, 6082.405, 12815.44495, 13616.3586, 11163.568000000001, 1632.56445, 2457.21115, 2155.6815, 1261.442, 2045.68525, 27322.733860000004, 2166.732, 27375.90478, 3490.5491, 18157.876, 5138.2567, 9877.6077, 10959.6947, 1842.519, 5125.2157, 7789.635, 6334.34355, 7077.1894, 6948.7008, 19749.383380000003, 10450.552, 5152.134, 5028.1466, 10407.08585, 4830.63, 6128.79745, 2719.27975, 4827.90495, 13405.3903, 8116.68, 1694.7964, 5246.047, 2855.43755, 6455.86265, 10436.096, 8823.279, 8538.28845, 11735.87905, 1631.8212, 4005.4225, 7419.4779, 7731.4271, 3981.9768, 5325.651, 6775.960999999999, 4922.9159, 12557.6053, 4883.866, 2137.6536, 12044.341999999999, 1137.4697, 1639.5631, 5649.715, 8516.829, 9644.2525, 14901.5167, 2130.6759, 8871.1517, 13012.20865, 7147.105, 4337.7352, 11743.298999999999, 13880.948999999999, 6610.1097, 1980.07, 8162.71625, 3537.703, 5002.7827, 8520.026, 7371.772, 10355.641, 2483.736, 3392.9768, 25081.76784, 5012.471, 10564.8845, 5253.524, 11987.1682, 2689.4954, 24227.33724, 7358.17565, 9225.2564, 7443.64305, 14001.2867, 1727.785, 12333.828000000001, 6710.1919, 1615.7667, 4463.2051, 7152.6714, 5354.07465, 35160.13457, 7196.866999999999, 24476.47851, 12648.7034, 1986.9334, 1832.094, 4040.55825, 4260.744000000001, 13047.33235, 5400.9805, 11520.09985, 11837.16, 20462.99766, 14590.63205, 7441.053000000001, 9282.4806, 1719.4363, 7265.7025, 9617.66245, 2523.1695, 9715.841, 2803.69785, 2150.469, 12928.7911, 9855.1314, 4237.12655, 11879.10405, 9625.92, 7742.1098, 9432.9253, 14256.1928, 25992.82104, 3172.018, 20277.80751, 2156.7518, 3906.127, 1704.5681, 9249.4952, 6746.7425, 12265.5069, 4349.462, 12646.207, 19442.3535, 20177.671130000002, 4151.0287, 11944.59435, 7749.1564, 8444.474, 1737.376, 8124.4084, 9722.7695, 8835.26495, 10435.06525, 7421.19455, 4667.60765, 4894.7533, 24671.66334, 11566.30055, 2866.091, 6600.20595, 3561.8889, 9144.565, 13429.0354, 11658.37915, 19144.57652, 13822.803, 12142.5786, 13937.6665, 8232.6388, 18955.22017, 13352.0998, 13217.0945, 13981.85035, 10977.2063, 6184.2994, 4889.9995, 8334.45755, 5478.0368, 1635.73365, 11830.6072, 8932.084, 3554.203, 12404.8791, 14133.03775, 24603.04837, 8944.1151, 9620.3307, 1837.2819, 1607.5101, 10043.249, 4751.07, 2597.779, 3180.5101, 9778.3472, 13430.265, 8017.06115, 8116.26885, 3481.868, 13415.0381, 12029.2867, 7639.41745, 1391.5287, 16455.70785, 27000.98473, 20781.48892, 5846.9176, 8302.53565, 1261.859, 11856.4115, 30284.642939999998, 3176.8159, 4618.0799, 10736.87075, 2138.0707, 8964.06055, 9290.1395, 9411.005, 7526.70645, 8522.003, 16586.49771, 14988.431999999999, 1631.6683, 9264.796999999999, 8083.9198, 14692.66935, 10269.46, 3260.199, 11396.9002, 4185.0979, 8539.671, 6652.5288, 4074.4537, 1621.3402, 5080.096, 2134.9015, 7345.7266, 9140.951, 14418.2804, 2727.3951, 8968.33, 9788.8659, 6555.07035, 7323.734818999999, 3167.45585, 18804.7524, 23082.95533, 4906.40965, 5969.723000000001, 12638.195, 4243.59005, 13919.8229, 2254.7967, 5926.846, 12592.5345, 2897.3235, 4738.2682, 1149.3959, 28287.897660000002, 7345.084, 12730.9996, 11454.0215, 5910.944, 4762.329000000001, 7512.267, 4032.2407, 1969.614, 1769.53165, 4686.3887, 21797.0004, 11881.9696, 11840.77505, 10601.412, 7682.67, 10381.4787, 15230.32405, 11165.41765, 1632.03625, 13224.693000000001, 12643.3778, 23288.9284, 2201.0971, 2497.0383, 2203.47185, 1744.465, 20878.78443, 2534.39375, 1534.3045, 1824.2854, 15555.18875, 9304.7019, 1622.1885, 9880.068000000001, 9563.029, 4347.02335, 12475.3513, 1253.9360000000001, 10461.9794, 1748.774, 24513.09126, 2196.4732, 12574.048999999999, 1967.0227, 4931.647, 8027.968000000001, 8211.1002, 13470.86, 6837.3687, 5974.3847, 6796.86325, 2643.2685, 3077.0955, 3044.2133, 11455.28, 11763.0009, 2498.4144, 9361.3268, 1256.299, 11362.755, 27724.28875, 8413.46305, 5240.765, 3857.75925, 25656.575259999998, 3994.1778, 9866.30485, 5397.6167, 11482.63485, 24059.68019, 9861.025, 8342.90875, 1708.0014, 14043.4767, 12925.886, 19214.705530000003, 13831.1152, 6067.12675, 5972.378000000001, 8825.086, 8233.0975, 27346.04207, 6196.448, 3056.3881, 13887.204, 10231.4999, 3268.84665, 11538.421, 3213.62205, 13390.559, 3972.9247, 12957.118, 11187.6567, 17878.900680000002, 3847.6740000000004, 8334.5896, 3935.1799, 1646.4297, 9193.8385, 10923.9332, 2494.022, 9058.7303, 2801.2588, 2128.43105, 6373.55735, 7256.7231, 11552.903999999999, 3761.292, 2219.4451, 4753.6368, 31620.001060000002, 13224.05705, 12222.8983, 1664.9996, 9724.53, 3206.49135, 12913.9924, 1639.5631, 6356.2707, 17626.23951, 1242.816, 4779.6023, 3861.20965, 13635.6379, 5976.8311, 11842.442, 8428.0693, 2566.4707, 5709.1644, 8823.98575, 7640.3092, 5594.8455, 7441.501, 33471.97189, 1633.0444, 9174.13565, 11070.535, 16085.1275, 9283.562, 3558.62025, 4435.0942, 8547.6913, 6571.544, 2207.69745, 6753.0380000000005, 1880.07, 11658.11505, 10713.643999999998, 3659.3459999999995, 9182.17, 12129.61415, 3736.4647, 6748.5912, 11326.71487, 11365.952, 10085.846, 1977.815, 3366.6697, 7173.35995, 9391.346, 14410.9321, 2709.1119, 24915.04626, 12949.1554, 6666.243, 13143.86485, 4466.6214, 18806.14547, 10141.1362, 6123.5688, 8252.2843, 1712.227, 12430.95335, 9800.8882, 10579.711000000001, 8280.6227, 8527.532, 12244.531, 3410.324, 4058.71245, 26392.260290000002, 14394.39815, 6435.6237, 22192.43711, 5148.5526, 1136.3994, 8703.456, 6500.2359, 4837.5823, 3943.5954, 4399.731, 6185.3208, 7222.78625, 12485.8009, 12363.546999999999, 10156.7832, 2585.269, 1242.26, 9863.4718, 4766.022, 11244.3769, 7729.64575, 5438.7491, 26236.57997, 2104.1134, 8068.185, 2362.22905, 2352.96845, 3577.9990000000003, 3201.24515, 29186.48236, 10976.24575, 3500.6123, 2020.5523, 9541.69555, 9504.3103, 5385.3379, 8930.93455, 5375.0380000000005, 10264.4421, 6113.23105, 5469.0066, 1727.54, 10107.2206, 8310.83915, 1984.4533, 2457.502, 12146.971000000001, 9566.9909, 13112.6048, 10848.1343, 12231.6136, 9875.6804, 11264.541000000001, 12979.358, 1263.249, 10106.13425, 6664.68595, 2217.6012, 6781.3542, 10065.413, 4234.927, 9447.25035, 14007.222, 9583.8933, 3484.3309999999997, 8604.48365, 3757.8448, 8827.2099, 9910.35985, 11737.84884, 1627.28245, 8556.907, 3062.50825, 1906.35825, 14210.53595, 11833.7823, 17128.42608, 5031.26955, 7985.815, 5428.7277, 3925.7582, 2416.955, 3070.8087, 9095.06825, 11842.62375, 8062.764, 7050.642, 14319.031, 6933.24225, 27941.28758, 11150.78, 12797.20962, 7261.741, 10560.4917, 6986.696999999999, 7448.40395, 5934.3798, 9869.8102, 1146.7966, 9386.1613, 4350.5144, 6414.178000000001, 12741.16745, 1917.3184, 5209.57885, 13457.9608, 5662.225, 1252.407, 2731.9122, 7209.4918, 4266.1658, 4719.52405, 11848.141000000001, 7046.7222, 14313.8463, 2103.08, 1815.8759, 7731.85785, 28476.734989999997, 2136.88225, 1131.5066, 3309.7926, 9414.92, 6360.9936, 11013.7119, 4428.88785, 5584.3057, 1877.9294, 2842.76075, 3597.5959999999995, 7445.918000000001, 2680.9493, 1621.8827, 8219.2039, 12523.6048, 16069.08475, 6117.4945, 13393.756000000001, 5266.3656, 4719.73655, 11743.9341, 5377.4578, 7160.3303, 4402.233, 11657.7189, 6402.29135, 12622.1795, 1526.3120000000001, 12323.936000000002, 10072.05505, 9872.701, 2438.0552, 2974.1259999999997, 10601.63225, 14119.62, 11729.6795, 1875.344, 18218.16139, 10965.446000000002, 7151.092, 12269.68865, 5458.04645, 8782.469000000001, 6600.361, 1141.4451, 11576.13, 13129.60345, 4391.652, 8457.818000000001, 3392.3652, 5966.8874, 6849.026, 8891.1395, 2690.1138, 26140.3603, 6653.7886, 6282.235, 6311.951999999999, 3443.0640000000003, 2789.0574, 2585.85065, 4877.98105, 5272.1758, 1682.5970000000002, 11945.1327, 7243.8136, 10422.91665, 13555.0049, 13063.883, 2221.56445, 1634.5734, 2117.33885, 8688.85885, 4661.28635, 8125.7845, 12644.589, 4564.19145, 4846.92015, 7633.7206, 15170.069, 2639.0429, 14382.70905, 7626.993, 5257.50795, 2473.3341, 13041.921, 5245.2269, 13451.122, 13462.52, 5488.262, 4320.41085, 6250.435, 25333.33284, 2913.5690000000004, 12032.326000000001, 13470.8044, 6289.7549, 2927.0647, 6238.298000000001, 10096.97, 7348.142, 4673.3922, 12233.828000000001, 32108.662819999998, 8965.79575, 2304.0022, 9487.6442, 1121.8739, 9549.5651, 2217.46915, 1628.4709, 12982.8747, 11674.13, 7160.094, 6358.77645, 11534.87265, 4527.18295, 3875.7341, 12609.88702, 28468.91901, 2730.10785, 3353.284, 14474.675, 9500.57305, 26467.09737, 4746.344, 7518.02535, 3279.86855, 8596.8278, 10702.6424, 4992.3764, 2527.81865, 1759.338, 2322.6218, 7804.1605, 2902.9065, 9704.66805, 4889.0368, 25517.11363, 4500.33925, 16796.41194, 4915.05985, 7624.63, 8410.04685, 28340.18885, 4518.82625, 3378.91, 7144.86265, 10118.424, 5484.4673, 7986.47525, 7418.522, 13887.9685, 6551.7501, 5267.81815, 1972.95, 21232.182259999998, 8627.5411, 4433.3877, 4438.2634, 23241.47453, 9957.7216, 8269.044, 36580.28216, 8765.249, 5383.536, 12124.9924, 2709.24395, 3987.926, 12495.29085, 26018.95052, 8798.593, 1711.0268, 8569.8618, 2020.1770000000001, 21595.38229, 9850.431999999999, 6877.9801, 4137.5227, 12950.0712, 12094.478000000001, 2250.8352, 22493.65964, 1704.70015, 3161.454, 11394.06555, 7325.0482, 3594.17085, 8023.13545, 14394.5579, 9288.0267, 3353.4703, 10594.50155, 8277.523000000001, 17929.303369999998, 2480.9791, 4462.7218, 1981.5819, 11554.2236, 6548.19505, 5708.866999999999, 7045.499, 8978.1851, 5757.41345, 14349.8544, 10928.848999999998, 13974.45555, 1909.52745, 12096.6512, 13204.28565, 4562.8421, 8551.347, 2102.2647, 15161.5344, 11884.04858, 4454.40265, 5855.9025, 4076.4970000000003, 15019.76005, 10796.35025, 11353.2276, 9748.9106, 10577.087, 11286.5387, 3591.48, 11299.343, 4561.1885, 1674.6323, 23045.56616, 3227.1211, 11253.421, 3471.4096, 11363.2832, 20420.60465, 10338.9316, 8988.15875, 10493.9458, 2904.0879999999997, 8605.3615, 11512.405, 5312.16985, 2396.0959, 10807.4863, 9222.4026, 5693.4305, 8347.1643, 18903.49141, 14254.6082, 10214.636, 5836.5204, 14358.36437, 1728.8970000000002, 8582.3023, 3693.428, 20709.02034, 9991.03765, 19673.335730000003, 11085.5868, 7623.518, 3176.2877, 3704.3545, 9048.0273, 7954.517, 27117.99378, 6338.0756, 9630.396999999999, 11289.10925, 2261.5688, 10791.96, 5979.731, 2203.73595, 12235.8392, 5630.45785, 11015.1747, 7228.21565, 14426.07385, 2459.7201, 3989.841, 7727.2532, 5124.1887, 18963.171919999997, 2200.83085, 7153.5539, 5227.98875, 10982.5013, 4529.477, 4670.64, 6112.35295, 11093.6229, 6457.8434, 4433.9159, 2154.361, 6496.8859999999995, 2899.48935, 7650.77375, 2850.68375, 2632.992, 9447.3824, 8603.8234, 13844.7972, 13126.67745, 5327.40025, 13725.47184, 13019.16105, 8671.19125, 4134.08245, 18838.70366, 5699.8375, 6393.60345, 4934.705, 6198.7518, 8733.22925, 2055.3249, 9964.06, 5116.5004, 36910.60803, 12347.171999999999, 5373.36425, 23563.016180000002, 1702.4553, 10806.839, 3956.07145, 12890.05765, 5415.6612, 4058.1161, 7537.1639, 4718.20355, 6593.5083, 8442.667, 6858.4796, 4795.6568, 6640.54485, 7162.0122, 10594.2257, 11938.25595, 12479.70895, 11345.518999999998, 8515.7587, 2699.56835, 14449.8544, 12224.35085, 6985.50695, 3238.4357, 4296.2712, 3171.6149, 1135.9407, 5615.369000000001, 9101.798, 6059.173000000001, 1633.9618, 1241.565, 15828.821730000001, 4415.1588, 6474.013000000001, 11436.73815, 11305.93455, 30063.58055, 10197.7722, 4544.2348, 3277.1609999999996, 6770.1925, 7337.7480000000005, 10370.91255, 10704.47, 1880.487, 8615.3, 3292.52985, 3021.80915, 14478.33015, 4747.0529, 10959.33, 2741.948, 4357.04365, 4189.1131, 8283.6807, 1720.3537, 8534.6718, 3732.6251, 5472.4490000000005, 7147.4728, 7133.9025, 1515.3449, 9301.89355, 11931.12525, 1964.78, 1708.92575, 4340.4409, 5261.46945, 2710.82855, 3208.7870000000003, 2464.6188, 6875.960999999999, 6940.90985, 4571.41305, 4536.259, 11272.331390000001, 1731.6770000000001, 1163.4627, 19496.71917, 7201.70085, 5425.02335, 12981.3457, 4239.89265, 13143.33665, 7050.0213, 9377.9047, 22395.74424, 10325.206, 12629.1656, 10795.937329999999, 11411.685, 10600.5483, 2205.9808, 1629.8335, 2007.945], \"yaxis\": \"y\"}],\n",
              "                        {\"legend\": {\"tracegroupgap\": 0}, \"template\": {\"data\": {\"bar\": [{\"error_x\": {\"color\": \"#2a3f5f\"}, \"error_y\": {\"color\": \"#2a3f5f\"}, \"marker\": {\"line\": {\"color\": \"#E5ECF6\", \"width\": 0.5}}, \"type\": \"bar\"}], \"barpolar\": [{\"marker\": {\"line\": {\"color\": \"#E5ECF6\", \"width\": 0.5}}, \"type\": \"barpolar\"}], \"carpet\": [{\"aaxis\": {\"endlinecolor\": \"#2a3f5f\", \"gridcolor\": \"white\", \"linecolor\": \"white\", \"minorgridcolor\": \"white\", \"startlinecolor\": \"#2a3f5f\"}, \"baxis\": {\"endlinecolor\": \"#2a3f5f\", \"gridcolor\": \"white\", \"linecolor\": \"white\", \"minorgridcolor\": \"white\", \"startlinecolor\": \"#2a3f5f\"}, \"type\": \"carpet\"}], \"choropleth\": [{\"colorbar\": {\"outlinewidth\": 0, \"ticks\": \"\"}, \"type\": \"choropleth\"}], \"contour\": [{\"colorbar\": {\"outlinewidth\": 0, \"ticks\": \"\"}, \"colorscale\": [[0.0, \"#0d0887\"], [0.1111111111111111, \"#46039f\"], [0.2222222222222222, \"#7201a8\"], [0.3333333333333333, \"#9c179e\"], [0.4444444444444444, \"#bd3786\"], [0.5555555555555556, \"#d8576b\"], [0.6666666666666666, \"#ed7953\"], [0.7777777777777778, \"#fb9f3a\"], [0.8888888888888888, \"#fdca26\"], [1.0, \"#f0f921\"]], \"type\": \"contour\"}], \"contourcarpet\": [{\"colorbar\": {\"outlinewidth\": 0, \"ticks\": \"\"}, \"type\": \"contourcarpet\"}], \"heatmap\": [{\"colorbar\": {\"outlinewidth\": 0, \"ticks\": \"\"}, \"colorscale\": [[0.0, \"#0d0887\"], [0.1111111111111111, \"#46039f\"], [0.2222222222222222, \"#7201a8\"], [0.3333333333333333, \"#9c179e\"], [0.4444444444444444, \"#bd3786\"], [0.5555555555555556, \"#d8576b\"], [0.6666666666666666, \"#ed7953\"], [0.7777777777777778, \"#fb9f3a\"], [0.8888888888888888, \"#fdca26\"], [1.0, \"#f0f921\"]], \"type\": \"heatmap\"}], \"heatmapgl\": [{\"colorbar\": {\"outlinewidth\": 0, \"ticks\": \"\"}, \"colorscale\": [[0.0, \"#0d0887\"], [0.1111111111111111, \"#46039f\"], [0.2222222222222222, \"#7201a8\"], [0.3333333333333333, \"#9c179e\"], [0.4444444444444444, \"#bd3786\"], [0.5555555555555556, \"#d8576b\"], [0.6666666666666666, \"#ed7953\"], [0.7777777777777778, \"#fb9f3a\"], [0.8888888888888888, \"#fdca26\"], [1.0, \"#f0f921\"]], \"type\": \"heatmapgl\"}], \"histogram\": [{\"marker\": {\"colorbar\": {\"outlinewidth\": 0, \"ticks\": \"\"}}, \"type\": \"histogram\"}], \"histogram2d\": [{\"colorbar\": {\"outlinewidth\": 0, \"ticks\": \"\"}, \"colorscale\": [[0.0, \"#0d0887\"], [0.1111111111111111, \"#46039f\"], [0.2222222222222222, \"#7201a8\"], [0.3333333333333333, \"#9c179e\"], [0.4444444444444444, \"#bd3786\"], [0.5555555555555556, \"#d8576b\"], [0.6666666666666666, \"#ed7953\"], [0.7777777777777778, \"#fb9f3a\"], [0.8888888888888888, \"#fdca26\"], [1.0, \"#f0f921\"]], \"type\": \"histogram2d\"}], \"histogram2dcontour\": [{\"colorbar\": {\"outlinewidth\": 0, \"ticks\": \"\"}, \"colorscale\": [[0.0, \"#0d0887\"], [0.1111111111111111, \"#46039f\"], [0.2222222222222222, \"#7201a8\"], [0.3333333333333333, \"#9c179e\"], [0.4444444444444444, \"#bd3786\"], [0.5555555555555556, \"#d8576b\"], [0.6666666666666666, \"#ed7953\"], [0.7777777777777778, \"#fb9f3a\"], [0.8888888888888888, \"#fdca26\"], [1.0, \"#f0f921\"]], \"type\": \"histogram2dcontour\"}], \"mesh3d\": [{\"colorbar\": {\"outlinewidth\": 0, \"ticks\": \"\"}, \"type\": \"mesh3d\"}], \"parcoords\": [{\"line\": {\"colorbar\": {\"outlinewidth\": 0, \"ticks\": \"\"}}, \"type\": \"parcoords\"}], \"pie\": [{\"automargin\": true, \"type\": \"pie\"}], \"scatter\": [{\"marker\": {\"colorbar\": {\"outlinewidth\": 0, \"ticks\": \"\"}}, \"type\": \"scatter\"}], \"scatter3d\": [{\"line\": {\"colorbar\": {\"outlinewidth\": 0, \"ticks\": \"\"}}, \"marker\": {\"colorbar\": {\"outlinewidth\": 0, \"ticks\": \"\"}}, \"type\": \"scatter3d\"}], \"scattercarpet\": [{\"marker\": {\"colorbar\": {\"outlinewidth\": 0, \"ticks\": \"\"}}, \"type\": \"scattercarpet\"}], \"scattergeo\": [{\"marker\": {\"colorbar\": {\"outlinewidth\": 0, \"ticks\": \"\"}}, \"type\": \"scattergeo\"}], \"scattergl\": [{\"marker\": {\"colorbar\": {\"outlinewidth\": 0, \"ticks\": \"\"}}, \"type\": \"scattergl\"}], \"scattermapbox\": [{\"marker\": {\"colorbar\": {\"outlinewidth\": 0, \"ticks\": \"\"}}, \"type\": \"scattermapbox\"}], \"scatterpolar\": [{\"marker\": {\"colorbar\": {\"outlinewidth\": 0, \"ticks\": \"\"}}, \"type\": \"scatterpolar\"}], \"scatterpolargl\": [{\"marker\": {\"colorbar\": {\"outlinewidth\": 0, \"ticks\": \"\"}}, \"type\": \"scatterpolargl\"}], \"scatterternary\": [{\"marker\": {\"colorbar\": {\"outlinewidth\": 0, \"ticks\": \"\"}}, \"type\": \"scatterternary\"}], \"surface\": [{\"colorbar\": {\"outlinewidth\": 0, \"ticks\": \"\"}, \"colorscale\": [[0.0, \"#0d0887\"], [0.1111111111111111, \"#46039f\"], [0.2222222222222222, \"#7201a8\"], [0.3333333333333333, \"#9c179e\"], [0.4444444444444444, \"#bd3786\"], [0.5555555555555556, \"#d8576b\"], [0.6666666666666666, \"#ed7953\"], [0.7777777777777778, \"#fb9f3a\"], [0.8888888888888888, \"#fdca26\"], [1.0, \"#f0f921\"]], \"type\": \"surface\"}], \"table\": [{\"cells\": {\"fill\": {\"color\": \"#EBF0F8\"}, \"line\": {\"color\": \"white\"}}, \"header\": {\"fill\": {\"color\": \"#C8D4E3\"}, \"line\": {\"color\": \"white\"}}, \"type\": \"table\"}]}, \"layout\": {\"annotationdefaults\": {\"arrowcolor\": \"#2a3f5f\", \"arrowhead\": 0, \"arrowwidth\": 1}, \"coloraxis\": {\"colorbar\": {\"outlinewidth\": 0, \"ticks\": \"\"}}, \"colorscale\": {\"diverging\": [[0, \"#8e0152\"], [0.1, \"#c51b7d\"], [0.2, \"#de77ae\"], [0.3, \"#f1b6da\"], [0.4, \"#fde0ef\"], [0.5, \"#f7f7f7\"], [0.6, \"#e6f5d0\"], [0.7, \"#b8e186\"], [0.8, \"#7fbc41\"], [0.9, \"#4d9221\"], [1, \"#276419\"]], \"sequential\": [[0.0, \"#0d0887\"], [0.1111111111111111, \"#46039f\"], [0.2222222222222222, \"#7201a8\"], [0.3333333333333333, \"#9c179e\"], [0.4444444444444444, \"#bd3786\"], [0.5555555555555556, \"#d8576b\"], [0.6666666666666666, \"#ed7953\"], [0.7777777777777778, \"#fb9f3a\"], [0.8888888888888888, \"#fdca26\"], [1.0, \"#f0f921\"]], \"sequentialminus\": [[0.0, \"#0d0887\"], [0.1111111111111111, \"#46039f\"], [0.2222222222222222, \"#7201a8\"], [0.3333333333333333, \"#9c179e\"], [0.4444444444444444, \"#bd3786\"], [0.5555555555555556, \"#d8576b\"], [0.6666666666666666, \"#ed7953\"], [0.7777777777777778, \"#fb9f3a\"], [0.8888888888888888, \"#fdca26\"], [1.0, \"#f0f921\"]]}, \"colorway\": [\"#636efa\", \"#EF553B\", \"#00cc96\", \"#ab63fa\", \"#FFA15A\", \"#19d3f3\", \"#FF6692\", \"#B6E880\", \"#FF97FF\", \"#FECB52\"], \"font\": {\"color\": \"#2a3f5f\"}, \"geo\": {\"bgcolor\": \"white\", \"lakecolor\": \"white\", \"landcolor\": \"#E5ECF6\", \"showlakes\": true, \"showland\": true, \"subunitcolor\": \"white\"}, \"hoverlabel\": {\"align\": \"left\"}, \"hovermode\": \"closest\", \"mapbox\": {\"style\": \"light\"}, \"paper_bgcolor\": \"white\", \"plot_bgcolor\": \"#E5ECF6\", \"polar\": {\"angularaxis\": {\"gridcolor\": \"white\", \"linecolor\": \"white\", \"ticks\": \"\"}, \"bgcolor\": \"#E5ECF6\", \"radialaxis\": {\"gridcolor\": \"white\", \"linecolor\": \"white\", \"ticks\": \"\"}}, \"scene\": {\"xaxis\": {\"backgroundcolor\": \"#E5ECF6\", \"gridcolor\": \"white\", \"gridwidth\": 2, \"linecolor\": \"white\", \"showbackground\": true, \"ticks\": \"\", \"zerolinecolor\": \"white\"}, \"yaxis\": {\"backgroundcolor\": \"#E5ECF6\", \"gridcolor\": \"white\", \"gridwidth\": 2, \"linecolor\": \"white\", \"showbackground\": true, \"ticks\": \"\", \"zerolinecolor\": \"white\"}, \"zaxis\": {\"backgroundcolor\": \"#E5ECF6\", \"gridcolor\": \"white\", \"gridwidth\": 2, \"linecolor\": \"white\", \"showbackground\": true, \"ticks\": \"\", \"zerolinecolor\": \"white\"}}, \"shapedefaults\": {\"line\": {\"color\": \"#2a3f5f\"}}, \"ternary\": {\"aaxis\": {\"gridcolor\": \"white\", \"linecolor\": \"white\", \"ticks\": \"\"}, \"baxis\": {\"gridcolor\": \"white\", \"linecolor\": \"white\", \"ticks\": \"\"}, \"bgcolor\": \"#E5ECF6\", \"caxis\": {\"gridcolor\": \"white\", \"linecolor\": \"white\", \"ticks\": \"\"}}, \"title\": {\"x\": 0.05}, \"xaxis\": {\"automargin\": true, \"gridcolor\": \"white\", \"linecolor\": \"white\", \"ticks\": \"\", \"title\": {\"standoff\": 15}, \"zerolinecolor\": \"white\", \"zerolinewidth\": 2}, \"yaxis\": {\"automargin\": true, \"gridcolor\": \"white\", \"linecolor\": \"white\", \"ticks\": \"\", \"title\": {\"standoff\": 15}, \"zerolinecolor\": \"white\", \"zerolinewidth\": 2}}}, \"title\": {\"text\": \"BMI vs. Charges\"}, \"xaxis\": {\"anchor\": \"y\", \"domain\": [0.0, 1.0], \"title\": {\"text\": \"bmi\"}}, \"yaxis\": {\"anchor\": \"x\", \"domain\": [0.0, 1.0], \"title\": {\"text\": \"charges\"}}},\n",
              "                        {\"responsive\": true}\n",
              "                    ).then(function(){\n",
              "                            \n",
              "var gd = document.getElementById('ac73d1ee-c95d-4516-aefb-9b25e51ab6ba');\n",
              "var x = new MutationObserver(function (mutations, observer) {{\n",
              "        var display = window.getComputedStyle(gd).display;\n",
              "        if (!display || display === 'none') {{\n",
              "            console.log([gd, 'removed!']);\n",
              "            Plotly.purge(gd);\n",
              "            observer.disconnect();\n",
              "        }}\n",
              "}});\n",
              "\n",
              "// Listen for the removal of the full notebook cells\n",
              "var notebookContainer = gd.closest('#notebook-container');\n",
              "if (notebookContainer) {{\n",
              "    x.observe(notebookContainer, {childList: true});\n",
              "}}\n",
              "\n",
              "// Listen for the clearing of the current output cell\n",
              "var outputEl = gd.closest('.output');\n",
              "if (outputEl) {{\n",
              "    x.observe(outputEl, {childList: true});\n",
              "}}\n",
              "\n",
              "                        })\n",
              "                };\n",
              "                \n",
              "            </script>\n",
              "        </div>\n",
              "</body>\n",
              "</html>"
            ]
          },
          "metadata": {
            "tags": []
          }
        }
      ]
    },
    {
      "cell_type": "code",
      "metadata": {
        "colab": {
          "base_uri": "https://localhost:8080/",
          "height": 542
        },
        "id": "IP61ogOG6uE4",
        "outputId": "2ee2e7f1-9566-4954-c7e9-a95c1cf00e6b"
      },
      "source": [
        "fig = px.violin(medical_df, \n",
        "                 x='children', \n",
        "                 y='charges', \n",
        "                 color='smoker',  \n",
        "                 hover_data=['sex'], \n",
        "                 title='BMI vs. Charges')\n",
        "fig.update_traces(marker_size=8)\n",
        "fig.show()"
      ],
      "execution_count": null,
      "outputs": [
        {
          "output_type": "display_data",
          "data": {
            "text/html": [
              "<html>\n",
              "<head><meta charset=\"utf-8\" /></head>\n",
              "<body>\n",
              "    <div>\n",
              "            <script src=\"https://cdnjs.cloudflare.com/ajax/libs/mathjax/2.7.5/MathJax.js?config=TeX-AMS-MML_SVG\"></script><script type=\"text/javascript\">if (window.MathJax) {MathJax.Hub.Config({SVG: {font: \"STIX-Web\"}});}</script>\n",
              "                <script type=\"text/javascript\">window.PlotlyConfig = {MathJaxConfig: 'local'};</script>\n",
              "        <script src=\"https://cdn.plot.ly/plotly-latest.min.js\"></script>    \n",
              "            <div id=\"8de9f597-07f6-47d0-8fd2-237eb4246f81\" class=\"plotly-graph-div\" style=\"height:525px; width:100%;\"></div>\n",
              "            <script type=\"text/javascript\">\n",
              "                \n",
              "                    window.PLOTLYENV=window.PLOTLYENV || {};\n",
              "                    \n",
              "                if (document.getElementById(\"8de9f597-07f6-47d0-8fd2-237eb4246f81\")) {\n",
              "                    Plotly.newPlot(\n",
              "                        '8de9f597-07f6-47d0-8fd2-237eb4246f81',\n",
              "                        [{\"alignmentgroup\": \"True\", \"box\": {\"visible\": false}, \"customdata\": [[\"female\"], [\"female\"], [\"male\"], [\"male\"], [\"female\"], [\"male\"], [\"male\"], [\"male\"], [\"male\"], [\"male\"], [\"male\"], [\"male\"], [\"male\"], [\"male\"], [\"male\"], [\"female\"], [\"female\"], [\"male\"], [\"female\"], [\"male\"], [\"female\"], [\"male\"], [\"female\"], [\"male\"], [\"female\"], [\"male\"], [\"male\"], [\"female\"], [\"male\"], [\"male\"], [\"female\"], [\"male\"], [\"female\"], [\"female\"], [\"male\"], [\"male\"], [\"male\"], [\"female\"], [\"male\"], [\"male\"], [\"male\"], [\"female\"], [\"female\"], [\"female\"], [\"male\"], [\"female\"], [\"male\"], [\"male\"], [\"male\"], [\"female\"], [\"male\"], [\"female\"], [\"female\"], [\"male\"], [\"female\"], [\"male\"], [\"male\"], [\"male\"], [\"male\"], [\"female\"], [\"male\"], [\"male\"], [\"male\"], [\"male\"], [\"male\"], [\"female\"], [\"male\"], [\"female\"], [\"male\"], [\"male\"], [\"male\"], [\"male\"], [\"female\"], [\"male\"], [\"female\"], [\"male\"], [\"male\"], [\"female\"], [\"female\"], [\"male\"], [\"male\"], [\"female\"], [\"male\"], [\"female\"], [\"female\"], [\"male\"], [\"female\"], [\"male\"], [\"female\"], [\"female\"], [\"female\"], [\"female\"], [\"male\"], [\"male\"], [\"male\"], [\"female\"], [\"male\"], [\"male\"], [\"female\"], [\"male\"], [\"male\"], [\"male\"], [\"female\"], [\"male\"], [\"male\"], [\"male\"], [\"male\"], [\"male\"], [\"male\"], [\"male\"], [\"female\"], [\"male\"], [\"female\"], [\"female\"], [\"male\"], [\"female\"], [\"female\"], [\"female\"], [\"female\"], [\"female\"], [\"male\"], [\"female\"], [\"male\"], [\"female\"], [\"male\"], [\"male\"], [\"female\"], [\"male\"], [\"male\"], [\"female\"], [\"female\"], [\"male\"], [\"female\"], [\"male\"], [\"female\"], [\"male\"], [\"male\"], [\"male\"], [\"male\"], [\"female\"], [\"female\"], [\"female\"], [\"male\"], [\"female\"], [\"male\"], [\"male\"], [\"male\"], [\"male\"], [\"female\"], [\"female\"], [\"male\"], [\"male\"], [\"female\"], [\"male\"], [\"female\"], [\"male\"], [\"male\"], [\"male\"], [\"female\"], [\"female\"], [\"female\"], [\"male\"], [\"male\"], [\"male\"], [\"female\"], [\"female\"], [\"female\"], [\"female\"], [\"female\"], [\"female\"], [\"female\"], [\"male\"], [\"female\"], [\"female\"], [\"male\"], [\"male\"], [\"female\"], [\"male\"], [\"female\"], [\"male\"], [\"female\"], [\"male\"], [\"female\"], [\"male\"], [\"male\"], [\"male\"], [\"male\"], [\"male\"], [\"male\"], [\"male\"], [\"male\"], [\"male\"], [\"male\"], [\"male\"], [\"female\"], [\"female\"], [\"male\"], [\"male\"], [\"male\"], [\"male\"], [\"female\"], [\"male\"], [\"male\"], [\"female\"], [\"female\"], [\"male\"], [\"male\"], [\"female\"], [\"female\"], [\"male\"], [\"female\"], [\"male\"], [\"male\"], [\"male\"], [\"male\"], [\"male\"], [\"male\"], [\"female\"], [\"male\"], [\"female\"], [\"female\"], [\"female\"], [\"male\"], [\"female\"], [\"male\"], [\"male\"], [\"female\"], [\"female\"], [\"female\"], [\"female\"], [\"male\"], [\"female\"], [\"male\"], [\"male\"], [\"female\"], [\"female\"], [\"male\"], [\"female\"], [\"male\"], [\"female\"], [\"female\"], [\"female\"], [\"male\"], [\"female\"], [\"female\"], [\"female\"], [\"male\"], [\"female\"], [\"male\"], [\"male\"], [\"male\"], [\"male\"], [\"male\"], [\"male\"], [\"male\"], [\"male\"], [\"male\"], [\"female\"], [\"female\"], [\"male\"], [\"male\"], [\"male\"], [\"male\"], [\"male\"], [\"male\"], [\"male\"], [\"female\"], [\"male\"], [\"female\"], [\"female\"], [\"female\"], [\"male\"], [\"female\"], [\"female\"]], \"hoverlabel\": {\"namelength\": 0}, \"hovertemplate\": \"smoker=yes<br>children=%{x}<br>charges=%{y}<br>sex=%{customdata[0]}\", \"legendgroup\": \"smoker=yes\", \"marker\": {\"color\": \"#636efa\", \"size\": 8}, \"name\": \"smoker=yes\", \"offsetgroup\": \"smoker=yes\", \"orientation\": \"v\", \"scalegroup\": \"True\", \"showlegend\": true, \"type\": \"violin\", \"x\": [0, 0, 0, 0, 1, 2, 0, 1, 1, 0, 1, 1, 0, 2, 2, 1, 0, 3, 0, 1, 2, 2, 0, 3, 2, 0, 0, 3, 1, 0, 1, 1, 0, 2, 2, 3, 3, 0, 0, 0, 0, 0, 0, 0, 3, 0, 2, 0, 0, 2, 0, 2, 0, 2, 2, 2, 0, 0, 0, 1, 3, 0, 3, 1, 2, 1, 3, 1, 2, 0, 1, 3, 3, 3, 0, 0, 2, 1, 1, 0, 1, 0, 2, 0, 3, 0, 2, 0, 1, 2, 2, 0, 0, 0, 1, 0, 1, 0, 1, 3, 1, 0, 0, 4, 0, 1, 0, 1, 1, 1, 0, 2, 0, 3, 2, 1, 1, 1, 0, 0, 2, 1, 2, 0, 4, 0, 0, 0, 3, 2, 0, 2, 2, 0, 2, 3, 2, 1, 1, 0, 3, 1, 3, 0, 3, 2, 0, 0, 0, 0, 0, 1, 0, 3, 1, 0, 0, 0, 0, 1, 0, 2, 1, 3, 2, 0, 0, 0, 0, 3, 0, 0, 2, 3, 1, 0, 0, 2, 2, 0, 0, 0, 0, 0, 1, 3, 2, 2, 1, 1, 1, 2, 0, 3, 0, 3, 2, 0, 3, 2, 3, 1, 1, 1, 0, 0, 2, 1, 0, 0, 2, 1, 0, 3, 1, 1, 0, 5, 0, 0, 2, 2, 3, 3, 2, 1, 0, 3, 1, 0, 0, 3, 0, 1, 2, 1, 0, 1, 3, 1, 0, 3, 2, 1, 1, 0, 3, 0, 2, 2, 1, 0, 0, 0, 0, 0, 1, 2, 0, 1, 2, 0, 0, 3, 0, 2, 0, 4, 0, 2, 3, 0, 2, 0], \"x0\": \" \", \"xaxis\": \"x\", \"y\": [16884.924, 27808.7251, 39611.7577, 36837.467000000004, 37701.8768, 38711.0, 35585.576, 51194.55914, 39774.2763, 48173.361, 38709.176, 23568.272, 37742.5757, 47496.49445, 34303.1672, 23244.7902, 14711.7438, 17663.1442, 16577.7795, 37165.1638, 39836.519, 21098.55405, 43578.9394, 30184.9367, 47291.055, 22412.6485, 15820.698999999999, 30942.1918, 17560.37975, 47055.5321, 19107.7796, 39556.4945, 17081.08, 32734.1863, 18972.495, 20745.9891, 40720.55105, 19964.7463, 21223.6758, 15518.18025, 36950.2567, 21348.706000000002, 36149.4835, 48824.45, 43753.33705, 37133.8982, 20984.0936, 34779.615, 19515.5416, 19444.2658, 17352.6803, 38511.6283, 29523.1656, 12829.4551, 47305.305, 44260.7499, 41097.16175, 43921.1837, 33750.2918, 17085.2676, 24869.8368, 36219.40545, 46151.1245, 17179.522, 42856.837999999996, 22331.5668, 48549.17835, 47896.79135, 42112.2356, 16297.846000000001, 21978.6769, 38746.3551, 24873.3849, 42124.5153, 34838.873, 35491.64, 42760.5022, 47928.03, 48517.56315, 24393.6224, 41919.097, 13844.506000000001, 36085.219, 18033.9679, 21659.9301, 38126.2465, 15006.57945, 42303.69215, 19594.80965, 14455.64405, 18608.262, 28950.4692, 46889.2612, 46599.1084, 39125.33225, 37079.372, 26109.32905, 22144.032000000003, 19521.9682, 25382.297000000002, 28868.6639, 35147.52848, 48885.135610000005, 17942.106, 36197.699, 22218.1149, 32548.3405, 21082.16, 38245.59327, 48675.5177, 63770.42801, 23807.2406, 45863.205, 39983.42595, 45702.02235, 58571.074479999996, 43943.8761, 15359.1045, 17468.9839, 25678.77845, 39241.442, 42969.8527, 23306.547000000002, 34439.8559, 40182.246, 34617.84065, 42983.4585, 20149.3229, 32787.458589999995, 24667.418999999998, 27037.9141, 42560.4304, 40003.33225, 45710.20785, 46200.9851, 46130.5265, 40103.89, 34806.4677, 40273.6455, 44400.4064, 40932.4295, 16657.71745, 19361.9988, 40419.0191, 36189.1017, 44585.45587, 18246.4955, 43254.41795, 19539.243000000002, 23065.4207, 36307.7983, 19040.876, 17748.5062, 18259.216, 24520.264, 21195.818, 18310.742, 17904.52705, 38792.6856, 23401.30575, 55135.402089999996, 43813.8661, 20773.62775, 39597.4072, 36021.0112, 27533.9129, 45008.9555, 37270.1512, 42111.6647, 24106.91255, 40974.1649, 15817.9857, 46113.511, 46255.1125, 19719.6947, 27218.43725, 29330.98315, 44202.6536, 19798.05455, 48673.5588, 17496.306, 33732.6867, 21774.32215, 35069.37452, 39047.285, 19933.458, 47462.894, 38998.546, 20009.63365, 41999.52, 41034.2214, 23967.38305, 16138.76205, 19199.944, 14571.8908, 16420.49455, 17361.7661, 34472.841, 24915.22085, 18767.7377, 35595.5898, 42211.1382, 16450.8947, 21677.28345, 44423.803, 13747.87235, 37484.4493, 39725.51805, 20234.85475, 33475.81715, 21880.82, 44501.3982, 39727.614, 25309.488999999998, 48970.2476, 39871.7043, 34672.1472, 19023.26, 41676.0811, 33907.547999999995, 44641.1974, 16776.30405, 41949.2441, 24180.9335, 36124.5737, 38282.7495, 34166.273, 46661.4424, 40904.1995, 36898.73308, 52590.82939, 40941.2854, 39722.7462, 17178.6824, 22478.6, 23887.6627, 19350.3689, 18328.2381, 37465.34375, 21771.3423, 33307.5508, 18223.4512, 38415.474, 20296.86345, 41661.602, 26125.674769999998, 60021.39897, 20167.336030000002, 47269.85400000001, 49577.6624, 37607.5277, 18648.4217, 16232.847, 26926.5144, 34254.05335, 17043.3414, 22462.04375, 24535.69855, 14283.4594, 47403.88, 38344.566, 34828.654, 62592.87309, 46718.16325, 37829.7242, 21259.37795, 16115.3045, 21472.4788, 33900.653, 36397.576, 18765.87545, 28101.33305, 43896.3763, 29141.3603], \"y0\": \" \", \"yaxis\": \"y\"}, {\"alignmentgroup\": \"True\", \"box\": {\"visible\": false}, \"customdata\": [[\"male\"], [\"male\"], [\"male\"], [\"male\"], [\"female\"], [\"female\"], [\"female\"], [\"male\"], [\"female\"], [\"male\"], [\"male\"], [\"female\"], [\"male\"], [\"female\"], [\"male\"], [\"male\"], [\"female\"], [\"female\"], [\"male\"], [\"male\"], [\"female\"], [\"female\"], [\"female\"], [\"male\"], [\"female\"], [\"female\"], [\"male\"], [\"male\"], [\"female\"], [\"male\"], [\"female\"], [\"female\"], [\"male\"], [\"female\"], [\"male\"], [\"male\"], [\"female\"], [\"female\"], [\"female\"], [\"female\"], [\"female\"], [\"female\"], [\"female\"], [\"female\"], [\"male\"], [\"male\"], [\"male\"], [\"female\"], [\"female\"], [\"female\"], [\"male\"], [\"female\"], [\"male\"], [\"female\"], [\"male\"], [\"male\"], [\"male\"], [\"female\"], [\"male\"], [\"female\"], [\"female\"], [\"male\"], [\"female\"], [\"female\"], [\"female\"], [\"female\"], [\"female\"], [\"female\"], [\"female\"], [\"male\"], [\"female\"], [\"female\"], [\"male\"], [\"female\"], [\"male\"], [\"female\"], [\"female\"], [\"female\"], [\"male\"], [\"male\"], [\"male\"], [\"female\"], [\"male\"], [\"female\"], [\"male\"], [\"male\"], [\"male\"], [\"female\"], [\"female\"], [\"male\"], [\"male\"], [\"female\"], [\"female\"], [\"female\"], [\"female\"], [\"male\"], [\"female\"], [\"female\"], [\"female\"], [\"male\"], [\"female\"], [\"female\"], [\"male\"], [\"male\"], [\"female\"], [\"female\"], [\"male\"], [\"male\"], [\"male\"], [\"female\"], [\"female\"], [\"female\"], [\"male\"], [\"male\"], [\"male\"], [\"female\"], [\"female\"], [\"male\"], [\"female\"], [\"male\"], [\"female\"], [\"male\"], [\"male\"], [\"female\"], [\"female\"], [\"female\"], [\"male\"], [\"male\"], [\"male\"], [\"male\"], [\"female\"], [\"female\"], [\"male\"], [\"male\"], [\"female\"], [\"female\"], [\"male\"], [\"female\"], [\"male\"], [\"female\"], [\"male\"], [\"female\"], [\"female\"], [\"female\"], [\"female\"], [\"male\"], [\"female\"], [\"male\"], [\"female\"], [\"male\"], [\"male\"], [\"female\"], [\"female\"], [\"female\"], [\"female\"], [\"female\"], [\"female\"], [\"female\"], [\"male\"], [\"female\"], [\"male\"], [\"female\"], [\"male\"], [\"male\"], [\"male\"], [\"male\"], [\"female\"], [\"female\"], [\"female\"], [\"female\"], [\"male\"], [\"female\"], [\"female\"], [\"female\"], [\"female\"], [\"male\"], [\"male\"], [\"male\"], [\"female\"], [\"female\"], [\"male\"], [\"female\"], [\"female\"], [\"female\"], [\"male\"], [\"male\"], [\"female\"], [\"male\"], [\"male\"], [\"female\"], [\"female\"], [\"male\"], [\"male\"], [\"female\"], [\"male\"], [\"male\"], [\"male\"], [\"male\"], [\"female\"], [\"female\"], [\"male\"], [\"female\"], [\"female\"], [\"female\"], [\"male\"], [\"male\"], [\"male\"], [\"male\"], [\"male\"], [\"male\"], [\"female\"], [\"male\"], [\"female\"], [\"male\"], [\"female\"], [\"male\"], [\"female\"], [\"female\"], [\"male\"], [\"female\"], [\"female\"], [\"male\"], [\"female\"], [\"male\"], [\"female\"], [\"male\"], [\"male\"], [\"female\"], [\"male\"], [\"female\"], [\"female\"], [\"female\"], [\"male\"], [\"female\"], [\"female\"], [\"male\"], [\"female\"], [\"male\"], [\"female\"], [\"male\"], [\"male\"], [\"male\"], [\"male\"], [\"female\"], [\"male\"], [\"male\"], [\"female\"], [\"male\"], [\"male\"], [\"male\"], [\"female\"], [\"male\"], [\"female\"], [\"female\"], [\"female\"], [\"male\"], [\"male\"], [\"male\"], [\"female\"], [\"female\"], [\"male\"], [\"female\"], [\"male\"], [\"female\"], [\"female\"], [\"male\"], [\"male\"], [\"female\"], [\"male\"], [\"female\"], [\"female\"], [\"female\"], [\"male\"], [\"female\"], [\"male\"], [\"male\"], [\"male\"], [\"male\"], [\"female\"], [\"female\"], [\"male\"], [\"female\"], [\"female\"], [\"female\"], [\"female\"], [\"female\"], [\"male\"], [\"male\"], [\"female\"], [\"female\"], [\"female\"], [\"male\"], [\"female\"], [\"male\"], [\"male\"], [\"female\"], [\"male\"], [\"male\"], [\"female\"], [\"male\"], [\"female\"], [\"female\"], [\"male\"], [\"female\"], [\"male\"], [\"male\"], [\"female\"], [\"male\"], [\"female\"], [\"male\"], [\"male\"], [\"female\"], [\"female\"], [\"male\"], [\"female\"], [\"male\"], [\"male\"], [\"female\"], [\"female\"], [\"female\"], [\"male\"], [\"male\"], [\"male\"], [\"male\"], [\"female\"], [\"female\"], [\"male\"], [\"male\"], [\"male\"], [\"male\"], [\"male\"], [\"female\"], [\"female\"], [\"female\"], [\"female\"], [\"male\"], [\"female\"], [\"male\"], [\"female\"], [\"male\"], [\"male\"], [\"male\"], [\"male\"], [\"female\"], [\"male\"], [\"female\"], [\"male\"], [\"female\"], [\"female\"], [\"male\"], [\"female\"], [\"female\"], [\"male\"], [\"male\"], [\"male\"], [\"male\"], [\"male\"], [\"male\"], [\"male\"], [\"female\"], [\"female\"], [\"male\"], [\"female\"], [\"female\"], [\"female\"], [\"male\"], [\"male\"], [\"female\"], [\"female\"], [\"female\"], [\"female\"], [\"male\"], [\"female\"], [\"female\"], [\"female\"], [\"male\"], [\"male\"], [\"male\"], [\"male\"], [\"male\"], [\"female\"], [\"female\"], [\"male\"], [\"female\"], [\"female\"], [\"male\"], [\"male\"], [\"female\"], [\"female\"], [\"female\"], [\"male\"], [\"male\"], [\"female\"], [\"male\"], [\"female\"], [\"female\"], [\"male\"], [\"female\"], [\"male\"], [\"male\"], [\"male\"], [\"female\"], [\"female\"], [\"male\"], [\"male\"], [\"male\"], [\"male\"], [\"male\"], [\"male\"], [\"male\"], [\"female\"], [\"male\"], [\"female\"], [\"female\"], [\"female\"], [\"female\"], [\"female\"], [\"female\"], [\"female\"], [\"male\"], [\"male\"], [\"female\"], [\"male\"], [\"male\"], [\"male\"], [\"male\"], [\"female\"], [\"female\"], [\"female\"], [\"male\"], [\"female\"], [\"female\"], [\"female\"], [\"male\"], [\"male\"], [\"female\"], [\"female\"], [\"male\"], [\"female\"], [\"male\"], [\"female\"], [\"female\"], [\"male\"], [\"male\"], [\"male\"], [\"male\"], [\"female\"], [\"female\"], [\"male\"], [\"male\"], [\"female\"], [\"female\"], [\"female\"], [\"male\"], [\"female\"], [\"female\"], [\"female\"], [\"female\"], [\"female\"], [\"female\"], [\"female\"], [\"male\"], [\"male\"], [\"female\"], [\"male\"], [\"male\"], [\"male\"], [\"female\"], [\"male\"], [\"female\"], [\"male\"], [\"female\"], [\"female\"], [\"female\"], [\"male\"], [\"male\"], [\"male\"], [\"female\"], [\"female\"], [\"female\"], [\"male\"], [\"female\"], [\"female\"], [\"male\"], [\"female\"], [\"female\"], [\"female\"], [\"female\"], [\"male\"], [\"female\"], [\"female\"], [\"female\"], [\"female\"], [\"female\"], [\"female\"], [\"female\"], [\"male\"], [\"female\"], [\"male\"], [\"female\"], [\"male\"], [\"male\"], [\"male\"], [\"male\"], [\"male\"], [\"female\"], [\"male\"], [\"male\"], [\"male\"], [\"female\"], [\"female\"], [\"male\"], [\"male\"], [\"male\"], [\"female\"], [\"male\"], [\"male\"], [\"male\"], [\"female\"], [\"male\"], [\"female\"], [\"female\"], [\"female\"], [\"female\"], [\"female\"], [\"female\"], [\"female\"], [\"male\"], [\"female\"], [\"female\"], [\"male\"], [\"female\"], [\"female\"], [\"male\"], [\"male\"], [\"female\"], [\"male\"], [\"female\"], [\"male\"], [\"female\"], [\"male\"], [\"female\"], [\"male\"], [\"female\"], [\"female\"], [\"male\"], [\"male\"], [\"female\"], [\"male\"], [\"male\"], [\"male\"], [\"female\"], [\"male\"], [\"male\"], [\"male\"], [\"male\"], [\"female\"], [\"female\"], [\"female\"], [\"male\"], [\"female\"], [\"female\"], [\"female\"], [\"male\"], [\"female\"], [\"female\"], [\"female\"], [\"male\"], [\"female\"], [\"female\"], [\"male\"], [\"female\"], [\"female\"], [\"male\"], [\"female\"], [\"male\"], [\"female\"], [\"male\"], [\"female\"], [\"female\"], [\"female\"], [\"male\"], [\"male\"], [\"male\"], [\"female\"], [\"male\"], [\"female\"], [\"female\"], [\"male\"], [\"female\"], [\"female\"], [\"female\"], [\"female\"], [\"male\"], [\"male\"], [\"female\"], [\"male\"], [\"female\"], [\"male\"], [\"male\"], [\"female\"], [\"male\"], [\"male\"], [\"male\"], [\"female\"], [\"male\"], [\"male\"], [\"female\"], [\"male\"], [\"female\"], [\"male\"], [\"male\"], [\"female\"], [\"female\"], [\"male\"], [\"female\"], [\"female\"], [\"female\"], [\"male\"], [\"female\"], [\"female\"], [\"male\"], [\"male\"], [\"male\"], [\"male\"], [\"male\"], [\"male\"], [\"male\"], [\"male\"], [\"female\"], [\"female\"], [\"male\"], [\"male\"], [\"male\"], [\"female\"], [\"female\"], [\"male\"], [\"female\"], [\"female\"], [\"male\"], [\"female\"], [\"female\"], [\"female\"], [\"female\"], [\"male\"], [\"male\"], [\"female\"], [\"female\"], [\"female\"], [\"male\"], [\"male\"], [\"female\"], [\"female\"], [\"male\"], [\"male\"], [\"male\"], [\"female\"], [\"female\"], [\"male\"], [\"male\"], [\"male\"], [\"female\"], [\"female\"], [\"male\"], [\"female\"], [\"male\"], [\"male\"], [\"female\"], [\"female\"], [\"male\"], [\"male\"], [\"male\"], [\"male\"], [\"female\"], [\"female\"], [\"female\"], [\"male\"], [\"male\"], [\"male\"], [\"female\"], [\"male\"], [\"female\"], [\"male\"], [\"male\"], [\"female\"], [\"female\"], [\"female\"], [\"male\"], [\"female\"], [\"female\"], [\"female\"], [\"male\"], [\"male\"], [\"male\"], [\"male\"], [\"male\"], [\"female\"], [\"male\"], [\"female\"], [\"male\"], [\"male\"], [\"male\"], [\"female\"], [\"female\"], [\"male\"], [\"male\"], [\"female\"], [\"male\"], [\"male\"], [\"female\"], [\"male\"], [\"female\"], [\"male\"], [\"male\"], [\"female\"], [\"male\"], [\"male\"], [\"female\"], [\"male\"], [\"female\"], [\"female\"], [\"male\"], [\"male\"], [\"male\"], [\"female\"], [\"female\"], [\"male\"], [\"female\"], [\"male\"], [\"male\"], [\"female\"], [\"female\"], [\"male\"], [\"female\"], [\"female\"], [\"female\"], [\"female\"], [\"female\"], [\"male\"], [\"male\"], [\"male\"], [\"male\"], [\"female\"], [\"female\"], [\"female\"], [\"male\"], [\"male\"], [\"female\"], [\"male\"], [\"female\"], [\"male\"], [\"female\"], [\"male\"], [\"female\"], [\"male\"], [\"male\"], [\"male\"], [\"female\"], [\"female\"], [\"male\"], [\"male\"], [\"female\"], [\"male\"], [\"male\"], [\"male\"], [\"female\"], [\"male\"], [\"male\"], [\"male\"], [\"female\"], [\"female\"], [\"female\"], [\"male\"], [\"male\"], [\"male\"], [\"male\"], [\"male\"], [\"female\"], [\"female\"], [\"female\"], [\"female\"], [\"female\"], [\"male\"], [\"male\"], [\"male\"], [\"female\"], [\"female\"], [\"male\"], [\"male\"], [\"female\"], [\"male\"], [\"female\"], [\"male\"], [\"female\"], [\"male\"], [\"female\"], [\"female\"], [\"female\"], [\"male\"], [\"female\"], [\"female\"], [\"female\"], [\"female\"], [\"female\"], [\"male\"], [\"male\"], [\"male\"], [\"male\"], [\"male\"], [\"male\"], [\"male\"], [\"female\"], [\"female\"], [\"male\"], [\"female\"], [\"male\"], [\"female\"], [\"female\"], [\"female\"], [\"female\"], [\"male\"], [\"male\"], [\"female\"], [\"female\"], [\"male\"], [\"male\"], [\"female\"], [\"female\"], [\"male\"], [\"female\"], [\"male\"], [\"male\"], [\"male\"], [\"female\"], [\"male\"], [\"female\"], [\"female\"], [\"female\"], [\"male\"], [\"male\"], [\"female\"], [\"male\"], [\"female\"], [\"female\"], [\"female\"], [\"male\"], [\"male\"], [\"male\"], [\"male\"], [\"female\"], [\"female\"], [\"male\"], [\"male\"], [\"male\"], [\"female\"], [\"male\"], [\"male\"], [\"female\"], [\"female\"], [\"female\"], [\"female\"], [\"male\"], [\"male\"], [\"male\"], [\"male\"], [\"male\"], [\"male\"], [\"female\"], [\"male\"], [\"male\"], [\"male\"], [\"male\"], [\"female\"], [\"male\"], [\"female\"], [\"female\"], [\"male\"], [\"female\"], [\"female\"], [\"male\"], [\"male\"], [\"male\"], [\"male\"], [\"female\"], [\"female\"], [\"female\"], [\"male\"], [\"male\"], [\"female\"], [\"female\"], [\"male\"], [\"male\"], [\"male\"], [\"female\"], [\"male\"], [\"female\"], [\"female\"], [\"male\"], [\"female\"], [\"male\"], [\"female\"], [\"female\"], [\"male\"], [\"male\"], [\"female\"], [\"male\"], [\"female\"], [\"female\"], [\"female\"], [\"male\"], [\"male\"], [\"female\"], [\"female\"], [\"male\"], [\"male\"], [\"male\"], [\"female\"], [\"male\"], [\"male\"], [\"female\"], [\"female\"], [\"female\"], [\"female\"], [\"female\"], [\"female\"], [\"female\"], [\"female\"], [\"female\"], [\"male\"], [\"male\"], [\"female\"], [\"female\"], [\"female\"], [\"male\"], [\"female\"], [\"male\"], [\"female\"], [\"female\"], [\"male\"], [\"male\"], [\"female\"], [\"female\"], [\"female\"], [\"female\"], [\"female\"], [\"female\"], [\"female\"], [\"male\"], [\"female\"], [\"female\"], [\"female\"], [\"female\"], [\"female\"], [\"female\"], [\"female\"], [\"female\"], [\"male\"], [\"male\"], [\"female\"], [\"male\"], [\"male\"], [\"male\"], [\"male\"], [\"male\"], [\"female\"], [\"male\"], [\"male\"], [\"male\"], [\"male\"], [\"female\"], [\"female\"], [\"male\"], [\"male\"], [\"male\"], [\"female\"], [\"female\"], [\"male\"], [\"male\"], [\"male\"], [\"female\"], [\"male\"], [\"male\"], [\"male\"], [\"male\"], [\"female\"], [\"male\"], [\"female\"], [\"male\"], [\"female\"], [\"female\"], [\"male\"], [\"female\"], [\"female\"], [\"female\"], [\"male\"], [\"male\"], [\"female\"], [\"male\"], [\"female\"], [\"male\"], [\"female\"], [\"female\"], [\"female\"], [\"female\"], [\"female\"], [\"male\"], [\"female\"], [\"female\"], [\"male\"], [\"female\"], [\"female\"], [\"female\"], [\"female\"], [\"female\"], [\"male\"], [\"male\"], [\"female\"], [\"male\"], [\"male\"], [\"male\"], [\"female\"], [\"female\"], [\"female\"], [\"female\"], [\"male\"], [\"female\"], [\"female\"], [\"female\"], [\"male\"], [\"female\"], [\"male\"], [\"male\"], [\"male\"], [\"male\"], [\"male\"], [\"female\"], [\"male\"], [\"female\"], [\"female\"], [\"female\"], [\"male\"], [\"male\"], [\"female\"], [\"male\"], [\"male\"], [\"female\"], [\"male\"], [\"male\"], [\"female\"], [\"male\"], [\"male\"], [\"male\"], [\"male\"], [\"female\"], [\"male\"], [\"female\"], [\"male\"], [\"female\"], [\"female\"], [\"female\"], [\"male\"], [\"female\"], [\"female\"], [\"female\"]], \"hoverlabel\": {\"namelength\": 0}, \"hovertemplate\": \"smoker=no<br>children=%{x}<br>charges=%{y}<br>sex=%{customdata[0]}\", \"legendgroup\": \"smoker=no\", \"marker\": {\"color\": \"#EF553B\", \"size\": 8}, \"name\": \"smoker=no\", \"offsetgroup\": \"smoker=no\", \"orientation\": \"v\", \"scalegroup\": \"True\", \"showlegend\": true, \"type\": \"violin\", \"x\": [1, 3, 0, 0, 0, 1, 3, 2, 0, 0, 0, 0, 1, 1, 0, 0, 0, 1, 0, 2, 3, 0, 2, 1, 0, 5, 0, 0, 3, 0, 0, 2, 1, 2, 1, 0, 2, 0, 0, 0, 2, 3, 2, 2, 3, 4, 1, 1, 0, 2, 1, 0, 5, 3, 1, 2, 0, 1, 0, 0, 0, 1, 0, 4, 0, 0, 0, 0, 1, 2, 1, 3, 0, 0, 0, 0, 1, 1, 2, 0, 1, 2, 0, 0, 3, 0, 0, 0, 2, 2, 0, 0, 3, 0, 0, 2, 0, 0, 2, 0, 0, 0, 0, 0, 3, 0, 2, 1, 2, 3, 1, 1, 1, 1, 0, 3, 1, 0, 3, 1, 2, 0, 4, 5, 3, 1, 3, 0, 0, 0, 1, 0, 2, 1, 2, 3, 0, 0, 3, 0, 2, 2, 3, 1, 2, 0, 0, 0, 1, 0, 0, 0, 2, 0, 0, 0, 1, 0, 0, 1, 0, 0, 1, 1, 4, 2, 1, 2, 2, 0, 0, 1, 0, 1, 0, 3, 3, 0, 0, 1, 2, 1, 3, 0, 1, 2, 0, 2, 1, 1, 1, 3, 0, 0, 0, 1, 1, 3, 3, 0, 4, 0, 3, 3, 1, 1, 1, 2, 1, 0, 2, 2, 0, 2, 1, 1, 1, 0, 1, 2, 0, 3, 0, 1, 0, 3, 0, 1, 3, 2, 2, 2, 2, 2, 1, 0, 2, 0, 0, 0, 0, 0, 0, 0, 1, 1, 4, 0, 0, 1, 1, 0, 0, 0, 2, 0, 0, 1, 1, 0, 0, 0, 0, 4, 3, 2, 1, 1, 0, 0, 0, 0, 0, 0, 0, 3, 3, 0, 0, 2, 1, 1, 2, 1, 3, 2, 2, 3, 0, 0, 1, 0, 3, 1, 0, 2, 2, 0, 0, 2, 0, 3, 4, 0, 1, 1, 2, 0, 3, 0, 2, 0, 0, 1, 0, 3, 0, 2, 0, 1, 3, 1, 0, 5, 0, 1, 0, 1, 0, 2, 5, 1, 0, 1, 3, 0, 2, 0, 0, 1, 3, 0, 3, 5, 0, 1, 0, 1, 0, 0, 0, 0, 1, 4, 1, 0, 0, 2, 0, 2, 0, 0, 3, 3, 2, 0, 0, 1, 2, 1, 1, 0, 0, 0, 0, 0, 0, 0, 3, 2, 0, 1, 3, 0, 3, 0, 1, 0, 0, 0, 0, 0, 2, 2, 2, 0, 0, 1, 3, 1, 2, 0, 0, 1, 0, 0, 0, 0, 1, 2, 1, 0, 0, 0, 0, 0, 0, 2, 1, 1, 0, 0, 2, 0, 0, 1, 3, 2, 1, 0, 3, 2, 0, 0, 0, 2, 0, 0, 0, 0, 2, 0, 2, 1, 0, 0, 2, 0, 0, 1, 2, 0, 1, 2, 5, 0, 1, 2, 1, 2, 0, 0, 1, 0, 1, 0, 2, 1, 0, 1, 3, 0, 1, 0, 1, 2, 0, 1, 2, 1, 2, 2, 0, 0, 0, 3, 0, 0, 2, 1, 2, 0, 3, 0, 0, 0, 1, 1, 0, 0, 3, 1, 0, 1, 0, 0, 2, 1, 0, 1, 2, 4, 5, 0, 3, 2, 3, 1, 3, 0, 0, 2, 1, 0, 2, 0, 1, 2, 1, 4, 3, 1, 1, 0, 1, 1, 3, 0, 0, 0, 0, 3, 3, 2, 1, 0, 0, 1, 2, 2, 0, 1, 0, 1, 1, 0, 1, 0, 2, 0, 2, 0, 0, 0, 1, 1, 2, 3, 3, 0, 1, 2, 2, 0, 0, 0, 1, 1, 2, 0, 0, 3, 0, 0, 1, 1, 0, 1, 1, 3, 1, 3, 1, 2, 2, 0, 0, 1, 2, 0, 1, 0, 0, 0, 0, 4, 2, 3, 3, 2, 1, 0, 2, 0, 1, 1, 0, 2, 3, 2, 0, 2, 3, 2, 0, 3, 0, 0, 1, 1, 3, 0, 0, 3, 0, 0, 0, 0, 2, 2, 1, 0, 1, 0, 1, 0, 0, 1, 0, 0, 1, 3, 3, 2, 2, 2, 0, 0, 3, 1, 0, 0, 2, 0, 2, 1, 0, 0, 2, 0, 1, 2, 0, 0, 2, 0, 0, 0, 0, 1, 1, 0, 0, 2, 2, 0, 1, 0, 3, 2, 0, 0, 2, 0, 1, 0, 3, 0, 1, 0, 1, 3, 0, 1, 5, 1, 2, 3, 1, 0, 4, 0, 0, 1, 4, 0, 0, 0, 1, 0, 0, 0, 3, 0, 0, 2, 3, 1, 3, 1, 3, 1, 2, 0, 0, 1, 0, 0, 1, 0, 0, 2, 2, 1, 0, 1, 1, 1, 5, 0, 2, 0, 2, 5, 2, 0, 0, 1, 0, 0, 0, 1, 2, 0, 0, 1, 1, 1, 1, 1, 0, 1, 3, 2, 1, 1, 2, 5, 3, 0, 0, 0, 0, 0, 1, 3, 0, 1, 0, 1, 5, 1, 3, 1, 0, 1, 2, 2, 1, 3, 3, 0, 3, 0, 0, 0, 1, 2, 2, 2, 1, 0, 4, 1, 0, 0, 1, 2, 3, 2, 0, 1, 1, 0, 0, 0, 2, 0, 0, 3, 0, 2, 0, 0, 1, 0, 1, 1, 0, 1, 0, 0, 0, 0, 0, 1, 0, 1, 3, 4, 1, 2, 0, 1, 1, 0, 0, 2, 0, 1, 1, 0, 3, 2, 1, 1, 1, 2, 0, 0, 1, 0, 0, 3, 4, 4, 0, 0, 1, 3, 1, 0, 0, 0, 0, 2, 1, 3, 1, 3, 0, 1, 5, 3, 2, 1, 0, 0, 2, 1, 0, 5, 2, 0, 0, 0, 3, 1, 0, 0, 1, 3, 0, 2, 2, 3, 0, 1, 0, 0, 0, 1, 4, 3, 2, 0, 0, 1, 2, 1, 0, 1, 0, 0, 2, 2, 1, 0, 2, 2, 0, 1, 0, 1, 0, 0, 1, 2, 0, 0, 2, 1, 1, 0, 0, 3, 0, 1, 2, 2, 2, 0, 1, 1, 2, 1, 1, 2, 0, 2, 1, 0, 0, 2, 3, 1, 2, 0, 1, 1, 2, 2, 0, 0, 3, 0, 2, 0, 0, 0, 3, 1, 3, 0, 0, 5, 3, 4, 0, 0, 4, 0, 0, 3, 1, 3, 0, 0, 1, 1, 1, 2, 0, 0, 3, 1, 0, 5, 1, 0, 0, 0, 2, 0, 1, 0, 0, 1, 1, 2, 0, 3, 0, 1, 0, 2, 2, 1, 1, 0, 2, 1, 0, 1, 1, 0, 0, 4, 2, 3, 0, 1, 0, 0, 1, 2, 2, 2, 0, 3, 3, 0, 0, 0], \"x0\": \" \", \"xaxis\": \"x\", \"y\": [1725.5523, 4449.462, 21984.47061, 3866.8552, 3756.6216, 8240.5896, 7281.5056, 6406.4107, 28923.136919999997, 2721.3208, 1826.8429999999998, 11090.7178, 1837.237, 10797.3362, 2395.17155, 10602.385, 13228.84695, 4149.736, 1137.011, 6203.90175, 14001.1338, 14451.83515, 12268.63225, 2775.19215, 2198.18985, 4687.7970000000005, 13770.0979, 1625.43375, 15612.19335, 2302.3, 3046.062, 4949.7587, 6272.4772, 6313.759, 6079.6715, 20630.28351, 3393.35635, 3556.9223, 12629.8967, 2211.13075, 3579.8287, 8059.6791, 13607.36875, 5989.52365, 8606.2174, 4504.6624, 30166.618169999998, 4133.64165, 1743.214, 14235.072, 6389.37785, 5920.1041, 6799.4580000000005, 11741.726, 11946.6259, 7726.854, 11356.6609, 3947.4131, 1532.4697, 2755.02095, 6571.02435, 4441.21315, 7935.29115, 11033.6617, 11073.176000000001, 8026.6666, 11082.5772, 2026.9741, 10942.13205, 5729.0053, 3766.8838, 12105.32, 10226.2842, 6186.1269999999995, 3645.0894, 21344.8467, 5003.853, 2331.519, 3877.30425, 2867.1196, 10825.2537, 11881.358, 4646.759, 2404.7338, 11488.31695, 30259.995560000003, 11381.3254, 8601.3293, 6686.4313, 7740.3369999999995, 1705.6245, 2257.47525, 10115.00885, 3385.39915, 9634.538, 6082.405, 12815.44495, 13616.3586, 11163.568000000001, 1632.56445, 2457.21115, 2155.6815, 1261.442, 2045.68525, 27322.733860000004, 2166.732, 27375.90478, 3490.5491, 18157.876, 5138.2567, 9877.6077, 10959.6947, 1842.519, 5125.2157, 7789.635, 6334.34355, 7077.1894, 6948.7008, 19749.383380000003, 10450.552, 5152.134, 5028.1466, 10407.08585, 4830.63, 6128.79745, 2719.27975, 4827.90495, 13405.3903, 8116.68, 1694.7964, 5246.047, 2855.43755, 6455.86265, 10436.096, 8823.279, 8538.28845, 11735.87905, 1631.8212, 4005.4225, 7419.4779, 7731.4271, 3981.9768, 5325.651, 6775.960999999999, 4922.9159, 12557.6053, 4883.866, 2137.6536, 12044.341999999999, 1137.4697, 1639.5631, 5649.715, 8516.829, 9644.2525, 14901.5167, 2130.6759, 8871.1517, 13012.20865, 7147.105, 4337.7352, 11743.298999999999, 13880.948999999999, 6610.1097, 1980.07, 8162.71625, 3537.703, 5002.7827, 8520.026, 7371.772, 10355.641, 2483.736, 3392.9768, 25081.76784, 5012.471, 10564.8845, 5253.524, 11987.1682, 2689.4954, 24227.33724, 7358.17565, 9225.2564, 7443.64305, 14001.2867, 1727.785, 12333.828000000001, 6710.1919, 1615.7667, 4463.2051, 7152.6714, 5354.07465, 35160.13457, 7196.866999999999, 24476.47851, 12648.7034, 1986.9334, 1832.094, 4040.55825, 4260.744000000001, 13047.33235, 5400.9805, 11520.09985, 11837.16, 20462.99766, 14590.63205, 7441.053000000001, 9282.4806, 1719.4363, 7265.7025, 9617.66245, 2523.1695, 9715.841, 2803.69785, 2150.469, 12928.7911, 9855.1314, 4237.12655, 11879.10405, 9625.92, 7742.1098, 9432.9253, 14256.1928, 25992.82104, 3172.018, 20277.80751, 2156.7518, 3906.127, 1704.5681, 9249.4952, 6746.7425, 12265.5069, 4349.462, 12646.207, 19442.3535, 20177.671130000002, 4151.0287, 11944.59435, 7749.1564, 8444.474, 1737.376, 8124.4084, 9722.7695, 8835.26495, 10435.06525, 7421.19455, 4667.60765, 4894.7533, 24671.66334, 11566.30055, 2866.091, 6600.20595, 3561.8889, 9144.565, 13429.0354, 11658.37915, 19144.57652, 13822.803, 12142.5786, 13937.6665, 8232.6388, 18955.22017, 13352.0998, 13217.0945, 13981.85035, 10977.2063, 6184.2994, 4889.9995, 8334.45755, 5478.0368, 1635.73365, 11830.6072, 8932.084, 3554.203, 12404.8791, 14133.03775, 24603.04837, 8944.1151, 9620.3307, 1837.2819, 1607.5101, 10043.249, 4751.07, 2597.779, 3180.5101, 9778.3472, 13430.265, 8017.06115, 8116.26885, 3481.868, 13415.0381, 12029.2867, 7639.41745, 1391.5287, 16455.70785, 27000.98473, 20781.48892, 5846.9176, 8302.53565, 1261.859, 11856.4115, 30284.642939999998, 3176.8159, 4618.0799, 10736.87075, 2138.0707, 8964.06055, 9290.1395, 9411.005, 7526.70645, 8522.003, 16586.49771, 14988.431999999999, 1631.6683, 9264.796999999999, 8083.9198, 14692.66935, 10269.46, 3260.199, 11396.9002, 4185.0979, 8539.671, 6652.5288, 4074.4537, 1621.3402, 5080.096, 2134.9015, 7345.7266, 9140.951, 14418.2804, 2727.3951, 8968.33, 9788.8659, 6555.07035, 7323.734818999999, 3167.45585, 18804.7524, 23082.95533, 4906.40965, 5969.723000000001, 12638.195, 4243.59005, 13919.8229, 2254.7967, 5926.846, 12592.5345, 2897.3235, 4738.2682, 1149.3959, 28287.897660000002, 7345.084, 12730.9996, 11454.0215, 5910.944, 4762.329000000001, 7512.267, 4032.2407, 1969.614, 1769.53165, 4686.3887, 21797.0004, 11881.9696, 11840.77505, 10601.412, 7682.67, 10381.4787, 15230.32405, 11165.41765, 1632.03625, 13224.693000000001, 12643.3778, 23288.9284, 2201.0971, 2497.0383, 2203.47185, 1744.465, 20878.78443, 2534.39375, 1534.3045, 1824.2854, 15555.18875, 9304.7019, 1622.1885, 9880.068000000001, 9563.029, 4347.02335, 12475.3513, 1253.9360000000001, 10461.9794, 1748.774, 24513.09126, 2196.4732, 12574.048999999999, 1967.0227, 4931.647, 8027.968000000001, 8211.1002, 13470.86, 6837.3687, 5974.3847, 6796.86325, 2643.2685, 3077.0955, 3044.2133, 11455.28, 11763.0009, 2498.4144, 9361.3268, 1256.299, 11362.755, 27724.28875, 8413.46305, 5240.765, 3857.75925, 25656.575259999998, 3994.1778, 9866.30485, 5397.6167, 11482.63485, 24059.68019, 9861.025, 8342.90875, 1708.0014, 14043.4767, 12925.886, 19214.705530000003, 13831.1152, 6067.12675, 5972.378000000001, 8825.086, 8233.0975, 27346.04207, 6196.448, 3056.3881, 13887.204, 10231.4999, 3268.84665, 11538.421, 3213.62205, 13390.559, 3972.9247, 12957.118, 11187.6567, 17878.900680000002, 3847.6740000000004, 8334.5896, 3935.1799, 1646.4297, 9193.8385, 10923.9332, 2494.022, 9058.7303, 2801.2588, 2128.43105, 6373.55735, 7256.7231, 11552.903999999999, 3761.292, 2219.4451, 4753.6368, 31620.001060000002, 13224.05705, 12222.8983, 1664.9996, 9724.53, 3206.49135, 12913.9924, 1639.5631, 6356.2707, 17626.23951, 1242.816, 4779.6023, 3861.20965, 13635.6379, 5976.8311, 11842.442, 8428.0693, 2566.4707, 5709.1644, 8823.98575, 7640.3092, 5594.8455, 7441.501, 33471.97189, 1633.0444, 9174.13565, 11070.535, 16085.1275, 9283.562, 3558.62025, 4435.0942, 8547.6913, 6571.544, 2207.69745, 6753.0380000000005, 1880.07, 11658.11505, 10713.643999999998, 3659.3459999999995, 9182.17, 12129.61415, 3736.4647, 6748.5912, 11326.71487, 11365.952, 10085.846, 1977.815, 3366.6697, 7173.35995, 9391.346, 14410.9321, 2709.1119, 24915.04626, 12949.1554, 6666.243, 13143.86485, 4466.6214, 18806.14547, 10141.1362, 6123.5688, 8252.2843, 1712.227, 12430.95335, 9800.8882, 10579.711000000001, 8280.6227, 8527.532, 12244.531, 3410.324, 4058.71245, 26392.260290000002, 14394.39815, 6435.6237, 22192.43711, 5148.5526, 1136.3994, 8703.456, 6500.2359, 4837.5823, 3943.5954, 4399.731, 6185.3208, 7222.78625, 12485.8009, 12363.546999999999, 10156.7832, 2585.269, 1242.26, 9863.4718, 4766.022, 11244.3769, 7729.64575, 5438.7491, 26236.57997, 2104.1134, 8068.185, 2362.22905, 2352.96845, 3577.9990000000003, 3201.24515, 29186.48236, 10976.24575, 3500.6123, 2020.5523, 9541.69555, 9504.3103, 5385.3379, 8930.93455, 5375.0380000000005, 10264.4421, 6113.23105, 5469.0066, 1727.54, 10107.2206, 8310.83915, 1984.4533, 2457.502, 12146.971000000001, 9566.9909, 13112.6048, 10848.1343, 12231.6136, 9875.6804, 11264.541000000001, 12979.358, 1263.249, 10106.13425, 6664.68595, 2217.6012, 6781.3542, 10065.413, 4234.927, 9447.25035, 14007.222, 9583.8933, 3484.3309999999997, 8604.48365, 3757.8448, 8827.2099, 9910.35985, 11737.84884, 1627.28245, 8556.907, 3062.50825, 1906.35825, 14210.53595, 11833.7823, 17128.42608, 5031.26955, 7985.815, 5428.7277, 3925.7582, 2416.955, 3070.8087, 9095.06825, 11842.62375, 8062.764, 7050.642, 14319.031, 6933.24225, 27941.28758, 11150.78, 12797.20962, 7261.741, 10560.4917, 6986.696999999999, 7448.40395, 5934.3798, 9869.8102, 1146.7966, 9386.1613, 4350.5144, 6414.178000000001, 12741.16745, 1917.3184, 5209.57885, 13457.9608, 5662.225, 1252.407, 2731.9122, 7209.4918, 4266.1658, 4719.52405, 11848.141000000001, 7046.7222, 14313.8463, 2103.08, 1815.8759, 7731.85785, 28476.734989999997, 2136.88225, 1131.5066, 3309.7926, 9414.92, 6360.9936, 11013.7119, 4428.88785, 5584.3057, 1877.9294, 2842.76075, 3597.5959999999995, 7445.918000000001, 2680.9493, 1621.8827, 8219.2039, 12523.6048, 16069.08475, 6117.4945, 13393.756000000001, 5266.3656, 4719.73655, 11743.9341, 5377.4578, 7160.3303, 4402.233, 11657.7189, 6402.29135, 12622.1795, 1526.3120000000001, 12323.936000000002, 10072.05505, 9872.701, 2438.0552, 2974.1259999999997, 10601.63225, 14119.62, 11729.6795, 1875.344, 18218.16139, 10965.446000000002, 7151.092, 12269.68865, 5458.04645, 8782.469000000001, 6600.361, 1141.4451, 11576.13, 13129.60345, 4391.652, 8457.818000000001, 3392.3652, 5966.8874, 6849.026, 8891.1395, 2690.1138, 26140.3603, 6653.7886, 6282.235, 6311.951999999999, 3443.0640000000003, 2789.0574, 2585.85065, 4877.98105, 5272.1758, 1682.5970000000002, 11945.1327, 7243.8136, 10422.91665, 13555.0049, 13063.883, 2221.56445, 1634.5734, 2117.33885, 8688.85885, 4661.28635, 8125.7845, 12644.589, 4564.19145, 4846.92015, 7633.7206, 15170.069, 2639.0429, 14382.70905, 7626.993, 5257.50795, 2473.3341, 13041.921, 5245.2269, 13451.122, 13462.52, 5488.262, 4320.41085, 6250.435, 25333.33284, 2913.5690000000004, 12032.326000000001, 13470.8044, 6289.7549, 2927.0647, 6238.298000000001, 10096.97, 7348.142, 4673.3922, 12233.828000000001, 32108.662819999998, 8965.79575, 2304.0022, 9487.6442, 1121.8739, 9549.5651, 2217.46915, 1628.4709, 12982.8747, 11674.13, 7160.094, 6358.77645, 11534.87265, 4527.18295, 3875.7341, 12609.88702, 28468.91901, 2730.10785, 3353.284, 14474.675, 9500.57305, 26467.09737, 4746.344, 7518.02535, 3279.86855, 8596.8278, 10702.6424, 4992.3764, 2527.81865, 1759.338, 2322.6218, 7804.1605, 2902.9065, 9704.66805, 4889.0368, 25517.11363, 4500.33925, 16796.41194, 4915.05985, 7624.63, 8410.04685, 28340.18885, 4518.82625, 3378.91, 7144.86265, 10118.424, 5484.4673, 7986.47525, 7418.522, 13887.9685, 6551.7501, 5267.81815, 1972.95, 21232.182259999998, 8627.5411, 4433.3877, 4438.2634, 23241.47453, 9957.7216, 8269.044, 36580.28216, 8765.249, 5383.536, 12124.9924, 2709.24395, 3987.926, 12495.29085, 26018.95052, 8798.593, 1711.0268, 8569.8618, 2020.1770000000001, 21595.38229, 9850.431999999999, 6877.9801, 4137.5227, 12950.0712, 12094.478000000001, 2250.8352, 22493.65964, 1704.70015, 3161.454, 11394.06555, 7325.0482, 3594.17085, 8023.13545, 14394.5579, 9288.0267, 3353.4703, 10594.50155, 8277.523000000001, 17929.303369999998, 2480.9791, 4462.7218, 1981.5819, 11554.2236, 6548.19505, 5708.866999999999, 7045.499, 8978.1851, 5757.41345, 14349.8544, 10928.848999999998, 13974.45555, 1909.52745, 12096.6512, 13204.28565, 4562.8421, 8551.347, 2102.2647, 15161.5344, 11884.04858, 4454.40265, 5855.9025, 4076.4970000000003, 15019.76005, 10796.35025, 11353.2276, 9748.9106, 10577.087, 11286.5387, 3591.48, 11299.343, 4561.1885, 1674.6323, 23045.56616, 3227.1211, 11253.421, 3471.4096, 11363.2832, 20420.60465, 10338.9316, 8988.15875, 10493.9458, 2904.0879999999997, 8605.3615, 11512.405, 5312.16985, 2396.0959, 10807.4863, 9222.4026, 5693.4305, 8347.1643, 18903.49141, 14254.6082, 10214.636, 5836.5204, 14358.36437, 1728.8970000000002, 8582.3023, 3693.428, 20709.02034, 9991.03765, 19673.335730000003, 11085.5868, 7623.518, 3176.2877, 3704.3545, 9048.0273, 7954.517, 27117.99378, 6338.0756, 9630.396999999999, 11289.10925, 2261.5688, 10791.96, 5979.731, 2203.73595, 12235.8392, 5630.45785, 11015.1747, 7228.21565, 14426.07385, 2459.7201, 3989.841, 7727.2532, 5124.1887, 18963.171919999997, 2200.83085, 7153.5539, 5227.98875, 10982.5013, 4529.477, 4670.64, 6112.35295, 11093.6229, 6457.8434, 4433.9159, 2154.361, 6496.8859999999995, 2899.48935, 7650.77375, 2850.68375, 2632.992, 9447.3824, 8603.8234, 13844.7972, 13126.67745, 5327.40025, 13725.47184, 13019.16105, 8671.19125, 4134.08245, 18838.70366, 5699.8375, 6393.60345, 4934.705, 6198.7518, 8733.22925, 2055.3249, 9964.06, 5116.5004, 36910.60803, 12347.171999999999, 5373.36425, 23563.016180000002, 1702.4553, 10806.839, 3956.07145, 12890.05765, 5415.6612, 4058.1161, 7537.1639, 4718.20355, 6593.5083, 8442.667, 6858.4796, 4795.6568, 6640.54485, 7162.0122, 10594.2257, 11938.25595, 12479.70895, 11345.518999999998, 8515.7587, 2699.56835, 14449.8544, 12224.35085, 6985.50695, 3238.4357, 4296.2712, 3171.6149, 1135.9407, 5615.369000000001, 9101.798, 6059.173000000001, 1633.9618, 1241.565, 15828.821730000001, 4415.1588, 6474.013000000001, 11436.73815, 11305.93455, 30063.58055, 10197.7722, 4544.2348, 3277.1609999999996, 6770.1925, 7337.7480000000005, 10370.91255, 10704.47, 1880.487, 8615.3, 3292.52985, 3021.80915, 14478.33015, 4747.0529, 10959.33, 2741.948, 4357.04365, 4189.1131, 8283.6807, 1720.3537, 8534.6718, 3732.6251, 5472.4490000000005, 7147.4728, 7133.9025, 1515.3449, 9301.89355, 11931.12525, 1964.78, 1708.92575, 4340.4409, 5261.46945, 2710.82855, 3208.7870000000003, 2464.6188, 6875.960999999999, 6940.90985, 4571.41305, 4536.259, 11272.331390000001, 1731.6770000000001, 1163.4627, 19496.71917, 7201.70085, 5425.02335, 12981.3457, 4239.89265, 13143.33665, 7050.0213, 9377.9047, 22395.74424, 10325.206, 12629.1656, 10795.937329999999, 11411.685, 10600.5483, 2205.9808, 1629.8335, 2007.945], \"y0\": \" \", \"yaxis\": \"y\"}],\n",
              "                        {\"legend\": {\"tracegroupgap\": 0}, \"template\": {\"data\": {\"bar\": [{\"error_x\": {\"color\": \"#2a3f5f\"}, \"error_y\": {\"color\": \"#2a3f5f\"}, \"marker\": {\"line\": {\"color\": \"#E5ECF6\", \"width\": 0.5}}, \"type\": \"bar\"}], \"barpolar\": [{\"marker\": {\"line\": {\"color\": \"#E5ECF6\", \"width\": 0.5}}, \"type\": \"barpolar\"}], \"carpet\": [{\"aaxis\": {\"endlinecolor\": \"#2a3f5f\", \"gridcolor\": \"white\", \"linecolor\": \"white\", \"minorgridcolor\": \"white\", \"startlinecolor\": \"#2a3f5f\"}, \"baxis\": {\"endlinecolor\": \"#2a3f5f\", \"gridcolor\": \"white\", \"linecolor\": \"white\", \"minorgridcolor\": \"white\", \"startlinecolor\": \"#2a3f5f\"}, \"type\": \"carpet\"}], \"choropleth\": [{\"colorbar\": {\"outlinewidth\": 0, \"ticks\": \"\"}, \"type\": \"choropleth\"}], \"contour\": [{\"colorbar\": {\"outlinewidth\": 0, \"ticks\": \"\"}, \"colorscale\": [[0.0, \"#0d0887\"], [0.1111111111111111, \"#46039f\"], [0.2222222222222222, \"#7201a8\"], [0.3333333333333333, \"#9c179e\"], [0.4444444444444444, \"#bd3786\"], [0.5555555555555556, \"#d8576b\"], [0.6666666666666666, \"#ed7953\"], [0.7777777777777778, \"#fb9f3a\"], [0.8888888888888888, \"#fdca26\"], [1.0, \"#f0f921\"]], \"type\": \"contour\"}], \"contourcarpet\": [{\"colorbar\": {\"outlinewidth\": 0, \"ticks\": \"\"}, \"type\": \"contourcarpet\"}], \"heatmap\": [{\"colorbar\": {\"outlinewidth\": 0, \"ticks\": \"\"}, \"colorscale\": [[0.0, \"#0d0887\"], [0.1111111111111111, \"#46039f\"], [0.2222222222222222, \"#7201a8\"], [0.3333333333333333, \"#9c179e\"], [0.4444444444444444, \"#bd3786\"], [0.5555555555555556, \"#d8576b\"], [0.6666666666666666, \"#ed7953\"], [0.7777777777777778, \"#fb9f3a\"], [0.8888888888888888, \"#fdca26\"], [1.0, \"#f0f921\"]], \"type\": \"heatmap\"}], \"heatmapgl\": [{\"colorbar\": {\"outlinewidth\": 0, \"ticks\": \"\"}, \"colorscale\": [[0.0, \"#0d0887\"], [0.1111111111111111, \"#46039f\"], [0.2222222222222222, \"#7201a8\"], [0.3333333333333333, \"#9c179e\"], [0.4444444444444444, \"#bd3786\"], [0.5555555555555556, \"#d8576b\"], [0.6666666666666666, \"#ed7953\"], [0.7777777777777778, \"#fb9f3a\"], [0.8888888888888888, \"#fdca26\"], [1.0, \"#f0f921\"]], \"type\": \"heatmapgl\"}], \"histogram\": [{\"marker\": {\"colorbar\": {\"outlinewidth\": 0, \"ticks\": \"\"}}, \"type\": \"histogram\"}], \"histogram2d\": [{\"colorbar\": {\"outlinewidth\": 0, \"ticks\": \"\"}, \"colorscale\": [[0.0, \"#0d0887\"], [0.1111111111111111, \"#46039f\"], [0.2222222222222222, \"#7201a8\"], [0.3333333333333333, \"#9c179e\"], [0.4444444444444444, \"#bd3786\"], [0.5555555555555556, \"#d8576b\"], [0.6666666666666666, \"#ed7953\"], [0.7777777777777778, \"#fb9f3a\"], [0.8888888888888888, \"#fdca26\"], [1.0, \"#f0f921\"]], \"type\": \"histogram2d\"}], \"histogram2dcontour\": [{\"colorbar\": {\"outlinewidth\": 0, \"ticks\": \"\"}, \"colorscale\": [[0.0, \"#0d0887\"], [0.1111111111111111, \"#46039f\"], [0.2222222222222222, \"#7201a8\"], [0.3333333333333333, \"#9c179e\"], [0.4444444444444444, \"#bd3786\"], [0.5555555555555556, \"#d8576b\"], [0.6666666666666666, \"#ed7953\"], [0.7777777777777778, \"#fb9f3a\"], [0.8888888888888888, \"#fdca26\"], [1.0, \"#f0f921\"]], \"type\": \"histogram2dcontour\"}], \"mesh3d\": [{\"colorbar\": {\"outlinewidth\": 0, \"ticks\": \"\"}, \"type\": \"mesh3d\"}], \"parcoords\": [{\"line\": {\"colorbar\": {\"outlinewidth\": 0, \"ticks\": \"\"}}, \"type\": \"parcoords\"}], \"pie\": [{\"automargin\": true, \"type\": \"pie\"}], \"scatter\": [{\"marker\": {\"colorbar\": {\"outlinewidth\": 0, \"ticks\": \"\"}}, \"type\": \"scatter\"}], \"scatter3d\": [{\"line\": {\"colorbar\": {\"outlinewidth\": 0, \"ticks\": \"\"}}, \"marker\": {\"colorbar\": {\"outlinewidth\": 0, \"ticks\": \"\"}}, \"type\": \"scatter3d\"}], \"scattercarpet\": [{\"marker\": {\"colorbar\": {\"outlinewidth\": 0, \"ticks\": \"\"}}, \"type\": \"scattercarpet\"}], \"scattergeo\": [{\"marker\": {\"colorbar\": {\"outlinewidth\": 0, \"ticks\": \"\"}}, \"type\": \"scattergeo\"}], \"scattergl\": [{\"marker\": {\"colorbar\": {\"outlinewidth\": 0, \"ticks\": \"\"}}, \"type\": \"scattergl\"}], \"scattermapbox\": [{\"marker\": {\"colorbar\": {\"outlinewidth\": 0, \"ticks\": \"\"}}, \"type\": \"scattermapbox\"}], \"scatterpolar\": [{\"marker\": {\"colorbar\": {\"outlinewidth\": 0, \"ticks\": \"\"}}, \"type\": \"scatterpolar\"}], \"scatterpolargl\": [{\"marker\": {\"colorbar\": {\"outlinewidth\": 0, \"ticks\": \"\"}}, \"type\": \"scatterpolargl\"}], \"scatterternary\": [{\"marker\": {\"colorbar\": {\"outlinewidth\": 0, \"ticks\": \"\"}}, \"type\": \"scatterternary\"}], \"surface\": [{\"colorbar\": {\"outlinewidth\": 0, \"ticks\": \"\"}, \"colorscale\": [[0.0, \"#0d0887\"], [0.1111111111111111, \"#46039f\"], [0.2222222222222222, \"#7201a8\"], [0.3333333333333333, \"#9c179e\"], [0.4444444444444444, \"#bd3786\"], [0.5555555555555556, \"#d8576b\"], [0.6666666666666666, \"#ed7953\"], [0.7777777777777778, \"#fb9f3a\"], [0.8888888888888888, \"#fdca26\"], [1.0, \"#f0f921\"]], \"type\": \"surface\"}], \"table\": [{\"cells\": {\"fill\": {\"color\": \"#EBF0F8\"}, \"line\": {\"color\": \"white\"}}, \"header\": {\"fill\": {\"color\": \"#C8D4E3\"}, \"line\": {\"color\": \"white\"}}, \"type\": \"table\"}]}, \"layout\": {\"annotationdefaults\": {\"arrowcolor\": \"#2a3f5f\", \"arrowhead\": 0, \"arrowwidth\": 1}, \"coloraxis\": {\"colorbar\": {\"outlinewidth\": 0, \"ticks\": \"\"}}, \"colorscale\": {\"diverging\": [[0, \"#8e0152\"], [0.1, \"#c51b7d\"], [0.2, \"#de77ae\"], [0.3, \"#f1b6da\"], [0.4, \"#fde0ef\"], [0.5, \"#f7f7f7\"], [0.6, \"#e6f5d0\"], [0.7, \"#b8e186\"], [0.8, \"#7fbc41\"], [0.9, \"#4d9221\"], [1, \"#276419\"]], \"sequential\": [[0.0, \"#0d0887\"], [0.1111111111111111, \"#46039f\"], [0.2222222222222222, \"#7201a8\"], [0.3333333333333333, \"#9c179e\"], [0.4444444444444444, \"#bd3786\"], [0.5555555555555556, \"#d8576b\"], [0.6666666666666666, \"#ed7953\"], [0.7777777777777778, \"#fb9f3a\"], [0.8888888888888888, \"#fdca26\"], [1.0, \"#f0f921\"]], \"sequentialminus\": [[0.0, \"#0d0887\"], [0.1111111111111111, \"#46039f\"], [0.2222222222222222, \"#7201a8\"], [0.3333333333333333, \"#9c179e\"], [0.4444444444444444, \"#bd3786\"], [0.5555555555555556, \"#d8576b\"], [0.6666666666666666, \"#ed7953\"], [0.7777777777777778, \"#fb9f3a\"], [0.8888888888888888, \"#fdca26\"], [1.0, \"#f0f921\"]]}, \"colorway\": [\"#636efa\", \"#EF553B\", \"#00cc96\", \"#ab63fa\", \"#FFA15A\", \"#19d3f3\", \"#FF6692\", \"#B6E880\", \"#FF97FF\", \"#FECB52\"], \"font\": {\"color\": \"#2a3f5f\"}, \"geo\": {\"bgcolor\": \"white\", \"lakecolor\": \"white\", \"landcolor\": \"#E5ECF6\", \"showlakes\": true, \"showland\": true, \"subunitcolor\": \"white\"}, \"hoverlabel\": {\"align\": \"left\"}, \"hovermode\": \"closest\", \"mapbox\": {\"style\": \"light\"}, \"paper_bgcolor\": \"white\", \"plot_bgcolor\": \"#E5ECF6\", \"polar\": {\"angularaxis\": {\"gridcolor\": \"white\", \"linecolor\": \"white\", \"ticks\": \"\"}, \"bgcolor\": \"#E5ECF6\", \"radialaxis\": {\"gridcolor\": \"white\", \"linecolor\": \"white\", \"ticks\": \"\"}}, \"scene\": {\"xaxis\": {\"backgroundcolor\": \"#E5ECF6\", \"gridcolor\": \"white\", \"gridwidth\": 2, \"linecolor\": \"white\", \"showbackground\": true, \"ticks\": \"\", \"zerolinecolor\": \"white\"}, \"yaxis\": {\"backgroundcolor\": \"#E5ECF6\", \"gridcolor\": \"white\", \"gridwidth\": 2, \"linecolor\": \"white\", \"showbackground\": true, \"ticks\": \"\", \"zerolinecolor\": \"white\"}, \"zaxis\": {\"backgroundcolor\": \"#E5ECF6\", \"gridcolor\": \"white\", \"gridwidth\": 2, \"linecolor\": \"white\", \"showbackground\": true, \"ticks\": \"\", \"zerolinecolor\": \"white\"}}, \"shapedefaults\": {\"line\": {\"color\": \"#2a3f5f\"}}, \"ternary\": {\"aaxis\": {\"gridcolor\": \"white\", \"linecolor\": \"white\", \"ticks\": \"\"}, \"baxis\": {\"gridcolor\": \"white\", \"linecolor\": \"white\", \"ticks\": \"\"}, \"bgcolor\": \"#E5ECF6\", \"caxis\": {\"gridcolor\": \"white\", \"linecolor\": \"white\", \"ticks\": \"\"}}, \"title\": {\"x\": 0.05}, \"xaxis\": {\"automargin\": true, \"gridcolor\": \"white\", \"linecolor\": \"white\", \"ticks\": \"\", \"title\": {\"standoff\": 15}, \"zerolinecolor\": \"white\", \"zerolinewidth\": 2}, \"yaxis\": {\"automargin\": true, \"gridcolor\": \"white\", \"linecolor\": \"white\", \"ticks\": \"\", \"title\": {\"standoff\": 15}, \"zerolinecolor\": \"white\", \"zerolinewidth\": 2}}}, \"title\": {\"text\": \"BMI vs. Charges\"}, \"violinmode\": \"group\", \"xaxis\": {\"anchor\": \"y\", \"domain\": [0.0, 1.0], \"title\": {\"text\": \"children\"}}, \"yaxis\": {\"anchor\": \"x\", \"domain\": [0.0, 1.0], \"title\": {\"text\": \"charges\"}}},\n",
              "                        {\"responsive\": true}\n",
              "                    ).then(function(){\n",
              "                            \n",
              "var gd = document.getElementById('8de9f597-07f6-47d0-8fd2-237eb4246f81');\n",
              "var x = new MutationObserver(function (mutations, observer) {{\n",
              "        var display = window.getComputedStyle(gd).display;\n",
              "        if (!display || display === 'none') {{\n",
              "            console.log([gd, 'removed!']);\n",
              "            Plotly.purge(gd);\n",
              "            observer.disconnect();\n",
              "        }}\n",
              "}});\n",
              "\n",
              "// Listen for the removal of the full notebook cells\n",
              "var notebookContainer = gd.closest('#notebook-container');\n",
              "if (notebookContainer) {{\n",
              "    x.observe(notebookContainer, {childList: true});\n",
              "}}\n",
              "\n",
              "// Listen for the clearing of the current output cell\n",
              "var outputEl = gd.closest('.output');\n",
              "if (outputEl) {{\n",
              "    x.observe(outputEl, {childList: true});\n",
              "}}\n",
              "\n",
              "                        })\n",
              "                };\n",
              "                \n",
              "            </script>\n",
              "        </div>\n",
              "</body>\n",
              "</html>"
            ]
          },
          "metadata": {
            "tags": []
          }
        }
      ]
    },
    {
      "cell_type": "code",
      "metadata": {
        "colab": {
          "base_uri": "https://localhost:8080/",
          "height": 417
        },
        "id": "BvC1VjQalpXK",
        "outputId": "060bdec6-434e-4a2c-ba5f-a565ca0896dd"
      },
      "source": [
        "medical_df"
      ],
      "execution_count": null,
      "outputs": [
        {
          "output_type": "execute_result",
          "data": {
            "text/html": [
              "<div>\n",
              "<style scoped>\n",
              "    .dataframe tbody tr th:only-of-type {\n",
              "        vertical-align: middle;\n",
              "    }\n",
              "\n",
              "    .dataframe tbody tr th {\n",
              "        vertical-align: top;\n",
              "    }\n",
              "\n",
              "    .dataframe thead th {\n",
              "        text-align: right;\n",
              "    }\n",
              "</style>\n",
              "<table border=\"1\" class=\"dataframe\">\n",
              "  <thead>\n",
              "    <tr style=\"text-align: right;\">\n",
              "      <th></th>\n",
              "      <th>age</th>\n",
              "      <th>sex</th>\n",
              "      <th>bmi</th>\n",
              "      <th>children</th>\n",
              "      <th>smoker</th>\n",
              "      <th>region</th>\n",
              "      <th>charges</th>\n",
              "    </tr>\n",
              "  </thead>\n",
              "  <tbody>\n",
              "    <tr>\n",
              "      <th>0</th>\n",
              "      <td>19</td>\n",
              "      <td>female</td>\n",
              "      <td>27.900</td>\n",
              "      <td>0</td>\n",
              "      <td>yes</td>\n",
              "      <td>southwest</td>\n",
              "      <td>16884.92400</td>\n",
              "    </tr>\n",
              "    <tr>\n",
              "      <th>1</th>\n",
              "      <td>18</td>\n",
              "      <td>male</td>\n",
              "      <td>33.770</td>\n",
              "      <td>1</td>\n",
              "      <td>no</td>\n",
              "      <td>southeast</td>\n",
              "      <td>1725.55230</td>\n",
              "    </tr>\n",
              "    <tr>\n",
              "      <th>2</th>\n",
              "      <td>28</td>\n",
              "      <td>male</td>\n",
              "      <td>33.000</td>\n",
              "      <td>3</td>\n",
              "      <td>no</td>\n",
              "      <td>southeast</td>\n",
              "      <td>4449.46200</td>\n",
              "    </tr>\n",
              "    <tr>\n",
              "      <th>3</th>\n",
              "      <td>33</td>\n",
              "      <td>male</td>\n",
              "      <td>22.705</td>\n",
              "      <td>0</td>\n",
              "      <td>no</td>\n",
              "      <td>northwest</td>\n",
              "      <td>21984.47061</td>\n",
              "    </tr>\n",
              "    <tr>\n",
              "      <th>4</th>\n",
              "      <td>32</td>\n",
              "      <td>male</td>\n",
              "      <td>28.880</td>\n",
              "      <td>0</td>\n",
              "      <td>no</td>\n",
              "      <td>northwest</td>\n",
              "      <td>3866.85520</td>\n",
              "    </tr>\n",
              "    <tr>\n",
              "      <th>...</th>\n",
              "      <td>...</td>\n",
              "      <td>...</td>\n",
              "      <td>...</td>\n",
              "      <td>...</td>\n",
              "      <td>...</td>\n",
              "      <td>...</td>\n",
              "      <td>...</td>\n",
              "    </tr>\n",
              "    <tr>\n",
              "      <th>1333</th>\n",
              "      <td>50</td>\n",
              "      <td>male</td>\n",
              "      <td>30.970</td>\n",
              "      <td>3</td>\n",
              "      <td>no</td>\n",
              "      <td>northwest</td>\n",
              "      <td>10600.54830</td>\n",
              "    </tr>\n",
              "    <tr>\n",
              "      <th>1334</th>\n",
              "      <td>18</td>\n",
              "      <td>female</td>\n",
              "      <td>31.920</td>\n",
              "      <td>0</td>\n",
              "      <td>no</td>\n",
              "      <td>northeast</td>\n",
              "      <td>2205.98080</td>\n",
              "    </tr>\n",
              "    <tr>\n",
              "      <th>1335</th>\n",
              "      <td>18</td>\n",
              "      <td>female</td>\n",
              "      <td>36.850</td>\n",
              "      <td>0</td>\n",
              "      <td>no</td>\n",
              "      <td>southeast</td>\n",
              "      <td>1629.83350</td>\n",
              "    </tr>\n",
              "    <tr>\n",
              "      <th>1336</th>\n",
              "      <td>21</td>\n",
              "      <td>female</td>\n",
              "      <td>25.800</td>\n",
              "      <td>0</td>\n",
              "      <td>no</td>\n",
              "      <td>southwest</td>\n",
              "      <td>2007.94500</td>\n",
              "    </tr>\n",
              "    <tr>\n",
              "      <th>1337</th>\n",
              "      <td>61</td>\n",
              "      <td>female</td>\n",
              "      <td>29.070</td>\n",
              "      <td>0</td>\n",
              "      <td>yes</td>\n",
              "      <td>northwest</td>\n",
              "      <td>29141.36030</td>\n",
              "    </tr>\n",
              "  </tbody>\n",
              "</table>\n",
              "<p>1338 rows × 7 columns</p>\n",
              "</div>"
            ],
            "text/plain": [
              "      age     sex     bmi  children smoker     region      charges\n",
              "0      19  female  27.900         0    yes  southwest  16884.92400\n",
              "1      18    male  33.770         1     no  southeast   1725.55230\n",
              "2      28    male  33.000         3     no  southeast   4449.46200\n",
              "3      33    male  22.705         0     no  northwest  21984.47061\n",
              "4      32    male  28.880         0     no  northwest   3866.85520\n",
              "...   ...     ...     ...       ...    ...        ...          ...\n",
              "1333   50    male  30.970         3     no  northwest  10600.54830\n",
              "1334   18  female  31.920         0     no  northeast   2205.98080\n",
              "1335   18  female  36.850         0     no  southeast   1629.83350\n",
              "1336   21  female  25.800         0     no  southwest   2007.94500\n",
              "1337   61  female  29.070         0    yes  northwest  29141.36030\n",
              "\n",
              "[1338 rows x 7 columns]"
            ]
          },
          "metadata": {
            "tags": []
          },
          "execution_count": 31
        }
      ]
    },
    {
      "cell_type": "code",
      "metadata": {
        "colab": {
          "base_uri": "https://localhost:8080/"
        },
        "id": "UnEBZmoMl_Wz",
        "outputId": "4d026d6c-e948-4fb2-d9fa-9d12dccc97ec"
      },
      "source": [
        "medical_df.charges.corr(medical_df.age)"
      ],
      "execution_count": null,
      "outputs": [
        {
          "output_type": "execute_result",
          "data": {
            "text/plain": [
              "0.2990081933306476"
            ]
          },
          "metadata": {
            "tags": []
          },
          "execution_count": 31
        }
      ]
    },
    {
      "cell_type": "code",
      "metadata": {
        "colab": {
          "base_uri": "https://localhost:8080/"
        },
        "id": "uvbD5vdemSSf",
        "outputId": "badb8767-3a20-43fe-aed3-11f915eafe32"
      },
      "source": [
        "medical_df.charges.corr(medical_df.children)"
      ],
      "execution_count": null,
      "outputs": [
        {
          "output_type": "execute_result",
          "data": {
            "text/plain": [
              "0.06799822684790478"
            ]
          },
          "metadata": {
            "tags": []
          },
          "execution_count": 32
        }
      ]
    },
    {
      "cell_type": "code",
      "metadata": {
        "colab": {
          "base_uri": "https://localhost:8080/"
        },
        "id": "m45yd3rRmvB1",
        "outputId": "0f71b5c3-8179-4010-c1ef-d68e73f66d48"
      },
      "source": [
        "medical_df.charges.corr(medical_df.bmi)"
      ],
      "execution_count": null,
      "outputs": [
        {
          "output_type": "execute_result",
          "data": {
            "text/plain": [
              "0.19834096883362895"
            ]
          },
          "metadata": {
            "tags": []
          },
          "execution_count": 33
        }
      ]
    },
    {
      "cell_type": "code",
      "metadata": {
        "colab": {
          "base_uri": "https://localhost:8080/"
        },
        "id": "x4pjW9BxnJKG",
        "outputId": "ea96be89-7266-459b-b272-b883f7d4b381"
      },
      "source": [
        "smoker_values = {'no': 0, 'yes': 1}\n",
        "smoker_num = medical_df.smoker.map(smoker_values)\n",
        "medical_df.charges.corr(smoker_num)"
      ],
      "execution_count": null,
      "outputs": [
        {
          "output_type": "execute_result",
          "data": {
            "text/plain": [
              "0.787251430498478"
            ]
          },
          "metadata": {
            "tags": []
          },
          "execution_count": 34
        }
      ]
    },
    {
      "cell_type": "code",
      "metadata": {
        "colab": {
          "base_uri": "https://localhost:8080/"
        },
        "id": "BwglvM07noGV",
        "outputId": "60ee22dd-7ce0-4a3c-829b-d6c9e4aeb4d1"
      },
      "source": [
        "medical_df.sex"
      ],
      "execution_count": null,
      "outputs": [
        {
          "output_type": "execute_result",
          "data": {
            "text/plain": [
              "0       female\n",
              "1         male\n",
              "2         male\n",
              "3         male\n",
              "4         male\n",
              "         ...  \n",
              "1333      male\n",
              "1334    female\n",
              "1335    female\n",
              "1336    female\n",
              "1337    female\n",
              "Name: sex, Length: 1338, dtype: object"
            ]
          },
          "metadata": {
            "tags": []
          },
          "execution_count": 50
        }
      ]
    },
    {
      "cell_type": "code",
      "metadata": {
        "id": "k5BMgepGnr0o"
      },
      "source": [
        "sex_values = {'male':0, 'female':1}\n",
        "sex_num = medical_df.sex.map(sex_values)\n",
        "medical_df.charges.corr(sex_num)"
      ],
      "execution_count": null,
      "outputs": []
    },
    {
      "cell_type": "code",
      "metadata": {
        "id": "74N7DdgNoU77"
      },
      "source": [
        ""
      ],
      "execution_count": null,
      "outputs": []
    },
    {
      "cell_type": "code",
      "metadata": {
        "colab": {
          "base_uri": "https://localhost:8080/"
        },
        "id": "-2KnVUn1oW_0",
        "outputId": "c7166189-ad77-448a-b1b1-40a0f3090ff0"
      },
      "source": [
        ""
      ],
      "execution_count": null,
      "outputs": [
        {
          "output_type": "execute_result",
          "data": {
            "text/plain": [
              "-0.057292062202025484"
            ]
          },
          "metadata": {
            "tags": []
          },
          "execution_count": 55
        }
      ]
    },
    {
      "cell_type": "code",
      "metadata": {
        "colab": {
          "base_uri": "https://localhost:8080/",
          "height": 172
        },
        "id": "UIXkSnHpoiF9",
        "outputId": "e632ed91-5bc9-45d4-9c3f-86cd8a8ec583"
      },
      "source": [
        "medical_df.corr()"
      ],
      "execution_count": null,
      "outputs": [
        {
          "output_type": "execute_result",
          "data": {
            "text/html": [
              "<div>\n",
              "<style scoped>\n",
              "    .dataframe tbody tr th:only-of-type {\n",
              "        vertical-align: middle;\n",
              "    }\n",
              "\n",
              "    .dataframe tbody tr th {\n",
              "        vertical-align: top;\n",
              "    }\n",
              "\n",
              "    .dataframe thead th {\n",
              "        text-align: right;\n",
              "    }\n",
              "</style>\n",
              "<table border=\"1\" class=\"dataframe\">\n",
              "  <thead>\n",
              "    <tr style=\"text-align: right;\">\n",
              "      <th></th>\n",
              "      <th>age</th>\n",
              "      <th>bmi</th>\n",
              "      <th>children</th>\n",
              "      <th>charges</th>\n",
              "    </tr>\n",
              "  </thead>\n",
              "  <tbody>\n",
              "    <tr>\n",
              "      <th>age</th>\n",
              "      <td>1.000000</td>\n",
              "      <td>0.109272</td>\n",
              "      <td>0.042469</td>\n",
              "      <td>0.299008</td>\n",
              "    </tr>\n",
              "    <tr>\n",
              "      <th>bmi</th>\n",
              "      <td>0.109272</td>\n",
              "      <td>1.000000</td>\n",
              "      <td>0.012759</td>\n",
              "      <td>0.198341</td>\n",
              "    </tr>\n",
              "    <tr>\n",
              "      <th>children</th>\n",
              "      <td>0.042469</td>\n",
              "      <td>0.012759</td>\n",
              "      <td>1.000000</td>\n",
              "      <td>0.067998</td>\n",
              "    </tr>\n",
              "    <tr>\n",
              "      <th>charges</th>\n",
              "      <td>0.299008</td>\n",
              "      <td>0.198341</td>\n",
              "      <td>0.067998</td>\n",
              "      <td>1.000000</td>\n",
              "    </tr>\n",
              "  </tbody>\n",
              "</table>\n",
              "</div>"
            ],
            "text/plain": [
              "               age       bmi  children   charges\n",
              "age       1.000000  0.109272  0.042469  0.299008\n",
              "bmi       0.109272  1.000000  0.012759  0.198341\n",
              "children  0.042469  0.012759  1.000000  0.067998\n",
              "charges   0.299008  0.198341  0.067998  1.000000"
            ]
          },
          "metadata": {
            "tags": []
          },
          "execution_count": 9
        }
      ]
    },
    {
      "cell_type": "code",
      "metadata": {
        "colab": {
          "base_uri": "https://localhost:8080/",
          "height": 298
        },
        "id": "wr62QxlHpCBP",
        "outputId": "146bc65b-38f9-40a8-ac44-d038309f3228"
      },
      "source": [
        "sns.heatmap(medical_df.corr(), cmap='Reds', annot=True)\n",
        "plt.title('Correlation Matrix')"
      ],
      "execution_count": null,
      "outputs": [
        {
          "output_type": "execute_result",
          "data": {
            "text/plain": [
              "Text(0.5, 1.0, 'Correlation Matrix')"
            ]
          },
          "metadata": {
            "tags": []
          },
          "execution_count": 59
        },
        {
          "output_type": "display_data",
          "data": {
            "image/png": "[encoded data removed]",
            "text/plain": [
              "<Figure size 432x288 with 2 Axes>"
            ]
          },
          "metadata": {
            "tags": [],
            "needs_background": "light"
          }
        }
      ]
    },
    {
      "cell_type": "code",
      "metadata": {
        "id": "r63kbtc7pfgK"
      },
      "source": [
        "non_smoker_df = medical_df[medical_df.smoker=='no']"
      ],
      "execution_count": null,
      "outputs": []
    },
    {
      "cell_type": "code",
      "metadata": {
        "colab": {
          "base_uri": "https://localhost:8080/",
          "height": 417
        },
        "id": "TcPGwhJP9OZh",
        "outputId": "64bc414d-0143-45fc-c499-0ea8c9d44458"
      },
      "source": [
        "non_smoker_df"
      ],
      "execution_count": null,
      "outputs": [
        {
          "output_type": "execute_result",
          "data": {
            "text/html": [
              "<div>\n",
              "<style scoped>\n",
              "    .dataframe tbody tr th:only-of-type {\n",
              "        vertical-align: middle;\n",
              "    }\n",
              "\n",
              "    .dataframe tbody tr th {\n",
              "        vertical-align: top;\n",
              "    }\n",
              "\n",
              "    .dataframe thead th {\n",
              "        text-align: right;\n",
              "    }\n",
              "</style>\n",
              "<table border=\"1\" class=\"dataframe\">\n",
              "  <thead>\n",
              "    <tr style=\"text-align: right;\">\n",
              "      <th></th>\n",
              "      <th>age</th>\n",
              "      <th>sex</th>\n",
              "      <th>bmi</th>\n",
              "      <th>children</th>\n",
              "      <th>smoker</th>\n",
              "      <th>region</th>\n",
              "      <th>charges</th>\n",
              "    </tr>\n",
              "  </thead>\n",
              "  <tbody>\n",
              "    <tr>\n",
              "      <th>1</th>\n",
              "      <td>18</td>\n",
              "      <td>male</td>\n",
              "      <td>33.770</td>\n",
              "      <td>1</td>\n",
              "      <td>no</td>\n",
              "      <td>southeast</td>\n",
              "      <td>1725.55230</td>\n",
              "    </tr>\n",
              "    <tr>\n",
              "      <th>2</th>\n",
              "      <td>28</td>\n",
              "      <td>male</td>\n",
              "      <td>33.000</td>\n",
              "      <td>3</td>\n",
              "      <td>no</td>\n",
              "      <td>southeast</td>\n",
              "      <td>4449.46200</td>\n",
              "    </tr>\n",
              "    <tr>\n",
              "      <th>3</th>\n",
              "      <td>33</td>\n",
              "      <td>male</td>\n",
              "      <td>22.705</td>\n",
              "      <td>0</td>\n",
              "      <td>no</td>\n",
              "      <td>northwest</td>\n",
              "      <td>21984.47061</td>\n",
              "    </tr>\n",
              "    <tr>\n",
              "      <th>4</th>\n",
              "      <td>32</td>\n",
              "      <td>male</td>\n",
              "      <td>28.880</td>\n",
              "      <td>0</td>\n",
              "      <td>no</td>\n",
              "      <td>northwest</td>\n",
              "      <td>3866.85520</td>\n",
              "    </tr>\n",
              "    <tr>\n",
              "      <th>5</th>\n",
              "      <td>31</td>\n",
              "      <td>female</td>\n",
              "      <td>25.740</td>\n",
              "      <td>0</td>\n",
              "      <td>no</td>\n",
              "      <td>southeast</td>\n",
              "      <td>3756.62160</td>\n",
              "    </tr>\n",
              "    <tr>\n",
              "      <th>...</th>\n",
              "      <td>...</td>\n",
              "      <td>...</td>\n",
              "      <td>...</td>\n",
              "      <td>...</td>\n",
              "      <td>...</td>\n",
              "      <td>...</td>\n",
              "      <td>...</td>\n",
              "    </tr>\n",
              "    <tr>\n",
              "      <th>1332</th>\n",
              "      <td>52</td>\n",
              "      <td>female</td>\n",
              "      <td>44.700</td>\n",
              "      <td>3</td>\n",
              "      <td>no</td>\n",
              "      <td>southwest</td>\n",
              "      <td>11411.68500</td>\n",
              "    </tr>\n",
              "    <tr>\n",
              "      <th>1333</th>\n",
              "      <td>50</td>\n",
              "      <td>male</td>\n",
              "      <td>30.970</td>\n",
              "      <td>3</td>\n",
              "      <td>no</td>\n",
              "      <td>northwest</td>\n",
              "      <td>10600.54830</td>\n",
              "    </tr>\n",
              "    <tr>\n",
              "      <th>1334</th>\n",
              "      <td>18</td>\n",
              "      <td>female</td>\n",
              "      <td>31.920</td>\n",
              "      <td>0</td>\n",
              "      <td>no</td>\n",
              "      <td>northeast</td>\n",
              "      <td>2205.98080</td>\n",
              "    </tr>\n",
              "    <tr>\n",
              "      <th>1335</th>\n",
              "      <td>18</td>\n",
              "      <td>female</td>\n",
              "      <td>36.850</td>\n",
              "      <td>0</td>\n",
              "      <td>no</td>\n",
              "      <td>southeast</td>\n",
              "      <td>1629.83350</td>\n",
              "    </tr>\n",
              "    <tr>\n",
              "      <th>1336</th>\n",
              "      <td>21</td>\n",
              "      <td>female</td>\n",
              "      <td>25.800</td>\n",
              "      <td>0</td>\n",
              "      <td>no</td>\n",
              "      <td>southwest</td>\n",
              "      <td>2007.94500</td>\n",
              "    </tr>\n",
              "  </tbody>\n",
              "</table>\n",
              "<p>1064 rows × 7 columns</p>\n",
              "</div>"
            ],
            "text/plain": [
              "      age     sex     bmi  children smoker     region      charges\n",
              "1      18    male  33.770         1     no  southeast   1725.55230\n",
              "2      28    male  33.000         3     no  southeast   4449.46200\n",
              "3      33    male  22.705         0     no  northwest  21984.47061\n",
              "4      32    male  28.880         0     no  northwest   3866.85520\n",
              "5      31  female  25.740         0     no  southeast   3756.62160\n",
              "...   ...     ...     ...       ...    ...        ...          ...\n",
              "1332   52  female  44.700         3     no  southwest  11411.68500\n",
              "1333   50    male  30.970         3     no  northwest  10600.54830\n",
              "1334   18  female  31.920         0     no  northeast   2205.98080\n",
              "1335   18  female  36.850         0     no  southeast   1629.83350\n",
              "1336   21  female  25.800         0     no  southwest   2007.94500\n",
              "\n",
              "[1064 rows x 7 columns]"
            ]
          },
          "metadata": {
            "tags": []
          },
          "execution_count": 36
        }
      ]
    },
    {
      "cell_type": "code",
      "metadata": {
        "colab": {
          "base_uri": "https://localhost:8080/",
          "height": 312
        },
        "id": "4yno_dZprlcq",
        "outputId": "4ffa34dd-4b48-48c0-fb08-3033ee7bd8ba"
      },
      "source": [
        "plt.title('Age VS Charges')\n",
        "sns.scatterplot(data=non_smoker_df, x='age', y='charges', alpha=0.7, s=15)"
      ],
      "execution_count": null,
      "outputs": [
        {
          "output_type": "execute_result",
          "data": {
            "text/plain": [
              "<matplotlib.axes._subplots.AxesSubplot at 0x7f05db3b5dd0>"
            ]
          },
          "metadata": {
            "tags": []
          },
          "execution_count": 37
        },
        {
          "output_type": "display_data",
          "data": {
            "image/png": "[encoded data removed]",
            "text/plain": [
              "<Figure size 432x288 with 1 Axes>"
            ]
          },
          "metadata": {
            "tags": [],
            "needs_background": "light"
          }
        }
      ]
    },
    {
      "cell_type": "code",
      "metadata": {
        "id": "JNEyw25Vr_Ng"
      },
      "source": [
        "def estimate_charges(age, w, b):\n",
        "    return w * age + b"
      ],
      "execution_count": null,
      "outputs": []
    },
    {
      "cell_type": "code",
      "metadata": {
        "id": "3IhjYkWJsWhj"
      },
      "source": [
        "w = 50\n",
        "b = 100"
      ],
      "execution_count": null,
      "outputs": []
    },
    {
      "cell_type": "code",
      "metadata": {
        "id": "N7cFUjx2sYSH"
      },
      "source": [
        "ages = non_smoker_df.age\n",
        "estimated_charges = estimate_charges(ages, w, b)"
      ],
      "execution_count": null,
      "outputs": []
    },
    {
      "cell_type": "code",
      "metadata": {
        "colab": {
          "base_uri": "https://localhost:8080/",
          "height": 279
        },
        "id": "eJessH0lsceL",
        "outputId": "f37a8503-1044-4901-834d-bd1415815595"
      },
      "source": [
        "plt.plot(ages, estimated_charges, 'r-o');\n",
        "plt.xlabel('Age');\n",
        "plt.ylabel('Estimated Charges');"
      ],
      "execution_count": null,
      "outputs": [
        {
          "output_type": "display_data",
          "data": {
            "image/png": "[encoded data removed]",
            "text/plain": [
              "<Figure size 432x288 with 1 Axes>"
            ]
          },
          "metadata": {
            "tags": [],
            "needs_background": "light"
          }
        }
      ]
    },
    {
      "cell_type": "code",
      "metadata": {
        "colab": {
          "base_uri": "https://localhost:8080/",
          "height": 265
        },
        "id": "W8B1g3iUsew7",
        "outputId": "74208b6b-c600-4971-9af0-6d1dcd5f2080"
      },
      "source": [
        "target = non_smoker_df.charges\n",
        "\n",
        "plt.plot(ages, estimated_charges, 'r', alpha=0.9);\n",
        "plt.scatter(ages, target, s=8,alpha=0.8);"
      ],
      "execution_count": null,
      "outputs": [
        {
          "output_type": "display_data",
          "data": {
            "image/png": "[encoded data removed]",
            "text/plain": [
              "<Figure size 432x288 with 1 Axes>"
            ]
          },
          "metadata": {
            "tags": [],
            "needs_background": "light"
          }
        }
      ]
    },
    {
      "cell_type": "code",
      "metadata": {
        "id": "btbHuD8Ms1ai"
      },
      "source": [
        "def try_parameters(w, b):\n",
        "    ages = non_smoker_df.age\n",
        "    target = non_smoker_df.charges\n",
        "    \n",
        "    estimated_charges = estimate_charges(ages, w, b)\n",
        "    \n",
        "    plt.plot(ages, estimated_charges, 'r', alpha=0.9);\n",
        "    plt.scatter(ages, target, s=8,alpha=0.8);\n",
        "    plt.xlabel('Age');\n",
        "    plt.ylabel('Charges')\n",
        "    plt.legend(['Estimate', 'Actual']);"
      ],
      "execution_count": null,
      "outputs": []
    },
    {
      "cell_type": "code",
      "metadata": {
        "colab": {
          "base_uri": "https://localhost:8080/",
          "height": 279
        },
        "id": "hz67dEOHudeT",
        "outputId": "3b23c679-ea7d-4eb7-c22a-586abd2e5a35"
      },
      "source": [
        "try_parameters(310, -3400)"
      ],
      "execution_count": null,
      "outputs": [
        {
          "output_type": "display_data",
          "data": {
            "image/png": "[encoded data removed]",
            "text/plain": [
              "<Figure size 432x288 with 1 Axes>"
            ]
          },
          "metadata": {
            "tags": [],
            "needs_background": "light"
          }
        }
      ]
    },
    {
      "cell_type": "code",
      "metadata": {
        "colab": {
          "base_uri": "https://localhost:8080/",
          "height": 279
        },
        "id": "JljEfBLkufNK",
        "outputId": "c4519cd1-e562-4bf5-a553-e4bac4dff241"
      },
      "source": [
        "try_parameters(280, -3500)"
      ],
      "execution_count": null,
      "outputs": [
        {
          "output_type": "display_data",
          "data": {
            "image/png": "[encoded data removed]",
            "text/plain": [
              "<Figure size 432x288 with 1 Axes>"
            ]
          },
          "metadata": {
            "tags": [],
            "needs_background": "light"
          }
        }
      ]
    },
    {
      "cell_type": "code",
      "metadata": {
        "id": "h3_KKAVAuihm"
      },
      "source": [
        "!pip install numpy --quiet"
      ],
      "execution_count": null,
      "outputs": []
    },
    {
      "cell_type": "code",
      "metadata": {
        "id": "vjckOZAk1xFp"
      },
      "source": [
        "import numpy as np"
      ],
      "execution_count": null,
      "outputs": []
    },
    {
      "cell_type": "code",
      "metadata": {
        "id": "r8zDt8V61ztL"
      },
      "source": [
        "def rmse(targets, predictions):\n",
        "    return np.sqrt(np.mean(np.square(targets - predictions)))"
      ],
      "execution_count": null,
      "outputs": []
    },
    {
      "cell_type": "code",
      "metadata": {
        "id": "Rd8net2p18Wj"
      },
      "source": [
        "w = 50\n",
        "b = 100"
      ],
      "execution_count": null,
      "outputs": []
    },
    {
      "cell_type": "code",
      "metadata": {
        "colab": {
          "base_uri": "https://localhost:8080/",
          "height": 279
        },
        "id": "XmdXjJz72C51",
        "outputId": "8fbcd499-9a29-41ad-eb11-f0736b7dd609"
      },
      "source": [
        "try_parameters(w, b)"
      ],
      "execution_count": null,
      "outputs": [
        {
          "output_type": "display_data",
          "data": {
            "image/png": "[encoded data removed]",
            "text/plain": [
              "<Figure size 432x288 with 1 Axes>"
            ]
          },
          "metadata": {
            "tags": [],
            "needs_background": "light"
          }
        }
      ]
    },
    {
      "cell_type": "code",
      "metadata": {
        "id": "zKSFS5w-2EoD"
      },
      "source": [
        "targets = non_smoker_df['charges']\n",
        "predicted = estimate_charges(non_smoker_df.age, w, b)"
      ],
      "execution_count": null,
      "outputs": []
    },
    {
      "cell_type": "code",
      "metadata": {
        "colab": {
          "base_uri": "https://localhost:8080/"
        },
        "id": "OxHX9f442WQK",
        "outputId": "c0dd6c06-a903-4509-daf4-d4633bf5aa16"
      },
      "source": [
        "rmse(targets, predicted)"
      ],
      "execution_count": null,
      "outputs": [
        {
          "output_type": "execute_result",
          "data": {
            "text/plain": [
              "8461.949562575488"
            ]
          },
          "metadata": {
            "tags": []
          },
          "execution_count": 66
        }
      ]
    },
    {
      "cell_type": "code",
      "metadata": {
        "id": "lo5ihcn12Yk0"
      },
      "source": [
        "def try_parameters(w, b):\n",
        "    ages = non_smoker_df.age\n",
        "    target = non_smoker_df.charges\n",
        "    \n",
        "    predicted = estimate_charges(non_smoker_df.age, w, b)\n",
        "    return rmse(targets, predicted)"
      ],
      "execution_count": null,
      "outputs": []
    },
    {
      "cell_type": "code",
      "metadata": {
        "colab": {
          "base_uri": "https://localhost:8080/"
        },
        "id": "HVbmIPmkinXw",
        "outputId": "582d90fb-5ca8-431d-bc35-2f80a36614e3"
      },
      "source": [
        "try_parameters(285,-3500)"
      ],
      "execution_count": null,
      "outputs": [
        {
          "output_type": "execute_result",
          "data": {
            "text/plain": [
              "4722.78668426263"
            ]
          },
          "metadata": {
            "tags": []
          },
          "execution_count": 68
        }
      ]
    },
    {
      "cell_type": "code",
      "metadata": {
        "colab": {
          "base_uri": "https://localhost:8080/"
        },
        "id": "3C_GaG1EiuFs",
        "outputId": "f1ead740-c010-4099-dfba-badc178b40ec"
      },
      "source": [
        "\n",
        "try_parameters(300,-3500)"
      ],
      "execution_count": null,
      "outputs": [
        {
          "output_type": "execute_result",
          "data": {
            "text/plain": [
              "4686.7462770053435"
            ]
          },
          "metadata": {
            "tags": []
          },
          "execution_count": 69
        }
      ]
    },
    {
      "cell_type": "code",
      "metadata": {
        "colab": {
          "base_uri": "https://localhost:8080/"
        },
        "id": "0m2CkWIZi3pW",
        "outputId": "ecc8fc8b-845a-424e-ec24-ea07b6163ec9"
      },
      "source": [
        "try_parameters(300,-3400)"
      ],
      "execution_count": null,
      "outputs": [
        {
          "output_type": "execute_result",
          "data": {
            "text/plain": [
              "4685.280920735072"
            ]
          },
          "metadata": {
            "tags": []
          },
          "execution_count": 70
        }
      ]
    },
    {
      "cell_type": "code",
      "metadata": {
        "colab": {
          "base_uri": "https://localhost:8080/"
        },
        "id": "-4ntqDBhjHzc",
        "outputId": "fe78f00b-67fa-415e-ee09-cbb3b90fd499"
      },
      "source": [
        "!pip install scikit-learn "
      ],
      "execution_count": null,
      "outputs": [
        {
          "output_type": "stream",
          "text": [
            "Requirement already satisfied: scikit-learn in /usr/local/lib/python3.7/dist-packages (0.22.2.post1)\n",
            "Requirement already satisfied: numpy>=1.11.0 in /usr/local/lib/python3.7/dist-packages (from scikit-learn) (1.19.5)\n",
            "Requirement already satisfied: joblib>=0.11 in /usr/local/lib/python3.7/dist-packages (from scikit-learn) (1.0.1)\n",
            "Requirement already satisfied: scipy>=0.17.0 in /usr/local/lib/python3.7/dist-packages (from scikit-learn) (1.4.1)\n"
          ],
          "name": "stdout"
        }
      ]
    },
    {
      "cell_type": "code",
      "metadata": {
        "id": "2cprRyiqxGkd"
      },
      "source": [
        "from sklearn.linear_model import LinearRegression"
      ],
      "execution_count": null,
      "outputs": []
    },
    {
      "cell_type": "code",
      "metadata": {
        "id": "BAlAOpjKxltE"
      },
      "source": [
        "model = LinearRegression()"
      ],
      "execution_count": null,
      "outputs": []
    },
    {
      "cell_type": "code",
      "metadata": {
        "colab": {
          "base_uri": "https://localhost:8080/"
        },
        "id": "j3AD3w2iyCF2",
        "outputId": "8cadab1b-8a2e-4f6c-c57f-6e6f5d1a3067"
      },
      "source": [
        "help(model.fit)"
      ],
      "execution_count": null,
      "outputs": [
        {
          "output_type": "stream",
          "text": [
            "Help on method fit in module sklearn.linear_model._base:\n",
            "\n",
            "fit(X, y, sample_weight=None) method of sklearn.linear_model._base.LinearRegression instance\n",
            "    Fit linear model.\n",
            "    \n",
            "    Parameters\n",
            "    ----------\n",
            "    X : {array-like, sparse matrix} of shape (n_samples, n_features)\n",
            "        Training data\n",
            "    \n",
            "    y : array-like of shape (n_samples,) or (n_samples, n_targets)\n",
            "        Target values. Will be cast to X's dtype if necessary\n",
            "    \n",
            "    sample_weight : array-like of shape (n_samples,), default=None\n",
            "        Individual weights for each sample\n",
            "    \n",
            "        .. versionadded:: 0.17\n",
            "           parameter *sample_weight* support to LinearRegression.\n",
            "    \n",
            "    Returns\n",
            "    -------\n",
            "    self : returns an instance of self.\n",
            "\n"
          ],
          "name": "stdout"
        }
      ]
    },
    {
      "cell_type": "code",
      "metadata": {
        "id": "TfDHc_6VyFse"
      },
      "source": [
        "X = non_smoker_df[['age']]\n",
        "y = non_smoker_df.charges\n"
      ],
      "execution_count": null,
      "outputs": []
    },
    {
      "cell_type": "code",
      "metadata": {
        "colab": {
          "base_uri": "https://localhost:8080/",
          "height": 417
        },
        "id": "TDZSzXQ4yYPr",
        "outputId": "c7252005-c382-44cb-97df-1a1b37a40518"
      },
      "source": [
        "X"
      ],
      "execution_count": null,
      "outputs": [
        {
          "output_type": "execute_result",
          "data": {
            "text/html": [
              "<div>\n",
              "<style scoped>\n",
              "    .dataframe tbody tr th:only-of-type {\n",
              "        vertical-align: middle;\n",
              "    }\n",
              "\n",
              "    .dataframe tbody tr th {\n",
              "        vertical-align: top;\n",
              "    }\n",
              "\n",
              "    .dataframe thead th {\n",
              "        text-align: right;\n",
              "    }\n",
              "</style>\n",
              "<table border=\"1\" class=\"dataframe\">\n",
              "  <thead>\n",
              "    <tr style=\"text-align: right;\">\n",
              "      <th></th>\n",
              "      <th>age</th>\n",
              "    </tr>\n",
              "  </thead>\n",
              "  <tbody>\n",
              "    <tr>\n",
              "      <th>1</th>\n",
              "      <td>18</td>\n",
              "    </tr>\n",
              "    <tr>\n",
              "      <th>2</th>\n",
              "      <td>28</td>\n",
              "    </tr>\n",
              "    <tr>\n",
              "      <th>3</th>\n",
              "      <td>33</td>\n",
              "    </tr>\n",
              "    <tr>\n",
              "      <th>4</th>\n",
              "      <td>32</td>\n",
              "    </tr>\n",
              "    <tr>\n",
              "      <th>5</th>\n",
              "      <td>31</td>\n",
              "    </tr>\n",
              "    <tr>\n",
              "      <th>...</th>\n",
              "      <td>...</td>\n",
              "    </tr>\n",
              "    <tr>\n",
              "      <th>1332</th>\n",
              "      <td>52</td>\n",
              "    </tr>\n",
              "    <tr>\n",
              "      <th>1333</th>\n",
              "      <td>50</td>\n",
              "    </tr>\n",
              "    <tr>\n",
              "      <th>1334</th>\n",
              "      <td>18</td>\n",
              "    </tr>\n",
              "    <tr>\n",
              "      <th>1335</th>\n",
              "      <td>18</td>\n",
              "    </tr>\n",
              "    <tr>\n",
              "      <th>1336</th>\n",
              "      <td>21</td>\n",
              "    </tr>\n",
              "  </tbody>\n",
              "</table>\n",
              "<p>1064 rows × 1 columns</p>\n",
              "</div>"
            ],
            "text/plain": [
              "      age\n",
              "1      18\n",
              "2      28\n",
              "3      33\n",
              "4      32\n",
              "5      31\n",
              "...   ...\n",
              "1332   52\n",
              "1333   50\n",
              "1334   18\n",
              "1335   18\n",
              "1336   21\n",
              "\n",
              "[1064 rows x 1 columns]"
            ]
          },
          "metadata": {
            "tags": []
          },
          "execution_count": 76
        }
      ]
    },
    {
      "cell_type": "code",
      "metadata": {
        "colab": {
          "base_uri": "https://localhost:8080/"
        },
        "id": "zm5FWYe8yZ_5",
        "outputId": "b1e531e0-4d2f-4125-cfe4-a098573fb6e9"
      },
      "source": [
        "model.fit(X,y)\n"
      ],
      "execution_count": null,
      "outputs": [
        {
          "output_type": "execute_result",
          "data": {
            "text/plain": [
              "LinearRegression(copy_X=True, fit_intercept=True, n_jobs=None, normalize=False)"
            ]
          },
          "metadata": {
            "tags": []
          },
          "execution_count": 77
        }
      ]
    },
    {
      "cell_type": "code",
      "metadata": {
        "colab": {
          "base_uri": "https://localhost:8080/"
        },
        "id": "Ed8fRlcSyckc",
        "outputId": "ed8ba465-f814-4323-bfaa-9c23c74f1ff9"
      },
      "source": [
        "model.predict(np.array([[23],[37],[61]]))"
      ],
      "execution_count": null,
      "outputs": [
        {
          "output_type": "execute_result",
          "data": {
            "text/plain": [
              "array([ 4055.30443855,  7796.78921819, 14210.76312614])"
            ]
          },
          "metadata": {
            "tags": []
          },
          "execution_count": 78
        }
      ]
    },
    {
      "cell_type": "code",
      "metadata": {
        "id": "yTuwrd9Yy3Io"
      },
      "source": [
        "predictions = model.predict(X)"
      ],
      "execution_count": null,
      "outputs": []
    },
    {
      "cell_type": "code",
      "metadata": {
        "colab": {
          "base_uri": "https://localhost:8080/"
        },
        "id": "Uat2IOnuy9Iz",
        "outputId": "bf751671-ce09-40f8-f258-847b367dffae"
      },
      "source": [
        "predictions"
      ],
      "execution_count": null,
      "outputs": [
        {
          "output_type": "execute_result",
          "data": {
            "text/plain": [
              "array([2719.0598744 , 5391.54900271, 6727.79356686, ..., 2719.0598744 ,\n",
              "       2719.0598744 , 3520.80661289])"
            ]
          },
          "metadata": {
            "tags": []
          },
          "execution_count": 80
        }
      ]
    },
    {
      "cell_type": "code",
      "metadata": {
        "colab": {
          "base_uri": "https://localhost:8080/"
        },
        "id": "n3P-vaHLy_qC",
        "outputId": "1e1d7cf2-534b-4fee-d27b-e9cf7f7c01cf"
      },
      "source": [
        "non_smoker_df.charges"
      ],
      "execution_count": null,
      "outputs": [
        {
          "output_type": "execute_result",
          "data": {
            "text/plain": [
              "1        1725.55230\n",
              "2        4449.46200\n",
              "3       21984.47061\n",
              "4        3866.85520\n",
              "5        3756.62160\n",
              "           ...     \n",
              "1332    11411.68500\n",
              "1333    10600.54830\n",
              "1334     2205.98080\n",
              "1335     1629.83350\n",
              "1336     2007.94500\n",
              "Name: charges, Length: 1064, dtype: float64"
            ]
          },
          "metadata": {
            "tags": []
          },
          "execution_count": 81
        }
      ]
    },
    {
      "cell_type": "code",
      "metadata": {
        "colab": {
          "base_uri": "https://localhost:8080/"
        },
        "id": "7llj7TAb9_zi",
        "outputId": "c19cbff1-ce39-40ae-fab3-443e849301b6"
      },
      "source": [
        "#for single value\n",
        "X = non_smoker_df[['age']]\n",
        "y = non_smoker_df.charges\n",
        "model.fit(X,y)\n",
        "prediction = model.predict(X)\n",
        "loss = rmse(y, prediction)\n",
        "print(loss)"
      ],
      "execution_count": null,
      "outputs": [
        {
          "output_type": "stream",
          "text": [
            "4662.505766636391\n"
          ],
          "name": "stdout"
        }
      ]
    },
    {
      "cell_type": "code",
      "metadata": {
        "colab": {
          "base_uri": "https://localhost:8080/"
        },
        "id": "mKD2-s71AQed",
        "outputId": "c3c111bf-4760-4b43-8a64-8e7cc71433d5"
      },
      "source": [
        "#for single value\n",
        "X = non_smoker_df[['bmi']]\n",
        "y = non_smoker_df.charges\n",
        "model.fit(X,y)\n",
        "prediction = model.predict(X)\n",
        "loss = rmse(y, prediction)\n",
        "print(loss)"
      ],
      "execution_count": null,
      "outputs": [
        {
          "output_type": "stream",
          "text": [
            "5969.772531913287\n"
          ],
          "name": "stdout"
        }
      ]
    },
    {
      "cell_type": "code",
      "metadata": {
        "colab": {
          "base_uri": "https://localhost:8080/"
        },
        "id": "p84802vizFq9",
        "outputId": "c44988c8-fb32-492a-8dd1-70d3916ef9eb"
      },
      "source": [
        "# for multivalue\n",
        "X = non_smoker_df[['age','children']]\n",
        "model.fit(X,y)\n",
        "prediction = model.predict(X)\n",
        "loss = rmse(y, prediction)\n",
        "print('Loss: ',loss)"
      ],
      "execution_count": null,
      "outputs": [
        {
          "output_type": "stream",
          "text": [
            "Loss:  4608.579056261981\n"
          ],
          "name": "stdout"
        }
      ]
    },
    {
      "cell_type": "code",
      "metadata": {
        "colab": {
          "base_uri": "https://localhost:8080/"
        },
        "id": "3TCoQQ4p7T5Q",
        "outputId": "74ffff97-e28a-4211-a341-61e2f9cd8e78"
      },
      "source": [
        "# for multivalue\n",
        "X = non_smoker_df[['age','children', 'bmi']]\n",
        "model.fit(X,y)\n",
        "prediction = model.predict(X)\n",
        "loss = rmse(y, prediction)\n",
        "print('Loss: ',loss)"
      ],
      "execution_count": null,
      "outputs": [
        {
          "output_type": "stream",
          "text": [
            "Loss:  4608.470405038245\n"
          ],
          "name": "stdout"
        }
      ]
    },
    {
      "cell_type": "code",
      "metadata": {
        "colab": {
          "base_uri": "https://localhost:8080/",
          "height": 417
        },
        "id": "Aw4f95cH73KM",
        "outputId": "1eff8828-8b45-4529-e8b3-99d5baf0c892"
      },
      "source": [
        "non_smoker_df"
      ],
      "execution_count": null,
      "outputs": [
        {
          "output_type": "execute_result",
          "data": {
            "text/html": [
              "<div>\n",
              "<style scoped>\n",
              "    .dataframe tbody tr th:only-of-type {\n",
              "        vertical-align: middle;\n",
              "    }\n",
              "\n",
              "    .dataframe tbody tr th {\n",
              "        vertical-align: top;\n",
              "    }\n",
              "\n",
              "    .dataframe thead th {\n",
              "        text-align: right;\n",
              "    }\n",
              "</style>\n",
              "<table border=\"1\" class=\"dataframe\">\n",
              "  <thead>\n",
              "    <tr style=\"text-align: right;\">\n",
              "      <th></th>\n",
              "      <th>age</th>\n",
              "      <th>sex</th>\n",
              "      <th>bmi</th>\n",
              "      <th>children</th>\n",
              "      <th>smoker</th>\n",
              "      <th>region</th>\n",
              "      <th>charges</th>\n",
              "    </tr>\n",
              "  </thead>\n",
              "  <tbody>\n",
              "    <tr>\n",
              "      <th>1</th>\n",
              "      <td>18</td>\n",
              "      <td>male</td>\n",
              "      <td>33.770</td>\n",
              "      <td>1</td>\n",
              "      <td>no</td>\n",
              "      <td>southeast</td>\n",
              "      <td>1725.55230</td>\n",
              "    </tr>\n",
              "    <tr>\n",
              "      <th>2</th>\n",
              "      <td>28</td>\n",
              "      <td>male</td>\n",
              "      <td>33.000</td>\n",
              "      <td>3</td>\n",
              "      <td>no</td>\n",
              "      <td>southeast</td>\n",
              "      <td>4449.46200</td>\n",
              "    </tr>\n",
              "    <tr>\n",
              "      <th>3</th>\n",
              "      <td>33</td>\n",
              "      <td>male</td>\n",
              "      <td>22.705</td>\n",
              "      <td>0</td>\n",
              "      <td>no</td>\n",
              "      <td>northwest</td>\n",
              "      <td>21984.47061</td>\n",
              "    </tr>\n",
              "    <tr>\n",
              "      <th>4</th>\n",
              "      <td>32</td>\n",
              "      <td>male</td>\n",
              "      <td>28.880</td>\n",
              "      <td>0</td>\n",
              "      <td>no</td>\n",
              "      <td>northwest</td>\n",
              "      <td>3866.85520</td>\n",
              "    </tr>\n",
              "    <tr>\n",
              "      <th>5</th>\n",
              "      <td>31</td>\n",
              "      <td>female</td>\n",
              "      <td>25.740</td>\n",
              "      <td>0</td>\n",
              "      <td>no</td>\n",
              "      <td>southeast</td>\n",
              "      <td>3756.62160</td>\n",
              "    </tr>\n",
              "    <tr>\n",
              "      <th>...</th>\n",
              "      <td>...</td>\n",
              "      <td>...</td>\n",
              "      <td>...</td>\n",
              "      <td>...</td>\n",
              "      <td>...</td>\n",
              "      <td>...</td>\n",
              "      <td>...</td>\n",
              "    </tr>\n",
              "    <tr>\n",
              "      <th>1332</th>\n",
              "      <td>52</td>\n",
              "      <td>female</td>\n",
              "      <td>44.700</td>\n",
              "      <td>3</td>\n",
              "      <td>no</td>\n",
              "      <td>southwest</td>\n",
              "      <td>11411.68500</td>\n",
              "    </tr>\n",
              "    <tr>\n",
              "      <th>1333</th>\n",
              "      <td>50</td>\n",
              "      <td>male</td>\n",
              "      <td>30.970</td>\n",
              "      <td>3</td>\n",
              "      <td>no</td>\n",
              "      <td>northwest</td>\n",
              "      <td>10600.54830</td>\n",
              "    </tr>\n",
              "    <tr>\n",
              "      <th>1334</th>\n",
              "      <td>18</td>\n",
              "      <td>female</td>\n",
              "      <td>31.920</td>\n",
              "      <td>0</td>\n",
              "      <td>no</td>\n",
              "      <td>northeast</td>\n",
              "      <td>2205.98080</td>\n",
              "    </tr>\n",
              "    <tr>\n",
              "      <th>1335</th>\n",
              "      <td>18</td>\n",
              "      <td>female</td>\n",
              "      <td>36.850</td>\n",
              "      <td>0</td>\n",
              "      <td>no</td>\n",
              "      <td>southeast</td>\n",
              "      <td>1629.83350</td>\n",
              "    </tr>\n",
              "    <tr>\n",
              "      <th>1336</th>\n",
              "      <td>21</td>\n",
              "      <td>female</td>\n",
              "      <td>25.800</td>\n",
              "      <td>0</td>\n",
              "      <td>no</td>\n",
              "      <td>southwest</td>\n",
              "      <td>2007.94500</td>\n",
              "    </tr>\n",
              "  </tbody>\n",
              "</table>\n",
              "<p>1064 rows × 7 columns</p>\n",
              "</div>"
            ],
            "text/plain": [
              "      age     sex     bmi  children smoker     region      charges\n",
              "1      18    male  33.770         1     no  southeast   1725.55230\n",
              "2      28    male  33.000         3     no  southeast   4449.46200\n",
              "3      33    male  22.705         0     no  northwest  21984.47061\n",
              "4      32    male  28.880         0     no  northwest   3866.85520\n",
              "5      31  female  25.740         0     no  southeast   3756.62160\n",
              "...   ...     ...     ...       ...    ...        ...          ...\n",
              "1332   52  female  44.700         3     no  southwest  11411.68500\n",
              "1333   50    male  30.970         3     no  northwest  10600.54830\n",
              "1334   18  female  31.920         0     no  northeast   2205.98080\n",
              "1335   18  female  36.850         0     no  southeast   1629.83350\n",
              "1336   21  female  25.800         0     no  southwest   2007.94500\n",
              "\n",
              "[1064 rows x 7 columns]"
            ]
          },
          "metadata": {
            "tags": []
          },
          "execution_count": 68
        }
      ]
    },
    {
      "cell_type": "code",
      "metadata": {
        "colab": {
          "base_uri": "https://localhost:8080/",
          "height": 542
        },
        "id": "Tv0u1Jag8EjL",
        "outputId": "5f53ce88-3c5c-4420-f27f-37e108f6ef06"
      },
      "source": [
        "fig = px.scatter(non_smoker_df, x='bmi', y='charges', title='BMI Vs Charges')\n",
        "fig.update_traces(marker_size=5)\n",
        "fig.show()"
      ],
      "execution_count": null,
      "outputs": [
        {
          "output_type": "display_data",
          "data": {
            "text/html": [
              "<html>\n",
              "<head><meta charset=\"utf-8\" /></head>\n",
              "<body>\n",
              "    <div>\n",
              "            <script src=\"https://cdnjs.cloudflare.com/ajax/libs/mathjax/2.7.5/MathJax.js?config=TeX-AMS-MML_SVG\"></script><script type=\"text/javascript\">if (window.MathJax) {MathJax.Hub.Config({SVG: {font: \"STIX-Web\"}});}</script>\n",
              "                <script type=\"text/javascript\">window.PlotlyConfig = {MathJaxConfig: 'local'};</script>\n",
              "        <script src=\"https://cdn.plot.ly/plotly-latest.min.js\"></script>    \n",
              "            <div id=\"6bf61612-a0d4-4308-9548-c4428ab08ba0\" class=\"plotly-graph-div\" style=\"height:525px; width:100%;\"></div>\n",
              "            <script type=\"text/javascript\">\n",
              "                \n",
              "                    window.PLOTLYENV=window.PLOTLYENV || {};\n",
              "                    \n",
              "                if (document.getElementById(\"6bf61612-a0d4-4308-9548-c4428ab08ba0\")) {\n",
              "                    Plotly.newPlot(\n",
              "                        '6bf61612-a0d4-4308-9548-c4428ab08ba0',\n",
              "                        [{\"hoverlabel\": {\"namelength\": 0}, \"hovertemplate\": \"bmi=%{x}<br>charges=%{y}\", \"legendgroup\": \"\", \"marker\": {\"color\": \"#636efa\", \"size\": 5, \"symbol\": \"circle\"}, \"mode\": \"markers\", \"name\": \"\", \"showlegend\": false, \"type\": \"scattergl\", \"x\": [33.77, 33.0, 22.705, 28.88, 25.74, 33.44, 27.74, 29.83, 25.84, 26.22, 34.4, 39.82, 24.6, 30.78, 23.845, 40.3, 36.005, 32.4, 34.1, 28.025, 27.72, 23.085, 32.775, 17.385, 26.315, 28.6, 28.31, 20.425, 32.965, 20.8, 26.6, 36.63, 21.78, 30.8, 37.05, 37.3, 38.665, 34.77, 24.53, 35.625, 33.63, 28.69, 31.825, 37.335, 27.36, 33.66, 24.7, 25.935, 28.9, 39.1, 26.315, 36.19, 28.5, 28.1, 32.01, 27.4, 34.01, 29.59, 35.53, 39.805, 32.965, 26.885, 38.285, 41.23, 27.2, 27.74, 26.98, 39.49, 24.795, 34.77, 37.62, 30.8, 38.28, 31.6, 25.46, 30.115, 27.5, 28.4, 30.875, 27.94, 33.63, 29.7, 30.8, 35.72, 32.205, 28.595, 49.06, 27.17, 23.37, 37.1, 23.75, 28.975, 33.915, 28.785, 37.4, 34.7, 26.505, 22.04, 35.9, 25.555, 28.785, 28.05, 34.1, 25.175, 31.9, 36.0, 22.42, 32.49, 29.735, 38.83, 37.73, 37.43, 28.4, 24.13, 29.7, 37.145, 25.46, 39.52, 27.83, 39.6, 29.8, 29.64, 28.215, 37.0, 33.155, 31.825, 18.905, 41.47, 30.3, 15.96, 34.8, 33.345, 27.835, 29.2, 28.9, 33.155, 28.595, 38.28, 19.95, 26.41, 30.69, 29.92, 30.9, 32.2, 32.11, 31.57, 26.2, 25.74, 26.6, 34.43, 30.59, 32.8, 28.6, 18.05, 39.33, 32.11, 32.23, 24.035, 22.3, 28.88, 26.4, 31.8, 41.23, 33.0, 30.875, 28.5, 26.73, 30.9, 37.1, 26.6, 23.1, 29.92, 23.21, 33.7, 33.25, 30.8, 33.88, 38.06, 41.91, 31.635, 25.46, 36.195, 27.83, 17.8, 27.5, 24.51, 26.73, 38.39, 38.06, 22.135, 26.8, 35.3, 30.02, 38.06, 35.86, 20.9, 28.975, 30.3, 25.365, 40.15, 24.415, 25.2, 38.06, 32.395, 30.2, 25.84, 29.37, 37.05, 27.455, 27.55, 26.6, 20.615, 24.3, 31.79, 21.56, 27.645, 32.395, 31.2, 26.62, 48.07, 26.22, 26.4, 33.4, 29.64, 28.82, 26.8, 22.99, 28.88, 27.55, 37.51, 33.0, 38.0, 33.345, 27.5, 33.33, 34.865, 33.06, 26.6, 24.7, 35.86, 33.25, 32.205, 32.775, 27.645, 37.335, 25.27, 29.64, 40.945, 27.2, 34.105, 23.21, 36.7, 31.16, 28.785, 35.72, 34.5, 25.74, 27.55, 27.72, 27.6, 30.02, 27.55, 36.765, 41.47, 29.26, 35.75, 33.345, 29.92, 27.835, 23.18, 25.6, 27.7, 35.245, 38.28, 27.6, 43.89, 29.83, 41.91, 20.79, 32.3, 30.5, 26.4, 21.89, 30.78, 32.3, 24.985, 32.015, 30.4, 21.09, 22.23, 33.155, 33.33, 30.115, 31.46, 33.0, 43.34, 22.135, 34.4, 39.05, 25.365, 22.61, 30.21, 35.625, 37.43, 31.445, 31.35, 32.3, 19.855, 34.4, 31.02, 25.6, 38.17, 20.6, 47.52, 32.965, 32.3, 20.4, 38.38, 24.31, 23.6, 21.12, 30.03, 17.48, 23.9, 35.15, 35.64, 34.1, 39.16, 30.59, 30.2, 24.31, 27.265, 29.165, 16.815, 30.4, 33.1, 20.235, 26.9, 30.5, 28.595, 33.11, 31.73, 28.9, 46.75, 29.45, 32.68, 43.01, 36.52, 33.1, 29.64, 25.65, 29.6, 38.6, 29.6, 24.13, 23.4, 29.735, 46.53, 37.4, 30.14, 30.495, 39.6, 33.0, 36.63, 38.095, 25.935, 25.175, 28.7, 33.82, 24.32, 24.09, 32.67, 30.115, 29.8, 33.345, 35.625, 36.85, 32.56, 41.325, 37.51, 31.35, 39.5, 34.3, 31.065, 21.47, 28.7, 31.16, 32.9, 25.08, 25.08, 43.4, 27.93, 23.6, 28.7, 23.98, 39.2, 26.03, 28.93, 30.875, 31.35, 23.75, 25.27, 28.7, 32.11, 33.66, 22.42, 30.4, 35.7, 35.31, 30.495, 31.0, 30.875, 27.36, 44.22, 33.915, 37.73, 33.88, 30.59, 25.8, 39.425, 25.46, 31.73, 29.7, 36.19, 40.48, 28.025, 38.9, 30.2, 28.05, 31.35, 38.0, 31.79, 36.3, 30.21, 35.435, 46.7, 28.595, 30.8, 28.93, 21.4, 31.73, 41.325, 23.8, 33.44, 34.21, 35.53, 19.95, 32.68, 30.5, 44.77, 32.12, 30.495, 40.565, 30.59, 31.9, 29.1, 37.29, 43.12, 36.86, 34.295, 27.17, 26.84, 30.2, 23.465, 25.46, 30.59, 45.43, 23.65, 20.7, 28.27, 20.235, 35.91, 30.69, 29.0, 19.57, 31.13, 40.26, 33.725, 29.48, 33.25, 32.6, 37.525, 39.16, 31.635, 25.3, 39.05, 34.1, 25.175, 26.98, 29.37, 34.8, 33.155, 19.0, 33.0, 28.595, 37.1, 31.4, 21.3, 28.785, 26.03, 28.88, 42.46, 38.0, 36.1, 29.3, 35.53, 22.705, 39.7, 38.19, 24.51, 38.095, 33.66, 42.4, 33.915, 34.96, 35.31, 30.78, 26.22, 23.37, 28.5, 32.965, 42.68, 39.6, 31.13, 36.3, 35.2, 42.4, 33.155, 35.91, 28.785, 46.53, 23.98, 31.54, 33.66, 28.7, 29.81, 31.57, 31.16, 29.7, 31.02, 21.375, 40.81, 36.1, 23.18, 17.4, 20.3, 24.32, 18.5, 26.41, 26.125, 41.69, 24.1, 27.36, 36.2, 32.395, 23.655, 34.8, 40.185, 32.3, 33.725, 39.27, 34.87, 44.745, 41.47, 26.41, 29.545, 32.9, 28.69, 30.495, 27.74, 35.2, 23.54, 30.685, 40.47, 22.6, 28.9, 22.61, 24.32, 36.67, 33.44, 40.66, 36.6, 37.4, 35.4, 27.075, 28.405, 40.28, 36.08, 21.4, 30.1, 27.265, 32.1, 34.77, 23.7, 24.035, 26.62, 26.41, 30.115, 27.0, 21.755, 36.0, 30.875, 28.975, 37.905, 22.77, 33.63, 27.645, 22.8, 37.43, 34.58, 35.2, 26.03, 25.175, 31.825, 32.3, 29.0, 39.7, 19.475, 36.1, 26.7, 36.48, 34.2, 33.33, 32.3, 39.805, 34.32, 28.88, 41.14, 35.97, 29.26, 27.7, 36.955, 36.86, 22.515, 29.92, 41.8, 27.6, 23.18, 31.92, 44.22, 22.895, 33.1, 26.18, 35.97, 22.3, 26.51, 35.815, 41.42, 36.575, 30.14, 25.84, 30.8, 42.94, 21.01, 22.515, 34.43, 31.46, 24.225, 37.1, 33.7, 17.67, 31.13, 29.81, 24.32, 31.825, 21.85, 33.1, 25.84, 23.845, 34.39, 33.82, 35.97, 31.5, 28.31, 23.465, 31.35, 31.1, 24.7, 30.495, 34.2, 50.38, 24.1, 32.775, 32.3, 23.75, 29.6, 32.23, 28.1, 28.0, 33.535, 19.855, 25.4, 29.9, 37.29, 43.7, 23.655, 24.3, 36.2, 29.48, 24.86, 30.1, 21.85, 28.12, 27.1, 33.44, 28.8, 29.5, 34.8, 27.36, 22.135, 26.695, 30.02, 39.5, 33.63, 29.04, 24.035, 32.11, 44.0, 25.555, 40.26, 22.515, 22.515, 27.265, 36.85, 35.1, 29.355, 32.585, 32.34, 39.8, 28.31, 26.695, 27.5, 24.605, 33.99, 28.2, 34.21, 25.0, 33.2, 31.0, 35.815, 23.2, 32.11, 23.4, 20.1, 39.16, 34.21, 46.53, 32.5, 25.8, 35.3, 37.18, 27.5, 29.735, 24.225, 26.18, 29.48, 23.21, 46.09, 40.185, 22.61, 39.93, 35.8, 35.8, 31.255, 18.335, 28.405, 39.49, 26.79, 36.67, 39.615, 25.9, 35.2, 24.795, 36.765, 27.1, 25.365, 25.745, 34.32, 28.16, 23.56, 20.235, 40.5, 35.42, 40.15, 29.15, 39.995, 29.92, 25.46, 21.375, 30.59, 30.115, 25.8, 30.115, 27.645, 34.675, 19.8, 27.835, 31.6, 28.27, 23.275, 34.1, 36.85, 36.29, 26.885, 25.8, 29.6, 19.19, 31.73, 29.26, 24.985, 27.74, 22.8, 33.33, 32.3, 27.6, 25.46, 24.605, 34.2, 35.815, 32.68, 37.0, 23.32, 45.32, 34.6, 18.715, 31.6, 17.29, 27.93, 38.38, 23.0, 28.88, 27.265, 23.085, 25.8, 35.245, 25.08, 22.515, 36.955, 26.41, 29.83, 21.47, 27.645, 28.9, 31.79, 39.49, 33.82, 32.01, 27.94, 28.595, 25.6, 25.3, 37.29, 42.655, 21.66, 31.9, 31.445, 31.255, 28.88, 18.335, 29.59, 32.0, 26.03, 33.66, 21.78, 27.835, 19.95, 31.5, 30.495, 28.975, 31.54, 47.74, 22.1, 29.83, 32.7, 33.7, 31.35, 33.77, 30.875, 33.99, 28.6, 38.94, 36.08, 29.8, 31.24, 29.925, 26.22, 30.0, 20.35, 32.3, 26.315, 24.51, 32.67, 29.64, 19.95, 38.17, 32.395, 25.08, 29.9, 35.86, 32.8, 18.6, 23.87, 45.9, 40.28, 18.335, 33.82, 28.12, 25.0, 22.23, 30.25, 37.07, 32.6, 24.86, 32.34, 32.3, 32.775, 31.92, 21.5, 34.1, 30.305, 36.48, 35.815, 27.93, 22.135, 23.18, 30.59, 41.1, 34.58, 42.13, 38.83, 28.215, 28.31, 26.125, 40.37, 24.6, 35.2, 34.105, 41.91, 29.26, 32.11, 27.1, 27.4, 34.865, 41.325, 29.925, 30.3, 27.36, 23.56, 32.68, 28.0, 32.775, 21.755, 32.395, 36.575, 21.755, 27.93, 33.55, 29.355, 25.8, 24.32, 40.375, 32.11, 32.3, 17.86, 34.8, 37.1, 30.875, 34.1, 21.47, 33.3, 31.255, 39.14, 25.08, 37.29, 30.21, 21.945, 24.97, 25.3, 23.94, 39.82, 16.815, 37.18, 34.43, 30.305, 24.605, 23.3, 27.83, 31.065, 21.66, 28.215, 22.705, 42.13, 21.28, 33.11, 33.33, 24.3, 25.7, 29.4, 39.82, 19.8, 29.3, 27.72, 37.9, 36.385, 27.645, 37.715, 23.18, 20.52, 37.1, 28.05, 29.9, 33.345, 30.5, 33.3, 27.5, 33.915, 34.485, 25.52, 27.61, 23.7, 30.4, 29.735, 26.79, 33.33, 30.03, 24.32, 17.29, 25.9, 34.32, 19.95, 23.21, 25.745, 25.175, 22.0, 26.125, 26.51, 27.455, 25.745, 20.8, 27.72, 32.2, 26.315, 26.695, 42.9, 28.31, 20.6, 53.13, 39.71, 26.315, 31.065, 38.83, 25.935, 33.535, 32.87, 30.03, 24.225, 38.6, 25.74, 33.4, 44.7, 30.97, 31.92, 36.85, 25.8], \"xaxis\": \"x\", \"y\": [1725.5523, 4449.462, 21984.47061, 3866.8552, 3756.6216, 8240.5896, 7281.5056, 6406.4107, 28923.136919999997, 2721.3208, 1826.8429999999998, 11090.7178, 1837.237, 10797.3362, 2395.17155, 10602.385, 13228.84695, 4149.736, 1137.011, 6203.90175, 14001.1338, 14451.83515, 12268.63225, 2775.19215, 2198.18985, 4687.7970000000005, 13770.0979, 1625.43375, 15612.19335, 2302.3, 3046.062, 4949.7587, 6272.4772, 6313.759, 6079.6715, 20630.28351, 3393.35635, 3556.9223, 12629.8967, 2211.13075, 3579.8287, 8059.6791, 13607.36875, 5989.52365, 8606.2174, 4504.6624, 30166.618169999998, 4133.64165, 1743.214, 14235.072, 6389.37785, 5920.1041, 6799.4580000000005, 11741.726, 11946.6259, 7726.854, 11356.6609, 3947.4131, 1532.4697, 2755.02095, 6571.02435, 4441.21315, 7935.29115, 11033.6617, 11073.176000000001, 8026.6666, 11082.5772, 2026.9741, 10942.13205, 5729.0053, 3766.8838, 12105.32, 10226.2842, 6186.1269999999995, 3645.0894, 21344.8467, 5003.853, 2331.519, 3877.30425, 2867.1196, 10825.2537, 11881.358, 4646.759, 2404.7338, 11488.31695, 30259.995560000003, 11381.3254, 8601.3293, 6686.4313, 7740.3369999999995, 1705.6245, 2257.47525, 10115.00885, 3385.39915, 9634.538, 6082.405, 12815.44495, 13616.3586, 11163.568000000001, 1632.56445, 2457.21115, 2155.6815, 1261.442, 2045.68525, 27322.733860000004, 2166.732, 27375.90478, 3490.5491, 18157.876, 5138.2567, 9877.6077, 10959.6947, 1842.519, 5125.2157, 7789.635, 6334.34355, 7077.1894, 6948.7008, 19749.383380000003, 10450.552, 5152.134, 5028.1466, 10407.08585, 4830.63, 6128.79745, 2719.27975, 4827.90495, 13405.3903, 8116.68, 1694.7964, 5246.047, 2855.43755, 6455.86265, 10436.096, 8823.279, 8538.28845, 11735.87905, 1631.8212, 4005.4225, 7419.4779, 7731.4271, 3981.9768, 5325.651, 6775.960999999999, 4922.9159, 12557.6053, 4883.866, 2137.6536, 12044.341999999999, 1137.4697, 1639.5631, 5649.715, 8516.829, 9644.2525, 14901.5167, 2130.6759, 8871.1517, 13012.20865, 7147.105, 4337.7352, 11743.298999999999, 13880.948999999999, 6610.1097, 1980.07, 8162.71625, 3537.703, 5002.7827, 8520.026, 7371.772, 10355.641, 2483.736, 3392.9768, 25081.76784, 5012.471, 10564.8845, 5253.524, 11987.1682, 2689.4954, 24227.33724, 7358.17565, 9225.2564, 7443.64305, 14001.2867, 1727.785, 12333.828000000001, 6710.1919, 1615.7667, 4463.2051, 7152.6714, 5354.07465, 35160.13457, 7196.866999999999, 24476.47851, 12648.7034, 1986.9334, 1832.094, 4040.55825, 4260.744000000001, 13047.33235, 5400.9805, 11520.09985, 11837.16, 20462.99766, 14590.63205, 7441.053000000001, 9282.4806, 1719.4363, 7265.7025, 9617.66245, 2523.1695, 9715.841, 2803.69785, 2150.469, 12928.7911, 9855.1314, 4237.12655, 11879.10405, 9625.92, 7742.1098, 9432.9253, 14256.1928, 25992.82104, 3172.018, 20277.80751, 2156.7518, 3906.127, 1704.5681, 9249.4952, 6746.7425, 12265.5069, 4349.462, 12646.207, 19442.3535, 20177.671130000002, 4151.0287, 11944.59435, 7749.1564, 8444.474, 1737.376, 8124.4084, 9722.7695, 8835.26495, 10435.06525, 7421.19455, 4667.60765, 4894.7533, 24671.66334, 11566.30055, 2866.091, 6600.20595, 3561.8889, 9144.565, 13429.0354, 11658.37915, 19144.57652, 13822.803, 12142.5786, 13937.6665, 8232.6388, 18955.22017, 13352.0998, 13217.0945, 13981.85035, 10977.2063, 6184.2994, 4889.9995, 8334.45755, 5478.0368, 1635.73365, 11830.6072, 8932.084, 3554.203, 12404.8791, 14133.03775, 24603.04837, 8944.1151, 9620.3307, 1837.2819, 1607.5101, 10043.249, 4751.07, 2597.779, 3180.5101, 9778.3472, 13430.265, 8017.06115, 8116.26885, 3481.868, 13415.0381, 12029.2867, 7639.41745, 1391.5287, 16455.70785, 27000.98473, 20781.48892, 5846.9176, 8302.53565, 1261.859, 11856.4115, 30284.642939999998, 3176.8159, 4618.0799, 10736.87075, 2138.0707, 8964.06055, 9290.1395, 9411.005, 7526.70645, 8522.003, 16586.49771, 14988.431999999999, 1631.6683, 9264.796999999999, 8083.9198, 14692.66935, 10269.46, 3260.199, 11396.9002, 4185.0979, 8539.671, 6652.5288, 4074.4537, 1621.3402, 5080.096, 2134.9015, 7345.7266, 9140.951, 14418.2804, 2727.3951, 8968.33, 9788.8659, 6555.07035, 7323.734818999999, 3167.45585, 18804.7524, 23082.95533, 4906.40965, 5969.723000000001, 12638.195, 4243.59005, 13919.8229, 2254.7967, 5926.846, 12592.5345, 2897.3235, 4738.2682, 1149.3959, 28287.897660000002, 7345.084, 12730.9996, 11454.0215, 5910.944, 4762.329000000001, 7512.267, 4032.2407, 1969.614, 1769.53165, 4686.3887, 21797.0004, 11881.9696, 11840.77505, 10601.412, 7682.67, 10381.4787, 15230.32405, 11165.41765, 1632.03625, 13224.693000000001, 12643.3778, 23288.9284, 2201.0971, 2497.0383, 2203.47185, 1744.465, 20878.78443, 2534.39375, 1534.3045, 1824.2854, 15555.18875, 9304.7019, 1622.1885, 9880.068000000001, 9563.029, 4347.02335, 12475.3513, 1253.9360000000001, 10461.9794, 1748.774, 24513.09126, 2196.4732, 12574.048999999999, 1967.0227, 4931.647, 8027.968000000001, 8211.1002, 13470.86, 6837.3687, 5974.3847, 6796.86325, 2643.2685, 3077.0955, 3044.2133, 11455.28, 11763.0009, 2498.4144, 9361.3268, 1256.299, 11362.755, 27724.28875, 8413.46305, 5240.765, 3857.75925, 25656.575259999998, 3994.1778, 9866.30485, 5397.6167, 11482.63485, 24059.68019, 9861.025, 8342.90875, 1708.0014, 14043.4767, 12925.886, 19214.705530000003, 13831.1152, 6067.12675, 5972.378000000001, 8825.086, 8233.0975, 27346.04207, 6196.448, 3056.3881, 13887.204, 10231.4999, 3268.84665, 11538.421, 3213.62205, 13390.559, 3972.9247, 12957.118, 11187.6567, 17878.900680000002, 3847.6740000000004, 8334.5896, 3935.1799, 1646.4297, 9193.8385, 10923.9332, 2494.022, 9058.7303, 2801.2588, 2128.43105, 6373.55735, 7256.7231, 11552.903999999999, 3761.292, 2219.4451, 4753.6368, 31620.001060000002, 13224.05705, 12222.8983, 1664.9996, 9724.53, 3206.49135, 12913.9924, 1639.5631, 6356.2707, 17626.23951, 1242.816, 4779.6023, 3861.20965, 13635.6379, 5976.8311, 11842.442, 8428.0693, 2566.4707, 5709.1644, 8823.98575, 7640.3092, 5594.8455, 7441.501, 33471.97189, 1633.0444, 9174.13565, 11070.535, 16085.1275, 9283.562, 3558.62025, 4435.0942, 8547.6913, 6571.544, 2207.69745, 6753.0380000000005, 1880.07, 11658.11505, 10713.643999999998, 3659.3459999999995, 9182.17, 12129.61415, 3736.4647, 6748.5912, 11326.71487, 11365.952, 10085.846, 1977.815, 3366.6697, 7173.35995, 9391.346, 14410.9321, 2709.1119, 24915.04626, 12949.1554, 6666.243, 13143.86485, 4466.6214, 18806.14547, 10141.1362, 6123.5688, 8252.2843, 1712.227, 12430.95335, 9800.8882, 10579.711000000001, 8280.6227, 8527.532, 12244.531, 3410.324, 4058.71245, 26392.260290000002, 14394.39815, 6435.6237, 22192.43711, 5148.5526, 1136.3994, 8703.456, 6500.2359, 4837.5823, 3943.5954, 4399.731, 6185.3208, 7222.78625, 12485.8009, 12363.546999999999, 10156.7832, 2585.269, 1242.26, 9863.4718, 4766.022, 11244.3769, 7729.64575, 5438.7491, 26236.57997, 2104.1134, 8068.185, 2362.22905, 2352.96845, 3577.9990000000003, 3201.24515, 29186.48236, 10976.24575, 3500.6123, 2020.5523, 9541.69555, 9504.3103, 5385.3379, 8930.93455, 5375.0380000000005, 10264.4421, 6113.23105, 5469.0066, 1727.54, 10107.2206, 8310.83915, 1984.4533, 2457.502, 12146.971000000001, 9566.9909, 13112.6048, 10848.1343, 12231.6136, 9875.6804, 11264.541000000001, 12979.358, 1263.249, 10106.13425, 6664.68595, 2217.6012, 6781.3542, 10065.413, 4234.927, 9447.25035, 14007.222, 9583.8933, 3484.3309999999997, 8604.48365, 3757.8448, 8827.2099, 9910.35985, 11737.84884, 1627.28245, 8556.907, 3062.50825, 1906.35825, 14210.53595, 11833.7823, 17128.42608, 5031.26955, 7985.815, 5428.7277, 3925.7582, 2416.955, 3070.8087, 9095.06825, 11842.62375, 8062.764, 7050.642, 14319.031, 6933.24225, 27941.28758, 11150.78, 12797.20962, 7261.741, 10560.4917, 6986.696999999999, 7448.40395, 5934.3798, 9869.8102, 1146.7966, 9386.1613, 4350.5144, 6414.178000000001, 12741.16745, 1917.3184, 5209.57885, 13457.9608, 5662.225, 1252.407, 2731.9122, 7209.4918, 4266.1658, 4719.52405, 11848.141000000001, 7046.7222, 14313.8463, 2103.08, 1815.8759, 7731.85785, 28476.734989999997, 2136.88225, 1131.5066, 3309.7926, 9414.92, 6360.9936, 11013.7119, 4428.88785, 5584.3057, 1877.9294, 2842.76075, 3597.5959999999995, 7445.918000000001, 2680.9493, 1621.8827, 8219.2039, 12523.6048, 16069.08475, 6117.4945, 13393.756000000001, 5266.3656, 4719.73655, 11743.9341, 5377.4578, 7160.3303, 4402.233, 11657.7189, 6402.29135, 12622.1795, 1526.3120000000001, 12323.936000000002, 10072.05505, 9872.701, 2438.0552, 2974.1259999999997, 10601.63225, 14119.62, 11729.6795, 1875.344, 18218.16139, 10965.446000000002, 7151.092, 12269.68865, 5458.04645, 8782.469000000001, 6600.361, 1141.4451, 11576.13, 13129.60345, 4391.652, 8457.818000000001, 3392.3652, 5966.8874, 6849.026, 8891.1395, 2690.1138, 26140.3603, 6653.7886, 6282.235, 6311.951999999999, 3443.0640000000003, 2789.0574, 2585.85065, 4877.98105, 5272.1758, 1682.5970000000002, 11945.1327, 7243.8136, 10422.91665, 13555.0049, 13063.883, 2221.56445, 1634.5734, 2117.33885, 8688.85885, 4661.28635, 8125.7845, 12644.589, 4564.19145, 4846.92015, 7633.7206, 15170.069, 2639.0429, 14382.70905, 7626.993, 5257.50795, 2473.3341, 13041.921, 5245.2269, 13451.122, 13462.52, 5488.262, 4320.41085, 6250.435, 25333.33284, 2913.5690000000004, 12032.326000000001, 13470.8044, 6289.7549, 2927.0647, 6238.298000000001, 10096.97, 7348.142, 4673.3922, 12233.828000000001, 32108.662819999998, 8965.79575, 2304.0022, 9487.6442, 1121.8739, 9549.5651, 2217.46915, 1628.4709, 12982.8747, 11674.13, 7160.094, 6358.77645, 11534.87265, 4527.18295, 3875.7341, 12609.88702, 28468.91901, 2730.10785, 3353.284, 14474.675, 9500.57305, 26467.09737, 4746.344, 7518.02535, 3279.86855, 8596.8278, 10702.6424, 4992.3764, 2527.81865, 1759.338, 2322.6218, 7804.1605, 2902.9065, 9704.66805, 4889.0368, 25517.11363, 4500.33925, 16796.41194, 4915.05985, 7624.63, 8410.04685, 28340.18885, 4518.82625, 3378.91, 7144.86265, 10118.424, 5484.4673, 7986.47525, 7418.522, 13887.9685, 6551.7501, 5267.81815, 1972.95, 21232.182259999998, 8627.5411, 4433.3877, 4438.2634, 23241.47453, 9957.7216, 8269.044, 36580.28216, 8765.249, 5383.536, 12124.9924, 2709.24395, 3987.926, 12495.29085, 26018.95052, 8798.593, 1711.0268, 8569.8618, 2020.1770000000001, 21595.38229, 9850.431999999999, 6877.9801, 4137.5227, 12950.0712, 12094.478000000001, 2250.8352, 22493.65964, 1704.70015, 3161.454, 11394.06555, 7325.0482, 3594.17085, 8023.13545, 14394.5579, 9288.0267, 3353.4703, 10594.50155, 8277.523000000001, 17929.303369999998, 2480.9791, 4462.7218, 1981.5819, 11554.2236, 6548.19505, 5708.866999999999, 7045.499, 8978.1851, 5757.41345, 14349.8544, 10928.848999999998, 13974.45555, 1909.52745, 12096.6512, 13204.28565, 4562.8421, 8551.347, 2102.2647, 15161.5344, 11884.04858, 4454.40265, 5855.9025, 4076.4970000000003, 15019.76005, 10796.35025, 11353.2276, 9748.9106, 10577.087, 11286.5387, 3591.48, 11299.343, 4561.1885, 1674.6323, 23045.56616, 3227.1211, 11253.421, 3471.4096, 11363.2832, 20420.60465, 10338.9316, 8988.15875, 10493.9458, 2904.0879999999997, 8605.3615, 11512.405, 5312.16985, 2396.0959, 10807.4863, 9222.4026, 5693.4305, 8347.1643, 18903.49141, 14254.6082, 10214.636, 5836.5204, 14358.36437, 1728.8970000000002, 8582.3023, 3693.428, 20709.02034, 9991.03765, 19673.335730000003, 11085.5868, 7623.518, 3176.2877, 3704.3545, 9048.0273, 7954.517, 27117.99378, 6338.0756, 9630.396999999999, 11289.10925, 2261.5688, 10791.96, 5979.731, 2203.73595, 12235.8392, 5630.45785, 11015.1747, 7228.21565, 14426.07385, 2459.7201, 3989.841, 7727.2532, 5124.1887, 18963.171919999997, 2200.83085, 7153.5539, 5227.98875, 10982.5013, 4529.477, 4670.64, 6112.35295, 11093.6229, 6457.8434, 4433.9159, 2154.361, 6496.8859999999995, 2899.48935, 7650.77375, 2850.68375, 2632.992, 9447.3824, 8603.8234, 13844.7972, 13126.67745, 5327.40025, 13725.47184, 13019.16105, 8671.19125, 4134.08245, 18838.70366, 5699.8375, 6393.60345, 4934.705, 6198.7518, 8733.22925, 2055.3249, 9964.06, 5116.5004, 36910.60803, 12347.171999999999, 5373.36425, 23563.016180000002, 1702.4553, 10806.839, 3956.07145, 12890.05765, 5415.6612, 4058.1161, 7537.1639, 4718.20355, 6593.5083, 8442.667, 6858.4796, 4795.6568, 6640.54485, 7162.0122, 10594.2257, 11938.25595, 12479.70895, 11345.518999999998, 8515.7587, 2699.56835, 14449.8544, 12224.35085, 6985.50695, 3238.4357, 4296.2712, 3171.6149, 1135.9407, 5615.369000000001, 9101.798, 6059.173000000001, 1633.9618, 1241.565, 15828.821730000001, 4415.1588, 6474.013000000001, 11436.73815, 11305.93455, 30063.58055, 10197.7722, 4544.2348, 3277.1609999999996, 6770.1925, 7337.7480000000005, 10370.91255, 10704.47, 1880.487, 8615.3, 3292.52985, 3021.80915, 14478.33015, 4747.0529, 10959.33, 2741.948, 4357.04365, 4189.1131, 8283.6807, 1720.3537, 8534.6718, 3732.6251, 5472.4490000000005, 7147.4728, 7133.9025, 1515.3449, 9301.89355, 11931.12525, 1964.78, 1708.92575, 4340.4409, 5261.46945, 2710.82855, 3208.7870000000003, 2464.6188, 6875.960999999999, 6940.90985, 4571.41305, 4536.259, 11272.331390000001, 1731.6770000000001, 1163.4627, 19496.71917, 7201.70085, 5425.02335, 12981.3457, 4239.89265, 13143.33665, 7050.0213, 9377.9047, 22395.74424, 10325.206, 12629.1656, 10795.937329999999, 11411.685, 10600.5483, 2205.9808, 1629.8335, 2007.945], \"yaxis\": \"y\"}],\n",
              "                        {\"legend\": {\"tracegroupgap\": 0}, \"template\": {\"data\": {\"bar\": [{\"error_x\": {\"color\": \"#2a3f5f\"}, \"error_y\": {\"color\": \"#2a3f5f\"}, \"marker\": {\"line\": {\"color\": \"#E5ECF6\", \"width\": 0.5}}, \"type\": \"bar\"}], \"barpolar\": [{\"marker\": {\"line\": {\"color\": \"#E5ECF6\", \"width\": 0.5}}, \"type\": \"barpolar\"}], \"carpet\": [{\"aaxis\": {\"endlinecolor\": \"#2a3f5f\", \"gridcolor\": \"white\", \"linecolor\": \"white\", \"minorgridcolor\": \"white\", \"startlinecolor\": \"#2a3f5f\"}, \"baxis\": {\"endlinecolor\": \"#2a3f5f\", \"gridcolor\": \"white\", \"linecolor\": \"white\", \"minorgridcolor\": \"white\", \"startlinecolor\": \"#2a3f5f\"}, \"type\": \"carpet\"}], \"choropleth\": [{\"colorbar\": {\"outlinewidth\": 0, \"ticks\": \"\"}, \"type\": \"choropleth\"}], \"contour\": [{\"colorbar\": {\"outlinewidth\": 0, \"ticks\": \"\"}, \"colorscale\": [[0.0, \"#0d0887\"], [0.1111111111111111, \"#46039f\"], [0.2222222222222222, \"#7201a8\"], [0.3333333333333333, \"#9c179e\"], [0.4444444444444444, \"#bd3786\"], [0.5555555555555556, \"#d8576b\"], [0.6666666666666666, \"#ed7953\"], [0.7777777777777778, \"#fb9f3a\"], [0.8888888888888888, \"#fdca26\"], [1.0, \"#f0f921\"]], \"type\": \"contour\"}], \"contourcarpet\": [{\"colorbar\": {\"outlinewidth\": 0, \"ticks\": \"\"}, \"type\": \"contourcarpet\"}], \"heatmap\": [{\"colorbar\": {\"outlinewidth\": 0, \"ticks\": \"\"}, \"colorscale\": [[0.0, \"#0d0887\"], [0.1111111111111111, \"#46039f\"], [0.2222222222222222, \"#7201a8\"], [0.3333333333333333, \"#9c179e\"], [0.4444444444444444, \"#bd3786\"], [0.5555555555555556, \"#d8576b\"], [0.6666666666666666, \"#ed7953\"], [0.7777777777777778, \"#fb9f3a\"], [0.8888888888888888, \"#fdca26\"], [1.0, \"#f0f921\"]], \"type\": \"heatmap\"}], \"heatmapgl\": [{\"colorbar\": {\"outlinewidth\": 0, \"ticks\": \"\"}, \"colorscale\": [[0.0, \"#0d0887\"], [0.1111111111111111, \"#46039f\"], [0.2222222222222222, \"#7201a8\"], [0.3333333333333333, \"#9c179e\"], [0.4444444444444444, \"#bd3786\"], [0.5555555555555556, \"#d8576b\"], [0.6666666666666666, \"#ed7953\"], [0.7777777777777778, \"#fb9f3a\"], [0.8888888888888888, \"#fdca26\"], [1.0, \"#f0f921\"]], \"type\": \"heatmapgl\"}], \"histogram\": [{\"marker\": {\"colorbar\": {\"outlinewidth\": 0, \"ticks\": \"\"}}, \"type\": \"histogram\"}], \"histogram2d\": [{\"colorbar\": {\"outlinewidth\": 0, \"ticks\": \"\"}, \"colorscale\": [[0.0, \"#0d0887\"], [0.1111111111111111, \"#46039f\"], [0.2222222222222222, \"#7201a8\"], [0.3333333333333333, \"#9c179e\"], [0.4444444444444444, \"#bd3786\"], [0.5555555555555556, \"#d8576b\"], [0.6666666666666666, \"#ed7953\"], [0.7777777777777778, \"#fb9f3a\"], [0.8888888888888888, \"#fdca26\"], [1.0, \"#f0f921\"]], \"type\": \"histogram2d\"}], \"histogram2dcontour\": [{\"colorbar\": {\"outlinewidth\": 0, \"ticks\": \"\"}, \"colorscale\": [[0.0, \"#0d0887\"], [0.1111111111111111, \"#46039f\"], [0.2222222222222222, \"#7201a8\"], [0.3333333333333333, \"#9c179e\"], [0.4444444444444444, \"#bd3786\"], [0.5555555555555556, \"#d8576b\"], [0.6666666666666666, \"#ed7953\"], [0.7777777777777778, \"#fb9f3a\"], [0.8888888888888888, \"#fdca26\"], [1.0, \"#f0f921\"]], \"type\": \"histogram2dcontour\"}], \"mesh3d\": [{\"colorbar\": {\"outlinewidth\": 0, \"ticks\": \"\"}, \"type\": \"mesh3d\"}], \"parcoords\": [{\"line\": {\"colorbar\": {\"outlinewidth\": 0, \"ticks\": \"\"}}, \"type\": \"parcoords\"}], \"pie\": [{\"automargin\": true, \"type\": \"pie\"}], \"scatter\": [{\"marker\": {\"colorbar\": {\"outlinewidth\": 0, \"ticks\": \"\"}}, \"type\": \"scatter\"}], \"scatter3d\": [{\"line\": {\"colorbar\": {\"outlinewidth\": 0, \"ticks\": \"\"}}, \"marker\": {\"colorbar\": {\"outlinewidth\": 0, \"ticks\": \"\"}}, \"type\": \"scatter3d\"}], \"scattercarpet\": [{\"marker\": {\"colorbar\": {\"outlinewidth\": 0, \"ticks\": \"\"}}, \"type\": \"scattercarpet\"}], \"scattergeo\": [{\"marker\": {\"colorbar\": {\"outlinewidth\": 0, \"ticks\": \"\"}}, \"type\": \"scattergeo\"}], \"scattergl\": [{\"marker\": {\"colorbar\": {\"outlinewidth\": 0, \"ticks\": \"\"}}, \"type\": \"scattergl\"}], \"scattermapbox\": [{\"marker\": {\"colorbar\": {\"outlinewidth\": 0, \"ticks\": \"\"}}, \"type\": \"scattermapbox\"}], \"scatterpolar\": [{\"marker\": {\"colorbar\": {\"outlinewidth\": 0, \"ticks\": \"\"}}, \"type\": \"scatterpolar\"}], \"scatterpolargl\": [{\"marker\": {\"colorbar\": {\"outlinewidth\": 0, \"ticks\": \"\"}}, \"type\": \"scatterpolargl\"}], \"scatterternary\": [{\"marker\": {\"colorbar\": {\"outlinewidth\": 0, \"ticks\": \"\"}}, \"type\": \"scatterternary\"}], \"surface\": [{\"colorbar\": {\"outlinewidth\": 0, \"ticks\": \"\"}, \"colorscale\": [[0.0, \"#0d0887\"], [0.1111111111111111, \"#46039f\"], [0.2222222222222222, \"#7201a8\"], [0.3333333333333333, \"#9c179e\"], [0.4444444444444444, \"#bd3786\"], [0.5555555555555556, \"#d8576b\"], [0.6666666666666666, \"#ed7953\"], [0.7777777777777778, \"#fb9f3a\"], [0.8888888888888888, \"#fdca26\"], [1.0, \"#f0f921\"]], \"type\": \"surface\"}], \"table\": [{\"cells\": {\"fill\": {\"color\": \"#EBF0F8\"}, \"line\": {\"color\": \"white\"}}, \"header\": {\"fill\": {\"color\": \"#C8D4E3\"}, \"line\": {\"color\": \"white\"}}, \"type\": \"table\"}]}, \"layout\": {\"annotationdefaults\": {\"arrowcolor\": \"#2a3f5f\", \"arrowhead\": 0, \"arrowwidth\": 1}, \"coloraxis\": {\"colorbar\": {\"outlinewidth\": 0, \"ticks\": \"\"}}, \"colorscale\": {\"diverging\": [[0, \"#8e0152\"], [0.1, \"#c51b7d\"], [0.2, \"#de77ae\"], [0.3, \"#f1b6da\"], [0.4, \"#fde0ef\"], [0.5, \"#f7f7f7\"], [0.6, \"#e6f5d0\"], [0.7, \"#b8e186\"], [0.8, \"#7fbc41\"], [0.9, \"#4d9221\"], [1, \"#276419\"]], \"sequential\": [[0.0, \"#0d0887\"], [0.1111111111111111, \"#46039f\"], [0.2222222222222222, \"#7201a8\"], [0.3333333333333333, \"#9c179e\"], [0.4444444444444444, \"#bd3786\"], [0.5555555555555556, \"#d8576b\"], [0.6666666666666666, \"#ed7953\"], [0.7777777777777778, \"#fb9f3a\"], [0.8888888888888888, \"#fdca26\"], [1.0, \"#f0f921\"]], \"sequentialminus\": [[0.0, \"#0d0887\"], [0.1111111111111111, \"#46039f\"], [0.2222222222222222, \"#7201a8\"], [0.3333333333333333, \"#9c179e\"], [0.4444444444444444, \"#bd3786\"], [0.5555555555555556, \"#d8576b\"], [0.6666666666666666, \"#ed7953\"], [0.7777777777777778, \"#fb9f3a\"], [0.8888888888888888, \"#fdca26\"], [1.0, \"#f0f921\"]]}, \"colorway\": [\"#636efa\", \"#EF553B\", \"#00cc96\", \"#ab63fa\", \"#FFA15A\", \"#19d3f3\", \"#FF6692\", \"#B6E880\", \"#FF97FF\", \"#FECB52\"], \"font\": {\"color\": \"#2a3f5f\"}, \"geo\": {\"bgcolor\": \"white\", \"lakecolor\": \"white\", \"landcolor\": \"#E5ECF6\", \"showlakes\": true, \"showland\": true, \"subunitcolor\": \"white\"}, \"hoverlabel\": {\"align\": \"left\"}, \"hovermode\": \"closest\", \"mapbox\": {\"style\": \"light\"}, \"paper_bgcolor\": \"white\", \"plot_bgcolor\": \"#E5ECF6\", \"polar\": {\"angularaxis\": {\"gridcolor\": \"white\", \"linecolor\": \"white\", \"ticks\": \"\"}, \"bgcolor\": \"#E5ECF6\", \"radialaxis\": {\"gridcolor\": \"white\", \"linecolor\": \"white\", \"ticks\": \"\"}}, \"scene\": {\"xaxis\": {\"backgroundcolor\": \"#E5ECF6\", \"gridcolor\": \"white\", \"gridwidth\": 2, \"linecolor\": \"white\", \"showbackground\": true, \"ticks\": \"\", \"zerolinecolor\": \"white\"}, \"yaxis\": {\"backgroundcolor\": \"#E5ECF6\", \"gridcolor\": \"white\", \"gridwidth\": 2, \"linecolor\": \"white\", \"showbackground\": true, \"ticks\": \"\", \"zerolinecolor\": \"white\"}, \"zaxis\": {\"backgroundcolor\": \"#E5ECF6\", \"gridcolor\": \"white\", \"gridwidth\": 2, \"linecolor\": \"white\", \"showbackground\": true, \"ticks\": \"\", \"zerolinecolor\": \"white\"}}, \"shapedefaults\": {\"line\": {\"color\": \"#2a3f5f\"}}, \"ternary\": {\"aaxis\": {\"gridcolor\": \"white\", \"linecolor\": \"white\", \"ticks\": \"\"}, \"baxis\": {\"gridcolor\": \"white\", \"linecolor\": \"white\", \"ticks\": \"\"}, \"bgcolor\": \"#E5ECF6\", \"caxis\": {\"gridcolor\": \"white\", \"linecolor\": \"white\", \"ticks\": \"\"}}, \"title\": {\"x\": 0.05}, \"xaxis\": {\"automargin\": true, \"gridcolor\": \"white\", \"linecolor\": \"white\", \"ticks\": \"\", \"title\": {\"standoff\": 15}, \"zerolinecolor\": \"white\", \"zerolinewidth\": 2}, \"yaxis\": {\"automargin\": true, \"gridcolor\": \"white\", \"linecolor\": \"white\", \"ticks\": \"\", \"title\": {\"standoff\": 15}, \"zerolinecolor\": \"white\", \"zerolinewidth\": 2}}}, \"title\": {\"text\": \"BMI Vs Charges\"}, \"xaxis\": {\"anchor\": \"y\", \"domain\": [0.0, 1.0], \"title\": {\"text\": \"bmi\"}}, \"yaxis\": {\"anchor\": \"x\", \"domain\": [0.0, 1.0], \"title\": {\"text\": \"charges\"}}},\n",
              "                        {\"responsive\": true}\n",
              "                    ).then(function(){\n",
              "                            \n",
              "var gd = document.getElementById('6bf61612-a0d4-4308-9548-c4428ab08ba0');\n",
              "var x = new MutationObserver(function (mutations, observer) {{\n",
              "        var display = window.getComputedStyle(gd).display;\n",
              "        if (!display || display === 'none') {{\n",
              "            console.log([gd, 'removed!']);\n",
              "            Plotly.purge(gd);\n",
              "            observer.disconnect();\n",
              "        }}\n",
              "}});\n",
              "\n",
              "// Listen for the removal of the full notebook cells\n",
              "var notebookContainer = gd.closest('#notebook-container');\n",
              "if (notebookContainer) {{\n",
              "    x.observe(notebookContainer, {childList: true});\n",
              "}}\n",
              "\n",
              "// Listen for the clearing of the current output cell\n",
              "var outputEl = gd.closest('.output');\n",
              "if (outputEl) {{\n",
              "    x.observe(outputEl, {childList: true});\n",
              "}}\n",
              "\n",
              "                        })\n",
              "                };\n",
              "                \n",
              "            </script>\n",
              "        </div>\n",
              "</body>\n",
              "</html>"
            ]
          },
          "metadata": {
            "tags": []
          }
        }
      ]
    },
    {
      "cell_type": "code",
      "metadata": {
        "colab": {
          "base_uri": "https://localhost:8080/"
        },
        "id": "4aw18keb8GdH",
        "outputId": "3287bd7c-16e9-455e-bb55-65d8f803bf8a"
      },
      "source": [
        "model.coef_, model.intercept_"
      ],
      "execution_count": null,
      "outputs": [
        {
          "output_type": "execute_result",
          "data": {
            "text/plain": [
              "(array([265.2938443 , 580.65965053,   5.27956313]), -2809.297603223591)"
            ]
          },
          "metadata": {
            "tags": []
          },
          "execution_count": 84
        }
      ]
    },
    {
      "cell_type": "code",
      "metadata": {
        "colab": {
          "base_uri": "https://localhost:8080/",
          "height": 300
        },
        "id": "JtBEDrok9t2h",
        "outputId": "ce36c756-2fbe-4bc8-81a4-e9c1d508af66"
      },
      "source": [
        "  sns.barplot(data=medical_df, x='smoker', y='charges')"
      ],
      "execution_count": null,
      "outputs": [
        {
          "output_type": "execute_result",
          "data": {
            "text/plain": [
              "<matplotlib.axes._subplots.AxesSubplot at 0x7f05db0058d0>"
            ]
          },
          "metadata": {
            "tags": []
          },
          "execution_count": 85
        },
        {
          "output_type": "display_data",
          "data": {
            "image/png": "[encoded data removed]",
            "text/plain": [
              "<Figure size 432x288 with 1 Axes>"
            ]
          },
          "metadata": {
            "tags": [],
            "needs_background": "light"
          }
        }
      ]
    },
    {
      "cell_type": "code",
      "metadata": {
        "id": "AvfxfPFhF59m"
      },
      "source": [
        "smoker_codes = {'no':0,'yes':1}\n",
        "medical_df['smoker_code'] = medical_df.smoker.map(smoker_codes)"
      ],
      "execution_count": null,
      "outputs": []
    },
    {
      "cell_type": "code",
      "metadata": {
        "colab": {
          "base_uri": "https://localhost:8080/"
        },
        "id": "ANFgaogkQn2q",
        "outputId": "77cb5fe2-bcac-43b4-eea3-80b10d42fd11"
      },
      "source": [
        "medical_df.charges.corr(medical_df.smoker_code)\n"
      ],
      "execution_count": null,
      "outputs": [
        {
          "output_type": "execute_result",
          "data": {
            "text/plain": [
              "0.787251430498478"
            ]
          },
          "metadata": {
            "tags": []
          },
          "execution_count": 89
        }
      ]
    },
    {
      "cell_type": "code",
      "metadata": {
        "colab": {
          "base_uri": "https://localhost:8080/"
        },
        "id": "UudW7zRvQyZS",
        "outputId": "b970534a-ac58-4145-92a9-822676911b01"
      },
      "source": [
        "# Create inputs and targets\n",
        "inputs, targets = medical_df[['age', 'bmi', 'children', 'smoker_code']], medical_df['charges']\n",
        "\n",
        "# Create and train the model\n",
        "model = LinearRegression().fit(inputs, targets)\n",
        "\n",
        "# Generate predictions\n",
        "predictions = model.predict(inputs)\n",
        "\n",
        "# Compute loss to evalute the model\n",
        "loss = rmse(targets, predictions)\n",
        "print('Loss:', loss)"
      ],
      "execution_count": null,
      "outputs": [
        {
          "output_type": "stream",
          "text": [
            "Loss: 6056.439217188077\n"
          ],
          "name": "stdout"
        }
      ]
    },
    {
      "cell_type": "code",
      "metadata": {
        "id": "4hGN7pehQ31v"
      },
      "source": [
        "sex_codes = {'female': 0, 'male': 1}\n",
        "medical_df['sex_code'] = medical_df.sex.map(sex_codes)"
      ],
      "execution_count": null,
      "outputs": []
    },
    {
      "cell_type": "code",
      "metadata": {
        "colab": {
          "base_uri": "https://localhost:8080/"
        },
        "id": "JRwveyvpQ9av",
        "outputId": "c623abbd-7880-4203-c4a0-e918a3ebc92e"
      },
      "source": [
        "# Create inputs and targets\n",
        "inputs, targets = medical_df[['age', 'bmi', 'children', 'smoker_code', 'sex_code']], medical_df['charges']\n",
        "\n",
        "# Create and train the model\n",
        "model = LinearRegression().fit(inputs, targets)\n",
        "\n",
        "# Generate predictions\n",
        "predictions = model.predict(inputs)\n",
        "\n",
        "# Compute loss to evalute the model\n",
        "loss = rmse(targets, predictions)\n",
        "print('Loss:', loss)"
      ],
      "execution_count": null,
      "outputs": [
        {
          "output_type": "stream",
          "text": [
            "Loss: 6056.100708754539\n"
          ],
          "name": "stdout"
        }
      ]
    },
    {
      "cell_type": "code",
      "metadata": {
        "colab": {
          "base_uri": "https://localhost:8080/"
        },
        "id": "5SfPKLdlRC07",
        "outputId": "7ed4f47b-c2e2-45a6-d382-d70aeac5be64"
      },
      "source": [
        "from sklearn import preprocessing\n",
        "enc = preprocessing.OneHotEncoder()\n",
        "enc.fit(medical_df[['region']])\n",
        "enc.categories_"
      ],
      "execution_count": null,
      "outputs": [
        {
          "output_type": "execute_result",
          "data": {
            "text/plain": [
              "[array(['northeast', 'northwest', 'southeast', 'southwest'], dtype=object)]"
            ]
          },
          "metadata": {
            "tags": []
          },
          "execution_count": 94
        }
      ]
    },
    {
      "cell_type": "code",
      "metadata": {
        "id": "pymSyCozRa6U"
      },
      "source": [
        "one_hot = enc.transform(medical_df[['region']]).toarray()"
      ],
      "execution_count": null,
      "outputs": []
    },
    {
      "cell_type": "code",
      "metadata": {
        "colab": {
          "base_uri": "https://localhost:8080/"
        },
        "id": "CySwmENzRlf3",
        "outputId": "c8ff584e-6b17-4447-fe44-2982ac206196"
      },
      "source": [
        "one_hot"
      ],
      "execution_count": null,
      "outputs": [
        {
          "output_type": "execute_result",
          "data": {
            "text/plain": [
              "array([[0., 0., 0., 1.],\n",
              "       [0., 0., 1., 0.],\n",
              "       [0., 0., 1., 0.],\n",
              "       ...,\n",
              "       [0., 0., 1., 0.],\n",
              "       [0., 0., 0., 1.],\n",
              "       [0., 1., 0., 0.]])"
            ]
          },
          "metadata": {
            "tags": []
          },
          "execution_count": 96
        }
      ]
    },
    {
      "cell_type": "code",
      "metadata": {
        "id": "lSBD-lqeRnkT"
      },
      "source": [
        "medical_df[['northeast', 'northwest', 'southeast', 'southwest']] = one_hot"
      ],
      "execution_count": null,
      "outputs": []
    },
    {
      "cell_type": "code",
      "metadata": {
        "colab": {
          "base_uri": "https://localhost:8080/",
          "height": 417
        },
        "id": "SdbIgFeIR0dx",
        "outputId": "25195d1d-586b-431b-b280-8939920d6435"
      },
      "source": [
        "medical_df"
      ],
      "execution_count": null,
      "outputs": [
        {
          "output_type": "execute_result",
          "data": {
            "text/html": [
              "<div>\n",
              "<style scoped>\n",
              "    .dataframe tbody tr th:only-of-type {\n",
              "        vertical-align: middle;\n",
              "    }\n",
              "\n",
              "    .dataframe tbody tr th {\n",
              "        vertical-align: top;\n",
              "    }\n",
              "\n",
              "    .dataframe thead th {\n",
              "        text-align: right;\n",
              "    }\n",
              "</style>\n",
              "<table border=\"1\" class=\"dataframe\">\n",
              "  <thead>\n",
              "    <tr style=\"text-align: right;\">\n",
              "      <th></th>\n",
              "      <th>age</th>\n",
              "      <th>sex</th>\n",
              "      <th>bmi</th>\n",
              "      <th>children</th>\n",
              "      <th>smoker</th>\n",
              "      <th>region</th>\n",
              "      <th>charges</th>\n",
              "      <th>smoker_code</th>\n",
              "      <th>sex_code</th>\n",
              "      <th>northeast</th>\n",
              "      <th>northwest</th>\n",
              "      <th>southeast</th>\n",
              "      <th>southwest</th>\n",
              "    </tr>\n",
              "  </thead>\n",
              "  <tbody>\n",
              "    <tr>\n",
              "      <th>0</th>\n",
              "      <td>19</td>\n",
              "      <td>female</td>\n",
              "      <td>27.900</td>\n",
              "      <td>0</td>\n",
              "      <td>yes</td>\n",
              "      <td>southwest</td>\n",
              "      <td>16884.92400</td>\n",
              "      <td>1</td>\n",
              "      <td>0</td>\n",
              "      <td>0.0</td>\n",
              "      <td>0.0</td>\n",
              "      <td>0.0</td>\n",
              "      <td>1.0</td>\n",
              "    </tr>\n",
              "    <tr>\n",
              "      <th>1</th>\n",
              "      <td>18</td>\n",
              "      <td>male</td>\n",
              "      <td>33.770</td>\n",
              "      <td>1</td>\n",
              "      <td>no</td>\n",
              "      <td>southeast</td>\n",
              "      <td>1725.55230</td>\n",
              "      <td>0</td>\n",
              "      <td>1</td>\n",
              "      <td>0.0</td>\n",
              "      <td>0.0</td>\n",
              "      <td>1.0</td>\n",
              "      <td>0.0</td>\n",
              "    </tr>\n",
              "    <tr>\n",
              "      <th>2</th>\n",
              "      <td>28</td>\n",
              "      <td>male</td>\n",
              "      <td>33.000</td>\n",
              "      <td>3</td>\n",
              "      <td>no</td>\n",
              "      <td>southeast</td>\n",
              "      <td>4449.46200</td>\n",
              "      <td>0</td>\n",
              "      <td>1</td>\n",
              "      <td>0.0</td>\n",
              "      <td>0.0</td>\n",
              "      <td>1.0</td>\n",
              "      <td>0.0</td>\n",
              "    </tr>\n",
              "    <tr>\n",
              "      <th>3</th>\n",
              "      <td>33</td>\n",
              "      <td>male</td>\n",
              "      <td>22.705</td>\n",
              "      <td>0</td>\n",
              "      <td>no</td>\n",
              "      <td>northwest</td>\n",
              "      <td>21984.47061</td>\n",
              "      <td>0</td>\n",
              "      <td>1</td>\n",
              "      <td>0.0</td>\n",
              "      <td>1.0</td>\n",
              "      <td>0.0</td>\n",
              "      <td>0.0</td>\n",
              "    </tr>\n",
              "    <tr>\n",
              "      <th>4</th>\n",
              "      <td>32</td>\n",
              "      <td>male</td>\n",
              "      <td>28.880</td>\n",
              "      <td>0</td>\n",
              "      <td>no</td>\n",
              "      <td>northwest</td>\n",
              "      <td>3866.85520</td>\n",
              "      <td>0</td>\n",
              "      <td>1</td>\n",
              "      <td>0.0</td>\n",
              "      <td>1.0</td>\n",
              "      <td>0.0</td>\n",
              "      <td>0.0</td>\n",
              "    </tr>\n",
              "    <tr>\n",
              "      <th>...</th>\n",
              "      <td>...</td>\n",
              "      <td>...</td>\n",
              "      <td>...</td>\n",
              "      <td>...</td>\n",
              "      <td>...</td>\n",
              "      <td>...</td>\n",
              "      <td>...</td>\n",
              "      <td>...</td>\n",
              "      <td>...</td>\n",
              "      <td>...</td>\n",
              "      <td>...</td>\n",
              "      <td>...</td>\n",
              "      <td>...</td>\n",
              "    </tr>\n",
              "    <tr>\n",
              "      <th>1333</th>\n",
              "      <td>50</td>\n",
              "      <td>male</td>\n",
              "      <td>30.970</td>\n",
              "      <td>3</td>\n",
              "      <td>no</td>\n",
              "      <td>northwest</td>\n",
              "      <td>10600.54830</td>\n",
              "      <td>0</td>\n",
              "      <td>1</td>\n",
              "      <td>0.0</td>\n",
              "      <td>1.0</td>\n",
              "      <td>0.0</td>\n",
              "      <td>0.0</td>\n",
              "    </tr>\n",
              "    <tr>\n",
              "      <th>1334</th>\n",
              "      <td>18</td>\n",
              "      <td>female</td>\n",
              "      <td>31.920</td>\n",
              "      <td>0</td>\n",
              "      <td>no</td>\n",
              "      <td>northeast</td>\n",
              "      <td>2205.98080</td>\n",
              "      <td>0</td>\n",
              "      <td>0</td>\n",
              "      <td>1.0</td>\n",
              "      <td>0.0</td>\n",
              "      <td>0.0</td>\n",
              "      <td>0.0</td>\n",
              "    </tr>\n",
              "    <tr>\n",
              "      <th>1335</th>\n",
              "      <td>18</td>\n",
              "      <td>female</td>\n",
              "      <td>36.850</td>\n",
              "      <td>0</td>\n",
              "      <td>no</td>\n",
              "      <td>southeast</td>\n",
              "      <td>1629.83350</td>\n",
              "      <td>0</td>\n",
              "      <td>0</td>\n",
              "      <td>0.0</td>\n",
              "      <td>0.0</td>\n",
              "      <td>1.0</td>\n",
              "      <td>0.0</td>\n",
              "    </tr>\n",
              "    <tr>\n",
              "      <th>1336</th>\n",
              "      <td>21</td>\n",
              "      <td>female</td>\n",
              "      <td>25.800</td>\n",
              "      <td>0</td>\n",
              "      <td>no</td>\n",
              "      <td>southwest</td>\n",
              "      <td>2007.94500</td>\n",
              "      <td>0</td>\n",
              "      <td>0</td>\n",
              "      <td>0.0</td>\n",
              "      <td>0.0</td>\n",
              "      <td>0.0</td>\n",
              "      <td>1.0</td>\n",
              "    </tr>\n",
              "    <tr>\n",
              "      <th>1337</th>\n",
              "      <td>61</td>\n",
              "      <td>female</td>\n",
              "      <td>29.070</td>\n",
              "      <td>0</td>\n",
              "      <td>yes</td>\n",
              "      <td>northwest</td>\n",
              "      <td>29141.36030</td>\n",
              "      <td>1</td>\n",
              "      <td>0</td>\n",
              "      <td>0.0</td>\n",
              "      <td>1.0</td>\n",
              "      <td>0.0</td>\n",
              "      <td>0.0</td>\n",
              "    </tr>\n",
              "  </tbody>\n",
              "</table>\n",
              "<p>1338 rows × 13 columns</p>\n",
              "</div>"
            ],
            "text/plain": [
              "      age     sex     bmi  children  ... northeast northwest  southeast  southwest\n",
              "0      19  female  27.900         0  ...       0.0       0.0        0.0        1.0\n",
              "1      18    male  33.770         1  ...       0.0       0.0        1.0        0.0\n",
              "2      28    male  33.000         3  ...       0.0       0.0        1.0        0.0\n",
              "3      33    male  22.705         0  ...       0.0       1.0        0.0        0.0\n",
              "4      32    male  28.880         0  ...       0.0       1.0        0.0        0.0\n",
              "...   ...     ...     ...       ...  ...       ...       ...        ...        ...\n",
              "1333   50    male  30.970         3  ...       0.0       1.0        0.0        0.0\n",
              "1334   18  female  31.920         0  ...       1.0       0.0        0.0        0.0\n",
              "1335   18  female  36.850         0  ...       0.0       0.0        1.0        0.0\n",
              "1336   21  female  25.800         0  ...       0.0       0.0        0.0        1.0\n",
              "1337   61  female  29.070         0  ...       0.0       1.0        0.0        0.0\n",
              "\n",
              "[1338 rows x 13 columns]"
            ]
          },
          "metadata": {
            "tags": []
          },
          "execution_count": 99
        }
      ]
    },
    {
      "cell_type": "code",
      "metadata": {
        "colab": {
          "base_uri": "https://localhost:8080/"
        },
        "id": "EjXtovAcR2mu",
        "outputId": "ec653bf0-2b97-460e-dce4-3fe15552c4b2"
      },
      "source": [
        "# Create inputs and targets\n",
        "input_cols = ['age', 'bmi', 'children', 'smoker_code', 'sex_code', 'northeast', 'northwest', 'southeast', 'southwest']\n",
        "inputs, targets = medical_df[input_cols], medical_df['charges']\n",
        "\n",
        "# Create and train the model\n",
        "model = LinearRegression().fit(inputs, targets)\n",
        "\n",
        "# Generate predictions\n",
        "predictions = model.predict(inputs)\n",
        "\n",
        "# Compute loss to evalute the model\n",
        "loss = rmse(targets, predictions)\n",
        "print('Loss:', loss)"
      ],
      "execution_count": null,
      "outputs": [
        {
          "output_type": "stream",
          "text": [
            "Loss: 6041.679651174453\n"
          ],
          "name": "stdout"
        }
      ]
    },
    {
      "cell_type": "code",
      "metadata": {
        "colab": {
          "base_uri": "https://localhost:8080/"
        },
        "id": "tPanQK39SBnl",
        "outputId": "53319a34-f7a3-4d46-b84a-5d16470a4216"
      },
      "source": [
        "model.coef_"
      ],
      "execution_count": null,
      "outputs": [
        {
          "output_type": "execute_result",
          "data": {
            "text/plain": [
              "array([  256.85635254,   339.19345361,   475.50054515, 23848.53454191,\n",
              "        -131.3143594 ,   587.00923503,   234.0453356 ,  -448.01281436,\n",
              "        -373.04175627])"
            ]
          },
          "metadata": {
            "tags": []
          },
          "execution_count": 101
        }
      ]
    },
    {
      "cell_type": "code",
      "metadata": {
        "id": "mxpdoeebSU0S"
      },
      "source": [
        "from sklearn.preprocessing import StandardScaler"
      ],
      "execution_count": null,
      "outputs": []
    },
    {
      "cell_type": "code",
      "metadata": {
        "colab": {
          "base_uri": "https://localhost:8080/"
        },
        "id": "rUzS6XuYS1dL",
        "outputId": "207dbbc7-e789-48b1-a5f3-b2808853f8b1"
      },
      "source": [
        "numeric_cols = ['age', 'bmi', 'children'] \n",
        "scaler = StandardScaler()\n",
        "scaler.fit(medical_df[numeric_cols])"
      ],
      "execution_count": null,
      "outputs": [
        {
          "output_type": "execute_result",
          "data": {
            "text/plain": [
              "StandardScaler(copy=True, with_mean=True, with_std=True)"
            ]
          },
          "metadata": {
            "tags": []
          },
          "execution_count": 103
        }
      ]
    },
    {
      "cell_type": "code",
      "metadata": {
        "colab": {
          "base_uri": "https://localhost:8080/"
        },
        "id": "t-JDJ3qnS9Y3",
        "outputId": "7141ca8e-5d5c-4207-8c0b-5f4ac57dbf68"
      },
      "source": [
        "scaler.mean_\n"
      ],
      "execution_count": null,
      "outputs": [
        {
          "output_type": "execute_result",
          "data": {
            "text/plain": [
              "array([39.20702541, 30.66339686,  1.09491779])"
            ]
          },
          "metadata": {
            "tags": []
          },
          "execution_count": 104
        }
      ]
    },
    {
      "cell_type": "code",
      "metadata": {
        "colab": {
          "base_uri": "https://localhost:8080/"
        },
        "id": "Aso70g2CTBRp",
        "outputId": "4673b449-1714-4d0d-923c-e96183879256"
      },
      "source": [
        "scaler.var_"
      ],
      "execution_count": null,
      "outputs": [
        {
          "output_type": "execute_result",
          "data": {
            "text/plain": [
              "array([197.25385199,  37.16008997,   1.45212664])"
            ]
          },
          "metadata": {
            "tags": []
          },
          "execution_count": 105
        }
      ]
    },
    {
      "cell_type": "code",
      "metadata": {
        "colab": {
          "base_uri": "https://localhost:8080/"
        },
        "id": "q9Oj__rVTGVH",
        "outputId": "d6d65a52-6484-4d60-90d3-de0481d71e73"
      },
      "source": [
        "scaled_inputs = scaler.transform(medical_df[numeric_cols])\n",
        "scaled_inputs\n"
      ],
      "execution_count": null,
      "outputs": [
        {
          "output_type": "execute_result",
          "data": {
            "text/plain": [
              "array([[-1.43876426, -0.45332   , -0.90861367],\n",
              "       [-1.50996545,  0.5096211 , -0.07876719],\n",
              "       [-0.79795355,  0.38330685,  1.58092576],\n",
              "       ...,\n",
              "       [-1.50996545,  1.0148781 , -0.90861367],\n",
              "       [-1.29636188, -0.79781341, -0.90861367],\n",
              "       [ 1.55168573, -0.26138796, -0.90861367]])"
            ]
          },
          "metadata": {
            "tags": []
          },
          "execution_count": 107
        }
      ]
    },
    {
      "cell_type": "code",
      "metadata": {
        "colab": {
          "base_uri": "https://localhost:8080/"
        },
        "id": "Xya-5mi4TUzb",
        "outputId": "cc05cf32-c3d1-4aa8-f2df-b38697e53f44"
      },
      "source": [
        "cat_cols = ['smoker_code', 'sex_code', 'northeast', 'northwest', 'southeast', 'southwest']\n",
        "categorical_data = medical_df[cat_cols].values\n",
        "categorical_data"
      ],
      "execution_count": null,
      "outputs": [
        {
          "output_type": "execute_result",
          "data": {
            "text/plain": [
              "array([[1., 0., 0., 0., 0., 1.],\n",
              "       [0., 1., 0., 0., 1., 0.],\n",
              "       [0., 1., 0., 0., 1., 0.],\n",
              "       ...,\n",
              "       [0., 0., 0., 0., 1., 0.],\n",
              "       [0., 0., 0., 0., 0., 1.],\n",
              "       [1., 0., 0., 1., 0., 0.]])"
            ]
          },
          "metadata": {
            "tags": []
          },
          "execution_count": 108
        }
      ]
    },
    {
      "cell_type": "code",
      "metadata": {
        "colab": {
          "base_uri": "https://localhost:8080/"
        },
        "id": "_Buwz8o2Tmtt",
        "outputId": "de8a5ac8-2987-491d-bc97-b876ef7930f4"
      },
      "source": [
        "inputs = np.concatenate((scaled_inputs, categorical_data), axis=1)\n",
        "targets = medical_df.charges\n",
        "\n",
        "# Create and train the model\n",
        "model = LinearRegression().fit(inputs, targets)\n",
        "\n",
        "# Generate predictions\n",
        "predictions = model.predict(inputs)\n",
        "\n",
        "# Compute loss to evalute the model\n",
        "loss = rmse(targets, predictions)\n",
        "print('Loss:', loss)\n"
      ],
      "execution_count": null,
      "outputs": [
        {
          "output_type": "stream",
          "text": [
            "Loss: 6041.679651174453\n"
          ],
          "name": "stdout"
        }
      ]
    },
    {
      "cell_type": "code",
      "metadata": {
        "colab": {
          "base_uri": "https://localhost:8080/",
          "height": 357
        },
        "id": "j2Nz2FQ3TzDV",
        "outputId": "02996cf9-45f3-4799-f306-a168a49de31d"
      },
      "source": [
        "weights_df = pd.DataFrame({\n",
        "    'feature': np.append(numeric_cols + cat_cols, 1),\n",
        "    'weight': np.append(model.coef_, model.intercept_)\n",
        "})\n",
        "weights_df.sort_values('weight', ascending=False)"
      ],
      "execution_count": null,
      "outputs": [
        {
          "output_type": "execute_result",
          "data": {
            "text/html": [
              "<div>\n",
              "<style scoped>\n",
              "    .dataframe tbody tr th:only-of-type {\n",
              "        vertical-align: middle;\n",
              "    }\n",
              "\n",
              "    .dataframe tbody tr th {\n",
              "        vertical-align: top;\n",
              "    }\n",
              "\n",
              "    .dataframe thead th {\n",
              "        text-align: right;\n",
              "    }\n",
              "</style>\n",
              "<table border=\"1\" class=\"dataframe\">\n",
              "  <thead>\n",
              "    <tr style=\"text-align: right;\">\n",
              "      <th></th>\n",
              "      <th>feature</th>\n",
              "      <th>weight</th>\n",
              "    </tr>\n",
              "  </thead>\n",
              "  <tbody>\n",
              "    <tr>\n",
              "      <th>3</th>\n",
              "      <td>smoker_code</td>\n",
              "      <td>23848.534542</td>\n",
              "    </tr>\n",
              "    <tr>\n",
              "      <th>9</th>\n",
              "      <td>1</td>\n",
              "      <td>8466.483215</td>\n",
              "    </tr>\n",
              "    <tr>\n",
              "      <th>0</th>\n",
              "      <td>age</td>\n",
              "      <td>3607.472736</td>\n",
              "    </tr>\n",
              "    <tr>\n",
              "      <th>1</th>\n",
              "      <td>bmi</td>\n",
              "      <td>2067.691966</td>\n",
              "    </tr>\n",
              "    <tr>\n",
              "      <th>5</th>\n",
              "      <td>northeast</td>\n",
              "      <td>587.009235</td>\n",
              "    </tr>\n",
              "    <tr>\n",
              "      <th>2</th>\n",
              "      <td>children</td>\n",
              "      <td>572.998210</td>\n",
              "    </tr>\n",
              "    <tr>\n",
              "      <th>6</th>\n",
              "      <td>northwest</td>\n",
              "      <td>234.045336</td>\n",
              "    </tr>\n",
              "    <tr>\n",
              "      <th>4</th>\n",
              "      <td>sex_code</td>\n",
              "      <td>-131.314359</td>\n",
              "    </tr>\n",
              "    <tr>\n",
              "      <th>8</th>\n",
              "      <td>southwest</td>\n",
              "      <td>-373.041756</td>\n",
              "    </tr>\n",
              "    <tr>\n",
              "      <th>7</th>\n",
              "      <td>southeast</td>\n",
              "      <td>-448.012814</td>\n",
              "    </tr>\n",
              "  </tbody>\n",
              "</table>\n",
              "</div>"
            ],
            "text/plain": [
              "       feature        weight\n",
              "3  smoker_code  23848.534542\n",
              "9            1   8466.483215\n",
              "0          age   3607.472736\n",
              "1          bmi   2067.691966\n",
              "5    northeast    587.009235\n",
              "2     children    572.998210\n",
              "6    northwest    234.045336\n",
              "4     sex_code   -131.314359\n",
              "8    southwest   -373.041756\n",
              "7    southeast   -448.012814"
            ]
          },
          "metadata": {
            "tags": []
          },
          "execution_count": 110
        }
      ]
    },
    {
      "cell_type": "code",
      "metadata": {
        "id": "eQLSEvS9T8j4"
      },
      "source": [
        "from sklearn.model_selection import train_test_split  "
      ],
      "execution_count": null,
      "outputs": []
    },
    {
      "cell_type": "code",
      "metadata": {
        "id": "E8ZNOx9pULkm"
      },
      "source": [
        "inputs_train, inputs_test, targets_train, targets_test = train_test_split(inputs, targets, test_size=0.1)"
      ],
      "execution_count": null,
      "outputs": []
    },
    {
      "cell_type": "code",
      "metadata": {
        "colab": {
          "base_uri": "https://localhost:8080/"
        },
        "id": "evMuYMEOUQ1Q",
        "outputId": "e3d92078-6467-4d8b-9ceb-87ceb0155233"
      },
      "source": [
        "# Create and train the model\n",
        "model = LinearRegression().fit(inputs_train, targets_train)\n",
        "\n",
        "# Generate predictions\n",
        "predictions_test = model.predict(inputs_test)\n",
        "\n",
        "# Compute loss to evalute the model\n",
        "loss = rmse(targets_test, predictions_test)\n",
        "print('Test Loss:', loss)"
      ],
      "execution_count": null,
      "outputs": [
        {
          "output_type": "stream",
          "text": [
            "Test Loss: 6032.517435452776\n"
          ],
          "name": "stdout"
        }
      ]
    },
    {
      "cell_type": "code",
      "metadata": {
        "colab": {
          "base_uri": "https://localhost:8080/"
        },
        "id": "a7HGRz4CUcpZ",
        "outputId": "7f2a460a-2251-4449-ce82-90510d3713d8"
      },
      "source": [
        "# Generate predictions\n",
        "predictions_train = model.predict(inputs_train)\n",
        "\n",
        "# Compute loss to evalute the model\n",
        "loss = rmse(targets_train, predictions_train)\n",
        "print('Training Loss:', loss)"
      ],
      "execution_count": null,
      "outputs": [
        {
          "output_type": "stream",
          "text": [
            "Training Loss: 6044.884256503533\n"
          ],
          "name": "stdout"
        }
      ]
    },
    {
      "cell_type": "code",
      "metadata": {
        "id": "q5fXqx4JUwCn"
      },
      "source": [
        ""
      ],
      "execution_count": null,
      "outputs": []
    }
  ]
}